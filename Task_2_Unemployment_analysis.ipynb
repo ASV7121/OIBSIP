{
 "cells": [
  {
   "cell_type": "markdown",
   "id": "68c3ecb0",
   "metadata": {
    "papermill": {
     "duration": 0.007879,
     "end_time": "2023-08-28T07:05:53.013643",
     "exception": false,
     "start_time": "2023-08-28T07:05:53.005764",
     "status": "completed"
    },
    "tags": []
   },
   "source": [
    "**Analyzing COVID-19 Impact on Unemployment in India**"
   ]
  },
  {
   "cell_type": "markdown",
   "id": "4ff5ddd0",
   "metadata": {
    "papermill": {
     "duration": 0.007185,
     "end_time": "2023-08-28T07:05:53.028421",
     "exception": false,
     "start_time": "2023-08-28T07:05:53.021236",
     "status": "completed"
    },
    "tags": []
   },
   "source": [
    "*Objective:*\n",
    "\n",
    "The primary aim of this analysis is to assess the repercussions of the COVID-19 pandemic on India's job market. The dataset under consideration contains crucial information about the unemployment rates across various Indian states. The dataset encompasses key indicators such as States, Date, Measuring Frequency, Estimated Unemployment Rate (%), Estimated Employed Individuals, and Estimated Labour Participation Rate (%)."
   ]
  },
  {
   "cell_type": "markdown",
   "id": "bed27292",
   "metadata": {
    "papermill": {
     "duration": 0.007078,
     "end_time": "2023-08-28T07:05:53.042936",
     "exception": false,
     "start_time": "2023-08-28T07:05:53.035858",
     "status": "completed"
    },
    "tags": []
   },
   "source": [
    "*Dataset Details:*\n",
    "\n",
    "The dataset provides insights into the unemployment scenario across different Indian states:\n",
    "\n",
    "* States: The states within India.\n",
    "* Date: The date when the unemployment rate was recorded.\n",
    "* Measuring Frequency: The frequency at which measurements were taken (Monthly).\n",
    "* Estimated Unemployment Rate (%): The percentage of individuals unemployed in each state of India.\n",
    "* Estimated Employed Individuals: The count of people currently employed.\n",
    "* Estimated Labour Participation Rate (%): The proportion of the working population (age group: 16-64 years) participating in the labor force, either employed or actively seeking employment."
   ]
  },
  {
   "cell_type": "markdown",
   "id": "1f39b712",
   "metadata": {
    "papermill": {
     "duration": 0.007007,
     "end_time": "2023-08-28T07:05:53.057384",
     "exception": false,
     "start_time": "2023-08-28T07:05:53.050377",
     "status": "completed"
    },
    "tags": []
   },
   "source": [
    "This dataset aids in comprehending the unemployment dynamics across India's states during the COVID-19 crisis. It offers valuable insights into how the unemployment rate, employment figures, and labor participation rates have been impacted across different regions in the country. The analysis intends to shed light on the socio-economic consequences of the pandemic on India's workforce and labor market.\n"
   ]
  },
  {
   "cell_type": "markdown",
   "id": "5810702f",
   "metadata": {
    "papermill": {
     "duration": 0.007099,
     "end_time": "2023-08-28T07:05:53.073232",
     "exception": false,
     "start_time": "2023-08-28T07:05:53.066133",
     "status": "completed"
    },
    "tags": []
   },
   "source": [
    "Importing necessary libraries"
   ]
  },
  {
   "cell_type": "code",
   "execution_count": 2,
   "id": "720c7b9b",
   "metadata": {
    "execution": {
     "iopub.execute_input": "2023-08-28T07:05:53.090026Z",
     "iopub.status.busy": "2023-08-28T07:05:53.089336Z",
     "iopub.status.idle": "2023-08-28T07:05:53.098609Z",
     "shell.execute_reply": "2023-08-28T07:05:53.097447Z"
    },
    "papermill": {
     "duration": 0.020303,
     "end_time": "2023-08-28T07:05:53.100871",
     "exception": false,
     "start_time": "2023-08-28T07:05:53.080568",
     "status": "completed"
    },
    "tags": []
   },
   "outputs": [],
   "source": [
    "import pandas as pd\n",
    "import numpy as np\n",
    "import calendar"
   ]
  },
  {
   "cell_type": "markdown",
   "id": "cdd79c71",
   "metadata": {
    "papermill": {
     "duration": 0.00728,
     "end_time": "2023-08-28T07:05:53.116125",
     "exception": false,
     "start_time": "2023-08-28T07:05:53.108845",
     "status": "completed"
    },
    "tags": []
   },
   "source": [
    "Loading the dataset into pandas dataframe"
   ]
  },
  {
   "cell_type": "code",
   "execution_count": 31,
   "id": "3ed1eaf7",
   "metadata": {
    "execution": {
     "iopub.execute_input": "2023-08-28T07:05:53.132722Z",
     "iopub.status.busy": "2023-08-28T07:05:53.132321Z",
     "iopub.status.idle": "2023-08-28T07:05:53.179125Z",
     "shell.execute_reply": "2023-08-28T07:05:53.178393Z"
    },
    "papermill": {
     "duration": 0.058023,
     "end_time": "2023-08-28T07:05:53.181578",
     "exception": false,
     "start_time": "2023-08-28T07:05:53.123555",
     "status": "completed"
    },
    "tags": []
   },
   "outputs": [
    {
     "data": {
      "text/html": [
       "<div>\n",
       "<style scoped>\n",
       "    .dataframe tbody tr th:only-of-type {\n",
       "        vertical-align: middle;\n",
       "    }\n",
       "\n",
       "    .dataframe tbody tr th {\n",
       "        vertical-align: top;\n",
       "    }\n",
       "\n",
       "    .dataframe thead th {\n",
       "        text-align: right;\n",
       "    }\n",
       "</style>\n",
       "<table border=\"1\" class=\"dataframe\">\n",
       "  <thead>\n",
       "    <tr style=\"text-align: right;\">\n",
       "      <th></th>\n",
       "      <th>Region</th>\n",
       "      <th>Date</th>\n",
       "      <th>Frequency</th>\n",
       "      <th>Estimated Unemployment Rate</th>\n",
       "      <th>Estimated Employed</th>\n",
       "      <th>Estimated Labour Participation</th>\n",
       "      <th>Area</th>\n",
       "    </tr>\n",
       "  </thead>\n",
       "  <tbody>\n",
       "    <tr>\n",
       "      <th>0</th>\n",
       "      <td>Andhra Pradesh</td>\n",
       "      <td>31-05-2019</td>\n",
       "      <td>Monthly</td>\n",
       "      <td>3.65</td>\n",
       "      <td>11999139.0</td>\n",
       "      <td>43.24</td>\n",
       "      <td>Rural</td>\n",
       "    </tr>\n",
       "    <tr>\n",
       "      <th>1</th>\n",
       "      <td>Andhra Pradesh</td>\n",
       "      <td>30-06-2019</td>\n",
       "      <td>Monthly</td>\n",
       "      <td>3.05</td>\n",
       "      <td>11755881.0</td>\n",
       "      <td>42.05</td>\n",
       "      <td>Rural</td>\n",
       "    </tr>\n",
       "    <tr>\n",
       "      <th>2</th>\n",
       "      <td>Andhra Pradesh</td>\n",
       "      <td>31-07-2019</td>\n",
       "      <td>Monthly</td>\n",
       "      <td>3.75</td>\n",
       "      <td>12086707.0</td>\n",
       "      <td>43.50</td>\n",
       "      <td>Rural</td>\n",
       "    </tr>\n",
       "    <tr>\n",
       "      <th>3</th>\n",
       "      <td>Andhra Pradesh</td>\n",
       "      <td>31-08-2019</td>\n",
       "      <td>Monthly</td>\n",
       "      <td>3.32</td>\n",
       "      <td>12285693.0</td>\n",
       "      <td>43.97</td>\n",
       "      <td>Rural</td>\n",
       "    </tr>\n",
       "    <tr>\n",
       "      <th>4</th>\n",
       "      <td>Andhra Pradesh</td>\n",
       "      <td>30-09-2019</td>\n",
       "      <td>Monthly</td>\n",
       "      <td>5.17</td>\n",
       "      <td>12256762.0</td>\n",
       "      <td>44.68</td>\n",
       "      <td>Rural</td>\n",
       "    </tr>\n",
       "  </tbody>\n",
       "</table>\n",
       "</div>"
      ],
      "text/plain": [
       "           Region         Date Frequency  Estimated Unemployment Rate  \\\n",
       "0  Andhra Pradesh   31-05-2019   Monthly                         3.65   \n",
       "1  Andhra Pradesh   30-06-2019   Monthly                         3.05   \n",
       "2  Andhra Pradesh   31-07-2019   Monthly                         3.75   \n",
       "3  Andhra Pradesh   31-08-2019   Monthly                         3.32   \n",
       "4  Andhra Pradesh   30-09-2019   Monthly                         5.17   \n",
       "\n",
       "   Estimated Employed  Estimated Labour Participation   Area  \n",
       "0          11999139.0                           43.24  Rural  \n",
       "1          11755881.0                           42.05  Rural  \n",
       "2          12086707.0                           43.50  Rural  \n",
       "3          12285693.0                           43.97  Rural  \n",
       "4          12256762.0                           44.68  Rural  "
      ]
     },
     "execution_count": 31,
     "metadata": {},
     "output_type": "execute_result"
    }
   ],
   "source": [
    "df = pd.read_csv('Unemployment_in_India.csv')\n",
    "df.head()"
   ]
  },
  {
   "cell_type": "markdown",
   "id": "0bd4919c",
   "metadata": {
    "papermill": {
     "duration": 0.007667,
     "end_time": "2023-08-28T07:05:53.197620",
     "exception": false,
     "start_time": "2023-08-28T07:05:53.189953",
     "status": "completed"
    },
    "tags": []
   },
   "source": [
    "Basic information about the dataset"
   ]
  },
  {
   "cell_type": "code",
   "execution_count": 19,
   "id": "9bd8a3a0",
   "metadata": {},
   "outputs": [
    {
     "data": {
      "text/html": [
       "<div>\n",
       "<style scoped>\n",
       "    .dataframe tbody tr th:only-of-type {\n",
       "        vertical-align: middle;\n",
       "    }\n",
       "\n",
       "    .dataframe tbody tr th {\n",
       "        vertical-align: top;\n",
       "    }\n",
       "\n",
       "    .dataframe thead th {\n",
       "        text-align: right;\n",
       "    }\n",
       "</style>\n",
       "<table border=\"1\" class=\"dataframe\">\n",
       "  <thead>\n",
       "    <tr style=\"text-align: right;\">\n",
       "      <th></th>\n",
       "      <th>Region</th>\n",
       "      <th>Date</th>\n",
       "      <th>Frequency</th>\n",
       "      <th>Estimated Unemployment Rate</th>\n",
       "      <th>Estimated Employed</th>\n",
       "      <th>Estimated Labour Participation</th>\n",
       "      <th>Area</th>\n",
       "    </tr>\n",
       "  </thead>\n",
       "  <tbody>\n",
       "    <tr>\n",
       "      <th>0</th>\n",
       "      <td>Andhra Pradesh</td>\n",
       "      <td>31-05-2019</td>\n",
       "      <td>Monthly</td>\n",
       "      <td>3.65</td>\n",
       "      <td>11999139.0</td>\n",
       "      <td>43.24</td>\n",
       "      <td>Rural</td>\n",
       "    </tr>\n",
       "    <tr>\n",
       "      <th>1</th>\n",
       "      <td>Andhra Pradesh</td>\n",
       "      <td>30-06-2019</td>\n",
       "      <td>Monthly</td>\n",
       "      <td>3.05</td>\n",
       "      <td>11755881.0</td>\n",
       "      <td>42.05</td>\n",
       "      <td>Rural</td>\n",
       "    </tr>\n",
       "    <tr>\n",
       "      <th>2</th>\n",
       "      <td>Andhra Pradesh</td>\n",
       "      <td>31-07-2019</td>\n",
       "      <td>Monthly</td>\n",
       "      <td>3.75</td>\n",
       "      <td>12086707.0</td>\n",
       "      <td>43.50</td>\n",
       "      <td>Rural</td>\n",
       "    </tr>\n",
       "    <tr>\n",
       "      <th>3</th>\n",
       "      <td>Andhra Pradesh</td>\n",
       "      <td>31-08-2019</td>\n",
       "      <td>Monthly</td>\n",
       "      <td>3.32</td>\n",
       "      <td>12285693.0</td>\n",
       "      <td>43.97</td>\n",
       "      <td>Rural</td>\n",
       "    </tr>\n",
       "    <tr>\n",
       "      <th>4</th>\n",
       "      <td>Andhra Pradesh</td>\n",
       "      <td>30-09-2019</td>\n",
       "      <td>Monthly</td>\n",
       "      <td>5.17</td>\n",
       "      <td>12256762.0</td>\n",
       "      <td>44.68</td>\n",
       "      <td>Rural</td>\n",
       "    </tr>\n",
       "    <tr>\n",
       "      <th>...</th>\n",
       "      <td>...</td>\n",
       "      <td>...</td>\n",
       "      <td>...</td>\n",
       "      <td>...</td>\n",
       "      <td>...</td>\n",
       "      <td>...</td>\n",
       "      <td>...</td>\n",
       "    </tr>\n",
       "    <tr>\n",
       "      <th>749</th>\n",
       "      <td>West Bengal</td>\n",
       "      <td>29-02-2020</td>\n",
       "      <td>Monthly</td>\n",
       "      <td>7.55</td>\n",
       "      <td>10871168.0</td>\n",
       "      <td>44.09</td>\n",
       "      <td>Urban</td>\n",
       "    </tr>\n",
       "    <tr>\n",
       "      <th>750</th>\n",
       "      <td>West Bengal</td>\n",
       "      <td>31-03-2020</td>\n",
       "      <td>Monthly</td>\n",
       "      <td>6.67</td>\n",
       "      <td>10806105.0</td>\n",
       "      <td>43.34</td>\n",
       "      <td>Urban</td>\n",
       "    </tr>\n",
       "    <tr>\n",
       "      <th>751</th>\n",
       "      <td>West Bengal</td>\n",
       "      <td>30-04-2020</td>\n",
       "      <td>Monthly</td>\n",
       "      <td>15.63</td>\n",
       "      <td>9299466.0</td>\n",
       "      <td>41.20</td>\n",
       "      <td>Urban</td>\n",
       "    </tr>\n",
       "    <tr>\n",
       "      <th>752</th>\n",
       "      <td>West Bengal</td>\n",
       "      <td>31-05-2020</td>\n",
       "      <td>Monthly</td>\n",
       "      <td>15.22</td>\n",
       "      <td>9240903.0</td>\n",
       "      <td>40.67</td>\n",
       "      <td>Urban</td>\n",
       "    </tr>\n",
       "    <tr>\n",
       "      <th>753</th>\n",
       "      <td>West Bengal</td>\n",
       "      <td>30-06-2020</td>\n",
       "      <td>Monthly</td>\n",
       "      <td>9.86</td>\n",
       "      <td>9088931.0</td>\n",
       "      <td>37.57</td>\n",
       "      <td>Urban</td>\n",
       "    </tr>\n",
       "  </tbody>\n",
       "</table>\n",
       "<p>754 rows × 7 columns</p>\n",
       "</div>"
      ],
      "text/plain": [
       "             Region         Date Frequency  Estimated Unemployment Rate  \\\n",
       "0    Andhra Pradesh   31-05-2019   Monthly                         3.65   \n",
       "1    Andhra Pradesh   30-06-2019   Monthly                         3.05   \n",
       "2    Andhra Pradesh   31-07-2019   Monthly                         3.75   \n",
       "3    Andhra Pradesh   31-08-2019   Monthly                         3.32   \n",
       "4    Andhra Pradesh   30-09-2019   Monthly                         5.17   \n",
       "..              ...          ...       ...                          ...   \n",
       "749     West Bengal   29-02-2020   Monthly                         7.55   \n",
       "750     West Bengal   31-03-2020   Monthly                         6.67   \n",
       "751     West Bengal   30-04-2020   Monthly                        15.63   \n",
       "752     West Bengal   31-05-2020   Monthly                        15.22   \n",
       "753     West Bengal   30-06-2020   Monthly                         9.86   \n",
       "\n",
       "     Estimated Employed  Estimated Labour Participation   Area  \n",
       "0            11999139.0                           43.24  Rural  \n",
       "1            11755881.0                           42.05  Rural  \n",
       "2            12086707.0                           43.50  Rural  \n",
       "3            12285693.0                           43.97  Rural  \n",
       "4            12256762.0                           44.68  Rural  \n",
       "..                  ...                             ...    ...  \n",
       "749          10871168.0                           44.09  Urban  \n",
       "750          10806105.0                           43.34  Urban  \n",
       "751           9299466.0                           41.20  Urban  \n",
       "752           9240903.0                           40.67  Urban  \n",
       "753           9088931.0                           37.57  Urban  \n",
       "\n",
       "[754 rows x 7 columns]"
      ]
     },
     "execution_count": 19,
     "metadata": {},
     "output_type": "execute_result"
    }
   ],
   "source": [
    "df"
   ]
  },
  {
   "cell_type": "code",
   "execution_count": 20,
   "id": "0ef8ba62",
   "metadata": {
    "execution": {
     "iopub.execute_input": "2023-08-28T07:05:53.214911Z",
     "iopub.status.busy": "2023-08-28T07:05:53.214542Z",
     "iopub.status.idle": "2023-08-28T07:05:53.240531Z",
     "shell.execute_reply": "2023-08-28T07:05:53.239381Z"
    },
    "papermill": {
     "duration": 0.03749,
     "end_time": "2023-08-28T07:05:53.242898",
     "exception": false,
     "start_time": "2023-08-28T07:05:53.205408",
     "status": "completed"
    },
    "tags": []
   },
   "outputs": [
    {
     "name": "stdout",
     "output_type": "stream",
     "text": [
      "<class 'pandas.core.frame.DataFrame'>\n",
      "RangeIndex: 754 entries, 0 to 753\n",
      "Data columns (total 7 columns):\n",
      " #   Column                          Non-Null Count  Dtype  \n",
      "---  ------                          --------------  -----  \n",
      " 0   Region                          740 non-null    object \n",
      " 1   Date                            740 non-null    object \n",
      " 2   Frequency                       740 non-null    object \n",
      " 3   Estimated Unemployment Rate     740 non-null    float64\n",
      " 4   Estimated Employed              740 non-null    float64\n",
      " 5   Estimated Labour Participation  740 non-null    float64\n",
      " 6   Area                            740 non-null    object \n",
      "dtypes: float64(3), object(4)\n",
      "memory usage: 41.4+ KB\n"
     ]
    }
   ],
   "source": [
    "df.info()"
   ]
  },
  {
   "cell_type": "markdown",
   "id": "1e3e25ab",
   "metadata": {
    "papermill": {
     "duration": 0.00754,
     "end_time": "2023-08-28T07:05:53.258411",
     "exception": false,
     "start_time": "2023-08-28T07:05:53.250871",
     "status": "completed"
    },
    "tags": []
   },
   "source": [
    "Checking for null values"
   ]
  },
  {
   "cell_type": "code",
   "execution_count": 21,
   "id": "5070f1a9",
   "metadata": {
    "execution": {
     "iopub.execute_input": "2023-08-28T07:05:53.276240Z",
     "iopub.status.busy": "2023-08-28T07:05:53.275366Z",
     "iopub.status.idle": "2023-08-28T07:05:53.285031Z",
     "shell.execute_reply": "2023-08-28T07:05:53.284030Z"
    },
    "papermill": {
     "duration": 0.020762,
     "end_time": "2023-08-28T07:05:53.287088",
     "exception": false,
     "start_time": "2023-08-28T07:05:53.266326",
     "status": "completed"
    },
    "tags": []
   },
   "outputs": [
    {
     "data": {
      "text/plain": [
       "Region                            14\n",
       "Date                              14\n",
       "Frequency                         14\n",
       "Estimated Unemployment Rate       14\n",
       "Estimated Employed                14\n",
       "Estimated Labour Participation    14\n",
       "Area                              14\n",
       "dtype: int64"
      ]
     },
     "execution_count": 21,
     "metadata": {},
     "output_type": "execute_result"
    }
   ],
   "source": [
    "df.isnull().sum()"
   ]
  },
  {
   "cell_type": "markdown",
   "id": "a23a04de",
   "metadata": {
    "papermill": {
     "duration": 0.007615,
     "end_time": "2023-08-28T07:05:53.303100",
     "exception": false,
     "start_time": "2023-08-28T07:05:53.295485",
     "status": "completed"
    },
    "tags": []
   },
   "source": [
    "Formatting the columns and their datatypes"
   ]
  },
  {
   "cell_type": "code",
   "execution_count": 24,
   "id": "b3bce4de",
   "metadata": {},
   "outputs": [
    {
     "data": {
      "text/html": [
       "<div>\n",
       "<style scoped>\n",
       "    .dataframe tbody tr th:only-of-type {\n",
       "        vertical-align: middle;\n",
       "    }\n",
       "\n",
       "    .dataframe tbody tr th {\n",
       "        vertical-align: top;\n",
       "    }\n",
       "\n",
       "    .dataframe thead th {\n",
       "        text-align: right;\n",
       "    }\n",
       "</style>\n",
       "<table border=\"1\" class=\"dataframe\">\n",
       "  <thead>\n",
       "    <tr style=\"text-align: right;\">\n",
       "      <th></th>\n",
       "      <th>States</th>\n",
       "      <th>Date</th>\n",
       "      <th>Frequency</th>\n",
       "      <th>Estimated Unemployment Rate</th>\n",
       "      <th>Estimated Employed</th>\n",
       "      <th>Estimated Labour Participation Rate</th>\n",
       "      <th>Area</th>\n",
       "    </tr>\n",
       "  </thead>\n",
       "  <tbody>\n",
       "    <tr>\n",
       "      <th>0</th>\n",
       "      <td>Andhra Pradesh</td>\n",
       "      <td>2019-05-31</td>\n",
       "      <td>Monthly</td>\n",
       "      <td>3.65</td>\n",
       "      <td>11999139.0</td>\n",
       "      <td>43.24</td>\n",
       "      <td>Rural</td>\n",
       "    </tr>\n",
       "    <tr>\n",
       "      <th>1</th>\n",
       "      <td>Andhra Pradesh</td>\n",
       "      <td>2019-06-30</td>\n",
       "      <td>Monthly</td>\n",
       "      <td>3.05</td>\n",
       "      <td>11755881.0</td>\n",
       "      <td>42.05</td>\n",
       "      <td>Rural</td>\n",
       "    </tr>\n",
       "    <tr>\n",
       "      <th>2</th>\n",
       "      <td>Andhra Pradesh</td>\n",
       "      <td>2019-07-31</td>\n",
       "      <td>Monthly</td>\n",
       "      <td>3.75</td>\n",
       "      <td>12086707.0</td>\n",
       "      <td>43.50</td>\n",
       "      <td>Rural</td>\n",
       "    </tr>\n",
       "    <tr>\n",
       "      <th>3</th>\n",
       "      <td>Andhra Pradesh</td>\n",
       "      <td>2019-08-31</td>\n",
       "      <td>Monthly</td>\n",
       "      <td>3.32</td>\n",
       "      <td>12285693.0</td>\n",
       "      <td>43.97</td>\n",
       "      <td>Rural</td>\n",
       "    </tr>\n",
       "    <tr>\n",
       "      <th>4</th>\n",
       "      <td>Andhra Pradesh</td>\n",
       "      <td>2019-09-30</td>\n",
       "      <td>Monthly</td>\n",
       "      <td>5.17</td>\n",
       "      <td>12256762.0</td>\n",
       "      <td>44.68</td>\n",
       "      <td>Rural</td>\n",
       "    </tr>\n",
       "    <tr>\n",
       "      <th>...</th>\n",
       "      <td>...</td>\n",
       "      <td>...</td>\n",
       "      <td>...</td>\n",
       "      <td>...</td>\n",
       "      <td>...</td>\n",
       "      <td>...</td>\n",
       "      <td>...</td>\n",
       "    </tr>\n",
       "    <tr>\n",
       "      <th>749</th>\n",
       "      <td>West Bengal</td>\n",
       "      <td>2020-02-29</td>\n",
       "      <td>Monthly</td>\n",
       "      <td>7.55</td>\n",
       "      <td>10871168.0</td>\n",
       "      <td>44.09</td>\n",
       "      <td>Urban</td>\n",
       "    </tr>\n",
       "    <tr>\n",
       "      <th>750</th>\n",
       "      <td>West Bengal</td>\n",
       "      <td>2020-03-31</td>\n",
       "      <td>Monthly</td>\n",
       "      <td>6.67</td>\n",
       "      <td>10806105.0</td>\n",
       "      <td>43.34</td>\n",
       "      <td>Urban</td>\n",
       "    </tr>\n",
       "    <tr>\n",
       "      <th>751</th>\n",
       "      <td>West Bengal</td>\n",
       "      <td>2020-04-30</td>\n",
       "      <td>Monthly</td>\n",
       "      <td>15.63</td>\n",
       "      <td>9299466.0</td>\n",
       "      <td>41.20</td>\n",
       "      <td>Urban</td>\n",
       "    </tr>\n",
       "    <tr>\n",
       "      <th>752</th>\n",
       "      <td>West Bengal</td>\n",
       "      <td>2020-05-31</td>\n",
       "      <td>Monthly</td>\n",
       "      <td>15.22</td>\n",
       "      <td>9240903.0</td>\n",
       "      <td>40.67</td>\n",
       "      <td>Urban</td>\n",
       "    </tr>\n",
       "    <tr>\n",
       "      <th>753</th>\n",
       "      <td>West Bengal</td>\n",
       "      <td>2020-06-30</td>\n",
       "      <td>Monthly</td>\n",
       "      <td>9.86</td>\n",
       "      <td>9088931.0</td>\n",
       "      <td>37.57</td>\n",
       "      <td>Urban</td>\n",
       "    </tr>\n",
       "  </tbody>\n",
       "</table>\n",
       "<p>754 rows × 7 columns</p>\n",
       "</div>"
      ],
      "text/plain": [
       "             States       Date Frequency  Estimated Unemployment Rate  \\\n",
       "0    Andhra Pradesh 2019-05-31   Monthly                         3.65   \n",
       "1    Andhra Pradesh 2019-06-30   Monthly                         3.05   \n",
       "2    Andhra Pradesh 2019-07-31   Monthly                         3.75   \n",
       "3    Andhra Pradesh 2019-08-31   Monthly                         3.32   \n",
       "4    Andhra Pradesh 2019-09-30   Monthly                         5.17   \n",
       "..              ...        ...       ...                          ...   \n",
       "749     West Bengal 2020-02-29   Monthly                         7.55   \n",
       "750     West Bengal 2020-03-31   Monthly                         6.67   \n",
       "751     West Bengal 2020-04-30   Monthly                        15.63   \n",
       "752     West Bengal 2020-05-31   Monthly                        15.22   \n",
       "753     West Bengal 2020-06-30   Monthly                         9.86   \n",
       "\n",
       "     Estimated Employed  Estimated Labour Participation Rate   Area  \n",
       "0            11999139.0                                43.24  Rural  \n",
       "1            11755881.0                                42.05  Rural  \n",
       "2            12086707.0                                43.50  Rural  \n",
       "3            12285693.0                                43.97  Rural  \n",
       "4            12256762.0                                44.68  Rural  \n",
       "..                  ...                                  ...    ...  \n",
       "749          10871168.0                                44.09  Urban  \n",
       "750          10806105.0                                43.34  Urban  \n",
       "751           9299466.0                                41.20  Urban  \n",
       "752           9240903.0                                40.67  Urban  \n",
       "753           9088931.0                                37.57  Urban  \n",
       "\n",
       "[754 rows x 7 columns]"
      ]
     },
     "execution_count": 24,
     "metadata": {},
     "output_type": "execute_result"
    }
   ],
   "source": [
    "df"
   ]
  },
  {
   "cell_type": "code",
   "execution_count": 32,
   "id": "926bafb5",
   "metadata": {
    "execution": {
     "iopub.execute_input": "2023-08-28T07:05:53.320831Z",
     "iopub.status.busy": "2023-08-28T07:05:53.320094Z",
     "iopub.status.idle": "2023-08-28T07:05:53.341610Z",
     "shell.execute_reply": "2023-08-28T07:05:53.340524Z"
    },
    "papermill": {
     "duration": 0.033119,
     "end_time": "2023-08-28T07:05:53.344085",
     "exception": false,
     "start_time": "2023-08-28T07:05:53.310966",
     "status": "completed"
    },
    "tags": []
   },
   "outputs": [],
   "source": [
    "import datetime as dt\n",
    "\n",
    "# Converting 'Date' column to datetime format\n",
    "df['Date'] = pd.to_datetime(df['Date'], dayfirst=True)\n",
    "\n",
    "# Converting 'Frequency' and 'Region' columns to categorical data type\n",
    "df['Frequency'] = df['Frequency'].astype('category')\n",
    "df['Region'] = df['Region'].astype('category')\n",
    "\n",
    "# Extracting month from 'Date' and creating a 'Month' column\n",
    "df['Month'] = df['Date'].dt.month\n",
    "\n",
    "# Converting 'Month' to integer format\n",
    "df['Month_int'] = df['Month'].apply(lambda x: int(x))\n",
    "\n",
    "# Mapping integer month values to abbreviated month names\n",
    "df['Month_name'] = df['Month_int'].apply(lambda x: calendar.month_abbr[x])\n",
    "\n",
    "# Dropping the original 'Month' column\n",
    "df.drop(columns='Month', inplace=True)"
   ]
  },
  {
   "cell_type": "code",
   "execution_count": 33,
   "id": "846d70af",
   "metadata": {
    "execution": {
     "iopub.execute_input": "2023-08-28T07:05:53.362721Z",
     "iopub.status.busy": "2023-08-28T07:05:53.361741Z",
     "iopub.status.idle": "2023-08-28T07:05:53.380589Z",
     "shell.execute_reply": "2023-08-28T07:05:53.379201Z"
    },
    "papermill": {
     "duration": 0.030886,
     "end_time": "2023-08-28T07:05:53.383024",
     "exception": false,
     "start_time": "2023-08-28T07:05:53.352138",
     "status": "completed"
    },
    "tags": []
   },
   "outputs": [
    {
     "data": {
      "text/html": [
       "<div>\n",
       "<style scoped>\n",
       "    .dataframe tbody tr th:only-of-type {\n",
       "        vertical-align: middle;\n",
       "    }\n",
       "\n",
       "    .dataframe tbody tr th {\n",
       "        vertical-align: top;\n",
       "    }\n",
       "\n",
       "    .dataframe thead th {\n",
       "        text-align: right;\n",
       "    }\n",
       "</style>\n",
       "<table border=\"1\" class=\"dataframe\">\n",
       "  <thead>\n",
       "    <tr style=\"text-align: right;\">\n",
       "      <th></th>\n",
       "      <th>Region</th>\n",
       "      <th>Date</th>\n",
       "      <th>Frequency</th>\n",
       "      <th>Estimated Unemployment Rate</th>\n",
       "      <th>Estimated Employed</th>\n",
       "      <th>Estimated Labour Participation</th>\n",
       "      <th>Area</th>\n",
       "      <th>Month_int</th>\n",
       "      <th>Month_name</th>\n",
       "    </tr>\n",
       "  </thead>\n",
       "  <tbody>\n",
       "    <tr>\n",
       "      <th>0</th>\n",
       "      <td>Andhra Pradesh</td>\n",
       "      <td>2019-05-31</td>\n",
       "      <td>Monthly</td>\n",
       "      <td>3.65</td>\n",
       "      <td>11999139.0</td>\n",
       "      <td>43.24</td>\n",
       "      <td>Rural</td>\n",
       "      <td>5</td>\n",
       "      <td>May</td>\n",
       "    </tr>\n",
       "    <tr>\n",
       "      <th>1</th>\n",
       "      <td>Andhra Pradesh</td>\n",
       "      <td>2019-06-30</td>\n",
       "      <td>Monthly</td>\n",
       "      <td>3.05</td>\n",
       "      <td>11755881.0</td>\n",
       "      <td>42.05</td>\n",
       "      <td>Rural</td>\n",
       "      <td>6</td>\n",
       "      <td>Jun</td>\n",
       "    </tr>\n",
       "    <tr>\n",
       "      <th>2</th>\n",
       "      <td>Andhra Pradesh</td>\n",
       "      <td>2019-07-31</td>\n",
       "      <td>Monthly</td>\n",
       "      <td>3.75</td>\n",
       "      <td>12086707.0</td>\n",
       "      <td>43.50</td>\n",
       "      <td>Rural</td>\n",
       "      <td>7</td>\n",
       "      <td>Jul</td>\n",
       "    </tr>\n",
       "    <tr>\n",
       "      <th>3</th>\n",
       "      <td>Andhra Pradesh</td>\n",
       "      <td>2019-08-31</td>\n",
       "      <td>Monthly</td>\n",
       "      <td>3.32</td>\n",
       "      <td>12285693.0</td>\n",
       "      <td>43.97</td>\n",
       "      <td>Rural</td>\n",
       "      <td>8</td>\n",
       "      <td>Aug</td>\n",
       "    </tr>\n",
       "    <tr>\n",
       "      <th>4</th>\n",
       "      <td>Andhra Pradesh</td>\n",
       "      <td>2019-09-30</td>\n",
       "      <td>Monthly</td>\n",
       "      <td>5.17</td>\n",
       "      <td>12256762.0</td>\n",
       "      <td>44.68</td>\n",
       "      <td>Rural</td>\n",
       "      <td>9</td>\n",
       "      <td>Sep</td>\n",
       "    </tr>\n",
       "  </tbody>\n",
       "</table>\n",
       "</div>"
      ],
      "text/plain": [
       "           Region       Date Frequency  Estimated Unemployment Rate  \\\n",
       "0  Andhra Pradesh 2019-05-31   Monthly                         3.65   \n",
       "1  Andhra Pradesh 2019-06-30   Monthly                         3.05   \n",
       "2  Andhra Pradesh 2019-07-31   Monthly                         3.75   \n",
       "3  Andhra Pradesh 2019-08-31   Monthly                         3.32   \n",
       "4  Andhra Pradesh 2019-09-30   Monthly                         5.17   \n",
       "\n",
       "   Estimated Employed  Estimated Labour Participation   Area  Month_int  \\\n",
       "0          11999139.0                           43.24  Rural          5   \n",
       "1          11755881.0                           42.05  Rural          6   \n",
       "2          12086707.0                           43.50  Rural          7   \n",
       "3          12285693.0                           43.97  Rural          8   \n",
       "4          12256762.0                           44.68  Rural          9   \n",
       "\n",
       "  Month_name  \n",
       "0        May  \n",
       "1        Jun  \n",
       "2        Jul  \n",
       "3        Aug  \n",
       "4        Sep  "
      ]
     },
     "execution_count": 33,
     "metadata": {},
     "output_type": "execute_result"
    }
   ],
   "source": [
    "df.head()"
   ]
  },
  {
   "cell_type": "markdown",
   "id": "7223858e",
   "metadata": {
    "papermill": {
     "duration": 0.008301,
     "end_time": "2023-08-28T07:05:53.399822",
     "exception": false,
     "start_time": "2023-08-28T07:05:53.391521",
     "status": "completed"
    },
    "tags": []
   },
   "source": [
    "**Exploratory data analysis**"
   ]
  },
  {
   "cell_type": "markdown",
   "id": "2ac93e9b",
   "metadata": {
    "papermill": {
     "duration": 0.007912,
     "end_time": "2023-08-28T07:05:53.416309",
     "exception": false,
     "start_time": "2023-08-28T07:05:53.408397",
     "status": "completed"
    },
    "tags": []
   },
   "source": [
    "Basic statistics"
   ]
  },
  {
   "cell_type": "code",
   "execution_count": 35,
   "id": "6090f503",
   "metadata": {
    "execution": {
     "iopub.execute_input": "2023-08-28T07:05:53.434647Z",
     "iopub.status.busy": "2023-08-28T07:05:53.434195Z",
     "iopub.status.idle": "2023-08-28T07:05:53.459765Z",
     "shell.execute_reply": "2023-08-28T07:05:53.458425Z"
    },
    "papermill": {
     "duration": 0.037794,
     "end_time": "2023-08-28T07:05:53.462249",
     "exception": false,
     "start_time": "2023-08-28T07:05:53.424455",
     "status": "completed"
    },
    "tags": []
   },
   "outputs": [
    {
     "name": "stdout",
     "output_type": "stream",
     "text": [
      "                                count        mean         std       min  \\\n",
      "Estimated Unemployment Rate     740.0       11.79       10.72      0.00   \n",
      "Estimated Employed              740.0  7204460.03  8087988.43  49420.00   \n",
      "Estimated Labour Participation  740.0       42.63        8.11     13.33   \n",
      "\n",
      "                                       25%         50%          75%  \\\n",
      "Estimated Unemployment Rate           4.66        8.35        15.89   \n",
      "Estimated Employed              1190404.50  4744178.50  11275489.50   \n",
      "Estimated Labour Participation       38.06       41.16        45.50   \n",
      "\n",
      "                                        max  \n",
      "Estimated Unemployment Rate           76.74  \n",
      "Estimated Employed              45777509.00  \n",
      "Estimated Labour Participation        72.57  \n"
     ]
    }
   ],
   "source": [
    "df_stat = df[['Estimated Unemployment Rate', 'Estimated Employed', 'Estimated Labour Participation']]\n",
    "print(round(df_stat.describe().T, 2))"
   ]
  },
  {
   "cell_type": "code",
   "execution_count": 37,
   "id": "4c1ef15c",
   "metadata": {
    "execution": {
     "iopub.execute_input": "2023-08-28T07:05:53.480759Z",
     "iopub.status.busy": "2023-08-28T07:05:53.480376Z",
     "iopub.status.idle": "2023-08-28T07:05:53.497651Z",
     "shell.execute_reply": "2023-08-28T07:05:53.496306Z"
    },
    "papermill": {
     "duration": 0.029357,
     "end_time": "2023-08-28T07:05:53.500079",
     "exception": false,
     "start_time": "2023-08-28T07:05:53.470722",
     "status": "completed"
    },
    "tags": []
   },
   "outputs": [
    {
     "name": "stdout",
     "output_type": "stream",
     "text": [
      "              Region  Estimated Unemployment Rate  Estimated Employed  \\\n",
      "0     Andhra Pradesh                         7.48          8154093.18   \n",
      "1              Assam                         6.43          5354772.15   \n",
      "2              Bihar                        18.92         12366189.14   \n",
      "3         Chandigarh                        15.99           316831.25   \n",
      "4       Chhattisgarh                         9.24          4303498.57   \n",
      "5              Delhi                        16.50          2627512.86   \n",
      "6                Goa                         9.27           226308.33   \n",
      "7            Gujarat                         6.66         11402012.79   \n",
      "8            Haryana                        26.28          3557072.46   \n",
      "9   Himachal Pradesh                        18.54          1059823.71   \n",
      "10   Jammu & Kashmir                        16.19          1799931.67   \n",
      "11         Jharkhand                        20.58          4469240.43   \n",
      "12         Karnataka                         6.68         10667119.29   \n",
      "13            Kerala                        10.12          4425899.50   \n",
      "14    Madhya Pradesh                         7.41         11115484.32   \n",
      "15       Maharashtra                         7.56         19990195.86   \n",
      "16         Meghalaya                         4.80           689736.81   \n",
      "17            Odisha                         5.66          6545746.96   \n",
      "18        Puducherry                        10.22           212278.08   \n",
      "19            Punjab                        12.03          4539362.00   \n",
      "20         Rajasthan                        14.06         10041064.75   \n",
      "21            Sikkim                         7.25           106880.71   \n",
      "22        Tamil Nadu                         9.28         12269546.75   \n",
      "23         Telangana                         7.74          7939662.75   \n",
      "24           Tripura                        28.35           717002.64   \n",
      "25     Uttar Pradesh                        12.55         28094832.18   \n",
      "26       Uttarakhand                         6.58          1390228.11   \n",
      "27       West Bengal                         8.12         17198538.00   \n",
      "\n",
      "    Estimated Labour Participation  \n",
      "0                            39.38  \n",
      "1                            44.87  \n",
      "2                            38.15  \n",
      "3                            39.34  \n",
      "4                            42.81  \n",
      "5                            38.93  \n",
      "6                            39.25  \n",
      "7                            46.10  \n",
      "8                            42.74  \n",
      "9                            44.22  \n",
      "10                           41.03  \n",
      "11                           41.67  \n",
      "12                           41.35  \n",
      "13                           34.87  \n",
      "14                           38.82  \n",
      "15                           42.30  \n",
      "16                           57.08  \n",
      "17                           38.93  \n",
      "18                           38.99  \n",
      "19                           41.14  \n",
      "20                           39.97  \n",
      "21                           46.07  \n",
      "22                           40.87  \n",
      "23                           53.00  \n",
      "24                           61.82  \n",
      "25                           39.43  \n",
      "26                           33.78  \n",
      "27                           45.42  \n"
     ]
    },
    {
     "name": "stderr",
     "output_type": "stream",
     "text": [
      "/tmp/ipykernel_15883/3637188733.py:1: FutureWarning: The default of observed=False is deprecated and will be changed to True in a future version of pandas. Pass observed=False to retain current behavior or observed=True to adopt the future default and silence this warning.\n",
      "  region_stats = df.groupby(['Region'])[['Estimated Unemployment Rate', 'Estimated Employed',\n"
     ]
    }
   ],
   "source": [
    "region_stats = df.groupby(['Region'])[['Estimated Unemployment Rate', 'Estimated Employed', \n",
    "                                       'Estimated Labour Participation']].mean().reset_index()\n",
    "print(round(region_stats, 2))"
   ]
  },
  {
   "cell_type": "code",
   "execution_count": 38,
   "id": "4a370e51",
   "metadata": {
    "execution": {
     "iopub.execute_input": "2023-08-28T07:05:53.519661Z",
     "iopub.status.busy": "2023-08-28T07:05:53.519287Z",
     "iopub.status.idle": "2023-08-28T07:05:54.942155Z",
     "shell.execute_reply": "2023-08-28T07:05:54.941167Z"
    },
    "papermill": {
     "duration": 1.435619,
     "end_time": "2023-08-28T07:05:54.944751",
     "exception": false,
     "start_time": "2023-08-28T07:05:53.509132",
     "status": "completed"
    },
    "tags": []
   },
   "outputs": [],
   "source": [
    "import matplotlib.pyplot as plt\n",
    "import seaborn as sns"
   ]
  },
  {
   "cell_type": "markdown",
   "id": "8fbf58b5",
   "metadata": {
    "papermill": {
     "duration": 0.008114,
     "end_time": "2023-08-28T07:05:54.961503",
     "exception": false,
     "start_time": "2023-08-28T07:05:54.953389",
     "status": "completed"
    },
    "tags": []
   },
   "source": [
    "Heatmap"
   ]
  },
  {
   "cell_type": "code",
   "execution_count": 39,
   "id": "604619a2",
   "metadata": {
    "execution": {
     "iopub.execute_input": "2023-08-28T07:05:54.980104Z",
     "iopub.status.busy": "2023-08-28T07:05:54.979721Z",
     "iopub.status.idle": "2023-08-28T07:05:55.485687Z",
     "shell.execute_reply": "2023-08-28T07:05:55.484850Z"
    },
    "papermill": {
     "duration": 0.517999,
     "end_time": "2023-08-28T07:05:55.487978",
     "exception": false,
     "start_time": "2023-08-28T07:05:54.969979",
     "status": "completed"
    },
    "tags": []
   },
   "outputs": [
    {
     "data": {
      "text/plain": [
       "<Axes: >"
      ]
     },
     "execution_count": 39,
     "metadata": {},
     "output_type": "execute_result"
    },
    {
     "data": {
      "image/png": "[encoded data removed]",
      "text/plain": [
       "<Figure size 600x400 with 2 Axes>"
      ]
     },
     "metadata": {},
     "output_type": "display_data"
    }
   ],
   "source": [
    "hm = df[['Estimated Unemployment Rate', 'Estimated Employed', 'Estimated Labour Participation', 'Month_int']]\n",
    "hm = hm.corr()\n",
    "plt.figure(figsize=(6,4))\n",
    "sns.set_context('notebook', font_scale=1)\n",
    "sns.heatmap(data=hm, annot=True, cmap=sns.cubehelix_palette(as_cmap=True))"
   ]
  },
  {
   "cell_type": "markdown",
   "id": "5ae34338",
   "metadata": {
    "papermill": {
     "duration": 0.009581,
     "end_time": "2023-08-28T07:05:55.507641",
     "exception": false,
     "start_time": "2023-08-28T07:05:55.498060",
     "status": "completed"
    },
    "tags": []
   },
   "source": [
    "Boxplot of Unemployment rate per States"
   ]
  },
  {
   "cell_type": "code",
   "execution_count": 41,
   "id": "8013ccb1",
   "metadata": {
    "execution": {
     "iopub.execute_input": "2023-08-28T07:05:55.529741Z",
     "iopub.status.busy": "2023-08-28T07:05:55.529140Z",
     "iopub.status.idle": "2023-08-28T07:05:58.124465Z",
     "shell.execute_reply": "2023-08-28T07:05:58.123387Z"
    },
    "papermill": {
     "duration": 2.608654,
     "end_time": "2023-08-28T07:05:58.126529",
     "exception": false,
     "start_time": "2023-08-28T07:05:55.517875",
     "status": "completed"
    },
    "tags": []
   },
   "outputs": [
    {
     "data": {
      "application/vnd.plotly.v1+json": {
       "config": {
        "plotlyServerURL": "https://plot.ly"
       },
       "data": [
        {
         "alignmentgroup": "True",
         "hovertemplate": "Region=%{x}<br>Estimated Unemployment Rate=%{y}<extra></extra>",
         "legendgroup": "Andhra Pradesh",
         "marker": {
          "color": "rgb(76,114,176)"
         },
         "name": "Andhra Pradesh",
         "notched": false,
         "offsetgroup": "Andhra Pradesh",
         "orientation": "v",
         "showlegend": true,
         "type": "box",
         "x": [
          "Andhra Pradesh",
          "Andhra Pradesh",
          "Andhra Pradesh",
          "Andhra Pradesh",
          "Andhra Pradesh",
          "Andhra Pradesh",
          "Andhra Pradesh",
          "Andhra Pradesh",
          "Andhra Pradesh",
          "Andhra Pradesh",
          "Andhra Pradesh",
          "Andhra Pradesh",
          "Andhra Pradesh",
          "Andhra Pradesh",
          "Andhra Pradesh",
          "Andhra Pradesh",
          "Andhra Pradesh",
          "Andhra Pradesh",
          "Andhra Pradesh",
          "Andhra Pradesh",
          "Andhra Pradesh",
          "Andhra Pradesh",
          "Andhra Pradesh",
          "Andhra Pradesh",
          "Andhra Pradesh",
          "Andhra Pradesh",
          "Andhra Pradesh",
          "Andhra Pradesh"
         ],
         "x0": " ",
         "xaxis": "x",
         "y": [
          3.65,
          3.05,
          3.75,
          3.32,
          5.17,
          3.52,
          4.12,
          4.38,
          4.84,
          5.91,
          4.06,
          16.29,
          14.46,
          0.85,
          6.09,
          3.8,
          5.64,
          4.61,
          6.01,
          4.7,
          7.54,
          7.88,
          7.11,
          5.66,
          9.88,
          32.3,
          24.91,
          5.86
         ],
         "y0": " ",
         "yaxis": "y"
        },
        {
         "alignmentgroup": "True",
         "hovertemplate": "Region=%{x}<br>Estimated Unemployment Rate=%{y}<extra></extra>",
         "legendgroup": "Assam",
         "marker": {
          "color": "rgb(221,132,82)"
         },
         "name": "Assam",
         "notched": false,
         "offsetgroup": "Assam",
         "orientation": "v",
         "showlegend": true,
         "type": "box",
         "x": [
          "Assam",
          "Assam",
          "Assam",
          "Assam",
          "Assam",
          "Assam",
          "Assam",
          "Assam",
          "Assam",
          "Assam",
          "Assam",
          "Assam",
          "Assam",
          "Assam",
          "Assam",
          "Assam",
          "Assam",
          "Assam",
          "Assam",
          "Assam",
          "Assam",
          "Assam",
          "Assam",
          "Assam",
          "Assam",
          "Assam"
         ],
         "x0": " ",
         "xaxis": "x",
         "y": [
          4.29,
          5.08,
          4.26,
          5.79,
          4.46,
          4.65,
          4.66,
          4.29,
          3.26,
          3.77,
          9.38,
          0,
          7.87,
          9.89,
          3.21,
          10.39,
          9.26,
          11.17,
          6.31,
          5.02,
          7.24,
          9.98,
          10.34,
          8.37,
          10.77,
          3.42
         ],
         "y0": " ",
         "yaxis": "y"
        },
        {
         "alignmentgroup": "True",
         "hovertemplate": "Region=%{x}<br>Estimated Unemployment Rate=%{y}<extra></extra>",
         "legendgroup": "Bihar",
         "marker": {
          "color": "rgb(85,168,104)"
         },
         "name": "Bihar",
         "notched": false,
         "offsetgroup": "Bihar",
         "orientation": "v",
         "showlegend": true,
         "type": "box",
         "x": [
          "Bihar",
          "Bihar",
          "Bihar",
          "Bihar",
          "Bihar",
          "Bihar",
          "Bihar",
          "Bihar",
          "Bihar",
          "Bihar",
          "Bihar",
          "Bihar",
          "Bihar",
          "Bihar",
          "Bihar",
          "Bihar",
          "Bihar",
          "Bihar",
          "Bihar",
          "Bihar",
          "Bihar",
          "Bihar",
          "Bihar",
          "Bihar",
          "Bihar",
          "Bihar",
          "Bihar",
          "Bihar"
         ],
         "x0": " ",
         "xaxis": "x",
         "y": [
          9.27,
          10.2,
          13.44,
          11,
          8.87,
          12.47,
          12.4,
          10.16,
          9.13,
          9.61,
          15.39,
          45.09,
          47.26,
          20.49,
          19.9,
          13.29,
          16.41,
          17.66,
          20.46,
          14.06,
          17.62,
          14.91,
          20.69,
          15.11,
          15.73,
          58.77,
          37.87,
          12.45
         ],
         "y0": " ",
         "yaxis": "y"
        },
        {
         "alignmentgroup": "True",
         "hovertemplate": "Region=%{x}<br>Estimated Unemployment Rate=%{y}<extra></extra>",
         "legendgroup": "Chhattisgarh",
         "marker": {
          "color": "rgb(196,78,82)"
         },
         "name": "Chhattisgarh",
         "notched": false,
         "offsetgroup": "Chhattisgarh",
         "orientation": "v",
         "showlegend": true,
         "type": "box",
         "x": [
          "Chhattisgarh",
          "Chhattisgarh",
          "Chhattisgarh",
          "Chhattisgarh",
          "Chhattisgarh",
          "Chhattisgarh",
          "Chhattisgarh",
          "Chhattisgarh",
          "Chhattisgarh",
          "Chhattisgarh",
          "Chhattisgarh",
          "Chhattisgarh",
          "Chhattisgarh",
          "Chhattisgarh",
          "Chhattisgarh",
          "Chhattisgarh",
          "Chhattisgarh",
          "Chhattisgarh",
          "Chhattisgarh",
          "Chhattisgarh",
          "Chhattisgarh",
          "Chhattisgarh",
          "Chhattisgarh",
          "Chhattisgarh",
          "Chhattisgarh",
          "Chhattisgarh",
          "Chhattisgarh",
          "Chhattisgarh"
         ],
         "x0": " ",
         "xaxis": "x",
         "y": [
          9.82,
          6.76,
          4.54,
          4.64,
          8.33,
          6.96,
          2.77,
          6.11,
          9.89,
          7.89,
          7.31,
          0,
          7.64,
          10.14,
          9.77,
          11.77,
          8.17,
          6.29,
          9.46,
          10.27,
          8.32,
          3.57,
          9.01,
          9.79,
          8.21,
          20.13,
          24.1,
          27.07
         ],
         "y0": " ",
         "yaxis": "y"
        },
        {
         "alignmentgroup": "True",
         "hovertemplate": "Region=%{x}<br>Estimated Unemployment Rate=%{y}<extra></extra>",
         "legendgroup": "Delhi",
         "marker": {
          "color": "rgb(129,114,179)"
         },
         "name": "Delhi",
         "notched": false,
         "offsetgroup": "Delhi",
         "orientation": "v",
         "showlegend": true,
         "type": "box",
         "x": [
          "Delhi",
          "Delhi",
          "Delhi",
          "Delhi",
          "Delhi",
          "Delhi",
          "Delhi",
          "Delhi",
          "Delhi",
          "Delhi",
          "Delhi",
          "Delhi",
          "Delhi",
          "Delhi",
          "Delhi",
          "Delhi",
          "Delhi",
          "Delhi",
          "Delhi",
          "Delhi",
          "Delhi",
          "Delhi",
          "Delhi",
          "Delhi",
          "Delhi",
          "Delhi",
          "Delhi",
          "Delhi"
         ],
         "x0": " ",
         "xaxis": "x",
         "y": [
          12.56,
          9.33,
          11.07,
          17.18,
          12.5,
          15.84,
          11.11,
          16.97,
          13.48,
          13.81,
          15.18,
          20.69,
          22.76,
          21.14,
          12.31,
          12.76,
          14.68,
          13.52,
          20.59,
          12.41,
          16.11,
          11.07,
          22.45,
          14.86,
          17.09,
          16.51,
          45.78,
          18.11
         ],
         "y0": " ",
         "yaxis": "y"
        },
        {
         "alignmentgroup": "True",
         "hovertemplate": "Region=%{x}<br>Estimated Unemployment Rate=%{y}<extra></extra>",
         "legendgroup": "Goa",
         "marker": {
          "color": "rgb(147,120,96)"
         },
         "name": "Goa",
         "notched": false,
         "offsetgroup": "Goa",
         "orientation": "v",
         "showlegend": true,
         "type": "box",
         "x": [
          "Goa",
          "Goa",
          "Goa",
          "Goa",
          "Goa",
          "Goa",
          "Goa",
          "Goa",
          "Goa",
          "Goa",
          "Goa",
          "Goa",
          "Goa",
          "Goa",
          "Goa",
          "Goa",
          "Goa",
          "Goa",
          "Goa",
          "Goa",
          "Goa",
          "Goa",
          "Goa",
          "Goa"
         ],
         "x0": " ",
         "xaxis": "x",
         "y": [
          2.91,
          5.45,
          10.98,
          1.98,
          3.61,
          7.21,
          23.71,
          3.54,
          5.38,
          0,
          15.91,
          20,
          2.75,
          13.33,
          12.28,
          4.9,
          3.16,
          12.31,
          25.2,
          16.22,
          10.92,
          4.31,
          4.76,
          11.76
         ],
         "y0": " ",
         "yaxis": "y"
        },
        {
         "alignmentgroup": "True",
         "hovertemplate": "Region=%{x}<br>Estimated Unemployment Rate=%{y}<extra></extra>",
         "legendgroup": "Gujarat",
         "marker": {
          "color": "rgb(218,139,195)"
         },
         "name": "Gujarat",
         "notched": false,
         "offsetgroup": "Gujarat",
         "orientation": "v",
         "showlegend": true,
         "type": "box",
         "x": [
          "Gujarat",
          "Gujarat",
          "Gujarat",
          "Gujarat",
          "Gujarat",
          "Gujarat",
          "Gujarat",
          "Gujarat",
          "Gujarat",
          "Gujarat",
          "Gujarat",
          "Gujarat",
          "Gujarat",
          "Gujarat",
          "Gujarat",
          "Gujarat",
          "Gujarat",
          "Gujarat",
          "Gujarat",
          "Gujarat",
          "Gujarat",
          "Gujarat",
          "Gujarat",
          "Gujarat",
          "Gujarat",
          "Gujarat",
          "Gujarat",
          "Gujarat"
         ],
         "x0": " ",
         "xaxis": "x",
         "y": [
          2.88,
          4.77,
          4.58,
          3.7,
          6.29,
          4.91,
          4.68,
          3.46,
          5.35,
          6.64,
          7.59,
          12,
          14.58,
          1.41,
          4.09,
          6.31,
          5.15,
          4.2,
          5.96,
          5.45,
          7.53,
          5.71,
          5.82,
          6.04,
          5.39,
          25.94,
          11.62,
          4.54
         ],
         "y0": " ",
         "yaxis": "y"
        },
        {
         "alignmentgroup": "True",
         "hovertemplate": "Region=%{x}<br>Estimated Unemployment Rate=%{y}<extra></extra>",
         "legendgroup": "Haryana",
         "marker": {
          "color": "rgb(140,140,140)"
         },
         "name": "Haryana",
         "notched": false,
         "offsetgroup": "Haryana",
         "orientation": "v",
         "showlegend": true,
         "type": "box",
         "x": [
          "Haryana",
          "Haryana",
          "Haryana",
          "Haryana",
          "Haryana",
          "Haryana",
          "Haryana",
          "Haryana",
          "Haryana",
          "Haryana",
          "Haryana",
          "Haryana",
          "Haryana",
          "Haryana",
          "Haryana",
          "Haryana",
          "Haryana",
          "Haryana",
          "Haryana",
          "Haryana",
          "Haryana",
          "Haryana",
          "Haryana",
          "Haryana",
          "Haryana",
          "Haryana",
          "Haryana",
          "Haryana"
         ],
         "x0": " ",
         "xaxis": "x",
         "y": [
          14.54,
          23.08,
          16.22,
          30.94,
          16.36,
          24.17,
          16.59,
          29.56,
          16.21,
          27.19,
          23.92,
          41.61,
          34.22,
          35.57,
          24.67,
          20.42,
          25.45,
          24.19,
          26.84,
          21.04,
          27.06,
          23.65,
          27.24,
          23.29,
          27.14,
          46.89,
          38.46,
          29.41
         ],
         "y0": " ",
         "yaxis": "y"
        },
        {
         "alignmentgroup": "True",
         "hovertemplate": "Region=%{x}<br>Estimated Unemployment Rate=%{y}<extra></extra>",
         "legendgroup": "Himachal Pradesh",
         "marker": {
          "color": "rgb(204,185,116)"
         },
         "name": "Himachal Pradesh",
         "notched": false,
         "offsetgroup": "Himachal Pradesh",
         "orientation": "v",
         "showlegend": true,
         "type": "box",
         "x": [
          "Himachal Pradesh",
          "Himachal Pradesh",
          "Himachal Pradesh",
          "Himachal Pradesh",
          "Himachal Pradesh",
          "Himachal Pradesh",
          "Himachal Pradesh",
          "Himachal Pradesh",
          "Himachal Pradesh",
          "Himachal Pradesh",
          "Himachal Pradesh",
          "Himachal Pradesh",
          "Himachal Pradesh",
          "Himachal Pradesh",
          "Himachal Pradesh",
          "Himachal Pradesh",
          "Himachal Pradesh",
          "Himachal Pradesh",
          "Himachal Pradesh",
          "Himachal Pradesh",
          "Himachal Pradesh",
          "Himachal Pradesh",
          "Himachal Pradesh",
          "Himachal Pradesh",
          "Himachal Pradesh",
          "Himachal Pradesh",
          "Himachal Pradesh",
          "Himachal Pradesh"
         ],
         "x0": " ",
         "xaxis": "x",
         "y": [
          13.68,
          11.43,
          20.59,
          18.56,
          15.98,
          15.81,
          22.86,
          19.46,
          16.67,
          15.42,
          17.71,
          2.13,
          25.64,
          1.12,
          10.88,
          21.43,
          21.51,
          24.48,
          12,
          23.77,
          27.27,
          25.32,
          18.15,
          27.31,
          26.44,
          2.7,
          50,
          10.81
         ],
         "y0": " ",
         "yaxis": "y"
        },
        {
         "alignmentgroup": "True",
         "hovertemplate": "Region=%{x}<br>Estimated Unemployment Rate=%{y}<extra></extra>",
         "legendgroup": "Jammu & Kashmir",
         "marker": {
          "color": "rgb(100,181,205)"
         },
         "name": "Jammu & Kashmir",
         "notched": false,
         "offsetgroup": "Jammu & Kashmir",
         "orientation": "v",
         "showlegend": true,
         "type": "box",
         "x": [
          "Jammu & Kashmir",
          "Jammu & Kashmir",
          "Jammu & Kashmir",
          "Jammu & Kashmir",
          "Jammu & Kashmir",
          "Jammu & Kashmir",
          "Jammu & Kashmir",
          "Jammu & Kashmir",
          "Jammu & Kashmir",
          "Jammu & Kashmir",
          "Jammu & Kashmir",
          "Jammu & Kashmir",
          "Jammu & Kashmir",
          "Jammu & Kashmir",
          "Jammu & Kashmir",
          "Jammu & Kashmir",
          "Jammu & Kashmir",
          "Jammu & Kashmir",
          "Jammu & Kashmir",
          "Jammu & Kashmir",
          "Jammu & Kashmir"
         ],
         "x0": " ",
         "xaxis": "x",
         "y": [
          12.78,
          12.09,
          13.67,
          11.32,
          19.27,
          14.73,
          22.19,
          21.23,
          16,
          2.22,
          18.97,
          23.04,
          19.88,
          21.55,
          24.06,
          14.29,
          7.02,
          18.54,
          19.86,
          14.29,
          12.96
         ],
         "y0": " ",
         "yaxis": "y"
        },
        {
         "alignmentgroup": "True",
         "hovertemplate": "Region=%{x}<br>Estimated Unemployment Rate=%{y}<extra></extra>",
         "legendgroup": "Jharkhand",
         "marker": {
          "color": "rgb(76,114,176)"
         },
         "name": "Jharkhand",
         "notched": false,
         "offsetgroup": "Jharkhand",
         "orientation": "v",
         "showlegend": true,
         "type": "box",
         "x": [
          "Jharkhand",
          "Jharkhand",
          "Jharkhand",
          "Jharkhand",
          "Jharkhand",
          "Jharkhand",
          "Jharkhand",
          "Jharkhand",
          "Jharkhand",
          "Jharkhand",
          "Jharkhand",
          "Jharkhand",
          "Jharkhand",
          "Jharkhand",
          "Jharkhand",
          "Jharkhand",
          "Jharkhand",
          "Jharkhand",
          "Jharkhand",
          "Jharkhand",
          "Jharkhand",
          "Jharkhand",
          "Jharkhand",
          "Jharkhand",
          "Jharkhand",
          "Jharkhand",
          "Jharkhand",
          "Jharkhand"
         ],
         "x0": " ",
         "xaxis": "x",
         "y": [
          7.11,
          8.46,
          9.98,
          12.06,
          7.12,
          6.57,
          8.07,
          15.15,
          6.16,
          9.06,
          5.01,
          41.72,
          55.1,
          21.53,
          17.23,
          20.51,
          15.67,
          20.25,
          21.16,
          19.05,
          17.34,
          22.01,
          22.96,
          19.67,
          16.4,
          61.48,
          70.17,
          19.38
         ],
         "y0": " ",
         "yaxis": "y"
        },
        {
         "alignmentgroup": "True",
         "hovertemplate": "Region=%{x}<br>Estimated Unemployment Rate=%{y}<extra></extra>",
         "legendgroup": "Karnataka",
         "marker": {
          "color": "rgb(221,132,82)"
         },
         "name": "Karnataka",
         "notched": false,
         "offsetgroup": "Karnataka",
         "orientation": "v",
         "showlegend": true,
         "type": "box",
         "x": [
          "Karnataka",
          "Karnataka",
          "Karnataka",
          "Karnataka",
          "Karnataka",
          "Karnataka",
          "Karnataka",
          "Karnataka",
          "Karnataka",
          "Karnataka",
          "Karnataka",
          "Karnataka",
          "Karnataka",
          "Karnataka",
          "Karnataka",
          "Karnataka",
          "Karnataka",
          "Karnataka",
          "Karnataka",
          "Karnataka",
          "Karnataka",
          "Karnataka",
          "Karnataka",
          "Karnataka",
          "Karnataka",
          "Karnataka",
          "Karnataka",
          "Karnataka"
         ],
         "x0": " ",
         "xaxis": "x",
         "y": [
          5.46,
          5.98,
          0.52,
          0.37,
          3.2,
          7.13,
          1.19,
          0.41,
          2.57,
          4.11,
          2.39,
          33.17,
          23.72,
          10.92,
          6.56,
          5,
          2.29,
          1.27,
          3.57,
          3.87,
          3.44,
          1.56,
          3.31,
          2.88,
          4.92,
          25.12,
          15.88,
          6.12
         ],
         "y0": " ",
         "yaxis": "y"
        },
        {
         "alignmentgroup": "True",
         "hovertemplate": "Region=%{x}<br>Estimated Unemployment Rate=%{y}<extra></extra>",
         "legendgroup": "Kerala",
         "marker": {
          "color": "rgb(85,168,104)"
         },
         "name": "Kerala",
         "notched": false,
         "offsetgroup": "Kerala",
         "orientation": "v",
         "showlegend": true,
         "type": "box",
         "x": [
          "Kerala",
          "Kerala",
          "Kerala",
          "Kerala",
          "Kerala",
          "Kerala",
          "Kerala",
          "Kerala",
          "Kerala",
          "Kerala",
          "Kerala",
          "Kerala",
          "Kerala",
          "Kerala",
          "Kerala",
          "Kerala",
          "Kerala",
          "Kerala",
          "Kerala",
          "Kerala",
          "Kerala",
          "Kerala",
          "Kerala",
          "Kerala",
          "Kerala",
          "Kerala",
          "Kerala",
          "Kerala"
         ],
         "x0": " ",
         "xaxis": "x",
         "y": [
          6.63,
          9,
          4.95,
          10.32,
          5.35,
          9.14,
          5,
          10.77,
          4.11,
          8.91,
          8.85,
          10.71,
          23.38,
          27.66,
          6.11,
          6.67,
          7.58,
          7.69,
          5.52,
          5.35,
          6.71,
          7.31,
          6.65,
          6.08,
          9.14,
          21.43,
          30.28,
          12.17
         ],
         "y0": " ",
         "yaxis": "y"
        },
        {
         "alignmentgroup": "True",
         "hovertemplate": "Region=%{x}<br>Estimated Unemployment Rate=%{y}<extra></extra>",
         "legendgroup": "Madhya Pradesh",
         "marker": {
          "color": "rgb(196,78,82)"
         },
         "name": "Madhya Pradesh",
         "notched": false,
         "offsetgroup": "Madhya Pradesh",
         "orientation": "v",
         "showlegend": true,
         "type": "box",
         "x": [
          "Madhya Pradesh",
          "Madhya Pradesh",
          "Madhya Pradesh",
          "Madhya Pradesh",
          "Madhya Pradesh",
          "Madhya Pradesh",
          "Madhya Pradesh",
          "Madhya Pradesh",
          "Madhya Pradesh",
          "Madhya Pradesh",
          "Madhya Pradesh",
          "Madhya Pradesh",
          "Madhya Pradesh",
          "Madhya Pradesh",
          "Madhya Pradesh",
          "Madhya Pradesh",
          "Madhya Pradesh",
          "Madhya Pradesh",
          "Madhya Pradesh",
          "Madhya Pradesh",
          "Madhya Pradesh",
          "Madhya Pradesh",
          "Madhya Pradesh",
          "Madhya Pradesh",
          "Madhya Pradesh",
          "Madhya Pradesh",
          "Madhya Pradesh",
          "Madhya Pradesh"
         ],
         "x0": " ",
         "xaxis": "x",
         "y": [
          3.63,
          4.25,
          3.92,
          4.94,
          3.08,
          2.98,
          2.72,
          2.94,
          3.66,
          4.42,
          1.19,
          12.5,
          22.46,
          6.46,
          3.91,
          6.38,
          7.38,
          6.82,
          7,
          4.4,
          6.06,
          6.2,
          5.17,
          4.96,
          4.8,
          11.94,
          40.49,
          12.72
         ],
         "y0": " ",
         "yaxis": "y"
        },
        {
         "alignmentgroup": "True",
         "hovertemplate": "Region=%{x}<br>Estimated Unemployment Rate=%{y}<extra></extra>",
         "legendgroup": "Maharashtra",
         "marker": {
          "color": "rgb(129,114,179)"
         },
         "name": "Maharashtra",
         "notched": false,
         "offsetgroup": "Maharashtra",
         "orientation": "v",
         "showlegend": true,
         "type": "box",
         "x": [
          "Maharashtra",
          "Maharashtra",
          "Maharashtra",
          "Maharashtra",
          "Maharashtra",
          "Maharashtra",
          "Maharashtra",
          "Maharashtra",
          "Maharashtra",
          "Maharashtra",
          "Maharashtra",
          "Maharashtra",
          "Maharashtra",
          "Maharashtra",
          "Maharashtra",
          "Maharashtra",
          "Maharashtra",
          "Maharashtra",
          "Maharashtra",
          "Maharashtra",
          "Maharashtra",
          "Maharashtra",
          "Maharashtra",
          "Maharashtra",
          "Maharashtra",
          "Maharashtra",
          "Maharashtra",
          "Maharashtra"
         ],
         "x0": " ",
         "xaxis": "x",
         "y": [
          3.67,
          4.34,
          3.66,
          3.76,
          4.4,
          3.81,
          3.68,
          3.03,
          3.8,
          4.24,
          5.38,
          25.28,
          16.89,
          9.4,
          6.08,
          6.46,
          6.35,
          7.57,
          7.6,
          7.51,
          7.6,
          7.83,
          6.67,
          5.34,
          6.34,
          14.99,
          15.92,
          10.01
         ],
         "y0": " ",
         "yaxis": "y"
        },
        {
         "alignmentgroup": "True",
         "hovertemplate": "Region=%{x}<br>Estimated Unemployment Rate=%{y}<extra></extra>",
         "legendgroup": "Meghalaya",
         "marker": {
          "color": "rgb(147,120,96)"
         },
         "name": "Meghalaya",
         "notched": false,
         "offsetgroup": "Meghalaya",
         "orientation": "v",
         "showlegend": true,
         "type": "box",
         "x": [
          "Meghalaya",
          "Meghalaya",
          "Meghalaya",
          "Meghalaya",
          "Meghalaya",
          "Meghalaya",
          "Meghalaya",
          "Meghalaya",
          "Meghalaya",
          "Meghalaya",
          "Meghalaya",
          "Meghalaya",
          "Meghalaya",
          "Meghalaya",
          "Meghalaya",
          "Meghalaya",
          "Meghalaya",
          "Meghalaya",
          "Meghalaya",
          "Meghalaya",
          "Meghalaya",
          "Meghalaya",
          "Meghalaya",
          "Meghalaya",
          "Meghalaya",
          "Meghalaya",
          "Meghalaya"
         ],
         "x0": " ",
         "xaxis": "x",
         "y": [
          3.16,
          4.23,
          1.03,
          0.52,
          0.24,
          3.7,
          1.5,
          1.8,
          0.97,
          2.76,
          1.28,
          8.38,
          3.73,
          1.35,
          8.4,
          8.66,
          4.43,
          5.8,
          5.3,
          7.2,
          3.02,
          5.21,
          4.76,
          7.37,
          2.8,
          17.39,
          14.58
         ],
         "y0": " ",
         "yaxis": "y"
        },
        {
         "alignmentgroup": "True",
         "hovertemplate": "Region=%{x}<br>Estimated Unemployment Rate=%{y}<extra></extra>",
         "legendgroup": "Odisha",
         "marker": {
          "color": "rgb(218,139,195)"
         },
         "name": "Odisha",
         "notched": false,
         "offsetgroup": "Odisha",
         "orientation": "v",
         "showlegend": true,
         "type": "box",
         "x": [
          "Odisha",
          "Odisha",
          "Odisha",
          "Odisha",
          "Odisha",
          "Odisha",
          "Odisha",
          "Odisha",
          "Odisha",
          "Odisha",
          "Odisha",
          "Odisha",
          "Odisha",
          "Odisha",
          "Odisha",
          "Odisha",
          "Odisha",
          "Odisha",
          "Odisha",
          "Odisha",
          "Odisha",
          "Odisha",
          "Odisha",
          "Odisha",
          "Odisha",
          "Odisha",
          "Odisha",
          "Odisha"
         ],
         "x0": " ",
         "xaxis": "x",
         "y": [
          4.17,
          4.71,
          3.31,
          3.68,
          4.31,
          4.28,
          4.72,
          4.67,
          1.81,
          3.31,
          15.09,
          24.48,
          9.45,
          4.59,
          2.95,
          2.63,
          1.78,
          3.5,
          3.78,
          4.5,
          2.23,
          3.36,
          2.28,
          2.19,
          3.96,
          20.5,
          10,
          2.18
         ],
         "y0": " ",
         "yaxis": "y"
        },
        {
         "alignmentgroup": "True",
         "hovertemplate": "Region=%{x}<br>Estimated Unemployment Rate=%{y}<extra></extra>",
         "legendgroup": "Puducherry",
         "marker": {
          "color": "rgb(140,140,140)"
         },
         "name": "Puducherry",
         "notched": false,
         "offsetgroup": "Puducherry",
         "orientation": "v",
         "showlegend": true,
         "type": "box",
         "x": [
          "Puducherry",
          "Puducherry",
          "Puducherry",
          "Puducherry",
          "Puducherry",
          "Puducherry",
          "Puducherry",
          "Puducherry",
          "Puducherry",
          "Puducherry",
          "Puducherry",
          "Puducherry",
          "Puducherry",
          "Puducherry",
          "Puducherry",
          "Puducherry",
          "Puducherry",
          "Puducherry",
          "Puducherry",
          "Puducherry",
          "Puducherry",
          "Puducherry",
          "Puducherry",
          "Puducherry",
          "Puducherry",
          "Puducherry"
         ],
         "x0": " ",
         "xaxis": "x",
         "y": [
          0,
          0,
          0,
          4.85,
          0,
          1.18,
          0,
          1.99,
          0.58,
          1.74,
          2.31,
          74.51,
          1.25,
          0,
          0,
          8.95,
          1.22,
          1.17,
          1.37,
          5.21,
          0.57,
          1.78,
          0.62,
          76.74,
          75,
          4.55
         ],
         "y0": " ",
         "yaxis": "y"
        },
        {
         "alignmentgroup": "True",
         "hovertemplate": "Region=%{x}<br>Estimated Unemployment Rate=%{y}<extra></extra>",
         "legendgroup": "Punjab",
         "marker": {
          "color": "rgb(204,185,116)"
         },
         "name": "Punjab",
         "notched": false,
         "offsetgroup": "Punjab",
         "orientation": "v",
         "showlegend": true,
         "type": "box",
         "x": [
          "Punjab",
          "Punjab",
          "Punjab",
          "Punjab",
          "Punjab",
          "Punjab",
          "Punjab",
          "Punjab",
          "Punjab",
          "Punjab",
          "Punjab",
          "Punjab",
          "Punjab",
          "Punjab",
          "Punjab",
          "Punjab",
          "Punjab",
          "Punjab",
          "Punjab",
          "Punjab",
          "Punjab",
          "Punjab",
          "Punjab",
          "Punjab",
          "Punjab",
          "Punjab",
          "Punjab",
          "Punjab"
         ],
         "x0": " ",
         "xaxis": "x",
         "y": [
          9.17,
          12.21,
          9.64,
          6.69,
          8.59,
          12.56,
          7.07,
          6.13,
          9.69,
          10.41,
          10.51,
          3.69,
          40.59,
          20,
          13.49,
          13.17,
          11.61,
          11.99,
          15.69,
          13.75,
          10.39,
          11.97,
          13.68,
          11.99,
          9.97,
          1.13,
          20.54,
          10.55
         ],
         "y0": " ",
         "yaxis": "y"
        },
        {
         "alignmentgroup": "True",
         "hovertemplate": "Region=%{x}<br>Estimated Unemployment Rate=%{y}<extra></extra>",
         "legendgroup": "Rajasthan",
         "marker": {
          "color": "rgb(100,181,205)"
         },
         "name": "Rajasthan",
         "notched": false,
         "offsetgroup": "Rajasthan",
         "orientation": "v",
         "showlegend": true,
         "type": "box",
         "x": [
          "Rajasthan",
          "Rajasthan",
          "Rajasthan",
          "Rajasthan",
          "Rajasthan",
          "Rajasthan",
          "Rajasthan",
          "Rajasthan",
          "Rajasthan",
          "Rajasthan",
          "Rajasthan",
          "Rajasthan",
          "Rajasthan",
          "Rajasthan",
          "Rajasthan",
          "Rajasthan",
          "Rajasthan",
          "Rajasthan",
          "Rajasthan",
          "Rajasthan",
          "Rajasthan",
          "Rajasthan",
          "Rajasthan",
          "Rajasthan",
          "Rajasthan",
          "Rajasthan",
          "Rajasthan",
          "Rajasthan"
         ],
         "x0": " ",
         "xaxis": "x",
         "y": [
          4.03,
          13.7,
          9.7,
          12.5,
          5.45,
          14.66,
          10.47,
          13.96,
          8,
          14.48,
          9.47,
          12.25,
          10.45,
          13.86,
          13.62,
          14.36,
          11.67,
          14.71,
          12.63,
          13.02,
          14.3,
          18.04,
          18.82,
          17.02,
          18.54,
          35.53,
          25.35,
          13.04
         ],
         "y0": " ",
         "yaxis": "y"
        },
        {
         "alignmentgroup": "True",
         "hovertemplate": "Region=%{x}<br>Estimated Unemployment Rate=%{y}<extra></extra>",
         "legendgroup": "Sikkim",
         "marker": {
          "color": "rgb(76,114,176)"
         },
         "name": "Sikkim",
         "notched": false,
         "offsetgroup": "Sikkim",
         "orientation": "v",
         "showlegend": true,
         "type": "box",
         "x": [
          "Sikkim",
          "Sikkim",
          "Sikkim",
          "Sikkim",
          "Sikkim",
          "Sikkim",
          "Sikkim",
          "Sikkim",
          "Sikkim",
          "Sikkim",
          "Sikkim",
          "Sikkim",
          "Sikkim",
          "Sikkim",
          "Sikkim",
          "Sikkim",
          "Sikkim"
         ],
         "x0": " ",
         "xaxis": "x",
         "y": [
          5.48,
          13.11,
          1,
          0,
          5.81,
          8.2,
          7.76,
          2.56,
          4.82,
          4.81,
          9.68,
          4.04,
          7.37,
          20.45,
          5.77,
          19.75,
          2.63
         ],
         "y0": " ",
         "yaxis": "y"
        },
        {
         "alignmentgroup": "True",
         "hovertemplate": "Region=%{x}<br>Estimated Unemployment Rate=%{y}<extra></extra>",
         "legendgroup": "Tamil Nadu",
         "marker": {
          "color": "rgb(221,132,82)"
         },
         "name": "Tamil Nadu",
         "notched": false,
         "offsetgroup": "Tamil Nadu",
         "orientation": "v",
         "showlegend": true,
         "type": "box",
         "x": [
          "Tamil Nadu",
          "Tamil Nadu",
          "Tamil Nadu",
          "Tamil Nadu",
          "Tamil Nadu",
          "Tamil Nadu",
          "Tamil Nadu",
          "Tamil Nadu",
          "Tamil Nadu",
          "Tamil Nadu",
          "Tamil Nadu",
          "Tamil Nadu",
          "Tamil Nadu",
          "Tamil Nadu",
          "Tamil Nadu",
          "Tamil Nadu",
          "Tamil Nadu",
          "Tamil Nadu",
          "Tamil Nadu",
          "Tamil Nadu",
          "Tamil Nadu",
          "Tamil Nadu",
          "Tamil Nadu",
          "Tamil Nadu",
          "Tamil Nadu",
          "Tamil Nadu",
          "Tamil Nadu",
          "Tamil Nadu"
         ],
         "x0": " ",
         "xaxis": "x",
         "y": [
          0.97,
          0.92,
          6.01,
          2.91,
          1.71,
          1.46,
          2.46,
          3.73,
          1.18,
          1.17,
          6.36,
          53.19,
          38.73,
          2.06,
          0.89,
          1.56,
          3.18,
          9.53,
          1.86,
          1.13,
          2.65,
          8.05,
          2.05,
          3.31,
          6.46,
          45.55,
          25.95,
          24.93
         ],
         "y0": " ",
         "yaxis": "y"
        },
        {
         "alignmentgroup": "True",
         "hovertemplate": "Region=%{x}<br>Estimated Unemployment Rate=%{y}<extra></extra>",
         "legendgroup": "Telangana",
         "marker": {
          "color": "rgb(85,168,104)"
         },
         "name": "Telangana",
         "notched": false,
         "offsetgroup": "Telangana",
         "orientation": "v",
         "showlegend": true,
         "type": "box",
         "x": [
          "Telangana",
          "Telangana",
          "Telangana",
          "Telangana",
          "Telangana",
          "Telangana",
          "Telangana",
          "Telangana",
          "Telangana",
          "Telangana",
          "Telangana",
          "Telangana",
          "Telangana",
          "Telangana",
          "Telangana",
          "Telangana",
          "Telangana",
          "Telangana",
          "Telangana",
          "Telangana",
          "Telangana",
          "Telangana",
          "Telangana",
          "Telangana",
          "Telangana",
          "Telangana",
          "Telangana",
          "Telangana"
         ],
         "x0": " ",
         "xaxis": "x",
         "y": [
          2.23,
          5.92,
          2.45,
          1.4,
          5.49,
          7.29,
          6.47,
          1.35,
          5.02,
          9.02,
          5.63,
          4.51,
          34.01,
          19.3,
          1.52,
          1.43,
          3.73,
          4.19,
          6.19,
          6.74,
          5.23,
          4.22,
          6.49,
          6.74,
          6.1,
          10.5,
          36.57,
          6.92
         ],
         "y0": " ",
         "yaxis": "y"
        },
        {
         "alignmentgroup": "True",
         "hovertemplate": "Region=%{x}<br>Estimated Unemployment Rate=%{y}<extra></extra>",
         "legendgroup": "Tripura",
         "marker": {
          "color": "rgb(196,78,82)"
         },
         "name": "Tripura",
         "notched": false,
         "offsetgroup": "Tripura",
         "orientation": "v",
         "showlegend": true,
         "type": "box",
         "x": [
          "Tripura",
          "Tripura",
          "Tripura",
          "Tripura",
          "Tripura",
          "Tripura",
          "Tripura",
          "Tripura",
          "Tripura",
          "Tripura",
          "Tripura",
          "Tripura",
          "Tripura",
          "Tripura",
          "Tripura",
          "Tripura",
          "Tripura",
          "Tripura",
          "Tripura",
          "Tripura",
          "Tripura",
          "Tripura",
          "Tripura",
          "Tripura",
          "Tripura",
          "Tripura",
          "Tripura",
          "Tripura"
         ],
         "x0": " ",
         "xaxis": "x",
         "y": [
          29.25,
          26.64,
          22.47,
          25.49,
          30.23,
          27.54,
          25.25,
          26.53,
          31.91,
          26.22,
          31.61,
          43.64,
          14.71,
          18.84,
          34.69,
          25.59,
          25.81,
          33.45,
          33.57,
          26.67,
          27.15,
          33.48,
          34.37,
          33.88,
          25.69,
          34.88,
          16.78,
          27.47
         ],
         "y0": " ",
         "yaxis": "y"
        },
        {
         "alignmentgroup": "True",
         "hovertemplate": "Region=%{x}<br>Estimated Unemployment Rate=%{y}<extra></extra>",
         "legendgroup": "Uttar Pradesh",
         "marker": {
          "color": "rgb(129,114,179)"
         },
         "name": "Uttar Pradesh",
         "notched": false,
         "offsetgroup": "Uttar Pradesh",
         "orientation": "v",
         "showlegend": true,
         "type": "box",
         "x": [
          "Uttar Pradesh",
          "Uttar Pradesh",
          "Uttar Pradesh",
          "Uttar Pradesh",
          "Uttar Pradesh",
          "Uttar Pradesh",
          "Uttar Pradesh",
          "Uttar Pradesh",
          "Uttar Pradesh",
          "Uttar Pradesh",
          "Uttar Pradesh",
          "Uttar Pradesh",
          "Uttar Pradesh",
          "Uttar Pradesh",
          "Uttar Pradesh",
          "Uttar Pradesh",
          "Uttar Pradesh",
          "Uttar Pradesh",
          "Uttar Pradesh",
          "Uttar Pradesh",
          "Uttar Pradesh",
          "Uttar Pradesh",
          "Uttar Pradesh",
          "Uttar Pradesh",
          "Uttar Pradesh",
          "Uttar Pradesh",
          "Uttar Pradesh",
          "Uttar Pradesh"
         ],
         "x0": " ",
         "xaxis": "x",
         "y": [
          10.26,
          11.13,
          9.19,
          11.47,
          6.45,
          10.18,
          6.94,
          8.43,
          6.06,
          8.12,
          9.37,
          19.92,
          16.89,
          8.51,
          14.4,
          11.62,
          11.8,
          14.73,
          13.58,
          10.35,
          11.31,
          12.37,
          12.34,
          11.65,
          12.32,
          26.94,
          32.06,
          13.05
         ],
         "y0": " ",
         "yaxis": "y"
        },
        {
         "alignmentgroup": "True",
         "hovertemplate": "Region=%{x}<br>Estimated Unemployment Rate=%{y}<extra></extra>",
         "legendgroup": "Uttarakhand",
         "marker": {
          "color": "rgb(147,120,96)"
         },
         "name": "Uttarakhand",
         "notched": false,
         "offsetgroup": "Uttarakhand",
         "orientation": "v",
         "showlegend": true,
         "type": "box",
         "x": [
          "Uttarakhand",
          "Uttarakhand",
          "Uttarakhand",
          "Uttarakhand",
          "Uttarakhand",
          "Uttarakhand",
          "Uttarakhand",
          "Uttarakhand",
          "Uttarakhand",
          "Uttarakhand",
          "Uttarakhand",
          "Uttarakhand",
          "Uttarakhand",
          "Uttarakhand",
          "Uttarakhand",
          "Uttarakhand",
          "Uttarakhand",
          "Uttarakhand",
          "Uttarakhand",
          "Uttarakhand",
          "Uttarakhand",
          "Uttarakhand",
          "Uttarakhand",
          "Uttarakhand",
          "Uttarakhand",
          "Uttarakhand",
          "Uttarakhand"
         ],
         "x0": " ",
         "xaxis": "x",
         "y": [
          1.63,
          4.65,
          5.74,
          6.11,
          3.47,
          4.83,
          5.56,
          4.52,
          4.17,
          4.85,
          3.66,
          3.57,
          10.71,
          9.17,
          4.69,
          6.94,
          7.43,
          9.62,
          4.72,
          6.34,
          7.39,
          8.92,
          5.28,
          8.15,
          13.18,
          17.36,
          5.08
         ],
         "y0": " ",
         "yaxis": "y"
        },
        {
         "alignmentgroup": "True",
         "hovertemplate": "Region=%{x}<br>Estimated Unemployment Rate=%{y}<extra></extra>",
         "legendgroup": "West Bengal",
         "marker": {
          "color": "rgb(218,139,195)"
         },
         "name": "West Bengal",
         "notched": false,
         "offsetgroup": "West Bengal",
         "orientation": "v",
         "showlegend": true,
         "type": "box",
         "x": [
          "West Bengal",
          "West Bengal",
          "West Bengal",
          "West Bengal",
          "West Bengal",
          "West Bengal",
          "West Bengal",
          "West Bengal",
          "West Bengal",
          "West Bengal",
          "West Bengal",
          "West Bengal",
          "West Bengal",
          "West Bengal",
          "West Bengal",
          "West Bengal",
          "West Bengal",
          "West Bengal",
          "West Bengal",
          "West Bengal",
          "West Bengal",
          "West Bengal",
          "West Bengal",
          "West Bengal",
          "West Bengal",
          "West Bengal",
          "West Bengal",
          "West Bengal"
         ],
         "x0": " ",
         "xaxis": "x",
         "y": [
          6.02,
          5.85,
          5.62,
          5.58,
          5.26,
          6.78,
          5.83,
          5.79,
          6.79,
          3.78,
          7.02,
          18.32,
          18.43,
          4.94,
          7.25,
          7.38,
          7.91,
          7.27,
          7.79,
          7.83,
          6.61,
          7.24,
          7.27,
          7.55,
          6.67,
          15.63,
          15.22,
          9.86
         ],
         "y0": " ",
         "yaxis": "y"
        },
        {
         "alignmentgroup": "True",
         "hovertemplate": "Region=%{x}<br>Estimated Unemployment Rate=%{y}<extra></extra>",
         "legendgroup": "Chandigarh",
         "marker": {
          "color": "rgb(140,140,140)"
         },
         "name": "Chandigarh",
         "notched": false,
         "offsetgroup": "Chandigarh",
         "orientation": "v",
         "showlegend": true,
         "type": "box",
         "x": [
          "Chandigarh",
          "Chandigarh",
          "Chandigarh",
          "Chandigarh",
          "Chandigarh",
          "Chandigarh",
          "Chandigarh",
          "Chandigarh",
          "Chandigarh",
          "Chandigarh",
          "Chandigarh",
          "Chandigarh"
         ],
         "x0": " ",
         "xaxis": "x",
         "y": [
          18.35,
          12.4,
          21.8,
          9.52,
          20.14,
          13.99,
          22.05,
          8.33,
          20,
          16.67,
          21.43,
          7.22
         ],
         "y0": " ",
         "yaxis": "y"
        }
       ],
       "layout": {
        "boxmode": "overlay",
        "legend": {
         "title": {
          "text": "Region"
         },
         "tracegroupgap": 0
        },
        "template": {
         "data": {
          "bar": [
           {
            "error_x": {
             "color": "rgb(36,36,36)"
            },
            "error_y": {
             "color": "rgb(36,36,36)"
            },
            "marker": {
             "line": {
              "color": "rgb(234,234,242)",
              "width": 0.5
             },
             "pattern": {
              "fillmode": "overlay",
              "size": 10,
              "solidity": 0.2
             }
            },
            "type": "bar"
           }
          ],
          "barpolar": [
           {
            "marker": {
             "line": {
              "color": "rgb(234,234,242)",
              "width": 0.5
             },
             "pattern": {
              "fillmode": "overlay",
              "size": 10,
              "solidity": 0.2
             }
            },
            "type": "barpolar"
           }
          ],
          "carpet": [
           {
            "aaxis": {
             "endlinecolor": "rgb(36,36,36)",
             "gridcolor": "white",
             "linecolor": "white",
             "minorgridcolor": "white",
             "startlinecolor": "rgb(36,36,36)"
            },
            "baxis": {
             "endlinecolor": "rgb(36,36,36)",
             "gridcolor": "white",
             "linecolor": "white",
             "minorgridcolor": "white",
             "startlinecolor": "rgb(36,36,36)"
            },
            "type": "carpet"
           }
          ],
          "choropleth": [
           {
            "colorbar": {
             "outlinewidth": 0,
             "tickcolor": "rgb(36,36,36)",
             "ticklen": 8,
             "ticks": "outside",
             "tickwidth": 2
            },
            "type": "choropleth"
           }
          ],
          "contour": [
           {
            "colorbar": {
             "outlinewidth": 0,
             "tickcolor": "rgb(36,36,36)",
             "ticklen": 8,
             "ticks": "outside",
             "tickwidth": 2
            },
            "colorscale": [
             [
              0,
              "rgb(2,4,25)"
             ],
             [
              0.06274509803921569,
              "rgb(24,15,41)"
             ],
             [
              0.12549019607843137,
              "rgb(47,23,57)"
             ],
             [
              0.18823529411764706,
              "rgb(71,28,72)"
             ],
             [
              0.25098039215686274,
              "rgb(97,30,82)"
             ],
             [
              0.3137254901960784,
              "rgb(123,30,89)"
             ],
             [
              0.3764705882352941,
              "rgb(150,27,91)"
             ],
             [
              0.4392156862745098,
              "rgb(177,22,88)"
             ],
             [
              0.5019607843137255,
              "rgb(203,26,79)"
             ],
             [
              0.5647058823529412,
              "rgb(223,47,67)"
             ],
             [
              0.6274509803921569,
              "rgb(236,76,61)"
             ],
             [
              0.6901960784313725,
              "rgb(242,107,73)"
             ],
             [
              0.7529411764705882,
              "rgb(244,135,95)"
             ],
             [
              0.8156862745098039,
              "rgb(245,162,122)"
             ],
             [
              0.8784313725490196,
              "rgb(246,188,153)"
             ],
             [
              0.9411764705882353,
              "rgb(247,212,187)"
             ],
             [
              1,
              "rgb(250,234,220)"
             ]
            ],
            "type": "contour"
           }
          ],
          "contourcarpet": [
           {
            "colorbar": {
             "outlinewidth": 0,
             "tickcolor": "rgb(36,36,36)",
             "ticklen": 8,
             "ticks": "outside",
             "tickwidth": 2
            },
            "type": "contourcarpet"
           }
          ],
          "heatmap": [
           {
            "colorbar": {
             "outlinewidth": 0,
             "tickcolor": "rgb(36,36,36)",
             "ticklen": 8,
             "ticks": "outside",
             "tickwidth": 2
            },
            "colorscale": [
             [
              0,
              "rgb(2,4,25)"
             ],
             [
              0.06274509803921569,
              "rgb(24,15,41)"
             ],
             [
              0.12549019607843137,
              "rgb(47,23,57)"
             ],
             [
              0.18823529411764706,
              "rgb(71,28,72)"
             ],
             [
              0.25098039215686274,
              "rgb(97,30,82)"
             ],
             [
              0.3137254901960784,
              "rgb(123,30,89)"
             ],
             [
              0.3764705882352941,
              "rgb(150,27,91)"
             ],
             [
              0.4392156862745098,
              "rgb(177,22,88)"
             ],
             [
              0.5019607843137255,
              "rgb(203,26,79)"
             ],
             [
              0.5647058823529412,
              "rgb(223,47,67)"
             ],
             [
              0.6274509803921569,
              "rgb(236,76,61)"
             ],
             [
              0.6901960784313725,
              "rgb(242,107,73)"
             ],
             [
              0.7529411764705882,
              "rgb(244,135,95)"
             ],
             [
              0.8156862745098039,
              "rgb(245,162,122)"
             ],
             [
              0.8784313725490196,
              "rgb(246,188,153)"
             ],
             [
              0.9411764705882353,
              "rgb(247,212,187)"
             ],
             [
              1,
              "rgb(250,234,220)"
             ]
            ],
            "type": "heatmap"
           }
          ],
          "heatmapgl": [
           {
            "colorbar": {
             "outlinewidth": 0,
             "tickcolor": "rgb(36,36,36)",
             "ticklen": 8,
             "ticks": "outside",
             "tickwidth": 2
            },
            "colorscale": [
             [
              0,
              "rgb(2,4,25)"
             ],
             [
              0.06274509803921569,
              "rgb(24,15,41)"
             ],
             [
              0.12549019607843137,
              "rgb(47,23,57)"
             ],
             [
              0.18823529411764706,
              "rgb(71,28,72)"
             ],
             [
              0.25098039215686274,
              "rgb(97,30,82)"
             ],
             [
              0.3137254901960784,
              "rgb(123,30,89)"
             ],
             [
              0.3764705882352941,
              "rgb(150,27,91)"
             ],
             [
              0.4392156862745098,
              "rgb(177,22,88)"
             ],
             [
              0.5019607843137255,
              "rgb(203,26,79)"
             ],
             [
              0.5647058823529412,
              "rgb(223,47,67)"
             ],
             [
              0.6274509803921569,
              "rgb(236,76,61)"
             ],
             [
              0.6901960784313725,
              "rgb(242,107,73)"
             ],
             [
              0.7529411764705882,
              "rgb(244,135,95)"
             ],
             [
              0.8156862745098039,
              "rgb(245,162,122)"
             ],
             [
              0.8784313725490196,
              "rgb(246,188,153)"
             ],
             [
              0.9411764705882353,
              "rgb(247,212,187)"
             ],
             [
              1,
              "rgb(250,234,220)"
             ]
            ],
            "type": "heatmapgl"
           }
          ],
          "histogram": [
           {
            "marker": {
             "pattern": {
              "fillmode": "overlay",
              "size": 10,
              "solidity": 0.2
             }
            },
            "type": "histogram"
           }
          ],
          "histogram2d": [
           {
            "colorbar": {
             "outlinewidth": 0,
             "tickcolor": "rgb(36,36,36)",
             "ticklen": 8,
             "ticks": "outside",
             "tickwidth": 2
            },
            "colorscale": [
             [
              0,
              "rgb(2,4,25)"
             ],
             [
              0.06274509803921569,
              "rgb(24,15,41)"
             ],
             [
              0.12549019607843137,
              "rgb(47,23,57)"
             ],
             [
              0.18823529411764706,
              "rgb(71,28,72)"
             ],
             [
              0.25098039215686274,
              "rgb(97,30,82)"
             ],
             [
              0.3137254901960784,
              "rgb(123,30,89)"
             ],
             [
              0.3764705882352941,
              "rgb(150,27,91)"
             ],
             [
              0.4392156862745098,
              "rgb(177,22,88)"
             ],
             [
              0.5019607843137255,
              "rgb(203,26,79)"
             ],
             [
              0.5647058823529412,
              "rgb(223,47,67)"
             ],
             [
              0.6274509803921569,
              "rgb(236,76,61)"
             ],
             [
              0.6901960784313725,
              "rgb(242,107,73)"
             ],
             [
              0.7529411764705882,
              "rgb(244,135,95)"
             ],
             [
              0.8156862745098039,
              "rgb(245,162,122)"
             ],
             [
              0.8784313725490196,
              "rgb(246,188,153)"
             ],
             [
              0.9411764705882353,
              "rgb(247,212,187)"
             ],
             [
              1,
              "rgb(250,234,220)"
             ]
            ],
            "type": "histogram2d"
           }
          ],
          "histogram2dcontour": [
           {
            "colorbar": {
             "outlinewidth": 0,
             "tickcolor": "rgb(36,36,36)",
             "ticklen": 8,
             "ticks": "outside",
             "tickwidth": 2
            },
            "colorscale": [
             [
              0,
              "rgb(2,4,25)"
             ],
             [
              0.06274509803921569,
              "rgb(24,15,41)"
             ],
             [
              0.12549019607843137,
              "rgb(47,23,57)"
             ],
             [
              0.18823529411764706,
              "rgb(71,28,72)"
             ],
             [
              0.25098039215686274,
              "rgb(97,30,82)"
             ],
             [
              0.3137254901960784,
              "rgb(123,30,89)"
             ],
             [
              0.3764705882352941,
              "rgb(150,27,91)"
             ],
             [
              0.4392156862745098,
              "rgb(177,22,88)"
             ],
             [
              0.5019607843137255,
              "rgb(203,26,79)"
             ],
             [
              0.5647058823529412,
              "rgb(223,47,67)"
             ],
             [
              0.6274509803921569,
              "rgb(236,76,61)"
             ],
             [
              0.6901960784313725,
              "rgb(242,107,73)"
             ],
             [
              0.7529411764705882,
              "rgb(244,135,95)"
             ],
             [
              0.8156862745098039,
              "rgb(245,162,122)"
             ],
             [
              0.8784313725490196,
              "rgb(246,188,153)"
             ],
             [
              0.9411764705882353,
              "rgb(247,212,187)"
             ],
             [
              1,
              "rgb(250,234,220)"
             ]
            ],
            "type": "histogram2dcontour"
           }
          ],
          "mesh3d": [
           {
            "colorbar": {
             "outlinewidth": 0,
             "tickcolor": "rgb(36,36,36)",
             "ticklen": 8,
             "ticks": "outside",
             "tickwidth": 2
            },
            "type": "mesh3d"
           }
          ],
          "parcoords": [
           {
            "line": {
             "colorbar": {
              "outlinewidth": 0,
              "tickcolor": "rgb(36,36,36)",
              "ticklen": 8,
              "ticks": "outside",
              "tickwidth": 2
             }
            },
            "type": "parcoords"
           }
          ],
          "pie": [
           {
            "automargin": true,
            "type": "pie"
           }
          ],
          "scatter": [
           {
            "fillpattern": {
             "fillmode": "overlay",
             "size": 10,
             "solidity": 0.2
            },
            "type": "scatter"
           }
          ],
          "scatter3d": [
           {
            "line": {
             "colorbar": {
              "outlinewidth": 0,
              "tickcolor": "rgb(36,36,36)",
              "ticklen": 8,
              "ticks": "outside",
              "tickwidth": 2
             }
            },
            "marker": {
             "colorbar": {
              "outlinewidth": 0,
              "tickcolor": "rgb(36,36,36)",
              "ticklen": 8,
              "ticks": "outside",
              "tickwidth": 2
             }
            },
            "type": "scatter3d"
           }
          ],
          "scattercarpet": [
           {
            "marker": {
             "colorbar": {
              "outlinewidth": 0,
              "tickcolor": "rgb(36,36,36)",
              "ticklen": 8,
              "ticks": "outside",
              "tickwidth": 2
             }
            },
            "type": "scattercarpet"
           }
          ],
          "scattergeo": [
           {
            "marker": {
             "colorbar": {
              "outlinewidth": 0,
              "tickcolor": "rgb(36,36,36)",
              "ticklen": 8,
              "ticks": "outside",
              "tickwidth": 2
             }
            },
            "type": "scattergeo"
           }
          ],
          "scattergl": [
           {
            "marker": {
             "colorbar": {
              "outlinewidth": 0,
              "tickcolor": "rgb(36,36,36)",
              "ticklen": 8,
              "ticks": "outside",
              "tickwidth": 2
             }
            },
            "type": "scattergl"
           }
          ],
          "scattermapbox": [
           {
            "marker": {
             "colorbar": {
              "outlinewidth": 0,
              "tickcolor": "rgb(36,36,36)",
              "ticklen": 8,
              "ticks": "outside",
              "tickwidth": 2
             }
            },
            "type": "scattermapbox"
           }
          ],
          "scatterpolar": [
           {
            "marker": {
             "colorbar": {
              "outlinewidth": 0,
              "tickcolor": "rgb(36,36,36)",
              "ticklen": 8,
              "ticks": "outside",
              "tickwidth": 2
             }
            },
            "type": "scatterpolar"
           }
          ],
          "scatterpolargl": [
           {
            "marker": {
             "colorbar": {
              "outlinewidth": 0,
              "tickcolor": "rgb(36,36,36)",
              "ticklen": 8,
              "ticks": "outside",
              "tickwidth": 2
             }
            },
            "type": "scatterpolargl"
           }
          ],
          "scatterternary": [
           {
            "marker": {
             "colorbar": {
              "outlinewidth": 0,
              "tickcolor": "rgb(36,36,36)",
              "ticklen": 8,
              "ticks": "outside",
              "tickwidth": 2
             }
            },
            "type": "scatterternary"
           }
          ],
          "surface": [
           {
            "colorbar": {
             "outlinewidth": 0,
             "tickcolor": "rgb(36,36,36)",
             "ticklen": 8,
             "ticks": "outside",
             "tickwidth": 2
            },
            "colorscale": [
             [
              0,
              "rgb(2,4,25)"
             ],
             [
              0.06274509803921569,
              "rgb(24,15,41)"
             ],
             [
              0.12549019607843137,
              "rgb(47,23,57)"
             ],
             [
              0.18823529411764706,
              "rgb(71,28,72)"
             ],
             [
              0.25098039215686274,
              "rgb(97,30,82)"
             ],
             [
              0.3137254901960784,
              "rgb(123,30,89)"
             ],
             [
              0.3764705882352941,
              "rgb(150,27,91)"
             ],
             [
              0.4392156862745098,
              "rgb(177,22,88)"
             ],
             [
              0.5019607843137255,
              "rgb(203,26,79)"
             ],
             [
              0.5647058823529412,
              "rgb(223,47,67)"
             ],
             [
              0.6274509803921569,
              "rgb(236,76,61)"
             ],
             [
              0.6901960784313725,
              "rgb(242,107,73)"
             ],
             [
              0.7529411764705882,
              "rgb(244,135,95)"
             ],
             [
              0.8156862745098039,
              "rgb(245,162,122)"
             ],
             [
              0.8784313725490196,
              "rgb(246,188,153)"
             ],
             [
              0.9411764705882353,
              "rgb(247,212,187)"
             ],
             [
              1,
              "rgb(250,234,220)"
             ]
            ],
            "type": "surface"
           }
          ],
          "table": [
           {
            "cells": {
             "fill": {
              "color": "rgb(231,231,240)"
             },
             "line": {
              "color": "white"
             }
            },
            "header": {
             "fill": {
              "color": "rgb(183,183,191)"
             },
             "line": {
              "color": "white"
             }
            },
            "type": "table"
           }
          ]
         },
         "layout": {
          "annotationdefaults": {
           "arrowcolor": "rgb(67,103,167)"
          },
          "autotypenumbers": "strict",
          "coloraxis": {
           "colorbar": {
            "outlinewidth": 0,
            "tickcolor": "rgb(36,36,36)",
            "ticklen": 8,
            "ticks": "outside",
            "tickwidth": 2
           }
          },
          "colorscale": {
           "sequential": [
            [
             0,
             "rgb(2,4,25)"
            ],
            [
             0.06274509803921569,
             "rgb(24,15,41)"
            ],
            [
             0.12549019607843137,
             "rgb(47,23,57)"
            ],
            [
             0.18823529411764706,
             "rgb(71,28,72)"
            ],
            [
             0.25098039215686274,
             "rgb(97,30,82)"
            ],
            [
             0.3137254901960784,
             "rgb(123,30,89)"
            ],
            [
             0.3764705882352941,
             "rgb(150,27,91)"
            ],
            [
             0.4392156862745098,
             "rgb(177,22,88)"
            ],
            [
             0.5019607843137255,
             "rgb(203,26,79)"
            ],
            [
             0.5647058823529412,
             "rgb(223,47,67)"
            ],
            [
             0.6274509803921569,
             "rgb(236,76,61)"
            ],
            [
             0.6901960784313725,
             "rgb(242,107,73)"
            ],
            [
             0.7529411764705882,
             "rgb(244,135,95)"
            ],
            [
             0.8156862745098039,
             "rgb(245,162,122)"
            ],
            [
             0.8784313725490196,
             "rgb(246,188,153)"
            ],
            [
             0.9411764705882353,
             "rgb(247,212,187)"
            ],
            [
             1,
             "rgb(250,234,220)"
            ]
           ],
           "sequentialminus": [
            [
             0,
             "rgb(2,4,25)"
            ],
            [
             0.06274509803921569,
             "rgb(24,15,41)"
            ],
            [
             0.12549019607843137,
             "rgb(47,23,57)"
            ],
            [
             0.18823529411764706,
             "rgb(71,28,72)"
            ],
            [
             0.25098039215686274,
             "rgb(97,30,82)"
            ],
            [
             0.3137254901960784,
             "rgb(123,30,89)"
            ],
            [
             0.3764705882352941,
             "rgb(150,27,91)"
            ],
            [
             0.4392156862745098,
             "rgb(177,22,88)"
            ],
            [
             0.5019607843137255,
             "rgb(203,26,79)"
            ],
            [
             0.5647058823529412,
             "rgb(223,47,67)"
            ],
            [
             0.6274509803921569,
             "rgb(236,76,61)"
            ],
            [
             0.6901960784313725,
             "rgb(242,107,73)"
            ],
            [
             0.7529411764705882,
             "rgb(244,135,95)"
            ],
            [
             0.8156862745098039,
             "rgb(245,162,122)"
            ],
            [
             0.8784313725490196,
             "rgb(246,188,153)"
            ],
            [
             0.9411764705882353,
             "rgb(247,212,187)"
            ],
            [
             1,
             "rgb(250,234,220)"
            ]
           ]
          },
          "colorway": [
           "rgb(76,114,176)",
           "rgb(221,132,82)",
           "rgb(85,168,104)",
           "rgb(196,78,82)",
           "rgb(129,114,179)",
           "rgb(147,120,96)",
           "rgb(218,139,195)",
           "rgb(140,140,140)",
           "rgb(204,185,116)",
           "rgb(100,181,205)"
          ],
          "font": {
           "color": "rgb(36,36,36)"
          },
          "geo": {
           "bgcolor": "white",
           "lakecolor": "white",
           "landcolor": "rgb(234,234,242)",
           "showlakes": true,
           "showland": true,
           "subunitcolor": "white"
          },
          "hoverlabel": {
           "align": "left"
          },
          "hovermode": "closest",
          "paper_bgcolor": "white",
          "plot_bgcolor": "rgb(234,234,242)",
          "polar": {
           "angularaxis": {
            "gridcolor": "white",
            "linecolor": "white",
            "showgrid": true,
            "ticks": ""
           },
           "bgcolor": "rgb(234,234,242)",
           "radialaxis": {
            "gridcolor": "white",
            "linecolor": "white",
            "showgrid": true,
            "ticks": ""
           }
          },
          "scene": {
           "xaxis": {
            "backgroundcolor": "rgb(234,234,242)",
            "gridcolor": "white",
            "gridwidth": 2,
            "linecolor": "white",
            "showbackground": true,
            "showgrid": true,
            "ticks": "",
            "zerolinecolor": "white"
           },
           "yaxis": {
            "backgroundcolor": "rgb(234,234,242)",
            "gridcolor": "white",
            "gridwidth": 2,
            "linecolor": "white",
            "showbackground": true,
            "showgrid": true,
            "ticks": "",
            "zerolinecolor": "white"
           },
           "zaxis": {
            "backgroundcolor": "rgb(234,234,242)",
            "gridcolor": "white",
            "gridwidth": 2,
            "linecolor": "white",
            "showbackground": true,
            "showgrid": true,
            "ticks": "",
            "zerolinecolor": "white"
           }
          },
          "shapedefaults": {
           "fillcolor": "rgb(67,103,167)",
           "line": {
            "width": 0
           },
           "opacity": 0.5
          },
          "ternary": {
           "aaxis": {
            "gridcolor": "white",
            "linecolor": "white",
            "showgrid": true,
            "ticks": ""
           },
           "baxis": {
            "gridcolor": "white",
            "linecolor": "white",
            "showgrid": true,
            "ticks": ""
           },
           "bgcolor": "rgb(234,234,242)",
           "caxis": {
            "gridcolor": "white",
            "linecolor": "white",
            "showgrid": true,
            "ticks": ""
           }
          },
          "xaxis": {
           "automargin": true,
           "gridcolor": "white",
           "linecolor": "white",
           "showgrid": true,
           "ticks": "",
           "title": {
            "standoff": 15
           },
           "zerolinecolor": "white"
          },
          "yaxis": {
           "automargin": true,
           "gridcolor": "white",
           "linecolor": "white",
           "showgrid": true,
           "ticks": "",
           "title": {
            "standoff": 15
           },
           "zerolinecolor": "white"
          }
         }
        },
        "title": {
         "text": "Unemployment rate per States"
        },
        "xaxis": {
         "anchor": "y",
         "categoryarray": [
          "Andhra Pradesh",
          "Assam",
          "Bihar",
          "Chhattisgarh",
          "Delhi",
          "Goa",
          "Gujarat",
          "Haryana",
          "Himachal Pradesh",
          "Jammu & Kashmir",
          "Jharkhand",
          "Karnataka",
          "Kerala",
          "Madhya Pradesh",
          "Maharashtra",
          "Meghalaya",
          "Odisha",
          "Puducherry",
          "Punjab",
          "Rajasthan",
          "Sikkim",
          "Tamil Nadu",
          "Telangana",
          "Tripura",
          "Uttar Pradesh",
          "Uttarakhand",
          "West Bengal",
          "Chandigarh"
         ],
         "categoryorder": "total descending",
         "domain": [
          0,
          1
         ],
         "title": {
          "text": "Region"
         }
        },
        "yaxis": {
         "anchor": "x",
         "domain": [
          0,
          1
         ],
         "title": {
          "text": "Estimated Unemployment Rate"
         }
        }
       }
      }
     },
     "metadata": {},
     "output_type": "display_data"
    }
   ],
   "source": [
    "import plotly.express as px\n",
    "fig = px.box(df, x='Region', y='Estimated Unemployment Rate', color='Region', title='Unemployment rate per States', template='seaborn')\n",
    "\n",
    "# Updating the x-axis category order to be in descending total\n",
    "fig.update_layout(xaxis={'categoryorder': 'total descending'})\n",
    "fig.show()"
   ]
  },
  {
   "cell_type": "markdown",
   "id": "23c1937a",
   "metadata": {
    "papermill": {
     "duration": 0.009935,
     "end_time": "2023-08-28T07:05:58.147133",
     "exception": false,
     "start_time": "2023-08-28T07:05:58.137198",
     "status": "completed"
    },
    "tags": []
   },
   "source": [
    "Scatter matrix cosidering the employed and unemployed rates"
   ]
  },
  {
   "cell_type": "code",
   "execution_count": 42,
   "id": "c8cb711a",
   "metadata": {
    "execution": {
     "iopub.execute_input": "2023-08-28T07:05:58.169078Z",
     "iopub.status.busy": "2023-08-28T07:05:58.168684Z",
     "iopub.status.idle": "2023-08-28T07:05:58.302841Z",
     "shell.execute_reply": "2023-08-28T07:05:58.301754Z"
    },
    "papermill": {
     "duration": 0.14789,
     "end_time": "2023-08-28T07:05:58.305267",
     "exception": false,
     "start_time": "2023-08-28T07:05:58.157377",
     "status": "completed"
    },
    "tags": []
   },
   "outputs": [
    {
     "data": {
      "application/vnd.plotly.v1+json": {
       "config": {
        "plotlyServerURL": "https://plot.ly"
       },
       "data": [
        {
         "dimensions": [
          {
           "axis": {
            "matches": true
           },
           "label": "Estimated Unemployment Rate",
           "values": [
            3.65,
            3.05,
            3.75,
            3.32,
            5.17,
            3.52,
            4.12,
            4.38,
            4.84,
            5.91,
            4.06,
            16.29,
            14.46,
            0.85,
            6.09,
            3.8,
            5.64,
            4.61,
            6.01,
            4.7,
            7.54,
            7.88,
            7.11,
            5.66,
            9.88,
            32.3,
            24.91,
            5.86
           ]
          },
          {
           "axis": {
            "matches": true
           },
           "label": "Estimated Employed",
           "values": [
            11999139,
            11755881,
            12086707,
            12285693,
            12256762,
            12017412,
            11397681,
            12528395,
            12016676,
            11723617,
            11359660,
            8792827,
            9526902,
            15572975,
            4788661,
            4824630,
            4657443,
            4743179,
            4733996,
            4774377,
            4668772,
            4913963,
            4618860,
            4822035,
            4521537,
            2544084,
            3428356,
            4954389
           ]
          },
          {
           "axis": {
            "matches": true
           },
           "label": "Estimated Labour Participation",
           "values": [
            43.24,
            42.05,
            43.5,
            43.97,
            44.68,
            43.01,
            41,
            45.14,
            43.46,
            42.83,
            40.66,
            36.03,
            38.16,
            53.76,
            37.45,
            36.76,
            36.1,
            36.29,
            36.69,
            36.41,
            36.62,
            38.61,
            35.91,
            36.84,
            36.08,
            26.97,
            32.69,
            37.61
           ]
          }
         ],
         "hovertemplate": "Region=Andhra Pradesh<br>%{xaxis.title.text}=%{x}<br>%{yaxis.title.text}=%{y}<extra></extra>",
         "legendgroup": "Andhra Pradesh",
         "marker": {
          "color": "rgb(76,114,176)",
          "symbol": "circle"
         },
         "name": "Andhra Pradesh",
         "showlegend": true,
         "type": "splom"
        },
        {
         "dimensions": [
          {
           "axis": {
            "matches": true
           },
           "label": "Estimated Unemployment Rate",
           "values": [
            4.29,
            5.08,
            4.26,
            5.79,
            4.46,
            4.65,
            4.66,
            4.29,
            3.26,
            3.77,
            9.38,
            0,
            7.87,
            9.89,
            3.21,
            10.39,
            9.26,
            11.17,
            6.31,
            5.02,
            7.24,
            9.98,
            10.34,
            8.37,
            10.77,
            3.42
           ]
          },
          {
           "axis": {
            "matches": true
           },
           "label": "Estimated Employed",
           "values": [
            11749334,
            8923222,
            9911534,
            9292039,
            11468349,
            8395906,
            9625362,
            11420996,
            8462814,
            9878742,
            9926176,
            7544937,
            1671707,
            1647342,
            1739838,
            1595582,
            1576480,
            1595176,
            1708045,
            1722303,
            1630908,
            1625454,
            1664145,
            1454956,
            1441722,
            1551007
           ]
          },
          {
           "axis": {
            "matches": true
           },
           "label": "Estimated Labour Participation",
           "values": [
            57.39,
            43.87,
            48.21,
            45.83,
            55.67,
            40.76,
            46.64,
            54.9,
            40.17,
            47.05,
            50,
            34.38,
            44.92,
            45.17,
            44.32,
            43.81,
            42.66,
            44.01,
            44.59,
            44.26,
            42.82,
            43.9,
            45.03,
            38.45,
            39.04,
            38.73
           ]
          }
         ],
         "hovertemplate": "Region=Assam<br>%{xaxis.title.text}=%{x}<br>%{yaxis.title.text}=%{y}<extra></extra>",
         "legendgroup": "Assam",
         "marker": {
          "color": "rgb(221,132,82)",
          "symbol": "circle"
         },
         "name": "Assam",
         "showlegend": true,
         "type": "splom"
        },
        {
         "dimensions": [
          {
           "axis": {
            "matches": true
           },
           "label": "Estimated Unemployment Rate",
           "values": [
            9.27,
            10.2,
            13.44,
            11,
            8.87,
            12.47,
            12.4,
            10.16,
            9.13,
            9.61,
            15.39,
            45.09,
            47.26,
            20.49,
            19.9,
            13.29,
            16.41,
            17.66,
            20.46,
            14.06,
            17.62,
            14.91,
            20.69,
            15.11,
            15.73,
            58.77,
            37.87,
            12.45
           ]
          },
          {
           "axis": {
            "matches": true
           },
           "label": "Estimated Employed",
           "values": [
            24322330,
            24097712,
            23248875,
            22260203,
            23905700,
            24053140,
            22445989,
            22914530,
            23409006,
            23168192,
            22667882,
            14645275,
            14050319,
            20622566,
            3029344,
            3248864,
            3059744,
            2994763,
            2992082,
            3173429,
            3081077,
            2977857,
            2988665,
            3113464,
            3049637,
            1400962,
            2207026,
            3124663
           ]
          },
          {
           "axis": {
            "matches": true
           },
           "label": "Estimated Labour Participation",
           "values": [
            39.75,
            39.71,
            39.66,
            36.85,
            38.57,
            40.31,
            37.51,
            37.25,
            37.54,
            37.28,
            38.88,
            38.63,
            38.5,
            37.4,
            39.8,
            39.35,
            38.36,
            38.03,
            39.25,
            38.45,
            38.86,
            36.29,
            38.99,
            37.87,
            37.29,
            34.94,
            36.45,
            36.54
           ]
          }
         ],
         "hovertemplate": "Region=Bihar<br>%{xaxis.title.text}=%{x}<br>%{yaxis.title.text}=%{y}<extra></extra>",
         "legendgroup": "Bihar",
         "marker": {
          "color": "rgb(85,168,104)",
          "symbol": "circle"
         },
         "name": "Bihar",
         "showlegend": true,
         "type": "splom"
        },
        {
         "dimensions": [
          {
           "axis": {
            "matches": true
           },
           "label": "Estimated Unemployment Rate",
           "values": [
            9.82,
            6.76,
            4.54,
            4.64,
            8.33,
            6.96,
            2.77,
            6.11,
            9.89,
            7.89,
            7.31,
            0,
            7.64,
            10.14,
            9.77,
            11.77,
            8.17,
            6.29,
            9.46,
            10.27,
            8.32,
            3.57,
            9.01,
            9.79,
            8.21,
            20.13,
            24.1,
            27.07
           ]
          },
          {
           "axis": {
            "matches": true
           },
           "label": "Estimated Employed",
           "values": [
            6259019,
            6608626,
            6753622,
            6607694,
            6490776,
            7043840,
            6942931,
            6569385,
            6236201,
            6847173,
            6894808,
            6534321,
            5454091,
            5781095,
            2223129,
            2192020,
            2285436,
            2392400,
            2311507,
            2297096,
            2341284,
            2415436,
            2315972,
            2347941,
            2407509,
            1066126,
            1276291,
            1602231
           ]
          },
          {
           "axis": {
            "matches": true
           },
           "label": "Estimated Labour Participation",
           "values": [
            42.89,
            43.71,
            43.53,
            42.55,
            43.38,
            46.28,
            43.56,
            42.59,
            42.03,
            45.05,
            44.98,
            39.43,
            35.56,
            38.66,
            45.61,
            45.88,
            45.85,
            46.91,
            46.8,
            46.82,
            46.59,
            45.59,
            46.21,
            47.14,
            47.39,
            24.06,
            30.24,
            39.41
           ]
          }
         ],
         "hovertemplate": "Region=Chhattisgarh<br>%{xaxis.title.text}=%{x}<br>%{yaxis.title.text}=%{y}<extra></extra>",
         "legendgroup": "Chhattisgarh",
         "marker": {
          "color": "rgb(196,78,82)",
          "symbol": "circle"
         },
         "name": "Chhattisgarh",
         "showlegend": true,
         "type": "splom"
        },
        {
         "dimensions": [
          {
           "axis": {
            "matches": true
           },
           "label": "Estimated Unemployment Rate",
           "values": [
            12.56,
            9.33,
            11.07,
            17.18,
            12.5,
            15.84,
            11.11,
            16.97,
            13.48,
            13.81,
            15.18,
            20.69,
            22.76,
            21.14,
            12.31,
            12.76,
            14.68,
            13.52,
            20.59,
            12.41,
            16.11,
            11.07,
            22.45,
            14.86,
            17.09,
            16.51,
            45.78,
            18.11
           ]
          },
          {
           "axis": {
            "matches": true
           },
           "label": "Estimated Employed",
           "values": [
            169487,
            149076,
            166605,
            135407,
            166056,
            149511,
            178768,
            145671,
            157791,
            147500,
            152413,
            115487,
            129610,
            112108,
            5756475,
            5550172,
            5393091,
            5552510,
            5642253,
            6030363,
            5439600,
            5718337,
            5647493,
            5708807,
            5401392,
            3003787,
            2343783,
            4306807
           ]
          },
          {
           "axis": {
            "matches": true
           },
           "label": "Estimated Labour Participation",
           "values": [
            42.33,
            35.74,
            40.53,
            35.21,
            40.68,
            37.9,
            42.71,
            37.08,
            38.36,
            35.84,
            37.45,
            30.21,
            34.65,
            29.22,
            44.17,
            42.71,
            42.34,
            42.9,
            47.36,
            45.78,
            43.02,
            42.56,
            48.09,
            44.18,
            42.82,
            23.59,
            28.28,
            34.32
           ]
          }
         ],
         "hovertemplate": "Region=Delhi<br>%{xaxis.title.text}=%{x}<br>%{yaxis.title.text}=%{y}<extra></extra>",
         "legendgroup": "Delhi",
         "marker": {
          "color": "rgb(129,114,179)",
          "symbol": "circle"
         },
         "name": "Delhi",
         "showlegend": true,
         "type": "splom"
        },
        {
         "dimensions": [
          {
           "axis": {
            "matches": true
           },
           "label": "Estimated Unemployment Rate",
           "values": [
            2.91,
            5.45,
            10.98,
            1.98,
            3.61,
            7.21,
            23.71,
            3.54,
            5.38,
            0,
            15.91,
            20,
            2.75,
            13.33,
            12.28,
            4.9,
            3.16,
            12.31,
            25.2,
            16.22,
            10.92,
            4.31,
            4.76,
            11.76
           ]
          },
          {
           "axis": {
            "matches": true
           },
           "label": "Estimated Employed",
           "values": [
            179340,
            170471,
            167437,
            183603,
            163215,
            177440,
            159489,
            177155,
            158936,
            171672,
            181657,
            128538,
            264855,
            304015,
            280367,
            243277,
            309643,
            290264,
            271612,
            288154,
            257814,
            306396,
            277093,
            318957
           ]
          },
          {
           "axis": {
            "matches": true
           },
           "label": "Estimated Labour Participation",
           "values": [
            39.16,
            38.19,
            39.81,
            39.61,
            35.78,
            40.36,
            44.09,
            38.7,
            35.36,
            36.11,
            45.36,
            33.71,
            34.17,
            43.96,
            40,
            31.97,
            39.92,
            41.27,
            45.22,
            42.77,
            35.95,
            39.73,
            36.05,
            44.74
           ]
          }
         ],
         "hovertemplate": "Region=Goa<br>%{xaxis.title.text}=%{x}<br>%{yaxis.title.text}=%{y}<extra></extra>",
         "legendgroup": "Goa",
         "marker": {
          "color": "rgb(147,120,96)",
          "symbol": "circle"
         },
         "name": "Goa",
         "showlegend": true,
         "type": "splom"
        },
        {
         "dimensions": [
          {
           "axis": {
            "matches": true
           },
           "label": "Estimated Unemployment Rate",
           "values": [
            2.88,
            4.77,
            4.58,
            3.7,
            6.29,
            4.91,
            4.68,
            3.46,
            5.35,
            6.64,
            7.59,
            12,
            14.58,
            1.41,
            4.09,
            6.31,
            5.15,
            4.2,
            5.96,
            5.45,
            7.53,
            5.71,
            5.82,
            6.04,
            5.39,
            25.94,
            11.62,
            4.54
           ]
          },
          {
           "axis": {
            "matches": true
           },
           "label": "Estimated Employed",
           "values": [
            13954728,
            13199281,
            14327083,
            13507342,
            13280783,
            13828512,
            14487815,
            13877825,
            14301844,
            13973042,
            13483615,
            8587594,
            11121124,
            13243922,
            9686558,
            10144965,
            9828023,
            10228154,
            9609939,
            10474217,
            9896129,
            10172812,
            9824501,
            10784753,
            10083026,
            6701284,
            6072776,
            10574711
           ]
          },
          {
           "axis": {
            "matches": true
           },
           "label": "Estimated Labour Participation",
           "values": [
            52.03,
            50.12,
            54.21,
            50.57,
            51.01,
            52.27,
            54.55,
            51.51,
            54.07,
            53.48,
            52.06,
            34.77,
            46.31,
            47.72,
            41.67,
            44.57,
            42.54,
            43.72,
            41.75,
            45.14,
            43.5,
            43.75,
            42.19,
            46.31,
            42.9,
            36.33,
            27.52,
            44.26
           ]
          }
         ],
         "hovertemplate": "Region=Gujarat<br>%{xaxis.title.text}=%{x}<br>%{yaxis.title.text}=%{y}<extra></extra>",
         "legendgroup": "Gujarat",
         "marker": {
          "color": "rgb(218,139,195)",
          "symbol": "circle"
         },
         "name": "Gujarat",
         "showlegend": true,
         "type": "splom"
        },
        {
         "dimensions": [
          {
           "axis": {
            "matches": true
           },
           "label": "Estimated Unemployment Rate",
           "values": [
            14.54,
            23.08,
            16.22,
            30.94,
            16.36,
            24.17,
            16.59,
            29.56,
            16.21,
            27.19,
            23.92,
            41.61,
            34.22,
            35.57,
            24.67,
            20.42,
            25.45,
            24.19,
            26.84,
            21.04,
            27.06,
            23.65,
            27.24,
            23.29,
            27.14,
            46.89,
            38.46,
            29.41
           ]
          },
          {
           "axis": {
            "matches": true
           },
           "label": "Estimated Employed",
           "values": [
            5249186,
            4745178,
            4826560,
            4558306,
            5127956,
            4798833,
            4875763,
            4603484,
            5062293,
            4570108,
            4366148,
            4041050,
            3914193,
            4357835,
            2693596,
            2845190,
            2405973,
            2523005,
            2675862,
            2821456,
            2404239,
            2548835,
            2630938,
            2752834,
            2275407,
            1606580,
            2013083,
            2304138
           ]
          },
          {
           "axis": {
            "matches": true
           },
           "label": "Estimated Labour Participation",
           "values": [
            45.12,
            45.23,
            42.17,
            48.23,
            44.72,
            46.07,
            42.48,
            47.4,
            43.74,
            45.37,
            41.4,
            49.85,
            42.78,
            48.53,
            43.18,
            43.06,
            38.77,
            39.87,
            43.7,
            42.58,
            39.18,
            39.57,
            42.75,
            42.32,
            36.73,
            35.48,
            38.27,
            38.09
           ]
          }
         ],
         "hovertemplate": "Region=Haryana<br>%{xaxis.title.text}=%{x}<br>%{yaxis.title.text}=%{y}<extra></extra>",
         "legendgroup": "Haryana",
         "marker": {
          "color": "rgb(140,140,140)",
          "symbol": "circle"
         },
         "name": "Haryana",
         "showlegend": true,
         "type": "splom"
        },
        {
         "dimensions": [
          {
           "axis": {
            "matches": true
           },
           "label": "Estimated Unemployment Rate",
           "values": [
            13.68,
            11.43,
            20.59,
            18.56,
            15.98,
            15.81,
            22.86,
            19.46,
            16.67,
            15.42,
            17.71,
            2.13,
            25.64,
            1.12,
            10.88,
            21.43,
            21.51,
            24.48,
            12,
            23.77,
            27.27,
            25.32,
            18.15,
            27.31,
            26.44,
            2.7,
            50,
            10.81
           ]
          },
          {
           "axis": {
            "matches": true
           },
           "label": "Estimated Employed",
           "values": [
            2045760,
            1957081,
            1916824,
            1969248,
            2039804,
            1946957,
            2024409,
            1922821,
            2041035,
            1952464,
            1800426,
            984171,
            1732050,
            2230075,
            245668,
            237576,
            235894,
            236315,
            247210,
            232322,
            233029,
            241366,
            246596,
            227804,
            221432,
            146957,
            134868,
            224902
           ]
          },
          {
           "axis": {
            "matches": true
           },
           "label": "Estimated Labour Participation",
           "values": [
            44.23,
            41.18,
            44.91,
            44.91,
            45.02,
            42.81,
            48.5,
            44.05,
            45.11,
            42.45,
            40.17,
            18.43,
            42.62,
            41.2,
            45.27,
            49.58,
            49.22,
            51.17,
            45.87,
            49.69,
            52.17,
            52.55,
            48.92,
            50.82,
            48.74,
            24.42,
            43.55,
            40.66
           ]
          }
         ],
         "hovertemplate": "Region=Himachal Pradesh<br>%{xaxis.title.text}=%{x}<br>%{yaxis.title.text}=%{y}<extra></extra>",
         "legendgroup": "Himachal Pradesh",
         "marker": {
          "color": "rgb(204,185,116)",
          "symbol": "circle"
         },
         "name": "Himachal Pradesh",
         "showlegend": true,
         "type": "splom"
        },
        {
         "dimensions": [
          {
           "axis": {
            "matches": true
           },
           "label": "Estimated Unemployment Rate",
           "values": [
            12.78,
            12.09,
            13.67,
            11.32,
            19.27,
            14.73,
            22.19,
            21.23,
            16,
            2.22,
            18.97,
            23.04,
            19.88,
            21.55,
            24.06,
            14.29,
            7.02,
            18.54,
            19.86,
            14.29,
            12.96
           ]
          },
          {
           "axis": {
            "matches": true
           },
           "label": "Estimated Employed",
           "values": [
            2495186,
            2423742,
            2549316,
            2778624,
            2477621,
            2415724,
            2373488,
            2163397,
            2361004,
            2716966,
            2049617,
            1130139,
            1139815,
            1183770,
            1029087,
            1226793,
            1209085,
            1079537,
            1060116,
            998103,
            937435
           ]
          },
          {
           "axis": {
            "matches": true
           },
           "label": "Estimated Labour Participation",
           "values": [
            40.57,
            39.02,
            41.71,
            44.17,
            43.08,
            39.69,
            42.56,
            38.25,
            39.06,
            38.46,
            34.94,
            46.74,
            45.17,
            47.8,
            42.63,
            44.92,
            40.71,
            41.4,
            41.23,
            36.21,
            33.33
           ]
          }
         ],
         "hovertemplate": "Region=Jammu & Kashmir<br>%{xaxis.title.text}=%{x}<br>%{yaxis.title.text}=%{y}<extra></extra>",
         "legendgroup": "Jammu & Kashmir",
         "marker": {
          "color": "rgb(100,181,205)",
          "symbol": "circle"
         },
         "name": "Jammu & Kashmir",
         "showlegend": true,
         "type": "splom"
        },
        {
         "dimensions": [
          {
           "axis": {
            "matches": true
           },
           "label": "Estimated Unemployment Rate",
           "values": [
            7.11,
            8.46,
            9.98,
            12.06,
            7.12,
            6.57,
            8.07,
            15.15,
            6.16,
            9.06,
            5.01,
            41.72,
            55.1,
            21.53,
            17.23,
            20.51,
            15.67,
            20.25,
            21.16,
            19.05,
            17.34,
            22.01,
            22.96,
            19.67,
            16.4,
            61.48,
            70.17,
            19.38
           ]
          },
          {
           "axis": {
            "matches": true
           },
           "label": "Estimated Employed",
           "values": [
            7035766,
            7319782,
            6958404,
            7015356,
            7500122,
            7761243,
            7279628,
            6873437,
            7868736,
            7932402,
            7157454,
            4280434,
            3315038,
            6375114,
            2404033,
            2326911,
            2434579,
            2335406,
            2357627,
            2460196,
            2424281,
            2290170,
            2329293,
            2493023,
            2480661,
            1054829,
            830347,
            2244460
           ]
          },
          {
           "axis": {
            "matches": true
           },
           "label": "Estimated Labour Participation",
           "values": [
            39.04,
            41.12,
            39.66,
            40.83,
            41.24,
            42.33,
            40.26,
            41.09,
            42.43,
            44.05,
            37.96,
            36.92,
            37.03,
            40.65,
            43.25,
            43.51,
            42.82,
            43.35,
            44.18,
            44.82,
            43.17,
            43.14,
            44.33,
            45.42,
            43.34,
            39.92,
            40.49,
            40.43
           ]
          }
         ],
         "hovertemplate": "Region=Jharkhand<br>%{xaxis.title.text}=%{x}<br>%{yaxis.title.text}=%{y}<extra></extra>",
         "legendgroup": "Jharkhand",
         "marker": {
          "color": "rgb(76,114,176)",
          "symbol": "circle"
         },
         "name": "Jharkhand",
         "showlegend": true,
         "type": "splom"
        },
        {
         "dimensions": [
          {
           "axis": {
            "matches": true
           },
           "label": "Estimated Unemployment Rate",
           "values": [
            5.46,
            5.98,
            0.52,
            0.37,
            3.2,
            7.13,
            1.19,
            0.41,
            2.57,
            4.11,
            2.39,
            33.17,
            23.72,
            10.92,
            6.56,
            5,
            2.29,
            1.27,
            3.57,
            3.87,
            3.44,
            1.56,
            3.31,
            2.88,
            4.92,
            25.12,
            15.88,
            6.12
           ]
          },
          {
           "axis": {
            "matches": true
           },
           "label": "Estimated Employed",
           "values": [
            13911440,
            12888490,
            12169808,
            12686470,
            13741892,
            12803527,
            11537217,
            12756132,
            13938874,
            12753657,
            12853818,
            9330400,
            10626328,
            15396213,
            8638239,
            8862498,
            8738029,
            8614340,
            8647794,
            8799249,
            8613835,
            8592376,
            8749154,
            8924061,
            9225835,
            7387995,
            8669258,
            8822411
           ]
          },
          {
           "axis": {
            "matches": true
           },
           "label": "Estimated Labour Participation",
           "values": [
            46.36,
            43.12,
            38.42,
            39.93,
            44.45,
            43.1,
            36.45,
            39.92,
            44.52,
            41.33,
            40.85,
            43.25,
            43.09,
            53.37,
            40.62,
            40.89,
            39.09,
            38.04,
            39,
            39.7,
            38.6,
            37.66,
            38.94,
            39.45,
            41.55,
            42.14,
            43.9,
            39.93
           ]
          }
         ],
         "hovertemplate": "Region=Karnataka<br>%{xaxis.title.text}=%{x}<br>%{yaxis.title.text}=%{y}<extra></extra>",
         "legendgroup": "Karnataka",
         "marker": {
          "color": "rgb(221,132,82)",
          "symbol": "circle"
         },
         "name": "Karnataka",
         "showlegend": true,
         "type": "splom"
        },
        {
         "dimensions": [
          {
           "axis": {
            "matches": true
           },
           "label": "Estimated Unemployment Rate",
           "values": [
            6.63,
            9,
            4.95,
            10.32,
            5.35,
            9.14,
            5,
            10.77,
            4.11,
            8.91,
            8.85,
            10.71,
            23.38,
            27.66,
            6.11,
            6.67,
            7.58,
            7.69,
            5.52,
            5.35,
            6.71,
            7.31,
            6.65,
            6.08,
            9.14,
            21.43,
            30.28,
            12.17
           ]
          },
          {
           "axis": {
            "matches": true
           },
           "label": "Estimated Employed",
           "values": [
            5184355,
            5605627,
            4855393,
            5233449,
            5400499,
            5328825,
            4557906,
            5065804,
            5307026,
            5203579,
            4141953,
            1754170,
            3799919,
            3952088,
            4605913,
            4678374,
            4105211,
            4448650,
            4640642,
            4644510,
            4062767,
            4440283,
            4597507,
            4624444,
            4079775,
            2179106,
            2826118,
            4601293
           ]
          },
          {
           "axis": {
            "matches": true
           },
           "label": "Estimated Labour Participation",
           "values": [
            38.07,
            42.19,
            34.96,
            39.9,
            38.97,
            40.02,
            32.71,
            38.67,
            37.66,
            38.84,
            30.87,
            13.33,
            33.62,
            37.01,
            36.65,
            37.42,
            33.13,
            35.91,
            36.57,
            36.49,
            32.36,
            35.56,
            36.53,
            36.48,
            33.24,
            20.51,
            29.95,
            38.68
           ]
          }
         ],
         "hovertemplate": "Region=Kerala<br>%{xaxis.title.text}=%{x}<br>%{yaxis.title.text}=%{y}<extra></extra>",
         "legendgroup": "Kerala",
         "marker": {
          "color": "rgb(85,168,104)",
          "symbol": "circle"
         },
         "name": "Kerala",
         "showlegend": true,
         "type": "splom"
        },
        {
         "dimensions": [
          {
           "axis": {
            "matches": true
           },
           "label": "Estimated Unemployment Rate",
           "values": [
            3.63,
            4.25,
            3.92,
            4.94,
            3.08,
            2.98,
            2.72,
            2.94,
            3.66,
            4.42,
            1.19,
            12.5,
            22.46,
            6.46,
            3.91,
            6.38,
            7.38,
            6.82,
            7,
            4.4,
            6.06,
            6.2,
            5.17,
            4.96,
            4.8,
            11.94,
            40.49,
            12.72
           ]
          },
          {
           "axis": {
            "matches": true
           },
           "label": "Estimated Employed",
           "values": [
            15349838,
            16294794,
            16274707,
            16559137,
            16159315,
            17060638,
            16306428,
            16854647,
            16183702,
            16178044,
            16480441,
            14238959,
            13099601,
            16748971,
            6692720,
            6509340,
            6266446,
            6809834,
            6655967,
            6603715,
            6459457,
            6787403,
            6834930,
            6533435,
            6386723,
            4802873,
            3879934,
            6221562
           ]
          },
          {
           "axis": {
            "matches": true
           },
           "label": "Estimated Labour Participation",
           "values": [
            37.97,
            40.48,
            40.2,
            41.25,
            39.4,
            41.46,
            39.44,
            40.77,
            39.35,
            39.57,
            38.9,
            37.88,
            39.24,
            41.5,
            38.96,
            38.8,
            37.67,
            40.6,
            39.67,
            38.2,
            37.94,
            39.83,
            39.59,
            37.68,
            36.68,
            29.76,
            35.49,
            38.72
           ]
          }
         ],
         "hovertemplate": "Region=Madhya Pradesh<br>%{xaxis.title.text}=%{x}<br>%{yaxis.title.text}=%{y}<extra></extra>",
         "legendgroup": "Madhya Pradesh",
         "marker": {
          "color": "rgb(196,78,82)",
          "symbol": "circle"
         },
         "name": "Madhya Pradesh",
         "showlegend": true,
         "type": "splom"
        },
        {
         "dimensions": [
          {
           "axis": {
            "matches": true
           },
           "label": "Estimated Unemployment Rate",
           "values": [
            3.67,
            4.34,
            3.66,
            3.76,
            4.4,
            3.81,
            3.68,
            3.03,
            3.8,
            4.24,
            5.38,
            25.28,
            16.89,
            9.4,
            6.08,
            6.46,
            6.35,
            7.57,
            7.6,
            7.51,
            7.6,
            7.83,
            6.67,
            5.34,
            6.34,
            14.99,
            15.92,
            10.01
           ]
          },
          {
           "axis": {
            "matches": true
           },
           "label": "Estimated Employed",
           "values": [
            23896858,
            23056511,
            24843750,
            26835389,
            25219281,
            24330249,
            24881383,
            26357625,
            25881398,
            25293535,
            23130976,
            15014802,
            18423447,
            23601016,
            16962574,
            17375053,
            17215677,
            16602767,
            17396398,
            17221991,
            17486683,
            16581144,
            16715470,
            17122782,
            17065830,
            12674451,
            12365754,
            16172690
           ]
          },
          {
           "axis": {
            "matches": true
           },
           "label": "Estimated Labour Participation",
           "values": [
            47.11,
            45.69,
            48.8,
            52.67,
            49.74,
            47.61,
            48.53,
            50.98,
            50.36,
            49.36,
            45.6,
            37.42,
            41.21,
            48.34,
            38.3,
            39.3,
            38.81,
            37.84,
            39.58,
            39.05,
            39.61,
            37.57,
            37.32,
            37.61,
            37.8,
            30.86,
            30.38,
            37.04
           ]
          }
         ],
         "hovertemplate": "Region=Maharashtra<br>%{xaxis.title.text}=%{x}<br>%{yaxis.title.text}=%{y}<extra></extra>",
         "legendgroup": "Maharashtra",
         "marker": {
          "color": "rgb(129,114,179)",
          "symbol": "circle"
         },
         "name": "Maharashtra",
         "showlegend": true,
         "type": "splom"
        },
        {
         "dimensions": [
          {
           "axis": {
            "matches": true
           },
           "label": "Estimated Unemployment Rate",
           "values": [
            3.16,
            4.23,
            1.03,
            0.52,
            0.24,
            3.7,
            1.5,
            1.8,
            0.97,
            2.76,
            1.28,
            8.38,
            3.73,
            1.35,
            8.4,
            8.66,
            4.43,
            5.8,
            5.3,
            7.2,
            3.02,
            5.21,
            4.76,
            7.37,
            2.8,
            17.39,
            14.58
           ]
          },
          {
           "axis": {
            "matches": true
           },
           "label": "Estimated Employed",
           "values": [
            1119011,
            1024797,
            1158511,
            1065725,
            1162159,
            1080609,
            1205703,
            1102997,
            1229406,
            1112864,
            1192616,
            803118,
            992148,
            1150200,
            228978,
            231252,
            284015,
            259433,
            253887,
            234375,
            293431,
            267417,
            261687,
            233965,
            289735,
            161939,
            222916
           ]
          },
          {
           "axis": {
            "matches": true
           },
           "label": "Estimated Labour Participation",
           "values": [
            66.13,
            61.09,
            66.67,
            60.86,
            66.02,
            63.44,
            69.03,
            63.18,
            69.66,
            64.06,
            67.46,
            48.83,
            57.26,
            64.63,
            47.79,
            48.29,
            56.55,
            52.27,
            50.77,
            47.71,
            57.02,
            53.04,
            51.53,
            47.26,
            55.64,
            36.51,
            48.48
           ]
          }
         ],
         "hovertemplate": "Region=Meghalaya<br>%{xaxis.title.text}=%{x}<br>%{yaxis.title.text}=%{y}<extra></extra>",
         "legendgroup": "Meghalaya",
         "marker": {
          "color": "rgb(147,120,96)",
          "symbol": "circle"
         },
         "name": "Meghalaya",
         "showlegend": true,
         "type": "splom"
        },
        {
         "dimensions": [
          {
           "axis": {
            "matches": true
           },
           "label": "Estimated Unemployment Rate",
           "values": [
            4.17,
            4.71,
            3.31,
            3.68,
            4.31,
            4.28,
            4.72,
            4.67,
            1.81,
            3.31,
            15.09,
            24.48,
            9.45,
            4.59,
            2.95,
            2.63,
            1.78,
            3.5,
            3.78,
            4.5,
            2.23,
            3.36,
            2.28,
            2.19,
            3.96,
            20.5,
            10,
            2.18
           ]
          },
          {
           "axis": {
            "matches": true
           },
           "label": "Estimated Employed",
           "values": [
            11155753,
            10965154,
            12009883,
            11727659,
            11167715,
            11621534,
            12192623,
            11345069,
            11182128,
            11842655,
            9814156,
            5562449,
            9683719,
            10187145,
            2519582,
            2356290,
            2542237,
            2456983,
            2570663,
            2456855,
            2594469,
            2369048,
            2561320,
            2438080,
            2457952,
            1303244,
            1975481,
            2221069
           ]
          },
          {
           "axis": {
            "matches": true
           },
           "label": "Estimated Labour Participation",
           "values": [
            40.47,
            39.94,
            43.05,
            42.13,
            40.32,
            41.88,
            44.06,
            40.91,
            39.09,
            41.98,
            39.55,
            25.16,
            36.48,
            36.36,
            41.26,
            38.39,
            40.99,
            40.25,
            42.15,
            40.51,
            41.71,
            38.46,
            41.05,
            38.97,
            39.93,
            25.53,
            34.12,
            35.24
           ]
          }
         ],
         "hovertemplate": "Region=Odisha<br>%{xaxis.title.text}=%{x}<br>%{yaxis.title.text}=%{y}<extra></extra>",
         "legendgroup": "Odisha",
         "marker": {
          "color": "rgb(218,139,195)",
          "symbol": "circle"
         },
         "name": "Odisha",
         "showlegend": true,
         "type": "splom"
        },
        {
         "dimensions": [
          {
           "axis": {
            "matches": true
           },
           "label": "Estimated Unemployment Rate",
           "values": [
            0,
            0,
            0,
            4.85,
            0,
            1.18,
            0,
            1.99,
            0.58,
            1.74,
            2.31,
            74.51,
            1.25,
            0,
            0,
            8.95,
            1.22,
            1.17,
            1.37,
            5.21,
            0.57,
            1.78,
            0.62,
            76.74,
            75,
            4.55
           ]
          },
          {
           "axis": {
            "matches": true
           },
           "label": "Estimated Employed",
           "values": [
            172474,
            184527,
            139227,
            183930,
            175718,
            180283,
            142787,
            180808,
            176252,
            183619,
            142176,
            49420,
            283905,
            304369,
            281117,
            312882,
            286573,
            312548,
            275003,
            313135,
            281698,
            310342,
            278851,
            68122,
            64538,
            234926
           ]
          },
          {
           "axis": {
            "matches": true
           },
           "label": "Estimated Labour Participation",
           "values": [
            43.08,
            45.95,
            34.56,
            47.83,
            43.34,
            44.85,
            35,
            45.07,
            43.18,
            45.38,
            35.23,
            46.79,
            35.71,
            37.73,
            34.77,
            42.41,
            35.73,
            38.86,
            34.19,
            40.42,
            34.59,
            38.5,
            34.12,
            35.54,
            31.25,
            29.73
           ]
          }
         ],
         "hovertemplate": "Region=Puducherry<br>%{xaxis.title.text}=%{x}<br>%{yaxis.title.text}=%{y}<extra></extra>",
         "legendgroup": "Puducherry",
         "marker": {
          "color": "rgb(140,140,140)",
          "symbol": "circle"
         },
         "name": "Puducherry",
         "showlegend": true,
         "type": "splom"
        },
        {
         "dimensions": [
          {
           "axis": {
            "matches": true
           },
           "label": "Estimated Unemployment Rate",
           "values": [
            9.17,
            12.21,
            9.64,
            6.69,
            8.59,
            12.56,
            7.07,
            6.13,
            9.69,
            10.41,
            10.51,
            3.69,
            40.59,
            20,
            13.49,
            13.17,
            11.61,
            11.99,
            15.69,
            13.75,
            10.39,
            11.97,
            13.68,
            11.99,
            9.97,
            1.13,
            20.54,
            10.55
           ]
          },
          {
           "axis": {
            "matches": true
           },
           "label": "Estimated Employed",
           "values": [
            6088547,
            6025235,
            6308129,
            6183427,
            6260971,
            6021921,
            6395022,
            6164215,
            6189471,
            6009820,
            6373692,
            4721590,
            3727366,
            5364047,
            3289918,
            3307798,
            3592442,
            3499863,
            3227178,
            3070438,
            3602243,
            3575778,
            3252622,
            3219227,
            3601793,
            2298975,
            2682658,
            3047750
           ]
          },
          {
           "axis": {
            "matches": true
           },
           "label": "Estimated Labour Participation",
           "values": [
            44.79,
            45.79,
            46.5,
            44.08,
            45.49,
            45.66,
            45.55,
            43.4,
            45.22,
            44.19,
            46.85,
            32.2,
            41.14,
            43.9,
            40.03,
            40.02,
            42.62,
            41.61,
            39.97,
            37.1,
            41.82,
            42.17,
            39.04,
            37.82,
            41.29,
            23.95,
            34.71,
            34.96
           ]
          }
         ],
         "hovertemplate": "Region=Punjab<br>%{xaxis.title.text}=%{x}<br>%{yaxis.title.text}=%{y}<extra></extra>",
         "legendgroup": "Punjab",
         "marker": {
          "color": "rgb(204,185,116)",
          "symbol": "circle"
         },
         "name": "Punjab",
         "showlegend": true,
         "type": "splom"
        },
        {
         "dimensions": [
          {
           "axis": {
            "matches": true
           },
           "label": "Estimated Unemployment Rate",
           "values": [
            4.03,
            13.7,
            9.7,
            12.5,
            5.45,
            14.66,
            10.47,
            13.96,
            8,
            14.48,
            9.47,
            12.25,
            10.45,
            13.86,
            13.62,
            14.36,
            11.67,
            14.71,
            12.63,
            13.02,
            14.3,
            18.04,
            18.82,
            17.02,
            18.54,
            35.53,
            25.35,
            13.04
           ]
          },
          {
           "axis": {
            "matches": true
           },
           "label": "Estimated Employed",
           "values": [
            15226005,
            14610564,
            14859873,
            15052051,
            15419779,
            15178544,
            15278556,
            15485307,
            15484353,
            15040572,
            15059769,
            13051219,
            15586833,
            16076978,
            5108436,
            5241174,
            5372470,
            5195170,
            5176819,
            5384335,
            5306715,
            5109481,
            5157363,
            5288343,
            4964911,
            2932923,
            4225486,
            5275784
           ]
          },
          {
           "axis": {
            "matches": true
           },
           "label": "Estimated Labour Participation",
           "values": [
            38.52,
            41.02,
            39.78,
            41.48,
            39.24,
            42.69,
            40.87,
            43,
            40.12,
            41.83,
            39.47,
            35.21,
            41.11,
            43.98,
            39.44,
            40.73,
            40.38,
            40.34,
            39.15,
            40.8,
            40.73,
            40.9,
            41.59,
            41.62,
            39.71,
            29.57,
            36.71,
            39.26
           ]
          }
         ],
         "hovertemplate": "Region=Rajasthan<br>%{xaxis.title.text}=%{x}<br>%{yaxis.title.text}=%{y}<extra></extra>",
         "legendgroup": "Rajasthan",
         "marker": {
          "color": "rgb(100,181,205)",
          "symbol": "circle"
         },
         "name": "Rajasthan",
         "showlegend": true,
         "type": "splom"
        },
        {
         "dimensions": [
          {
           "axis": {
            "matches": true
           },
           "label": "Estimated Unemployment Rate",
           "values": [
            5.48,
            13.11,
            1,
            0,
            5.81,
            8.2,
            7.76,
            2.56,
            4.82,
            4.81,
            9.68,
            4.04,
            7.37,
            20.45,
            5.77,
            19.75,
            2.63
           ]
          },
          {
           "axis": {
            "matches": true
           },
           "label": "Estimated Employed",
           "values": [
            146688,
            162426,
            161647,
            133399,
            141313,
            89587,
            89702,
            108334,
            90850,
            89450,
            87974,
            107751,
            88035,
            86186,
            81905,
            75456,
            76269
           ]
          },
          {
           "axis": {
            "matches": true
           },
           "label": "Estimated Labour Participation",
           "values": [
            44.06,
            53.04,
            46.3,
            37.72,
            42.36,
            48.61,
            48.13,
            54.67,
            46.63,
            45.61,
            46.97,
            53.8,
            45.24,
            50.57,
            40.31,
            43.32,
            35.85
           ]
          }
         ],
         "hovertemplate": "Region=Sikkim<br>%{xaxis.title.text}=%{x}<br>%{yaxis.title.text}=%{y}<extra></extra>",
         "legendgroup": "Sikkim",
         "marker": {
          "color": "rgb(76,114,176)",
          "symbol": "circle"
         },
         "name": "Sikkim",
         "showlegend": true,
         "type": "splom"
        },
        {
         "dimensions": [
          {
           "axis": {
            "matches": true
           },
           "label": "Estimated Unemployment Rate",
           "values": [
            0.97,
            0.92,
            6.01,
            2.91,
            1.71,
            1.46,
            2.46,
            3.73,
            1.18,
            1.17,
            6.36,
            53.19,
            38.73,
            2.06,
            0.89,
            1.56,
            3.18,
            9.53,
            1.86,
            1.13,
            2.65,
            8.05,
            2.05,
            3.31,
            6.46,
            45.55,
            25.95,
            24.93
           ]
          },
          {
           "axis": {
            "matches": true
           },
           "label": "Estimated Employed",
           "values": [
            15844698,
            16375303,
            16455928,
            16463931,
            14595441,
            15595647,
            16223430,
            15356938,
            14954646,
            15828488,
            15848590,
            5086200,
            5768342,
            10169115,
            11798080,
            12318745,
            12054414,
            11933093,
            11902824,
            12223948,
            11729952,
            12260389,
            11926995,
            11742101,
            10982178,
            4632967,
            5733921,
            7741005
           ]
          },
          {
           "axis": {
            "matches": true
           },
           "label": "Estimated Labour Participation",
           "values": [
            49.44,
            50.99,
            53.94,
            52.17,
            45.62,
            48.55,
            50.95,
            48.8,
            46.23,
            48.86,
            51.56,
            33.05,
            28.6,
            31.49,
            37.31,
            39.16,
            38.89,
            41.13,
            37.76,
            38.42,
            37.38,
            41.29,
            37.64,
            37.48,
            36.17,
            26.17,
            23.77,
            31.6
           ]
          }
         ],
         "hovertemplate": "Region=Tamil Nadu<br>%{xaxis.title.text}=%{x}<br>%{yaxis.title.text}=%{y}<extra></extra>",
         "legendgroup": "Tamil Nadu",
         "marker": {
          "color": "rgb(221,132,82)",
          "symbol": "circle"
         },
         "name": "Tamil Nadu",
         "showlegend": true,
         "type": "splom"
        },
        {
         "dimensions": [
          {
           "axis": {
            "matches": true
           },
           "label": "Estimated Unemployment Rate",
           "values": [
            2.23,
            5.92,
            2.45,
            1.4,
            5.49,
            7.29,
            6.47,
            1.35,
            5.02,
            9.02,
            5.63,
            4.51,
            34.01,
            19.3,
            1.52,
            1.43,
            3.73,
            4.19,
            6.19,
            6.74,
            5.23,
            4.22,
            6.49,
            6.74,
            6.1,
            10.5,
            36.57,
            6.92
           ]
          },
          {
           "axis": {
            "matches": true
           },
           "label": "Estimated Employed",
           "values": [
            11053353,
            10728822,
            11538688,
            10743959,
            12636415,
            11375354,
            11265828,
            11068056,
            12065915,
            11304474,
            12028377,
            8793799,
            7508747,
            8891181,
            5560649,
            5683349,
            5432503,
            5544693,
            5668785,
            5318341,
            5338119,
            5317782,
            5543380,
            5521496,
            5313236,
            3378431,
            3108830,
            4577995
           ]
          },
          {
           "axis": {
            "matches": true
           },
           "label": "Estimated Labour Participation",
           "values": [
            61.74,
            62.19,
            64.4,
            59.23,
            72.57,
            66.49,
            65.17,
            60.61,
            68.51,
            66.92,
            68.53,
            49.44,
            61,
            58.97,
            44.59,
            45.43,
            44.36,
            45.39,
            47.28,
            44.51,
            43.87,
            43.13,
            45.95,
            45.78,
            43.65,
            29.05,
            37.63,
            37.68
           ]
          }
         ],
         "hovertemplate": "Region=Telangana<br>%{xaxis.title.text}=%{x}<br>%{yaxis.title.text}=%{y}<extra></extra>",
         "legendgroup": "Telangana",
         "marker": {
          "color": "rgb(85,168,104)",
          "symbol": "circle"
         },
         "name": "Telangana",
         "showlegend": true,
         "type": "splom"
        },
        {
         "dimensions": [
          {
           "axis": {
            "matches": true
           },
           "label": "Estimated Unemployment Rate",
           "values": [
            29.25,
            26.64,
            22.47,
            25.49,
            30.23,
            27.54,
            25.25,
            26.53,
            31.91,
            26.22,
            31.61,
            43.64,
            14.71,
            18.84,
            34.69,
            25.59,
            25.81,
            33.45,
            33.57,
            26.67,
            27.15,
            33.48,
            34.37,
            33.88,
            25.69,
            34.88,
            16.78,
            27.47
           ]
          },
          {
           "axis": {
            "matches": true
           },
           "label": "Estimated Employed",
           "values": [
            1019549,
            1107013,
            1052597,
            975501,
            1034408,
            1113764,
            1084633,
            1046878,
            1057975,
            1169347,
            1060946,
            675083,
            911789,
            1106978,
            423127,
            408738,
            410583,
            368977,
            418043,
            414808,
            427700,
            399427,
            450155,
            415339,
            450271,
            296431,
            384999,
            391015
           ]
          },
          {
           "axis": {
            "matches": true
           },
           "label": "Estimated Labour Participation",
           "values": [
            64.47,
            67.4,
            60.54,
            58.29,
            65.9,
            68.21,
            64.29,
            63.02,
            68.61,
            69.88,
            68.28,
            52.63,
            46.9,
            59.74,
            69.5,
            58.8,
            59.1,
            59.07,
            66.9,
            60,
            62.14,
            63.41,
            72.26,
            66.04,
            63.56,
            47.65,
            48.31,
            56.17
           ]
          }
         ],
         "hovertemplate": "Region=Tripura<br>%{xaxis.title.text}=%{x}<br>%{yaxis.title.text}=%{y}<extra></extra>",
         "legendgroup": "Tripura",
         "marker": {
          "color": "rgb(196,78,82)",
          "symbol": "circle"
         },
         "name": "Tripura",
         "showlegend": true,
         "type": "splom"
        },
        {
         "dimensions": [
          {
           "axis": {
            "matches": true
           },
           "label": "Estimated Unemployment Rate",
           "values": [
            10.26,
            11.13,
            9.19,
            11.47,
            6.45,
            10.18,
            6.94,
            8.43,
            6.06,
            8.12,
            9.37,
            19.92,
            16.89,
            8.51,
            14.4,
            11.62,
            11.8,
            14.73,
            13.58,
            10.35,
            11.31,
            12.37,
            12.34,
            11.65,
            12.32,
            26.94,
            32.06,
            13.05
           ]
          },
          {
           "axis": {
            "matches": true
           },
           "label": "Estimated Employed",
           "values": [
            43287808,
            42276572,
            42697000,
            43298746,
            44198762,
            42833265,
            43261530,
            44640087,
            45777509,
            44257432,
            43086706,
            39970677,
            38640999,
            41908909,
            13391244,
            13624452,
            13862431,
            13580241,
            13522970,
            13938303,
            14128888,
            13857200,
            13656250,
            13803099,
            13889632,
            10944379,
            11111486,
            13208724
           ]
          },
          {
           "axis": {
            "matches": true
           },
           "label": "Estimated Labour Participation",
           "values": [
            39.96,
            39.32,
            38.78,
            40.24,
            38.79,
            39.07,
            38.01,
            39.77,
            39.67,
            39.13,
            38.53,
            40.37,
            37.52,
            36.89,
            40.43,
            39.75,
            40.43,
            40.87,
            40.07,
            39.71,
            40.6,
            40.21,
            39.52,
            39.54,
            40,
            37.74,
            41.1,
            38.09
           ]
          }
         ],
         "hovertemplate": "Region=Uttar Pradesh<br>%{xaxis.title.text}=%{x}<br>%{yaxis.title.text}=%{y}<extra></extra>",
         "legendgroup": "Uttar Pradesh",
         "marker": {
          "color": "rgb(129,114,179)",
          "symbol": "circle"
         },
         "name": "Uttar Pradesh",
         "showlegend": true,
         "type": "splom"
        },
        {
         "dimensions": [
          {
           "axis": {
            "matches": true
           },
           "label": "Estimated Unemployment Rate",
           "values": [
            1.63,
            4.65,
            5.74,
            6.11,
            3.47,
            4.83,
            5.56,
            4.52,
            4.17,
            4.85,
            3.66,
            3.57,
            10.71,
            9.17,
            4.69,
            6.94,
            7.43,
            9.62,
            4.72,
            6.34,
            7.39,
            8.92,
            5.28,
            8.15,
            13.18,
            17.36,
            5.08
           ]
          },
          {
           "axis": {
            "matches": true
           },
           "label": "Estimated Employed",
           "values": [
            2108044,
            2021553,
            2000524,
            1911380,
            2157845,
            2027662,
            2007113,
            1947566,
            1986386,
            2057523,
            1972074,
            1915482,
            1675441,
            676797,
            906889,
            859900,
            823967,
            711150,
            925174,
            904903,
            844779,
            725253,
            963408,
            889245,
            748041,
            778590,
            989470
           ]
          },
          {
           "axis": {
            "matches": true
           },
           "label": "Estimated Labour Participation",
           "values": [
            37.47,
            37.01,
            36.97,
            35.39,
            38.79,
            36.9,
            36.73,
            35.19,
            35.69,
            37.16,
            35.04,
            33.94,
            32,
            26.33,
            33.54,
            32.48,
            31.21,
            27.51,
            33.87,
            33.61,
            31.65,
            27.55,
            35.11,
            33.33,
            29.59,
            32.27,
            35.61
           ]
          }
         ],
         "hovertemplate": "Region=Uttarakhand<br>%{xaxis.title.text}=%{x}<br>%{yaxis.title.text}=%{y}<extra></extra>",
         "legendgroup": "Uttarakhand",
         "marker": {
          "color": "rgb(147,120,96)",
          "symbol": "circle"
         },
         "name": "Uttarakhand",
         "showlegend": true,
         "type": "splom"
        },
        {
         "dimensions": [
          {
           "axis": {
            "matches": true
           },
           "label": "Estimated Unemployment Rate",
           "values": [
            6.02,
            5.85,
            5.62,
            5.58,
            5.26,
            6.78,
            5.83,
            5.79,
            6.79,
            3.78,
            7.02,
            18.32,
            18.43,
            4.94,
            7.25,
            7.38,
            7.91,
            7.27,
            7.79,
            7.83,
            6.61,
            7.24,
            7.27,
            7.55,
            6.67,
            15.63,
            15.22,
            9.86
           ]
          },
          {
           "axis": {
            "matches": true
           },
           "label": "Estimated Employed",
           "values": [
            23452875,
            25543465,
            24857807,
            24924827,
            25610773,
            24353018,
            25630359,
            24906239,
            24612171,
            26093009,
            25097812,
            17639370,
            19115772,
            21225887,
            11306177,
            10611498,
            10779829,
            11456493,
            11158649,
            10563686,
            10768462,
            11335696,
            11208617,
            10871168,
            10806105,
            9299466,
            9240903,
            9088931
           ]
          },
          {
           "axis": {
            "matches": true
           },
           "label": "Estimated Labour Participation",
           "values": [
            46.41,
            50.36,
            48.78,
            48.79,
            49.87,
            48.09,
            50,
            48.47,
            48.3,
            49.51,
            49.18,
            39.27,
            42.53,
            40.44,
            46.37,
            43.51,
            44.38,
            46.77,
            45.74,
            43.25,
            43.44,
            45.97,
            45.39,
            44.09,
            43.34,
            41.2,
            40.67,
            37.57
           ]
          }
         ],
         "hovertemplate": "Region=West Bengal<br>%{xaxis.title.text}=%{x}<br>%{yaxis.title.text}=%{y}<extra></extra>",
         "legendgroup": "West Bengal",
         "marker": {
          "color": "rgb(218,139,195)",
          "symbol": "circle"
         },
         "name": "West Bengal",
         "showlegend": true,
         "type": "splom"
        },
        {
         "dimensions": [
          {
           "axis": {
            "matches": true
           },
           "label": "Estimated Unemployment Rate",
           "values": [
            18.35,
            12.4,
            21.8,
            9.52,
            20.14,
            13.99,
            22.05,
            8.33,
            20,
            16.67,
            21.43,
            7.22
           ]
          },
          {
           "axis": {
            "matches": true
           },
           "label": "Estimated Employed",
           "values": [
            348042,
            337145,
            294379,
            328282,
            327239,
            330856,
            289593,
            311146,
            332062,
            316887,
            279839,
            306505
           ]
          },
          {
           "axis": {
            "matches": true
           },
           "label": "Estimated Labour Participation",
           "values": [
            44.89,
            40.44,
            39.47,
            37.95,
            42.77,
            40.06,
            38.6,
            35.19,
            42.94,
            39.25,
            36.68,
            33.8
           ]
          }
         ],
         "hovertemplate": "Region=Chandigarh<br>%{xaxis.title.text}=%{x}<br>%{yaxis.title.text}=%{y}<extra></extra>",
         "legendgroup": "Chandigarh",
         "marker": {
          "color": "rgb(140,140,140)",
          "symbol": "circle"
         },
         "name": "Chandigarh",
         "showlegend": true,
         "type": "splom"
        }
       ],
       "layout": {
        "dragmode": "select",
        "legend": {
         "title": {
          "text": "Region"
         },
         "tracegroupgap": 0
        },
        "margin": {
         "t": 60
        },
        "template": {
         "data": {
          "bar": [
           {
            "error_x": {
             "color": "rgb(36,36,36)"
            },
            "error_y": {
             "color": "rgb(36,36,36)"
            },
            "marker": {
             "line": {
              "color": "rgb(234,234,242)",
              "width": 0.5
             },
             "pattern": {
              "fillmode": "overlay",
              "size": 10,
              "solidity": 0.2
             }
            },
            "type": "bar"
           }
          ],
          "barpolar": [
           {
            "marker": {
             "line": {
              "color": "rgb(234,234,242)",
              "width": 0.5
             },
             "pattern": {
              "fillmode": "overlay",
              "size": 10,
              "solidity": 0.2
             }
            },
            "type": "barpolar"
           }
          ],
          "carpet": [
           {
            "aaxis": {
             "endlinecolor": "rgb(36,36,36)",
             "gridcolor": "white",
             "linecolor": "white",
             "minorgridcolor": "white",
             "startlinecolor": "rgb(36,36,36)"
            },
            "baxis": {
             "endlinecolor": "rgb(36,36,36)",
             "gridcolor": "white",
             "linecolor": "white",
             "minorgridcolor": "white",
             "startlinecolor": "rgb(36,36,36)"
            },
            "type": "carpet"
           }
          ],
          "choropleth": [
           {
            "colorbar": {
             "outlinewidth": 0,
             "tickcolor": "rgb(36,36,36)",
             "ticklen": 8,
             "ticks": "outside",
             "tickwidth": 2
            },
            "type": "choropleth"
           }
          ],
          "contour": [
           {
            "colorbar": {
             "outlinewidth": 0,
             "tickcolor": "rgb(36,36,36)",
             "ticklen": 8,
             "ticks": "outside",
             "tickwidth": 2
            },
            "colorscale": [
             [
              0,
              "rgb(2,4,25)"
             ],
             [
              0.06274509803921569,
              "rgb(24,15,41)"
             ],
             [
              0.12549019607843137,
              "rgb(47,23,57)"
             ],
             [
              0.18823529411764706,
              "rgb(71,28,72)"
             ],
             [
              0.25098039215686274,
              "rgb(97,30,82)"
             ],
             [
              0.3137254901960784,
              "rgb(123,30,89)"
             ],
             [
              0.3764705882352941,
              "rgb(150,27,91)"
             ],
             [
              0.4392156862745098,
              "rgb(177,22,88)"
             ],
             [
              0.5019607843137255,
              "rgb(203,26,79)"
             ],
             [
              0.5647058823529412,
              "rgb(223,47,67)"
             ],
             [
              0.6274509803921569,
              "rgb(236,76,61)"
             ],
             [
              0.6901960784313725,
              "rgb(242,107,73)"
             ],
             [
              0.7529411764705882,
              "rgb(244,135,95)"
             ],
             [
              0.8156862745098039,
              "rgb(245,162,122)"
             ],
             [
              0.8784313725490196,
              "rgb(246,188,153)"
             ],
             [
              0.9411764705882353,
              "rgb(247,212,187)"
             ],
             [
              1,
              "rgb(250,234,220)"
             ]
            ],
            "type": "contour"
           }
          ],
          "contourcarpet": [
           {
            "colorbar": {
             "outlinewidth": 0,
             "tickcolor": "rgb(36,36,36)",
             "ticklen": 8,
             "ticks": "outside",
             "tickwidth": 2
            },
            "type": "contourcarpet"
           }
          ],
          "heatmap": [
           {
            "colorbar": {
             "outlinewidth": 0,
             "tickcolor": "rgb(36,36,36)",
             "ticklen": 8,
             "ticks": "outside",
             "tickwidth": 2
            },
            "colorscale": [
             [
              0,
              "rgb(2,4,25)"
             ],
             [
              0.06274509803921569,
              "rgb(24,15,41)"
             ],
             [
              0.12549019607843137,
              "rgb(47,23,57)"
             ],
             [
              0.18823529411764706,
              "rgb(71,28,72)"
             ],
             [
              0.25098039215686274,
              "rgb(97,30,82)"
             ],
             [
              0.3137254901960784,
              "rgb(123,30,89)"
             ],
             [
              0.3764705882352941,
              "rgb(150,27,91)"
             ],
             [
              0.4392156862745098,
              "rgb(177,22,88)"
             ],
             [
              0.5019607843137255,
              "rgb(203,26,79)"
             ],
             [
              0.5647058823529412,
              "rgb(223,47,67)"
             ],
             [
              0.6274509803921569,
              "rgb(236,76,61)"
             ],
             [
              0.6901960784313725,
              "rgb(242,107,73)"
             ],
             [
              0.7529411764705882,
              "rgb(244,135,95)"
             ],
             [
              0.8156862745098039,
              "rgb(245,162,122)"
             ],
             [
              0.8784313725490196,
              "rgb(246,188,153)"
             ],
             [
              0.9411764705882353,
              "rgb(247,212,187)"
             ],
             [
              1,
              "rgb(250,234,220)"
             ]
            ],
            "type": "heatmap"
           }
          ],
          "heatmapgl": [
           {
            "colorbar": {
             "outlinewidth": 0,
             "tickcolor": "rgb(36,36,36)",
             "ticklen": 8,
             "ticks": "outside",
             "tickwidth": 2
            },
            "colorscale": [
             [
              0,
              "rgb(2,4,25)"
             ],
             [
              0.06274509803921569,
              "rgb(24,15,41)"
             ],
             [
              0.12549019607843137,
              "rgb(47,23,57)"
             ],
             [
              0.18823529411764706,
              "rgb(71,28,72)"
             ],
             [
              0.25098039215686274,
              "rgb(97,30,82)"
             ],
             [
              0.3137254901960784,
              "rgb(123,30,89)"
             ],
             [
              0.3764705882352941,
              "rgb(150,27,91)"
             ],
             [
              0.4392156862745098,
              "rgb(177,22,88)"
             ],
             [
              0.5019607843137255,
              "rgb(203,26,79)"
             ],
             [
              0.5647058823529412,
              "rgb(223,47,67)"
             ],
             [
              0.6274509803921569,
              "rgb(236,76,61)"
             ],
             [
              0.6901960784313725,
              "rgb(242,107,73)"
             ],
             [
              0.7529411764705882,
              "rgb(244,135,95)"
             ],
             [
              0.8156862745098039,
              "rgb(245,162,122)"
             ],
             [
              0.8784313725490196,
              "rgb(246,188,153)"
             ],
             [
              0.9411764705882353,
              "rgb(247,212,187)"
             ],
             [
              1,
              "rgb(250,234,220)"
             ]
            ],
            "type": "heatmapgl"
           }
          ],
          "histogram": [
           {
            "marker": {
             "pattern": {
              "fillmode": "overlay",
              "size": 10,
              "solidity": 0.2
             }
            },
            "type": "histogram"
           }
          ],
          "histogram2d": [
           {
            "colorbar": {
             "outlinewidth": 0,
             "tickcolor": "rgb(36,36,36)",
             "ticklen": 8,
             "ticks": "outside",
             "tickwidth": 2
            },
            "colorscale": [
             [
              0,
              "rgb(2,4,25)"
             ],
             [
              0.06274509803921569,
              "rgb(24,15,41)"
             ],
             [
              0.12549019607843137,
              "rgb(47,23,57)"
             ],
             [
              0.18823529411764706,
              "rgb(71,28,72)"
             ],
             [
              0.25098039215686274,
              "rgb(97,30,82)"
             ],
             [
              0.3137254901960784,
              "rgb(123,30,89)"
             ],
             [
              0.3764705882352941,
              "rgb(150,27,91)"
             ],
             [
              0.4392156862745098,
              "rgb(177,22,88)"
             ],
             [
              0.5019607843137255,
              "rgb(203,26,79)"
             ],
             [
              0.5647058823529412,
              "rgb(223,47,67)"
             ],
             [
              0.6274509803921569,
              "rgb(236,76,61)"
             ],
             [
              0.6901960784313725,
              "rgb(242,107,73)"
             ],
             [
              0.7529411764705882,
              "rgb(244,135,95)"
             ],
             [
              0.8156862745098039,
              "rgb(245,162,122)"
             ],
             [
              0.8784313725490196,
              "rgb(246,188,153)"
             ],
             [
              0.9411764705882353,
              "rgb(247,212,187)"
             ],
             [
              1,
              "rgb(250,234,220)"
             ]
            ],
            "type": "histogram2d"
           }
          ],
          "histogram2dcontour": [
           {
            "colorbar": {
             "outlinewidth": 0,
             "tickcolor": "rgb(36,36,36)",
             "ticklen": 8,
             "ticks": "outside",
             "tickwidth": 2
            },
            "colorscale": [
             [
              0,
              "rgb(2,4,25)"
             ],
             [
              0.06274509803921569,
              "rgb(24,15,41)"
             ],
             [
              0.12549019607843137,
              "rgb(47,23,57)"
             ],
             [
              0.18823529411764706,
              "rgb(71,28,72)"
             ],
             [
              0.25098039215686274,
              "rgb(97,30,82)"
             ],
             [
              0.3137254901960784,
              "rgb(123,30,89)"
             ],
             [
              0.3764705882352941,
              "rgb(150,27,91)"
             ],
             [
              0.4392156862745098,
              "rgb(177,22,88)"
             ],
             [
              0.5019607843137255,
              "rgb(203,26,79)"
             ],
             [
              0.5647058823529412,
              "rgb(223,47,67)"
             ],
             [
              0.6274509803921569,
              "rgb(236,76,61)"
             ],
             [
              0.6901960784313725,
              "rgb(242,107,73)"
             ],
             [
              0.7529411764705882,
              "rgb(244,135,95)"
             ],
             [
              0.8156862745098039,
              "rgb(245,162,122)"
             ],
             [
              0.8784313725490196,
              "rgb(246,188,153)"
             ],
             [
              0.9411764705882353,
              "rgb(247,212,187)"
             ],
             [
              1,
              "rgb(250,234,220)"
             ]
            ],
            "type": "histogram2dcontour"
           }
          ],
          "mesh3d": [
           {
            "colorbar": {
             "outlinewidth": 0,
             "tickcolor": "rgb(36,36,36)",
             "ticklen": 8,
             "ticks": "outside",
             "tickwidth": 2
            },
            "type": "mesh3d"
           }
          ],
          "parcoords": [
           {
            "line": {
             "colorbar": {
              "outlinewidth": 0,
              "tickcolor": "rgb(36,36,36)",
              "ticklen": 8,
              "ticks": "outside",
              "tickwidth": 2
             }
            },
            "type": "parcoords"
           }
          ],
          "pie": [
           {
            "automargin": true,
            "type": "pie"
           }
          ],
          "scatter": [
           {
            "fillpattern": {
             "fillmode": "overlay",
             "size": 10,
             "solidity": 0.2
            },
            "type": "scatter"
           }
          ],
          "scatter3d": [
           {
            "line": {
             "colorbar": {
              "outlinewidth": 0,
              "tickcolor": "rgb(36,36,36)",
              "ticklen": 8,
              "ticks": "outside",
              "tickwidth": 2
             }
            },
            "marker": {
             "colorbar": {
              "outlinewidth": 0,
              "tickcolor": "rgb(36,36,36)",
              "ticklen": 8,
              "ticks": "outside",
              "tickwidth": 2
             }
            },
            "type": "scatter3d"
           }
          ],
          "scattercarpet": [
           {
            "marker": {
             "colorbar": {
              "outlinewidth": 0,
              "tickcolor": "rgb(36,36,36)",
              "ticklen": 8,
              "ticks": "outside",
              "tickwidth": 2
             }
            },
            "type": "scattercarpet"
           }
          ],
          "scattergeo": [
           {
            "marker": {
             "colorbar": {
              "outlinewidth": 0,
              "tickcolor": "rgb(36,36,36)",
              "ticklen": 8,
              "ticks": "outside",
              "tickwidth": 2
             }
            },
            "type": "scattergeo"
           }
          ],
          "scattergl": [
           {
            "marker": {
             "colorbar": {
              "outlinewidth": 0,
              "tickcolor": "rgb(36,36,36)",
              "ticklen": 8,
              "ticks": "outside",
              "tickwidth": 2
             }
            },
            "type": "scattergl"
           }
          ],
          "scattermapbox": [
           {
            "marker": {
             "colorbar": {
              "outlinewidth": 0,
              "tickcolor": "rgb(36,36,36)",
              "ticklen": 8,
              "ticks": "outside",
              "tickwidth": 2
             }
            },
            "type": "scattermapbox"
           }
          ],
          "scatterpolar": [
           {
            "marker": {
             "colorbar": {
              "outlinewidth": 0,
              "tickcolor": "rgb(36,36,36)",
              "ticklen": 8,
              "ticks": "outside",
              "tickwidth": 2
             }
            },
            "type": "scatterpolar"
           }
          ],
          "scatterpolargl": [
           {
            "marker": {
             "colorbar": {
              "outlinewidth": 0,
              "tickcolor": "rgb(36,36,36)",
              "ticklen": 8,
              "ticks": "outside",
              "tickwidth": 2
             }
            },
            "type": "scatterpolargl"
           }
          ],
          "scatterternary": [
           {
            "marker": {
             "colorbar": {
              "outlinewidth": 0,
              "tickcolor": "rgb(36,36,36)",
              "ticklen": 8,
              "ticks": "outside",
              "tickwidth": 2
             }
            },
            "type": "scatterternary"
           }
          ],
          "surface": [
           {
            "colorbar": {
             "outlinewidth": 0,
             "tickcolor": "rgb(36,36,36)",
             "ticklen": 8,
             "ticks": "outside",
             "tickwidth": 2
            },
            "colorscale": [
             [
              0,
              "rgb(2,4,25)"
             ],
             [
              0.06274509803921569,
              "rgb(24,15,41)"
             ],
             [
              0.12549019607843137,
              "rgb(47,23,57)"
             ],
             [
              0.18823529411764706,
              "rgb(71,28,72)"
             ],
             [
              0.25098039215686274,
              "rgb(97,30,82)"
             ],
             [
              0.3137254901960784,
              "rgb(123,30,89)"
             ],
             [
              0.3764705882352941,
              "rgb(150,27,91)"
             ],
             [
              0.4392156862745098,
              "rgb(177,22,88)"
             ],
             [
              0.5019607843137255,
              "rgb(203,26,79)"
             ],
             [
              0.5647058823529412,
              "rgb(223,47,67)"
             ],
             [
              0.6274509803921569,
              "rgb(236,76,61)"
             ],
             [
              0.6901960784313725,
              "rgb(242,107,73)"
             ],
             [
              0.7529411764705882,
              "rgb(244,135,95)"
             ],
             [
              0.8156862745098039,
              "rgb(245,162,122)"
             ],
             [
              0.8784313725490196,
              "rgb(246,188,153)"
             ],
             [
              0.9411764705882353,
              "rgb(247,212,187)"
             ],
             [
              1,
              "rgb(250,234,220)"
             ]
            ],
            "type": "surface"
           }
          ],
          "table": [
           {
            "cells": {
             "fill": {
              "color": "rgb(231,231,240)"
             },
             "line": {
              "color": "white"
             }
            },
            "header": {
             "fill": {
              "color": "rgb(183,183,191)"
             },
             "line": {
              "color": "white"
             }
            },
            "type": "table"
           }
          ]
         },
         "layout": {
          "annotationdefaults": {
           "arrowcolor": "rgb(67,103,167)"
          },
          "autotypenumbers": "strict",
          "coloraxis": {
           "colorbar": {
            "outlinewidth": 0,
            "tickcolor": "rgb(36,36,36)",
            "ticklen": 8,
            "ticks": "outside",
            "tickwidth": 2
           }
          },
          "colorscale": {
           "sequential": [
            [
             0,
             "rgb(2,4,25)"
            ],
            [
             0.06274509803921569,
             "rgb(24,15,41)"
            ],
            [
             0.12549019607843137,
             "rgb(47,23,57)"
            ],
            [
             0.18823529411764706,
             "rgb(71,28,72)"
            ],
            [
             0.25098039215686274,
             "rgb(97,30,82)"
            ],
            [
             0.3137254901960784,
             "rgb(123,30,89)"
            ],
            [
             0.3764705882352941,
             "rgb(150,27,91)"
            ],
            [
             0.4392156862745098,
             "rgb(177,22,88)"
            ],
            [
             0.5019607843137255,
             "rgb(203,26,79)"
            ],
            [
             0.5647058823529412,
             "rgb(223,47,67)"
            ],
            [
             0.6274509803921569,
             "rgb(236,76,61)"
            ],
            [
             0.6901960784313725,
             "rgb(242,107,73)"
            ],
            [
             0.7529411764705882,
             "rgb(244,135,95)"
            ],
            [
             0.8156862745098039,
             "rgb(245,162,122)"
            ],
            [
             0.8784313725490196,
             "rgb(246,188,153)"
            ],
            [
             0.9411764705882353,
             "rgb(247,212,187)"
            ],
            [
             1,
             "rgb(250,234,220)"
            ]
           ],
           "sequentialminus": [
            [
             0,
             "rgb(2,4,25)"
            ],
            [
             0.06274509803921569,
             "rgb(24,15,41)"
            ],
            [
             0.12549019607843137,
             "rgb(47,23,57)"
            ],
            [
             0.18823529411764706,
             "rgb(71,28,72)"
            ],
            [
             0.25098039215686274,
             "rgb(97,30,82)"
            ],
            [
             0.3137254901960784,
             "rgb(123,30,89)"
            ],
            [
             0.3764705882352941,
             "rgb(150,27,91)"
            ],
            [
             0.4392156862745098,
             "rgb(177,22,88)"
            ],
            [
             0.5019607843137255,
             "rgb(203,26,79)"
            ],
            [
             0.5647058823529412,
             "rgb(223,47,67)"
            ],
            [
             0.6274509803921569,
             "rgb(236,76,61)"
            ],
            [
             0.6901960784313725,
             "rgb(242,107,73)"
            ],
            [
             0.7529411764705882,
             "rgb(244,135,95)"
            ],
            [
             0.8156862745098039,
             "rgb(245,162,122)"
            ],
            [
             0.8784313725490196,
             "rgb(246,188,153)"
            ],
            [
             0.9411764705882353,
             "rgb(247,212,187)"
            ],
            [
             1,
             "rgb(250,234,220)"
            ]
           ]
          },
          "colorway": [
           "rgb(76,114,176)",
           "rgb(221,132,82)",
           "rgb(85,168,104)",
           "rgb(196,78,82)",
           "rgb(129,114,179)",
           "rgb(147,120,96)",
           "rgb(218,139,195)",
           "rgb(140,140,140)",
           "rgb(204,185,116)",
           "rgb(100,181,205)"
          ],
          "font": {
           "color": "rgb(36,36,36)"
          },
          "geo": {
           "bgcolor": "white",
           "lakecolor": "white",
           "landcolor": "rgb(234,234,242)",
           "showlakes": true,
           "showland": true,
           "subunitcolor": "white"
          },
          "hoverlabel": {
           "align": "left"
          },
          "hovermode": "closest",
          "paper_bgcolor": "white",
          "plot_bgcolor": "rgb(234,234,242)",
          "polar": {
           "angularaxis": {
            "gridcolor": "white",
            "linecolor": "white",
            "showgrid": true,
            "ticks": ""
           },
           "bgcolor": "rgb(234,234,242)",
           "radialaxis": {
            "gridcolor": "white",
            "linecolor": "white",
            "showgrid": true,
            "ticks": ""
           }
          },
          "scene": {
           "xaxis": {
            "backgroundcolor": "rgb(234,234,242)",
            "gridcolor": "white",
            "gridwidth": 2,
            "linecolor": "white",
            "showbackground": true,
            "showgrid": true,
            "ticks": "",
            "zerolinecolor": "white"
           },
           "yaxis": {
            "backgroundcolor": "rgb(234,234,242)",
            "gridcolor": "white",
            "gridwidth": 2,
            "linecolor": "white",
            "showbackground": true,
            "showgrid": true,
            "ticks": "",
            "zerolinecolor": "white"
           },
           "zaxis": {
            "backgroundcolor": "rgb(234,234,242)",
            "gridcolor": "white",
            "gridwidth": 2,
            "linecolor": "white",
            "showbackground": true,
            "showgrid": true,
            "ticks": "",
            "zerolinecolor": "white"
           }
          },
          "shapedefaults": {
           "fillcolor": "rgb(67,103,167)",
           "line": {
            "width": 0
           },
           "opacity": 0.5
          },
          "ternary": {
           "aaxis": {
            "gridcolor": "white",
            "linecolor": "white",
            "showgrid": true,
            "ticks": ""
           },
           "baxis": {
            "gridcolor": "white",
            "linecolor": "white",
            "showgrid": true,
            "ticks": ""
           },
           "bgcolor": "rgb(234,234,242)",
           "caxis": {
            "gridcolor": "white",
            "linecolor": "white",
            "showgrid": true,
            "ticks": ""
           }
          },
          "xaxis": {
           "automargin": true,
           "gridcolor": "white",
           "linecolor": "white",
           "showgrid": true,
           "ticks": "",
           "title": {
            "standoff": 15
           },
           "zerolinecolor": "white"
          },
          "yaxis": {
           "automargin": true,
           "gridcolor": "white",
           "linecolor": "white",
           "showgrid": true,
           "ticks": "",
           "title": {
            "standoff": 15
           },
           "zerolinecolor": "white"
          }
         }
        }
       }
      }
     },
     "metadata": {},
     "output_type": "display_data"
    }
   ],
   "source": [
    "fig = px.scatter_matrix(df,template='seaborn',dimensions=['Estimated Unemployment Rate', 'Estimated Employed',\n",
    "                                                          'Estimated Labour Participation'],color='Region')\n",
    "fig.show()"
   ]
  },
  {
   "cell_type": "markdown",
   "id": "2681830d",
   "metadata": {
    "papermill": {
     "duration": 0.010374,
     "end_time": "2023-08-28T07:05:58.326574",
     "exception": false,
     "start_time": "2023-08-28T07:05:58.316200",
     "status": "completed"
    },
    "tags": []
   },
   "source": [
    "Bar plot showing the average unemployment rate in each state"
   ]
  },
  {
   "cell_type": "code",
   "execution_count": 44,
   "id": "abd4c7fe",
   "metadata": {
    "execution": {
     "iopub.execute_input": "2023-08-28T07:05:58.350763Z",
     "iopub.status.busy": "2023-08-28T07:05:58.349973Z",
     "iopub.status.idle": "2023-08-28T07:05:58.540061Z",
     "shell.execute_reply": "2023-08-28T07:05:58.538967Z"
    },
    "papermill": {
     "duration": 0.205077,
     "end_time": "2023-08-28T07:05:58.542489",
     "exception": false,
     "start_time": "2023-08-28T07:05:58.337412",
     "status": "completed"
    },
    "tags": []
   },
   "outputs": [
    {
     "name": "stderr",
     "output_type": "stream",
     "text": [
      "/tmp/ipykernel_15883/2484706872.py:2: FutureWarning:\n",
      "\n",
      "The default of observed=False is deprecated and will be changed to True in a future version of pandas. Pass observed=False to retain current behavior or observed=True to adopt the future default and silence this warning.\n",
      "\n"
     ]
    },
    {
     "data": {
      "application/vnd.plotly.v1+json": {
       "config": {
        "plotlyServerURL": "https://plot.ly"
       },
       "data": [
        {
         "alignmentgroup": "True",
         "hovertemplate": "Region=%{x}<br>Estimated Unemployment Rate=%{y}<extra></extra>",
         "legendgroup": "Meghalaya",
         "marker": {
          "color": "rgb(76,114,176)",
          "pattern": {
           "shape": ""
          }
         },
         "name": "Meghalaya",
         "offsetgroup": "Meghalaya",
         "orientation": "v",
         "showlegend": true,
         "textposition": "auto",
         "type": "bar",
         "x": [
          "Meghalaya"
         ],
         "xaxis": "x",
         "y": [
          4.7988888888888885
         ],
         "yaxis": "y"
        },
        {
         "alignmentgroup": "True",
         "hovertemplate": "Region=%{x}<br>Estimated Unemployment Rate=%{y}<extra></extra>",
         "legendgroup": "Odisha",
         "marker": {
          "color": "rgb(221,132,82)",
          "pattern": {
           "shape": ""
          }
         },
         "name": "Odisha",
         "offsetgroup": "Odisha",
         "orientation": "v",
         "showlegend": true,
         "textposition": "auto",
         "type": "bar",
         "x": [
          "Odisha"
         ],
         "xaxis": "x",
         "y": [
          5.657857142857142
         ],
         "yaxis": "y"
        },
        {
         "alignmentgroup": "True",
         "hovertemplate": "Region=%{x}<br>Estimated Unemployment Rate=%{y}<extra></extra>",
         "legendgroup": "Assam",
         "marker": {
          "color": "rgb(85,168,104)",
          "pattern": {
           "shape": ""
          }
         },
         "name": "Assam",
         "offsetgroup": "Assam",
         "orientation": "v",
         "showlegend": true,
         "textposition": "auto",
         "type": "bar",
         "x": [
          "Assam"
         ],
         "xaxis": "x",
         "y": [
          6.428076923076923
         ],
         "yaxis": "y"
        },
        {
         "alignmentgroup": "True",
         "hovertemplate": "Region=%{x}<br>Estimated Unemployment Rate=%{y}<extra></extra>",
         "legendgroup": "Uttarakhand",
         "marker": {
          "color": "rgb(196,78,82)",
          "pattern": {
           "shape": ""
          }
         },
         "name": "Uttarakhand",
         "offsetgroup": "Uttarakhand",
         "orientation": "v",
         "showlegend": true,
         "textposition": "auto",
         "type": "bar",
         "x": [
          "Uttarakhand"
         ],
         "xaxis": "x",
         "y": [
          6.582962962962963
         ],
         "yaxis": "y"
        },
        {
         "alignmentgroup": "True",
         "hovertemplate": "Region=%{x}<br>Estimated Unemployment Rate=%{y}<extra></extra>",
         "legendgroup": "Gujarat",
         "marker": {
          "color": "rgb(129,114,179)",
          "pattern": {
           "shape": ""
          }
         },
         "name": "Gujarat",
         "offsetgroup": "Gujarat",
         "orientation": "v",
         "showlegend": true,
         "textposition": "auto",
         "type": "bar",
         "x": [
          "Gujarat"
         ],
         "xaxis": "x",
         "y": [
          6.663928571428571
         ],
         "yaxis": "y"
        },
        {
         "alignmentgroup": "True",
         "hovertemplate": "Region=%{x}<br>Estimated Unemployment Rate=%{y}<extra></extra>",
         "legendgroup": "Karnataka",
         "marker": {
          "color": "rgb(147,120,96)",
          "pattern": {
           "shape": ""
          }
         },
         "name": "Karnataka",
         "offsetgroup": "Karnataka",
         "orientation": "v",
         "showlegend": true,
         "textposition": "auto",
         "type": "bar",
         "x": [
          "Karnataka"
         ],
         "xaxis": "x",
         "y": [
          6.676071428571428
         ],
         "yaxis": "y"
        },
        {
         "alignmentgroup": "True",
         "hovertemplate": "Region=%{x}<br>Estimated Unemployment Rate=%{y}<extra></extra>",
         "legendgroup": "Sikkim",
         "marker": {
          "color": "rgb(218,139,195)",
          "pattern": {
           "shape": ""
          }
         },
         "name": "Sikkim",
         "offsetgroup": "Sikkim",
         "orientation": "v",
         "showlegend": true,
         "textposition": "auto",
         "type": "bar",
         "x": [
          "Sikkim"
         ],
         "xaxis": "x",
         "y": [
          7.249411764705882
         ],
         "yaxis": "y"
        },
        {
         "alignmentgroup": "True",
         "hovertemplate": "Region=%{x}<br>Estimated Unemployment Rate=%{y}<extra></extra>",
         "legendgroup": "Madhya Pradesh",
         "marker": {
          "color": "rgb(140,140,140)",
          "pattern": {
           "shape": ""
          }
         },
         "name": "Madhya Pradesh",
         "offsetgroup": "Madhya Pradesh",
         "orientation": "v",
         "showlegend": true,
         "textposition": "auto",
         "type": "bar",
         "x": [
          "Madhya Pradesh"
         ],
         "xaxis": "x",
         "y": [
          7.406428571428571
         ],
         "yaxis": "y"
        },
        {
         "alignmentgroup": "True",
         "hovertemplate": "Region=%{x}<br>Estimated Unemployment Rate=%{y}<extra></extra>",
         "legendgroup": "Andhra Pradesh",
         "marker": {
          "color": "rgb(204,185,116)",
          "pattern": {
           "shape": ""
          }
         },
         "name": "Andhra Pradesh",
         "offsetgroup": "Andhra Pradesh",
         "orientation": "v",
         "showlegend": true,
         "textposition": "auto",
         "type": "bar",
         "x": [
          "Andhra Pradesh"
         ],
         "xaxis": "x",
         "y": [
          7.477142857142857
         ],
         "yaxis": "y"
        },
        {
         "alignmentgroup": "True",
         "hovertemplate": "Region=%{x}<br>Estimated Unemployment Rate=%{y}<extra></extra>",
         "legendgroup": "Maharashtra",
         "marker": {
          "color": "rgb(100,181,205)",
          "pattern": {
           "shape": ""
          }
         },
         "name": "Maharashtra",
         "offsetgroup": "Maharashtra",
         "orientation": "v",
         "showlegend": true,
         "textposition": "auto",
         "type": "bar",
         "x": [
          "Maharashtra"
         ],
         "xaxis": "x",
         "y": [
          7.5575
         ],
         "yaxis": "y"
        },
        {
         "alignmentgroup": "True",
         "hovertemplate": "Region=%{x}<br>Estimated Unemployment Rate=%{y}<extra></extra>",
         "legendgroup": "Telangana",
         "marker": {
          "color": "rgb(76,114,176)",
          "pattern": {
           "shape": ""
          }
         },
         "name": "Telangana",
         "offsetgroup": "Telangana",
         "orientation": "v",
         "showlegend": true,
         "textposition": "auto",
         "type": "bar",
         "x": [
          "Telangana"
         ],
         "xaxis": "x",
         "y": [
          7.737857142857143
         ],
         "yaxis": "y"
        },
        {
         "alignmentgroup": "True",
         "hovertemplate": "Region=%{x}<br>Estimated Unemployment Rate=%{y}<extra></extra>",
         "legendgroup": "West Bengal",
         "marker": {
          "color": "rgb(221,132,82)",
          "pattern": {
           "shape": ""
          }
         },
         "name": "West Bengal",
         "offsetgroup": "West Bengal",
         "orientation": "v",
         "showlegend": true,
         "textposition": "auto",
         "type": "bar",
         "x": [
          "West Bengal"
         ],
         "xaxis": "x",
         "y": [
          8.124642857142858
         ],
         "yaxis": "y"
        },
        {
         "alignmentgroup": "True",
         "hovertemplate": "Region=%{x}<br>Estimated Unemployment Rate=%{y}<extra></extra>",
         "legendgroup": "Chhattisgarh",
         "marker": {
          "color": "rgb(85,168,104)",
          "pattern": {
           "shape": ""
          }
         },
         "name": "Chhattisgarh",
         "offsetgroup": "Chhattisgarh",
         "orientation": "v",
         "showlegend": true,
         "textposition": "auto",
         "type": "bar",
         "x": [
          "Chhattisgarh"
         ],
         "xaxis": "x",
         "y": [
          9.240357142857144
         ],
         "yaxis": "y"
        },
        {
         "alignmentgroup": "True",
         "hovertemplate": "Region=%{x}<br>Estimated Unemployment Rate=%{y}<extra></extra>",
         "legendgroup": "Goa",
         "marker": {
          "color": "rgb(196,78,82)",
          "pattern": {
           "shape": ""
          }
         },
         "name": "Goa",
         "offsetgroup": "Goa",
         "orientation": "v",
         "showlegend": true,
         "textposition": "auto",
         "type": "bar",
         "x": [
          "Goa"
         ],
         "xaxis": "x",
         "y": [
          9.274166666666666
         ],
         "yaxis": "y"
        },
        {
         "alignmentgroup": "True",
         "hovertemplate": "Region=%{x}<br>Estimated Unemployment Rate=%{y}<extra></extra>",
         "legendgroup": "Tamil Nadu",
         "marker": {
          "color": "rgb(129,114,179)",
          "pattern": {
           "shape": ""
          }
         },
         "name": "Tamil Nadu",
         "offsetgroup": "Tamil Nadu",
         "orientation": "v",
         "showlegend": true,
         "textposition": "auto",
         "type": "bar",
         "x": [
          "Tamil Nadu"
         ],
         "xaxis": "x",
         "y": [
          9.284285714285714
         ],
         "yaxis": "y"
        },
        {
         "alignmentgroup": "True",
         "hovertemplate": "Region=%{x}<br>Estimated Unemployment Rate=%{y}<extra></extra>",
         "legendgroup": "Kerala",
         "marker": {
          "color": "rgb(147,120,96)",
          "pattern": {
           "shape": ""
          }
         },
         "name": "Kerala",
         "offsetgroup": "Kerala",
         "orientation": "v",
         "showlegend": true,
         "textposition": "auto",
         "type": "bar",
         "x": [
          "Kerala"
         ],
         "xaxis": "x",
         "y": [
          10.12392857142857
         ],
         "yaxis": "y"
        },
        {
         "alignmentgroup": "True",
         "hovertemplate": "Region=%{x}<br>Estimated Unemployment Rate=%{y}<extra></extra>",
         "legendgroup": "Puducherry",
         "marker": {
          "color": "rgb(218,139,195)",
          "pattern": {
           "shape": ""
          }
         },
         "name": "Puducherry",
         "offsetgroup": "Puducherry",
         "orientation": "v",
         "showlegend": true,
         "textposition": "auto",
         "type": "bar",
         "x": [
          "Puducherry"
         ],
         "xaxis": "x",
         "y": [
          10.215000000000002
         ],
         "yaxis": "y"
        },
        {
         "alignmentgroup": "True",
         "hovertemplate": "Region=%{x}<br>Estimated Unemployment Rate=%{y}<extra></extra>",
         "legendgroup": "Punjab",
         "marker": {
          "color": "rgb(140,140,140)",
          "pattern": {
           "shape": ""
          }
         },
         "name": "Punjab",
         "offsetgroup": "Punjab",
         "orientation": "v",
         "showlegend": true,
         "textposition": "auto",
         "type": "bar",
         "x": [
          "Punjab"
         ],
         "xaxis": "x",
         "y": [
          12.031071428571428
         ],
         "yaxis": "y"
        },
        {
         "alignmentgroup": "True",
         "hovertemplate": "Region=%{x}<br>Estimated Unemployment Rate=%{y}<extra></extra>",
         "legendgroup": "Uttar Pradesh",
         "marker": {
          "color": "rgb(204,185,116)",
          "pattern": {
           "shape": ""
          }
         },
         "name": "Uttar Pradesh",
         "offsetgroup": "Uttar Pradesh",
         "orientation": "v",
         "showlegend": true,
         "textposition": "auto",
         "type": "bar",
         "x": [
          "Uttar Pradesh"
         ],
         "xaxis": "x",
         "y": [
          12.551428571428572
         ],
         "yaxis": "y"
        },
        {
         "alignmentgroup": "True",
         "hovertemplate": "Region=%{x}<br>Estimated Unemployment Rate=%{y}<extra></extra>",
         "legendgroup": "Rajasthan",
         "marker": {
          "color": "rgb(100,181,205)",
          "pattern": {
           "shape": ""
          }
         },
         "name": "Rajasthan",
         "offsetgroup": "Rajasthan",
         "orientation": "v",
         "showlegend": true,
         "textposition": "auto",
         "type": "bar",
         "x": [
          "Rajasthan"
         ],
         "xaxis": "x",
         "y": [
          14.058214285714286
         ],
         "yaxis": "y"
        },
        {
         "alignmentgroup": "True",
         "hovertemplate": "Region=%{x}<br>Estimated Unemployment Rate=%{y}<extra></extra>",
         "legendgroup": "Chandigarh",
         "marker": {
          "color": "rgb(76,114,176)",
          "pattern": {
           "shape": ""
          }
         },
         "name": "Chandigarh",
         "offsetgroup": "Chandigarh",
         "orientation": "v",
         "showlegend": true,
         "textposition": "auto",
         "type": "bar",
         "x": [
          "Chandigarh"
         ],
         "xaxis": "x",
         "y": [
          15.991666666666667
         ],
         "yaxis": "y"
        },
        {
         "alignmentgroup": "True",
         "hovertemplate": "Region=%{x}<br>Estimated Unemployment Rate=%{y}<extra></extra>",
         "legendgroup": "Jammu & Kashmir",
         "marker": {
          "color": "rgb(221,132,82)",
          "pattern": {
           "shape": ""
          }
         },
         "name": "Jammu & Kashmir",
         "offsetgroup": "Jammu & Kashmir",
         "orientation": "v",
         "showlegend": true,
         "textposition": "auto",
         "type": "bar",
         "x": [
          "Jammu & Kashmir"
         ],
         "xaxis": "x",
         "y": [
          16.18857142857143
         ],
         "yaxis": "y"
        },
        {
         "alignmentgroup": "True",
         "hovertemplate": "Region=%{x}<br>Estimated Unemployment Rate=%{y}<extra></extra>",
         "legendgroup": "Delhi",
         "marker": {
          "color": "rgb(85,168,104)",
          "pattern": {
           "shape": ""
          }
         },
         "name": "Delhi",
         "offsetgroup": "Delhi",
         "orientation": "v",
         "showlegend": true,
         "textposition": "auto",
         "type": "bar",
         "x": [
          "Delhi"
         ],
         "xaxis": "x",
         "y": [
          16.49535714285714
         ],
         "yaxis": "y"
        },
        {
         "alignmentgroup": "True",
         "hovertemplate": "Region=%{x}<br>Estimated Unemployment Rate=%{y}<extra></extra>",
         "legendgroup": "Himachal Pradesh",
         "marker": {
          "color": "rgb(196,78,82)",
          "pattern": {
           "shape": ""
          }
         },
         "name": "Himachal Pradesh",
         "offsetgroup": "Himachal Pradesh",
         "orientation": "v",
         "showlegend": true,
         "textposition": "auto",
         "type": "bar",
         "x": [
          "Himachal Pradesh"
         ],
         "xaxis": "x",
         "y": [
          18.540357142857143
         ],
         "yaxis": "y"
        },
        {
         "alignmentgroup": "True",
         "hovertemplate": "Region=%{x}<br>Estimated Unemployment Rate=%{y}<extra></extra>",
         "legendgroup": "Bihar",
         "marker": {
          "color": "rgb(129,114,179)",
          "pattern": {
           "shape": ""
          }
         },
         "name": "Bihar",
         "offsetgroup": "Bihar",
         "orientation": "v",
         "showlegend": true,
         "textposition": "auto",
         "type": "bar",
         "x": [
          "Bihar"
         ],
         "xaxis": "x",
         "y": [
          18.91821428571429
         ],
         "yaxis": "y"
        },
        {
         "alignmentgroup": "True",
         "hovertemplate": "Region=%{x}<br>Estimated Unemployment Rate=%{y}<extra></extra>",
         "legendgroup": "Jharkhand",
         "marker": {
          "color": "rgb(147,120,96)",
          "pattern": {
           "shape": ""
          }
         },
         "name": "Jharkhand",
         "offsetgroup": "Jharkhand",
         "orientation": "v",
         "showlegend": true,
         "textposition": "auto",
         "type": "bar",
         "x": [
          "Jharkhand"
         ],
         "xaxis": "x",
         "y": [
          20.585
         ],
         "yaxis": "y"
        },
        {
         "alignmentgroup": "True",
         "hovertemplate": "Region=%{x}<br>Estimated Unemployment Rate=%{y}<extra></extra>",
         "legendgroup": "Haryana",
         "marker": {
          "color": "rgb(218,139,195)",
          "pattern": {
           "shape": ""
          }
         },
         "name": "Haryana",
         "offsetgroup": "Haryana",
         "orientation": "v",
         "showlegend": true,
         "textposition": "auto",
         "type": "bar",
         "x": [
          "Haryana"
         ],
         "xaxis": "x",
         "y": [
          26.283214285714283
         ],
         "yaxis": "y"
        },
        {
         "alignmentgroup": "True",
         "hovertemplate": "Region=%{x}<br>Estimated Unemployment Rate=%{y}<extra></extra>",
         "legendgroup": "Tripura",
         "marker": {
          "color": "rgb(140,140,140)",
          "pattern": {
           "shape": ""
          }
         },
         "name": "Tripura",
         "offsetgroup": "Tripura",
         "orientation": "v",
         "showlegend": true,
         "textposition": "auto",
         "type": "bar",
         "x": [
          "Tripura"
         ],
         "xaxis": "x",
         "y": [
          28.350357142857142
         ],
         "yaxis": "y"
        }
       ],
       "layout": {
        "barmode": "relative",
        "legend": {
         "title": {
          "text": "Region"
         },
         "tracegroupgap": 0
        },
        "template": {
         "data": {
          "bar": [
           {
            "error_x": {
             "color": "rgb(36,36,36)"
            },
            "error_y": {
             "color": "rgb(36,36,36)"
            },
            "marker": {
             "line": {
              "color": "rgb(234,234,242)",
              "width": 0.5
             },
             "pattern": {
              "fillmode": "overlay",
              "size": 10,
              "solidity": 0.2
             }
            },
            "type": "bar"
           }
          ],
          "barpolar": [
           {
            "marker": {
             "line": {
              "color": "rgb(234,234,242)",
              "width": 0.5
             },
             "pattern": {
              "fillmode": "overlay",
              "size": 10,
              "solidity": 0.2
             }
            },
            "type": "barpolar"
           }
          ],
          "carpet": [
           {
            "aaxis": {
             "endlinecolor": "rgb(36,36,36)",
             "gridcolor": "white",
             "linecolor": "white",
             "minorgridcolor": "white",
             "startlinecolor": "rgb(36,36,36)"
            },
            "baxis": {
             "endlinecolor": "rgb(36,36,36)",
             "gridcolor": "white",
             "linecolor": "white",
             "minorgridcolor": "white",
             "startlinecolor": "rgb(36,36,36)"
            },
            "type": "carpet"
           }
          ],
          "choropleth": [
           {
            "colorbar": {
             "outlinewidth": 0,
             "tickcolor": "rgb(36,36,36)",
             "ticklen": 8,
             "ticks": "outside",
             "tickwidth": 2
            },
            "type": "choropleth"
           }
          ],
          "contour": [
           {
            "colorbar": {
             "outlinewidth": 0,
             "tickcolor": "rgb(36,36,36)",
             "ticklen": 8,
             "ticks": "outside",
             "tickwidth": 2
            },
            "colorscale": [
             [
              0,
              "rgb(2,4,25)"
             ],
             [
              0.06274509803921569,
              "rgb(24,15,41)"
             ],
             [
              0.12549019607843137,
              "rgb(47,23,57)"
             ],
             [
              0.18823529411764706,
              "rgb(71,28,72)"
             ],
             [
              0.25098039215686274,
              "rgb(97,30,82)"
             ],
             [
              0.3137254901960784,
              "rgb(123,30,89)"
             ],
             [
              0.3764705882352941,
              "rgb(150,27,91)"
             ],
             [
              0.4392156862745098,
              "rgb(177,22,88)"
             ],
             [
              0.5019607843137255,
              "rgb(203,26,79)"
             ],
             [
              0.5647058823529412,
              "rgb(223,47,67)"
             ],
             [
              0.6274509803921569,
              "rgb(236,76,61)"
             ],
             [
              0.6901960784313725,
              "rgb(242,107,73)"
             ],
             [
              0.7529411764705882,
              "rgb(244,135,95)"
             ],
             [
              0.8156862745098039,
              "rgb(245,162,122)"
             ],
             [
              0.8784313725490196,
              "rgb(246,188,153)"
             ],
             [
              0.9411764705882353,
              "rgb(247,212,187)"
             ],
             [
              1,
              "rgb(250,234,220)"
             ]
            ],
            "type": "contour"
           }
          ],
          "contourcarpet": [
           {
            "colorbar": {
             "outlinewidth": 0,
             "tickcolor": "rgb(36,36,36)",
             "ticklen": 8,
             "ticks": "outside",
             "tickwidth": 2
            },
            "type": "contourcarpet"
           }
          ],
          "heatmap": [
           {
            "colorbar": {
             "outlinewidth": 0,
             "tickcolor": "rgb(36,36,36)",
             "ticklen": 8,
             "ticks": "outside",
             "tickwidth": 2
            },
            "colorscale": [
             [
              0,
              "rgb(2,4,25)"
             ],
             [
              0.06274509803921569,
              "rgb(24,15,41)"
             ],
             [
              0.12549019607843137,
              "rgb(47,23,57)"
             ],
             [
              0.18823529411764706,
              "rgb(71,28,72)"
             ],
             [
              0.25098039215686274,
              "rgb(97,30,82)"
             ],
             [
              0.3137254901960784,
              "rgb(123,30,89)"
             ],
             [
              0.3764705882352941,
              "rgb(150,27,91)"
             ],
             [
              0.4392156862745098,
              "rgb(177,22,88)"
             ],
             [
              0.5019607843137255,
              "rgb(203,26,79)"
             ],
             [
              0.5647058823529412,
              "rgb(223,47,67)"
             ],
             [
              0.6274509803921569,
              "rgb(236,76,61)"
             ],
             [
              0.6901960784313725,
              "rgb(242,107,73)"
             ],
             [
              0.7529411764705882,
              "rgb(244,135,95)"
             ],
             [
              0.8156862745098039,
              "rgb(245,162,122)"
             ],
             [
              0.8784313725490196,
              "rgb(246,188,153)"
             ],
             [
              0.9411764705882353,
              "rgb(247,212,187)"
             ],
             [
              1,
              "rgb(250,234,220)"
             ]
            ],
            "type": "heatmap"
           }
          ],
          "heatmapgl": [
           {
            "colorbar": {
             "outlinewidth": 0,
             "tickcolor": "rgb(36,36,36)",
             "ticklen": 8,
             "ticks": "outside",
             "tickwidth": 2
            },
            "colorscale": [
             [
              0,
              "rgb(2,4,25)"
             ],
             [
              0.06274509803921569,
              "rgb(24,15,41)"
             ],
             [
              0.12549019607843137,
              "rgb(47,23,57)"
             ],
             [
              0.18823529411764706,
              "rgb(71,28,72)"
             ],
             [
              0.25098039215686274,
              "rgb(97,30,82)"
             ],
             [
              0.3137254901960784,
              "rgb(123,30,89)"
             ],
             [
              0.3764705882352941,
              "rgb(150,27,91)"
             ],
             [
              0.4392156862745098,
              "rgb(177,22,88)"
             ],
             [
              0.5019607843137255,
              "rgb(203,26,79)"
             ],
             [
              0.5647058823529412,
              "rgb(223,47,67)"
             ],
             [
              0.6274509803921569,
              "rgb(236,76,61)"
             ],
             [
              0.6901960784313725,
              "rgb(242,107,73)"
             ],
             [
              0.7529411764705882,
              "rgb(244,135,95)"
             ],
             [
              0.8156862745098039,
              "rgb(245,162,122)"
             ],
             [
              0.8784313725490196,
              "rgb(246,188,153)"
             ],
             [
              0.9411764705882353,
              "rgb(247,212,187)"
             ],
             [
              1,
              "rgb(250,234,220)"
             ]
            ],
            "type": "heatmapgl"
           }
          ],
          "histogram": [
           {
            "marker": {
             "pattern": {
              "fillmode": "overlay",
              "size": 10,
              "solidity": 0.2
             }
            },
            "type": "histogram"
           }
          ],
          "histogram2d": [
           {
            "colorbar": {
             "outlinewidth": 0,
             "tickcolor": "rgb(36,36,36)",
             "ticklen": 8,
             "ticks": "outside",
             "tickwidth": 2
            },
            "colorscale": [
             [
              0,
              "rgb(2,4,25)"
             ],
             [
              0.06274509803921569,
              "rgb(24,15,41)"
             ],
             [
              0.12549019607843137,
              "rgb(47,23,57)"
             ],
             [
              0.18823529411764706,
              "rgb(71,28,72)"
             ],
             [
              0.25098039215686274,
              "rgb(97,30,82)"
             ],
             [
              0.3137254901960784,
              "rgb(123,30,89)"
             ],
             [
              0.3764705882352941,
              "rgb(150,27,91)"
             ],
             [
              0.4392156862745098,
              "rgb(177,22,88)"
             ],
             [
              0.5019607843137255,
              "rgb(203,26,79)"
             ],
             [
              0.5647058823529412,
              "rgb(223,47,67)"
             ],
             [
              0.6274509803921569,
              "rgb(236,76,61)"
             ],
             [
              0.6901960784313725,
              "rgb(242,107,73)"
             ],
             [
              0.7529411764705882,
              "rgb(244,135,95)"
             ],
             [
              0.8156862745098039,
              "rgb(245,162,122)"
             ],
             [
              0.8784313725490196,
              "rgb(246,188,153)"
             ],
             [
              0.9411764705882353,
              "rgb(247,212,187)"
             ],
             [
              1,
              "rgb(250,234,220)"
             ]
            ],
            "type": "histogram2d"
           }
          ],
          "histogram2dcontour": [
           {
            "colorbar": {
             "outlinewidth": 0,
             "tickcolor": "rgb(36,36,36)",
             "ticklen": 8,
             "ticks": "outside",
             "tickwidth": 2
            },
            "colorscale": [
             [
              0,
              "rgb(2,4,25)"
             ],
             [
              0.06274509803921569,
              "rgb(24,15,41)"
             ],
             [
              0.12549019607843137,
              "rgb(47,23,57)"
             ],
             [
              0.18823529411764706,
              "rgb(71,28,72)"
             ],
             [
              0.25098039215686274,
              "rgb(97,30,82)"
             ],
             [
              0.3137254901960784,
              "rgb(123,30,89)"
             ],
             [
              0.3764705882352941,
              "rgb(150,27,91)"
             ],
             [
              0.4392156862745098,
              "rgb(177,22,88)"
             ],
             [
              0.5019607843137255,
              "rgb(203,26,79)"
             ],
             [
              0.5647058823529412,
              "rgb(223,47,67)"
             ],
             [
              0.6274509803921569,
              "rgb(236,76,61)"
             ],
             [
              0.6901960784313725,
              "rgb(242,107,73)"
             ],
             [
              0.7529411764705882,
              "rgb(244,135,95)"
             ],
             [
              0.8156862745098039,
              "rgb(245,162,122)"
             ],
             [
              0.8784313725490196,
              "rgb(246,188,153)"
             ],
             [
              0.9411764705882353,
              "rgb(247,212,187)"
             ],
             [
              1,
              "rgb(250,234,220)"
             ]
            ],
            "type": "histogram2dcontour"
           }
          ],
          "mesh3d": [
           {
            "colorbar": {
             "outlinewidth": 0,
             "tickcolor": "rgb(36,36,36)",
             "ticklen": 8,
             "ticks": "outside",
             "tickwidth": 2
            },
            "type": "mesh3d"
           }
          ],
          "parcoords": [
           {
            "line": {
             "colorbar": {
              "outlinewidth": 0,
              "tickcolor": "rgb(36,36,36)",
              "ticklen": 8,
              "ticks": "outside",
              "tickwidth": 2
             }
            },
            "type": "parcoords"
           }
          ],
          "pie": [
           {
            "automargin": true,
            "type": "pie"
           }
          ],
          "scatter": [
           {
            "fillpattern": {
             "fillmode": "overlay",
             "size": 10,
             "solidity": 0.2
            },
            "type": "scatter"
           }
          ],
          "scatter3d": [
           {
            "line": {
             "colorbar": {
              "outlinewidth": 0,
              "tickcolor": "rgb(36,36,36)",
              "ticklen": 8,
              "ticks": "outside",
              "tickwidth": 2
             }
            },
            "marker": {
             "colorbar": {
              "outlinewidth": 0,
              "tickcolor": "rgb(36,36,36)",
              "ticklen": 8,
              "ticks": "outside",
              "tickwidth": 2
             }
            },
            "type": "scatter3d"
           }
          ],
          "scattercarpet": [
           {
            "marker": {
             "colorbar": {
              "outlinewidth": 0,
              "tickcolor": "rgb(36,36,36)",
              "ticklen": 8,
              "ticks": "outside",
              "tickwidth": 2
             }
            },
            "type": "scattercarpet"
           }
          ],
          "scattergeo": [
           {
            "marker": {
             "colorbar": {
              "outlinewidth": 0,
              "tickcolor": "rgb(36,36,36)",
              "ticklen": 8,
              "ticks": "outside",
              "tickwidth": 2
             }
            },
            "type": "scattergeo"
           }
          ],
          "scattergl": [
           {
            "marker": {
             "colorbar": {
              "outlinewidth": 0,
              "tickcolor": "rgb(36,36,36)",
              "ticklen": 8,
              "ticks": "outside",
              "tickwidth": 2
             }
            },
            "type": "scattergl"
           }
          ],
          "scattermapbox": [
           {
            "marker": {
             "colorbar": {
              "outlinewidth": 0,
              "tickcolor": "rgb(36,36,36)",
              "ticklen": 8,
              "ticks": "outside",
              "tickwidth": 2
             }
            },
            "type": "scattermapbox"
           }
          ],
          "scatterpolar": [
           {
            "marker": {
             "colorbar": {
              "outlinewidth": 0,
              "tickcolor": "rgb(36,36,36)",
              "ticklen": 8,
              "ticks": "outside",
              "tickwidth": 2
             }
            },
            "type": "scatterpolar"
           }
          ],
          "scatterpolargl": [
           {
            "marker": {
             "colorbar": {
              "outlinewidth": 0,
              "tickcolor": "rgb(36,36,36)",
              "ticklen": 8,
              "ticks": "outside",
              "tickwidth": 2
             }
            },
            "type": "scatterpolargl"
           }
          ],
          "scatterternary": [
           {
            "marker": {
             "colorbar": {
              "outlinewidth": 0,
              "tickcolor": "rgb(36,36,36)",
              "ticklen": 8,
              "ticks": "outside",
              "tickwidth": 2
             }
            },
            "type": "scatterternary"
           }
          ],
          "surface": [
           {
            "colorbar": {
             "outlinewidth": 0,
             "tickcolor": "rgb(36,36,36)",
             "ticklen": 8,
             "ticks": "outside",
             "tickwidth": 2
            },
            "colorscale": [
             [
              0,
              "rgb(2,4,25)"
             ],
             [
              0.06274509803921569,
              "rgb(24,15,41)"
             ],
             [
              0.12549019607843137,
              "rgb(47,23,57)"
             ],
             [
              0.18823529411764706,
              "rgb(71,28,72)"
             ],
             [
              0.25098039215686274,
              "rgb(97,30,82)"
             ],
             [
              0.3137254901960784,
              "rgb(123,30,89)"
             ],
             [
              0.3764705882352941,
              "rgb(150,27,91)"
             ],
             [
              0.4392156862745098,
              "rgb(177,22,88)"
             ],
             [
              0.5019607843137255,
              "rgb(203,26,79)"
             ],
             [
              0.5647058823529412,
              "rgb(223,47,67)"
             ],
             [
              0.6274509803921569,
              "rgb(236,76,61)"
             ],
             [
              0.6901960784313725,
              "rgb(242,107,73)"
             ],
             [
              0.7529411764705882,
              "rgb(244,135,95)"
             ],
             [
              0.8156862745098039,
              "rgb(245,162,122)"
             ],
             [
              0.8784313725490196,
              "rgb(246,188,153)"
             ],
             [
              0.9411764705882353,
              "rgb(247,212,187)"
             ],
             [
              1,
              "rgb(250,234,220)"
             ]
            ],
            "type": "surface"
           }
          ],
          "table": [
           {
            "cells": {
             "fill": {
              "color": "rgb(231,231,240)"
             },
             "line": {
              "color": "white"
             }
            },
            "header": {
             "fill": {
              "color": "rgb(183,183,191)"
             },
             "line": {
              "color": "white"
             }
            },
            "type": "table"
           }
          ]
         },
         "layout": {
          "annotationdefaults": {
           "arrowcolor": "rgb(67,103,167)"
          },
          "autotypenumbers": "strict",
          "coloraxis": {
           "colorbar": {
            "outlinewidth": 0,
            "tickcolor": "rgb(36,36,36)",
            "ticklen": 8,
            "ticks": "outside",
            "tickwidth": 2
           }
          },
          "colorscale": {
           "sequential": [
            [
             0,
             "rgb(2,4,25)"
            ],
            [
             0.06274509803921569,
             "rgb(24,15,41)"
            ],
            [
             0.12549019607843137,
             "rgb(47,23,57)"
            ],
            [
             0.18823529411764706,
             "rgb(71,28,72)"
            ],
            [
             0.25098039215686274,
             "rgb(97,30,82)"
            ],
            [
             0.3137254901960784,
             "rgb(123,30,89)"
            ],
            [
             0.3764705882352941,
             "rgb(150,27,91)"
            ],
            [
             0.4392156862745098,
             "rgb(177,22,88)"
            ],
            [
             0.5019607843137255,
             "rgb(203,26,79)"
            ],
            [
             0.5647058823529412,
             "rgb(223,47,67)"
            ],
            [
             0.6274509803921569,
             "rgb(236,76,61)"
            ],
            [
             0.6901960784313725,
             "rgb(242,107,73)"
            ],
            [
             0.7529411764705882,
             "rgb(244,135,95)"
            ],
            [
             0.8156862745098039,
             "rgb(245,162,122)"
            ],
            [
             0.8784313725490196,
             "rgb(246,188,153)"
            ],
            [
             0.9411764705882353,
             "rgb(247,212,187)"
            ],
            [
             1,
             "rgb(250,234,220)"
            ]
           ],
           "sequentialminus": [
            [
             0,
             "rgb(2,4,25)"
            ],
            [
             0.06274509803921569,
             "rgb(24,15,41)"
            ],
            [
             0.12549019607843137,
             "rgb(47,23,57)"
            ],
            [
             0.18823529411764706,
             "rgb(71,28,72)"
            ],
            [
             0.25098039215686274,
             "rgb(97,30,82)"
            ],
            [
             0.3137254901960784,
             "rgb(123,30,89)"
            ],
            [
             0.3764705882352941,
             "rgb(150,27,91)"
            ],
            [
             0.4392156862745098,
             "rgb(177,22,88)"
            ],
            [
             0.5019607843137255,
             "rgb(203,26,79)"
            ],
            [
             0.5647058823529412,
             "rgb(223,47,67)"
            ],
            [
             0.6274509803921569,
             "rgb(236,76,61)"
            ],
            [
             0.6901960784313725,
             "rgb(242,107,73)"
            ],
            [
             0.7529411764705882,
             "rgb(244,135,95)"
            ],
            [
             0.8156862745098039,
             "rgb(245,162,122)"
            ],
            [
             0.8784313725490196,
             "rgb(246,188,153)"
            ],
            [
             0.9411764705882353,
             "rgb(247,212,187)"
            ],
            [
             1,
             "rgb(250,234,220)"
            ]
           ]
          },
          "colorway": [
           "rgb(76,114,176)",
           "rgb(221,132,82)",
           "rgb(85,168,104)",
           "rgb(196,78,82)",
           "rgb(129,114,179)",
           "rgb(147,120,96)",
           "rgb(218,139,195)",
           "rgb(140,140,140)",
           "rgb(204,185,116)",
           "rgb(100,181,205)"
          ],
          "font": {
           "color": "rgb(36,36,36)"
          },
          "geo": {
           "bgcolor": "white",
           "lakecolor": "white",
           "landcolor": "rgb(234,234,242)",
           "showlakes": true,
           "showland": true,
           "subunitcolor": "white"
          },
          "hoverlabel": {
           "align": "left"
          },
          "hovermode": "closest",
          "paper_bgcolor": "white",
          "plot_bgcolor": "rgb(234,234,242)",
          "polar": {
           "angularaxis": {
            "gridcolor": "white",
            "linecolor": "white",
            "showgrid": true,
            "ticks": ""
           },
           "bgcolor": "rgb(234,234,242)",
           "radialaxis": {
            "gridcolor": "white",
            "linecolor": "white",
            "showgrid": true,
            "ticks": ""
           }
          },
          "scene": {
           "xaxis": {
            "backgroundcolor": "rgb(234,234,242)",
            "gridcolor": "white",
            "gridwidth": 2,
            "linecolor": "white",
            "showbackground": true,
            "showgrid": true,
            "ticks": "",
            "zerolinecolor": "white"
           },
           "yaxis": {
            "backgroundcolor": "rgb(234,234,242)",
            "gridcolor": "white",
            "gridwidth": 2,
            "linecolor": "white",
            "showbackground": true,
            "showgrid": true,
            "ticks": "",
            "zerolinecolor": "white"
           },
           "zaxis": {
            "backgroundcolor": "rgb(234,234,242)",
            "gridcolor": "white",
            "gridwidth": 2,
            "linecolor": "white",
            "showbackground": true,
            "showgrid": true,
            "ticks": "",
            "zerolinecolor": "white"
           }
          },
          "shapedefaults": {
           "fillcolor": "rgb(67,103,167)",
           "line": {
            "width": 0
           },
           "opacity": 0.5
          },
          "ternary": {
           "aaxis": {
            "gridcolor": "white",
            "linecolor": "white",
            "showgrid": true,
            "ticks": ""
           },
           "baxis": {
            "gridcolor": "white",
            "linecolor": "white",
            "showgrid": true,
            "ticks": ""
           },
           "bgcolor": "rgb(234,234,242)",
           "caxis": {
            "gridcolor": "white",
            "linecolor": "white",
            "showgrid": true,
            "ticks": ""
           }
          },
          "xaxis": {
           "automargin": true,
           "gridcolor": "white",
           "linecolor": "white",
           "showgrid": true,
           "ticks": "",
           "title": {
            "standoff": 15
           },
           "zerolinecolor": "white"
          },
          "yaxis": {
           "automargin": true,
           "gridcolor": "white",
           "linecolor": "white",
           "showgrid": true,
           "ticks": "",
           "title": {
            "standoff": 15
           },
           "zerolinecolor": "white"
          }
         }
        },
        "title": {
         "text": "Average unemployment rate in each state"
        },
        "xaxis": {
         "anchor": "y",
         "categoryarray": [
          "Meghalaya",
          "Odisha",
          "Assam",
          "Uttarakhand",
          "Gujarat",
          "Karnataka",
          "Sikkim",
          "Madhya Pradesh",
          "Andhra Pradesh",
          "Maharashtra",
          "Telangana",
          "West Bengal",
          "Chhattisgarh",
          "Goa",
          "Tamil Nadu",
          "Kerala",
          "Puducherry",
          "Punjab",
          "Uttar Pradesh",
          "Rajasthan",
          "Chandigarh",
          "Jammu & Kashmir",
          "Delhi",
          "Himachal Pradesh",
          "Bihar",
          "Jharkhand",
          "Haryana",
          "Tripura"
         ],
         "categoryorder": "array",
         "domain": [
          0,
          1
         ],
         "title": {
          "text": "Region"
         }
        },
        "yaxis": {
         "anchor": "x",
         "domain": [
          0,
          1
         ],
         "title": {
          "text": "Estimated Unemployment Rate"
         }
        }
       }
      }
     },
     "metadata": {},
     "output_type": "display_data"
    }
   ],
   "source": [
    "plot_unemp = df[['Estimated Unemployment Rate','Region']]\n",
    "df_unemployed = plot_unemp.groupby('Region').mean().reset_index()\n",
    "\n",
    "df_unemployed = df_unemployed.sort_values('Estimated Unemployment Rate')\n",
    "\n",
    "fig = px.bar(df_unemployed, x='Region',y='Estimated Unemployment Rate',color = 'Region',title = 'Average unemployment rate in each state',\n",
    "             template='seaborn')\n",
    "fig.show()"
   ]
  },
  {
   "cell_type": "markdown",
   "id": "e8730afc",
   "metadata": {
    "papermill": {
     "duration": 0.010848,
     "end_time": "2023-08-28T07:05:58.564748",
     "exception": false,
     "start_time": "2023-08-28T07:05:58.553900",
     "status": "completed"
    },
    "tags": []
   },
   "source": [
    "Haryana and Jharkhand have long been the most unemployed."
   ]
  },
  {
   "cell_type": "markdown",
   "id": "79a4ea3a",
   "metadata": {
    "papermill": {
     "duration": 0.010587,
     "end_time": "2023-08-28T07:05:58.586726",
     "exception": false,
     "start_time": "2023-08-28T07:05:58.576139",
     "status": "completed"
    },
    "tags": []
   },
   "source": [
    "Bar chart showing the unemployment rate across regions from Jan. 2020 to Oct. 2020"
   ]
  },
  {
   "cell_type": "code",
   "execution_count": 46,
   "id": "6a6a0d6b",
   "metadata": {
    "execution": {
     "iopub.execute_input": "2023-08-28T07:05:58.610479Z",
     "iopub.status.busy": "2023-08-28T07:05:58.609797Z",
     "iopub.status.idle": "2023-08-28T07:05:59.817485Z",
     "shell.execute_reply": "2023-08-28T07:05:59.816289Z"
    },
    "papermill": {
     "duration": 1.223074,
     "end_time": "2023-08-28T07:05:59.820781",
     "exception": false,
     "start_time": "2023-08-28T07:05:58.597707",
     "status": "completed"
    },
    "tags": []
   },
   "outputs": [
    {
     "data": {
      "application/vnd.plotly.v1+json": {
       "config": {
        "plotlyServerURL": "https://plot.ly"
       },
       "data": [
        {
         "alignmentgroup": "True",
         "hovertemplate": "Region=%{x}<br>Month_name=May<br>Estimated Unemployment Rate=%{y}<extra></extra>",
         "legendgroup": "Andhra Pradesh",
         "marker": {
          "color": "rgb(76,114,176)",
          "pattern": {
           "shape": ""
          }
         },
         "name": "Andhra Pradesh",
         "offsetgroup": "Andhra Pradesh",
         "orientation": "v",
         "showlegend": true,
         "textposition": "auto",
         "type": "bar",
         "x": [
          "Andhra Pradesh",
          "Andhra Pradesh",
          "Andhra Pradesh",
          "Andhra Pradesh"
         ],
         "xaxis": "x",
         "y": [
          3.65,
          14.46,
          6.09,
          24.91
         ],
         "yaxis": "y"
        },
        {
         "alignmentgroup": "True",
         "hovertemplate": "Region=%{x}<br>Month_name=May<br>Estimated Unemployment Rate=%{y}<extra></extra>",
         "legendgroup": "Assam",
         "marker": {
          "color": "rgb(221,132,82)",
          "pattern": {
           "shape": ""
          }
         },
         "name": "Assam",
         "offsetgroup": "Assam",
         "orientation": "v",
         "showlegend": true,
         "textposition": "auto",
         "type": "bar",
         "x": [
          "Assam",
          "Assam",
          "Assam",
          "Assam"
         ],
         "xaxis": "x",
         "y": [
          4.29,
          9.38,
          7.87,
          10.77
         ],
         "yaxis": "y"
        },
        {
         "alignmentgroup": "True",
         "hovertemplate": "Region=%{x}<br>Month_name=May<br>Estimated Unemployment Rate=%{y}<extra></extra>",
         "legendgroup": "Bihar",
         "marker": {
          "color": "rgb(85,168,104)",
          "pattern": {
           "shape": ""
          }
         },
         "name": "Bihar",
         "offsetgroup": "Bihar",
         "orientation": "v",
         "showlegend": true,
         "textposition": "auto",
         "type": "bar",
         "x": [
          "Bihar",
          "Bihar",
          "Bihar",
          "Bihar"
         ],
         "xaxis": "x",
         "y": [
          9.27,
          47.26,
          19.9,
          37.87
         ],
         "yaxis": "y"
        },
        {
         "alignmentgroup": "True",
         "hovertemplate": "Region=%{x}<br>Month_name=May<br>Estimated Unemployment Rate=%{y}<extra></extra>",
         "legendgroup": "Chhattisgarh",
         "marker": {
          "color": "rgb(196,78,82)",
          "pattern": {
           "shape": ""
          }
         },
         "name": "Chhattisgarh",
         "offsetgroup": "Chhattisgarh",
         "orientation": "v",
         "showlegend": true,
         "textposition": "auto",
         "type": "bar",
         "x": [
          "Chhattisgarh",
          "Chhattisgarh",
          "Chhattisgarh",
          "Chhattisgarh"
         ],
         "xaxis": "x",
         "y": [
          9.82,
          7.64,
          9.77,
          24.1
         ],
         "yaxis": "y"
        },
        {
         "alignmentgroup": "True",
         "hovertemplate": "Region=%{x}<br>Month_name=May<br>Estimated Unemployment Rate=%{y}<extra></extra>",
         "legendgroup": "Delhi",
         "marker": {
          "color": "rgb(129,114,179)",
          "pattern": {
           "shape": ""
          }
         },
         "name": "Delhi",
         "offsetgroup": "Delhi",
         "orientation": "v",
         "showlegend": true,
         "textposition": "auto",
         "type": "bar",
         "x": [
          "Delhi",
          "Delhi",
          "Delhi",
          "Delhi"
         ],
         "xaxis": "x",
         "y": [
          12.56,
          22.76,
          12.31,
          45.78
         ],
         "yaxis": "y"
        },
        {
         "alignmentgroup": "True",
         "hovertemplate": "Region=%{x}<br>Month_name=May<br>Estimated Unemployment Rate=%{y}<extra></extra>",
         "legendgroup": "Goa",
         "marker": {
          "color": "rgb(147,120,96)",
          "pattern": {
           "shape": ""
          }
         },
         "name": "Goa",
         "offsetgroup": "Goa",
         "orientation": "v",
         "showlegend": true,
         "textposition": "auto",
         "type": "bar",
         "x": [
          "Goa",
          "Goa",
          "Goa"
         ],
         "xaxis": "x",
         "y": [
          2.91,
          20,
          2.75
         ],
         "yaxis": "y"
        },
        {
         "alignmentgroup": "True",
         "hovertemplate": "Region=%{x}<br>Month_name=May<br>Estimated Unemployment Rate=%{y}<extra></extra>",
         "legendgroup": "Gujarat",
         "marker": {
          "color": "rgb(218,139,195)",
          "pattern": {
           "shape": ""
          }
         },
         "name": "Gujarat",
         "offsetgroup": "Gujarat",
         "orientation": "v",
         "showlegend": true,
         "textposition": "auto",
         "type": "bar",
         "x": [
          "Gujarat",
          "Gujarat",
          "Gujarat",
          "Gujarat"
         ],
         "xaxis": "x",
         "y": [
          2.88,
          14.58,
          4.09,
          11.62
         ],
         "yaxis": "y"
        },
        {
         "alignmentgroup": "True",
         "hovertemplate": "Region=%{x}<br>Month_name=May<br>Estimated Unemployment Rate=%{y}<extra></extra>",
         "legendgroup": "Haryana",
         "marker": {
          "color": "rgb(140,140,140)",
          "pattern": {
           "shape": ""
          }
         },
         "name": "Haryana",
         "offsetgroup": "Haryana",
         "orientation": "v",
         "showlegend": true,
         "textposition": "auto",
         "type": "bar",
         "x": [
          "Haryana",
          "Haryana",
          "Haryana",
          "Haryana"
         ],
         "xaxis": "x",
         "y": [
          14.54,
          34.22,
          24.67,
          38.46
         ],
         "yaxis": "y"
        },
        {
         "alignmentgroup": "True",
         "hovertemplate": "Region=%{x}<br>Month_name=May<br>Estimated Unemployment Rate=%{y}<extra></extra>",
         "legendgroup": "Himachal Pradesh",
         "marker": {
          "color": "rgb(204,185,116)",
          "pattern": {
           "shape": ""
          }
         },
         "name": "Himachal Pradesh",
         "offsetgroup": "Himachal Pradesh",
         "orientation": "v",
         "showlegend": true,
         "textposition": "auto",
         "type": "bar",
         "x": [
          "Himachal Pradesh",
          "Himachal Pradesh",
          "Himachal Pradesh",
          "Himachal Pradesh"
         ],
         "xaxis": "x",
         "y": [
          13.68,
          25.64,
          10.88,
          50
         ],
         "yaxis": "y"
        },
        {
         "alignmentgroup": "True",
         "hovertemplate": "Region=%{x}<br>Month_name=May<br>Estimated Unemployment Rate=%{y}<extra></extra>",
         "legendgroup": "Jammu & Kashmir",
         "marker": {
          "color": "rgb(100,181,205)",
          "pattern": {
           "shape": ""
          }
         },
         "name": "Jammu & Kashmir",
         "offsetgroup": "Jammu & Kashmir",
         "orientation": "v",
         "showlegend": true,
         "textposition": "auto",
         "type": "bar",
         "x": [
          "Jammu & Kashmir",
          "Jammu & Kashmir",
          "Jammu & Kashmir",
          "Jammu & Kashmir"
         ],
         "xaxis": "x",
         "y": [
          12.78,
          2.22,
          23.04,
          12.96
         ],
         "yaxis": "y"
        },
        {
         "alignmentgroup": "True",
         "hovertemplate": "Region=%{x}<br>Month_name=May<br>Estimated Unemployment Rate=%{y}<extra></extra>",
         "legendgroup": "Jharkhand",
         "marker": {
          "color": "rgb(76,114,176)",
          "pattern": {
           "shape": ""
          }
         },
         "name": "Jharkhand",
         "offsetgroup": "Jharkhand",
         "orientation": "v",
         "showlegend": true,
         "textposition": "auto",
         "type": "bar",
         "x": [
          "Jharkhand",
          "Jharkhand",
          "Jharkhand",
          "Jharkhand"
         ],
         "xaxis": "x",
         "y": [
          7.11,
          55.1,
          17.23,
          70.17
         ],
         "yaxis": "y"
        },
        {
         "alignmentgroup": "True",
         "hovertemplate": "Region=%{x}<br>Month_name=May<br>Estimated Unemployment Rate=%{y}<extra></extra>",
         "legendgroup": "Karnataka",
         "marker": {
          "color": "rgb(221,132,82)",
          "pattern": {
           "shape": ""
          }
         },
         "name": "Karnataka",
         "offsetgroup": "Karnataka",
         "orientation": "v",
         "showlegend": true,
         "textposition": "auto",
         "type": "bar",
         "x": [
          "Karnataka",
          "Karnataka",
          "Karnataka",
          "Karnataka"
         ],
         "xaxis": "x",
         "y": [
          5.46,
          23.72,
          6.56,
          15.88
         ],
         "yaxis": "y"
        },
        {
         "alignmentgroup": "True",
         "hovertemplate": "Region=%{x}<br>Month_name=May<br>Estimated Unemployment Rate=%{y}<extra></extra>",
         "legendgroup": "Kerala",
         "marker": {
          "color": "rgb(85,168,104)",
          "pattern": {
           "shape": ""
          }
         },
         "name": "Kerala",
         "offsetgroup": "Kerala",
         "orientation": "v",
         "showlegend": true,
         "textposition": "auto",
         "type": "bar",
         "x": [
          "Kerala",
          "Kerala",
          "Kerala",
          "Kerala"
         ],
         "xaxis": "x",
         "y": [
          6.63,
          23.38,
          6.11,
          30.28
         ],
         "yaxis": "y"
        },
        {
         "alignmentgroup": "True",
         "hovertemplate": "Region=%{x}<br>Month_name=May<br>Estimated Unemployment Rate=%{y}<extra></extra>",
         "legendgroup": "Madhya Pradesh",
         "marker": {
          "color": "rgb(196,78,82)",
          "pattern": {
           "shape": ""
          }
         },
         "name": "Madhya Pradesh",
         "offsetgroup": "Madhya Pradesh",
         "orientation": "v",
         "showlegend": true,
         "textposition": "auto",
         "type": "bar",
         "x": [
          "Madhya Pradesh",
          "Madhya Pradesh",
          "Madhya Pradesh",
          "Madhya Pradesh"
         ],
         "xaxis": "x",
         "y": [
          3.63,
          22.46,
          3.91,
          40.49
         ],
         "yaxis": "y"
        },
        {
         "alignmentgroup": "True",
         "hovertemplate": "Region=%{x}<br>Month_name=May<br>Estimated Unemployment Rate=%{y}<extra></extra>",
         "legendgroup": "Maharashtra",
         "marker": {
          "color": "rgb(129,114,179)",
          "pattern": {
           "shape": ""
          }
         },
         "name": "Maharashtra",
         "offsetgroup": "Maharashtra",
         "orientation": "v",
         "showlegend": true,
         "textposition": "auto",
         "type": "bar",
         "x": [
          "Maharashtra",
          "Maharashtra",
          "Maharashtra",
          "Maharashtra"
         ],
         "xaxis": "x",
         "y": [
          3.67,
          16.89,
          6.08,
          15.92
         ],
         "yaxis": "y"
        },
        {
         "alignmentgroup": "True",
         "hovertemplate": "Region=%{x}<br>Month_name=May<br>Estimated Unemployment Rate=%{y}<extra></extra>",
         "legendgroup": "Meghalaya",
         "marker": {
          "color": "rgb(147,120,96)",
          "pattern": {
           "shape": ""
          }
         },
         "name": "Meghalaya",
         "offsetgroup": "Meghalaya",
         "orientation": "v",
         "showlegend": true,
         "textposition": "auto",
         "type": "bar",
         "x": [
          "Meghalaya",
          "Meghalaya",
          "Meghalaya",
          "Meghalaya"
         ],
         "xaxis": "x",
         "y": [
          3.16,
          3.73,
          8.4,
          14.58
         ],
         "yaxis": "y"
        },
        {
         "alignmentgroup": "True",
         "hovertemplate": "Region=%{x}<br>Month_name=May<br>Estimated Unemployment Rate=%{y}<extra></extra>",
         "legendgroup": "Odisha",
         "marker": {
          "color": "rgb(218,139,195)",
          "pattern": {
           "shape": ""
          }
         },
         "name": "Odisha",
         "offsetgroup": "Odisha",
         "orientation": "v",
         "showlegend": true,
         "textposition": "auto",
         "type": "bar",
         "x": [
          "Odisha",
          "Odisha",
          "Odisha",
          "Odisha"
         ],
         "xaxis": "x",
         "y": [
          4.17,
          9.45,
          2.95,
          10
         ],
         "yaxis": "y"
        },
        {
         "alignmentgroup": "True",
         "hovertemplate": "Region=%{x}<br>Month_name=May<br>Estimated Unemployment Rate=%{y}<extra></extra>",
         "legendgroup": "Puducherry",
         "marker": {
          "color": "rgb(140,140,140)",
          "pattern": {
           "shape": ""
          }
         },
         "name": "Puducherry",
         "offsetgroup": "Puducherry",
         "orientation": "v",
         "showlegend": true,
         "textposition": "auto",
         "type": "bar",
         "x": [
          "Puducherry",
          "Puducherry",
          "Puducherry"
         ],
         "xaxis": "x",
         "y": [
          0,
          1.25,
          75
         ],
         "yaxis": "y"
        },
        {
         "alignmentgroup": "True",
         "hovertemplate": "Region=%{x}<br>Month_name=May<br>Estimated Unemployment Rate=%{y}<extra></extra>",
         "legendgroup": "Punjab",
         "marker": {
          "color": "rgb(204,185,116)",
          "pattern": {
           "shape": ""
          }
         },
         "name": "Punjab",
         "offsetgroup": "Punjab",
         "orientation": "v",
         "showlegend": true,
         "textposition": "auto",
         "type": "bar",
         "x": [
          "Punjab",
          "Punjab",
          "Punjab",
          "Punjab"
         ],
         "xaxis": "x",
         "y": [
          9.17,
          40.59,
          13.49,
          20.54
         ],
         "yaxis": "y"
        },
        {
         "alignmentgroup": "True",
         "hovertemplate": "Region=%{x}<br>Month_name=May<br>Estimated Unemployment Rate=%{y}<extra></extra>",
         "legendgroup": "Rajasthan",
         "marker": {
          "color": "rgb(100,181,205)",
          "pattern": {
           "shape": ""
          }
         },
         "name": "Rajasthan",
         "offsetgroup": "Rajasthan",
         "orientation": "v",
         "showlegend": true,
         "textposition": "auto",
         "type": "bar",
         "x": [
          "Rajasthan",
          "Rajasthan",
          "Rajasthan",
          "Rajasthan"
         ],
         "xaxis": "x",
         "y": [
          4.03,
          10.45,
          13.62,
          25.35
         ],
         "yaxis": "y"
        },
        {
         "alignmentgroup": "True",
         "hovertemplate": "Region=%{x}<br>Month_name=May<br>Estimated Unemployment Rate=%{y}<extra></extra>",
         "legendgroup": "Sikkim",
         "marker": {
          "color": "rgb(76,114,176)",
          "pattern": {
           "shape": ""
          }
         },
         "name": "Sikkim",
         "offsetgroup": "Sikkim",
         "orientation": "v",
         "showlegend": true,
         "textposition": "auto",
         "type": "bar",
         "x": [
          "Sikkim",
          "Sikkim"
         ],
         "xaxis": "x",
         "y": [
          8.2,
          19.75
         ],
         "yaxis": "y"
        },
        {
         "alignmentgroup": "True",
         "hovertemplate": "Region=%{x}<br>Month_name=May<br>Estimated Unemployment Rate=%{y}<extra></extra>",
         "legendgroup": "Tamil Nadu",
         "marker": {
          "color": "rgb(221,132,82)",
          "pattern": {
           "shape": ""
          }
         },
         "name": "Tamil Nadu",
         "offsetgroup": "Tamil Nadu",
         "orientation": "v",
         "showlegend": true,
         "textposition": "auto",
         "type": "bar",
         "x": [
          "Tamil Nadu",
          "Tamil Nadu",
          "Tamil Nadu",
          "Tamil Nadu"
         ],
         "xaxis": "x",
         "y": [
          0.97,
          38.73,
          0.89,
          25.95
         ],
         "yaxis": "y"
        },
        {
         "alignmentgroup": "True",
         "hovertemplate": "Region=%{x}<br>Month_name=May<br>Estimated Unemployment Rate=%{y}<extra></extra>",
         "legendgroup": "Telangana",
         "marker": {
          "color": "rgb(85,168,104)",
          "pattern": {
           "shape": ""
          }
         },
         "name": "Telangana",
         "offsetgroup": "Telangana",
         "orientation": "v",
         "showlegend": true,
         "textposition": "auto",
         "type": "bar",
         "x": [
          "Telangana",
          "Telangana",
          "Telangana",
          "Telangana"
         ],
         "xaxis": "x",
         "y": [
          2.23,
          34.01,
          1.52,
          36.57
         ],
         "yaxis": "y"
        },
        {
         "alignmentgroup": "True",
         "hovertemplate": "Region=%{x}<br>Month_name=May<br>Estimated Unemployment Rate=%{y}<extra></extra>",
         "legendgroup": "Tripura",
         "marker": {
          "color": "rgb(196,78,82)",
          "pattern": {
           "shape": ""
          }
         },
         "name": "Tripura",
         "offsetgroup": "Tripura",
         "orientation": "v",
         "showlegend": true,
         "textposition": "auto",
         "type": "bar",
         "x": [
          "Tripura",
          "Tripura",
          "Tripura",
          "Tripura"
         ],
         "xaxis": "x",
         "y": [
          29.25,
          14.71,
          34.69,
          16.78
         ],
         "yaxis": "y"
        },
        {
         "alignmentgroup": "True",
         "hovertemplate": "Region=%{x}<br>Month_name=May<br>Estimated Unemployment Rate=%{y}<extra></extra>",
         "legendgroup": "Uttar Pradesh",
         "marker": {
          "color": "rgb(129,114,179)",
          "pattern": {
           "shape": ""
          }
         },
         "name": "Uttar Pradesh",
         "offsetgroup": "Uttar Pradesh",
         "orientation": "v",
         "showlegend": true,
         "textposition": "auto",
         "type": "bar",
         "x": [
          "Uttar Pradesh",
          "Uttar Pradesh",
          "Uttar Pradesh",
          "Uttar Pradesh"
         ],
         "xaxis": "x",
         "y": [
          10.26,
          16.89,
          14.4,
          32.06
         ],
         "yaxis": "y"
        },
        {
         "alignmentgroup": "True",
         "hovertemplate": "Region=%{x}<br>Month_name=May<br>Estimated Unemployment Rate=%{y}<extra></extra>",
         "legendgroup": "Uttarakhand",
         "marker": {
          "color": "rgb(147,120,96)",
          "pattern": {
           "shape": ""
          }
         },
         "name": "Uttarakhand",
         "offsetgroup": "Uttarakhand",
         "orientation": "v",
         "showlegend": true,
         "textposition": "auto",
         "type": "bar",
         "x": [
          "Uttarakhand",
          "Uttarakhand",
          "Uttarakhand",
          "Uttarakhand"
         ],
         "xaxis": "x",
         "y": [
          1.63,
          3.57,
          9.17,
          17.36
         ],
         "yaxis": "y"
        },
        {
         "alignmentgroup": "True",
         "hovertemplate": "Region=%{x}<br>Month_name=May<br>Estimated Unemployment Rate=%{y}<extra></extra>",
         "legendgroup": "West Bengal",
         "marker": {
          "color": "rgb(218,139,195)",
          "pattern": {
           "shape": ""
          }
         },
         "name": "West Bengal",
         "offsetgroup": "West Bengal",
         "orientation": "v",
         "showlegend": true,
         "textposition": "auto",
         "type": "bar",
         "x": [
          "West Bengal",
          "West Bengal",
          "West Bengal",
          "West Bengal"
         ],
         "xaxis": "x",
         "y": [
          6.02,
          18.43,
          7.25,
          15.22
         ],
         "yaxis": "y"
        },
        {
         "alignmentgroup": "True",
         "hovertemplate": "Region=%{x}<br>Month_name=May<br>Estimated Unemployment Rate=%{y}<extra></extra>",
         "legendgroup": "Chandigarh",
         "marker": {
          "color": "rgb(140,140,140)",
          "pattern": {
           "shape": ""
          }
         },
         "name": "Chandigarh",
         "offsetgroup": "Chandigarh",
         "orientation": "v",
         "showlegend": true,
         "textposition": "auto",
         "type": "bar",
         "x": [
          "Chandigarh"
         ],
         "xaxis": "x",
         "y": [
          18.35
         ],
         "yaxis": "y"
        }
       ],
       "frames": [
        {
         "data": [
          {
           "alignmentgroup": "True",
           "hovertemplate": "Region=%{x}<br>Month_name=May<br>Estimated Unemployment Rate=%{y}<extra></extra>",
           "legendgroup": "Andhra Pradesh",
           "marker": {
            "color": "rgb(76,114,176)",
            "pattern": {
             "shape": ""
            }
           },
           "name": "Andhra Pradesh",
           "offsetgroup": "Andhra Pradesh",
           "orientation": "v",
           "showlegend": true,
           "textposition": "auto",
           "type": "bar",
           "x": [
            "Andhra Pradesh",
            "Andhra Pradesh",
            "Andhra Pradesh",
            "Andhra Pradesh"
           ],
           "xaxis": "x",
           "y": [
            3.65,
            14.46,
            6.09,
            24.91
           ],
           "yaxis": "y"
          },
          {
           "alignmentgroup": "True",
           "hovertemplate": "Region=%{x}<br>Month_name=May<br>Estimated Unemployment Rate=%{y}<extra></extra>",
           "legendgroup": "Assam",
           "marker": {
            "color": "rgb(221,132,82)",
            "pattern": {
             "shape": ""
            }
           },
           "name": "Assam",
           "offsetgroup": "Assam",
           "orientation": "v",
           "showlegend": true,
           "textposition": "auto",
           "type": "bar",
           "x": [
            "Assam",
            "Assam",
            "Assam",
            "Assam"
           ],
           "xaxis": "x",
           "y": [
            4.29,
            9.38,
            7.87,
            10.77
           ],
           "yaxis": "y"
          },
          {
           "alignmentgroup": "True",
           "hovertemplate": "Region=%{x}<br>Month_name=May<br>Estimated Unemployment Rate=%{y}<extra></extra>",
           "legendgroup": "Bihar",
           "marker": {
            "color": "rgb(85,168,104)",
            "pattern": {
             "shape": ""
            }
           },
           "name": "Bihar",
           "offsetgroup": "Bihar",
           "orientation": "v",
           "showlegend": true,
           "textposition": "auto",
           "type": "bar",
           "x": [
            "Bihar",
            "Bihar",
            "Bihar",
            "Bihar"
           ],
           "xaxis": "x",
           "y": [
            9.27,
            47.26,
            19.9,
            37.87
           ],
           "yaxis": "y"
          },
          {
           "alignmentgroup": "True",
           "hovertemplate": "Region=%{x}<br>Month_name=May<br>Estimated Unemployment Rate=%{y}<extra></extra>",
           "legendgroup": "Chhattisgarh",
           "marker": {
            "color": "rgb(196,78,82)",
            "pattern": {
             "shape": ""
            }
           },
           "name": "Chhattisgarh",
           "offsetgroup": "Chhattisgarh",
           "orientation": "v",
           "showlegend": true,
           "textposition": "auto",
           "type": "bar",
           "x": [
            "Chhattisgarh",
            "Chhattisgarh",
            "Chhattisgarh",
            "Chhattisgarh"
           ],
           "xaxis": "x",
           "y": [
            9.82,
            7.64,
            9.77,
            24.1
           ],
           "yaxis": "y"
          },
          {
           "alignmentgroup": "True",
           "hovertemplate": "Region=%{x}<br>Month_name=May<br>Estimated Unemployment Rate=%{y}<extra></extra>",
           "legendgroup": "Delhi",
           "marker": {
            "color": "rgb(129,114,179)",
            "pattern": {
             "shape": ""
            }
           },
           "name": "Delhi",
           "offsetgroup": "Delhi",
           "orientation": "v",
           "showlegend": true,
           "textposition": "auto",
           "type": "bar",
           "x": [
            "Delhi",
            "Delhi",
            "Delhi",
            "Delhi"
           ],
           "xaxis": "x",
           "y": [
            12.56,
            22.76,
            12.31,
            45.78
           ],
           "yaxis": "y"
          },
          {
           "alignmentgroup": "True",
           "hovertemplate": "Region=%{x}<br>Month_name=May<br>Estimated Unemployment Rate=%{y}<extra></extra>",
           "legendgroup": "Goa",
           "marker": {
            "color": "rgb(147,120,96)",
            "pattern": {
             "shape": ""
            }
           },
           "name": "Goa",
           "offsetgroup": "Goa",
           "orientation": "v",
           "showlegend": true,
           "textposition": "auto",
           "type": "bar",
           "x": [
            "Goa",
            "Goa",
            "Goa"
           ],
           "xaxis": "x",
           "y": [
            2.91,
            20,
            2.75
           ],
           "yaxis": "y"
          },
          {
           "alignmentgroup": "True",
           "hovertemplate": "Region=%{x}<br>Month_name=May<br>Estimated Unemployment Rate=%{y}<extra></extra>",
           "legendgroup": "Gujarat",
           "marker": {
            "color": "rgb(218,139,195)",
            "pattern": {
             "shape": ""
            }
           },
           "name": "Gujarat",
           "offsetgroup": "Gujarat",
           "orientation": "v",
           "showlegend": true,
           "textposition": "auto",
           "type": "bar",
           "x": [
            "Gujarat",
            "Gujarat",
            "Gujarat",
            "Gujarat"
           ],
           "xaxis": "x",
           "y": [
            2.88,
            14.58,
            4.09,
            11.62
           ],
           "yaxis": "y"
          },
          {
           "alignmentgroup": "True",
           "hovertemplate": "Region=%{x}<br>Month_name=May<br>Estimated Unemployment Rate=%{y}<extra></extra>",
           "legendgroup": "Haryana",
           "marker": {
            "color": "rgb(140,140,140)",
            "pattern": {
             "shape": ""
            }
           },
           "name": "Haryana",
           "offsetgroup": "Haryana",
           "orientation": "v",
           "showlegend": true,
           "textposition": "auto",
           "type": "bar",
           "x": [
            "Haryana",
            "Haryana",
            "Haryana",
            "Haryana"
           ],
           "xaxis": "x",
           "y": [
            14.54,
            34.22,
            24.67,
            38.46
           ],
           "yaxis": "y"
          },
          {
           "alignmentgroup": "True",
           "hovertemplate": "Region=%{x}<br>Month_name=May<br>Estimated Unemployment Rate=%{y}<extra></extra>",
           "legendgroup": "Himachal Pradesh",
           "marker": {
            "color": "rgb(204,185,116)",
            "pattern": {
             "shape": ""
            }
           },
           "name": "Himachal Pradesh",
           "offsetgroup": "Himachal Pradesh",
           "orientation": "v",
           "showlegend": true,
           "textposition": "auto",
           "type": "bar",
           "x": [
            "Himachal Pradesh",
            "Himachal Pradesh",
            "Himachal Pradesh",
            "Himachal Pradesh"
           ],
           "xaxis": "x",
           "y": [
            13.68,
            25.64,
            10.88,
            50
           ],
           "yaxis": "y"
          },
          {
           "alignmentgroup": "True",
           "hovertemplate": "Region=%{x}<br>Month_name=May<br>Estimated Unemployment Rate=%{y}<extra></extra>",
           "legendgroup": "Jammu & Kashmir",
           "marker": {
            "color": "rgb(100,181,205)",
            "pattern": {
             "shape": ""
            }
           },
           "name": "Jammu & Kashmir",
           "offsetgroup": "Jammu & Kashmir",
           "orientation": "v",
           "showlegend": true,
           "textposition": "auto",
           "type": "bar",
           "x": [
            "Jammu & Kashmir",
            "Jammu & Kashmir",
            "Jammu & Kashmir",
            "Jammu & Kashmir"
           ],
           "xaxis": "x",
           "y": [
            12.78,
            2.22,
            23.04,
            12.96
           ],
           "yaxis": "y"
          },
          {
           "alignmentgroup": "True",
           "hovertemplate": "Region=%{x}<br>Month_name=May<br>Estimated Unemployment Rate=%{y}<extra></extra>",
           "legendgroup": "Jharkhand",
           "marker": {
            "color": "rgb(76,114,176)",
            "pattern": {
             "shape": ""
            }
           },
           "name": "Jharkhand",
           "offsetgroup": "Jharkhand",
           "orientation": "v",
           "showlegend": true,
           "textposition": "auto",
           "type": "bar",
           "x": [
            "Jharkhand",
            "Jharkhand",
            "Jharkhand",
            "Jharkhand"
           ],
           "xaxis": "x",
           "y": [
            7.11,
            55.1,
            17.23,
            70.17
           ],
           "yaxis": "y"
          },
          {
           "alignmentgroup": "True",
           "hovertemplate": "Region=%{x}<br>Month_name=May<br>Estimated Unemployment Rate=%{y}<extra></extra>",
           "legendgroup": "Karnataka",
           "marker": {
            "color": "rgb(221,132,82)",
            "pattern": {
             "shape": ""
            }
           },
           "name": "Karnataka",
           "offsetgroup": "Karnataka",
           "orientation": "v",
           "showlegend": true,
           "textposition": "auto",
           "type": "bar",
           "x": [
            "Karnataka",
            "Karnataka",
            "Karnataka",
            "Karnataka"
           ],
           "xaxis": "x",
           "y": [
            5.46,
            23.72,
            6.56,
            15.88
           ],
           "yaxis": "y"
          },
          {
           "alignmentgroup": "True",
           "hovertemplate": "Region=%{x}<br>Month_name=May<br>Estimated Unemployment Rate=%{y}<extra></extra>",
           "legendgroup": "Kerala",
           "marker": {
            "color": "rgb(85,168,104)",
            "pattern": {
             "shape": ""
            }
           },
           "name": "Kerala",
           "offsetgroup": "Kerala",
           "orientation": "v",
           "showlegend": true,
           "textposition": "auto",
           "type": "bar",
           "x": [
            "Kerala",
            "Kerala",
            "Kerala",
            "Kerala"
           ],
           "xaxis": "x",
           "y": [
            6.63,
            23.38,
            6.11,
            30.28
           ],
           "yaxis": "y"
          },
          {
           "alignmentgroup": "True",
           "hovertemplate": "Region=%{x}<br>Month_name=May<br>Estimated Unemployment Rate=%{y}<extra></extra>",
           "legendgroup": "Madhya Pradesh",
           "marker": {
            "color": "rgb(196,78,82)",
            "pattern": {
             "shape": ""
            }
           },
           "name": "Madhya Pradesh",
           "offsetgroup": "Madhya Pradesh",
           "orientation": "v",
           "showlegend": true,
           "textposition": "auto",
           "type": "bar",
           "x": [
            "Madhya Pradesh",
            "Madhya Pradesh",
            "Madhya Pradesh",
            "Madhya Pradesh"
           ],
           "xaxis": "x",
           "y": [
            3.63,
            22.46,
            3.91,
            40.49
           ],
           "yaxis": "y"
          },
          {
           "alignmentgroup": "True",
           "hovertemplate": "Region=%{x}<br>Month_name=May<br>Estimated Unemployment Rate=%{y}<extra></extra>",
           "legendgroup": "Maharashtra",
           "marker": {
            "color": "rgb(129,114,179)",
            "pattern": {
             "shape": ""
            }
           },
           "name": "Maharashtra",
           "offsetgroup": "Maharashtra",
           "orientation": "v",
           "showlegend": true,
           "textposition": "auto",
           "type": "bar",
           "x": [
            "Maharashtra",
            "Maharashtra",
            "Maharashtra",
            "Maharashtra"
           ],
           "xaxis": "x",
           "y": [
            3.67,
            16.89,
            6.08,
            15.92
           ],
           "yaxis": "y"
          },
          {
           "alignmentgroup": "True",
           "hovertemplate": "Region=%{x}<br>Month_name=May<br>Estimated Unemployment Rate=%{y}<extra></extra>",
           "legendgroup": "Meghalaya",
           "marker": {
            "color": "rgb(147,120,96)",
            "pattern": {
             "shape": ""
            }
           },
           "name": "Meghalaya",
           "offsetgroup": "Meghalaya",
           "orientation": "v",
           "showlegend": true,
           "textposition": "auto",
           "type": "bar",
           "x": [
            "Meghalaya",
            "Meghalaya",
            "Meghalaya",
            "Meghalaya"
           ],
           "xaxis": "x",
           "y": [
            3.16,
            3.73,
            8.4,
            14.58
           ],
           "yaxis": "y"
          },
          {
           "alignmentgroup": "True",
           "hovertemplate": "Region=%{x}<br>Month_name=May<br>Estimated Unemployment Rate=%{y}<extra></extra>",
           "legendgroup": "Odisha",
           "marker": {
            "color": "rgb(218,139,195)",
            "pattern": {
             "shape": ""
            }
           },
           "name": "Odisha",
           "offsetgroup": "Odisha",
           "orientation": "v",
           "showlegend": true,
           "textposition": "auto",
           "type": "bar",
           "x": [
            "Odisha",
            "Odisha",
            "Odisha",
            "Odisha"
           ],
           "xaxis": "x",
           "y": [
            4.17,
            9.45,
            2.95,
            10
           ],
           "yaxis": "y"
          },
          {
           "alignmentgroup": "True",
           "hovertemplate": "Region=%{x}<br>Month_name=May<br>Estimated Unemployment Rate=%{y}<extra></extra>",
           "legendgroup": "Puducherry",
           "marker": {
            "color": "rgb(140,140,140)",
            "pattern": {
             "shape": ""
            }
           },
           "name": "Puducherry",
           "offsetgroup": "Puducherry",
           "orientation": "v",
           "showlegend": true,
           "textposition": "auto",
           "type": "bar",
           "x": [
            "Puducherry",
            "Puducherry",
            "Puducherry"
           ],
           "xaxis": "x",
           "y": [
            0,
            1.25,
            75
           ],
           "yaxis": "y"
          },
          {
           "alignmentgroup": "True",
           "hovertemplate": "Region=%{x}<br>Month_name=May<br>Estimated Unemployment Rate=%{y}<extra></extra>",
           "legendgroup": "Punjab",
           "marker": {
            "color": "rgb(204,185,116)",
            "pattern": {
             "shape": ""
            }
           },
           "name": "Punjab",
           "offsetgroup": "Punjab",
           "orientation": "v",
           "showlegend": true,
           "textposition": "auto",
           "type": "bar",
           "x": [
            "Punjab",
            "Punjab",
            "Punjab",
            "Punjab"
           ],
           "xaxis": "x",
           "y": [
            9.17,
            40.59,
            13.49,
            20.54
           ],
           "yaxis": "y"
          },
          {
           "alignmentgroup": "True",
           "hovertemplate": "Region=%{x}<br>Month_name=May<br>Estimated Unemployment Rate=%{y}<extra></extra>",
           "legendgroup": "Rajasthan",
           "marker": {
            "color": "rgb(100,181,205)",
            "pattern": {
             "shape": ""
            }
           },
           "name": "Rajasthan",
           "offsetgroup": "Rajasthan",
           "orientation": "v",
           "showlegend": true,
           "textposition": "auto",
           "type": "bar",
           "x": [
            "Rajasthan",
            "Rajasthan",
            "Rajasthan",
            "Rajasthan"
           ],
           "xaxis": "x",
           "y": [
            4.03,
            10.45,
            13.62,
            25.35
           ],
           "yaxis": "y"
          },
          {
           "alignmentgroup": "True",
           "hovertemplate": "Region=%{x}<br>Month_name=May<br>Estimated Unemployment Rate=%{y}<extra></extra>",
           "legendgroup": "Sikkim",
           "marker": {
            "color": "rgb(76,114,176)",
            "pattern": {
             "shape": ""
            }
           },
           "name": "Sikkim",
           "offsetgroup": "Sikkim",
           "orientation": "v",
           "showlegend": true,
           "textposition": "auto",
           "type": "bar",
           "x": [
            "Sikkim",
            "Sikkim"
           ],
           "xaxis": "x",
           "y": [
            8.2,
            19.75
           ],
           "yaxis": "y"
          },
          {
           "alignmentgroup": "True",
           "hovertemplate": "Region=%{x}<br>Month_name=May<br>Estimated Unemployment Rate=%{y}<extra></extra>",
           "legendgroup": "Tamil Nadu",
           "marker": {
            "color": "rgb(221,132,82)",
            "pattern": {
             "shape": ""
            }
           },
           "name": "Tamil Nadu",
           "offsetgroup": "Tamil Nadu",
           "orientation": "v",
           "showlegend": true,
           "textposition": "auto",
           "type": "bar",
           "x": [
            "Tamil Nadu",
            "Tamil Nadu",
            "Tamil Nadu",
            "Tamil Nadu"
           ],
           "xaxis": "x",
           "y": [
            0.97,
            38.73,
            0.89,
            25.95
           ],
           "yaxis": "y"
          },
          {
           "alignmentgroup": "True",
           "hovertemplate": "Region=%{x}<br>Month_name=May<br>Estimated Unemployment Rate=%{y}<extra></extra>",
           "legendgroup": "Telangana",
           "marker": {
            "color": "rgb(85,168,104)",
            "pattern": {
             "shape": ""
            }
           },
           "name": "Telangana",
           "offsetgroup": "Telangana",
           "orientation": "v",
           "showlegend": true,
           "textposition": "auto",
           "type": "bar",
           "x": [
            "Telangana",
            "Telangana",
            "Telangana",
            "Telangana"
           ],
           "xaxis": "x",
           "y": [
            2.23,
            34.01,
            1.52,
            36.57
           ],
           "yaxis": "y"
          },
          {
           "alignmentgroup": "True",
           "hovertemplate": "Region=%{x}<br>Month_name=May<br>Estimated Unemployment Rate=%{y}<extra></extra>",
           "legendgroup": "Tripura",
           "marker": {
            "color": "rgb(196,78,82)",
            "pattern": {
             "shape": ""
            }
           },
           "name": "Tripura",
           "offsetgroup": "Tripura",
           "orientation": "v",
           "showlegend": true,
           "textposition": "auto",
           "type": "bar",
           "x": [
            "Tripura",
            "Tripura",
            "Tripura",
            "Tripura"
           ],
           "xaxis": "x",
           "y": [
            29.25,
            14.71,
            34.69,
            16.78
           ],
           "yaxis": "y"
          },
          {
           "alignmentgroup": "True",
           "hovertemplate": "Region=%{x}<br>Month_name=May<br>Estimated Unemployment Rate=%{y}<extra></extra>",
           "legendgroup": "Uttar Pradesh",
           "marker": {
            "color": "rgb(129,114,179)",
            "pattern": {
             "shape": ""
            }
           },
           "name": "Uttar Pradesh",
           "offsetgroup": "Uttar Pradesh",
           "orientation": "v",
           "showlegend": true,
           "textposition": "auto",
           "type": "bar",
           "x": [
            "Uttar Pradesh",
            "Uttar Pradesh",
            "Uttar Pradesh",
            "Uttar Pradesh"
           ],
           "xaxis": "x",
           "y": [
            10.26,
            16.89,
            14.4,
            32.06
           ],
           "yaxis": "y"
          },
          {
           "alignmentgroup": "True",
           "hovertemplate": "Region=%{x}<br>Month_name=May<br>Estimated Unemployment Rate=%{y}<extra></extra>",
           "legendgroup": "Uttarakhand",
           "marker": {
            "color": "rgb(147,120,96)",
            "pattern": {
             "shape": ""
            }
           },
           "name": "Uttarakhand",
           "offsetgroup": "Uttarakhand",
           "orientation": "v",
           "showlegend": true,
           "textposition": "auto",
           "type": "bar",
           "x": [
            "Uttarakhand",
            "Uttarakhand",
            "Uttarakhand",
            "Uttarakhand"
           ],
           "xaxis": "x",
           "y": [
            1.63,
            3.57,
            9.17,
            17.36
           ],
           "yaxis": "y"
          },
          {
           "alignmentgroup": "True",
           "hovertemplate": "Region=%{x}<br>Month_name=May<br>Estimated Unemployment Rate=%{y}<extra></extra>",
           "legendgroup": "West Bengal",
           "marker": {
            "color": "rgb(218,139,195)",
            "pattern": {
             "shape": ""
            }
           },
           "name": "West Bengal",
           "offsetgroup": "West Bengal",
           "orientation": "v",
           "showlegend": true,
           "textposition": "auto",
           "type": "bar",
           "x": [
            "West Bengal",
            "West Bengal",
            "West Bengal",
            "West Bengal"
           ],
           "xaxis": "x",
           "y": [
            6.02,
            18.43,
            7.25,
            15.22
           ],
           "yaxis": "y"
          },
          {
           "alignmentgroup": "True",
           "hovertemplate": "Region=%{x}<br>Month_name=May<br>Estimated Unemployment Rate=%{y}<extra></extra>",
           "legendgroup": "Chandigarh",
           "marker": {
            "color": "rgb(140,140,140)",
            "pattern": {
             "shape": ""
            }
           },
           "name": "Chandigarh",
           "offsetgroup": "Chandigarh",
           "orientation": "v",
           "showlegend": true,
           "textposition": "auto",
           "type": "bar",
           "x": [
            "Chandigarh"
           ],
           "xaxis": "x",
           "y": [
            18.35
           ],
           "yaxis": "y"
          }
         ],
         "name": "May"
        },
        {
         "data": [
          {
           "alignmentgroup": "True",
           "hovertemplate": "Region=%{x}<br>Month_name=Jun<br>Estimated Unemployment Rate=%{y}<extra></extra>",
           "legendgroup": "Andhra Pradesh",
           "marker": {
            "color": "rgb(76,114,176)",
            "pattern": {
             "shape": ""
            }
           },
           "name": "Andhra Pradesh",
           "offsetgroup": "Andhra Pradesh",
           "orientation": "v",
           "showlegend": true,
           "textposition": "auto",
           "type": "bar",
           "x": [
            "Andhra Pradesh",
            "Andhra Pradesh",
            "Andhra Pradesh",
            "Andhra Pradesh"
           ],
           "xaxis": "x",
           "y": [
            3.05,
            0.85,
            3.8,
            5.86
           ],
           "yaxis": "y"
          },
          {
           "alignmentgroup": "True",
           "hovertemplate": "Region=%{x}<br>Month_name=Jun<br>Estimated Unemployment Rate=%{y}<extra></extra>",
           "legendgroup": "Assam",
           "marker": {
            "color": "rgb(221,132,82)",
            "pattern": {
             "shape": ""
            }
           },
           "name": "Assam",
           "offsetgroup": "Assam",
           "orientation": "v",
           "showlegend": true,
           "textposition": "auto",
           "type": "bar",
           "x": [
            "Assam",
            "Assam",
            "Assam",
            "Assam"
           ],
           "xaxis": "x",
           "y": [
            5.08,
            0,
            9.89,
            3.42
           ],
           "yaxis": "y"
          },
          {
           "alignmentgroup": "True",
           "hovertemplate": "Region=%{x}<br>Month_name=Jun<br>Estimated Unemployment Rate=%{y}<extra></extra>",
           "legendgroup": "Bihar",
           "marker": {
            "color": "rgb(85,168,104)",
            "pattern": {
             "shape": ""
            }
           },
           "name": "Bihar",
           "offsetgroup": "Bihar",
           "orientation": "v",
           "showlegend": true,
           "textposition": "auto",
           "type": "bar",
           "x": [
            "Bihar",
            "Bihar",
            "Bihar",
            "Bihar"
           ],
           "xaxis": "x",
           "y": [
            10.2,
            20.49,
            13.29,
            12.45
           ],
           "yaxis": "y"
          },
          {
           "alignmentgroup": "True",
           "hovertemplate": "Region=%{x}<br>Month_name=Jun<br>Estimated Unemployment Rate=%{y}<extra></extra>",
           "legendgroup": "Chhattisgarh",
           "marker": {
            "color": "rgb(196,78,82)",
            "pattern": {
             "shape": ""
            }
           },
           "name": "Chhattisgarh",
           "offsetgroup": "Chhattisgarh",
           "orientation": "v",
           "showlegend": true,
           "textposition": "auto",
           "type": "bar",
           "x": [
            "Chhattisgarh",
            "Chhattisgarh",
            "Chhattisgarh",
            "Chhattisgarh"
           ],
           "xaxis": "x",
           "y": [
            6.76,
            10.14,
            11.77,
            27.07
           ],
           "yaxis": "y"
          },
          {
           "alignmentgroup": "True",
           "hovertemplate": "Region=%{x}<br>Month_name=Jun<br>Estimated Unemployment Rate=%{y}<extra></extra>",
           "legendgroup": "Delhi",
           "marker": {
            "color": "rgb(129,114,179)",
            "pattern": {
             "shape": ""
            }
           },
           "name": "Delhi",
           "offsetgroup": "Delhi",
           "orientation": "v",
           "showlegend": true,
           "textposition": "auto",
           "type": "bar",
           "x": [
            "Delhi",
            "Delhi",
            "Delhi",
            "Delhi"
           ],
           "xaxis": "x",
           "y": [
            9.33,
            21.14,
            12.76,
            18.11
           ],
           "yaxis": "y"
          },
          {
           "alignmentgroup": "True",
           "hovertemplate": "Region=%{x}<br>Month_name=Jun<br>Estimated Unemployment Rate=%{y}<extra></extra>",
           "legendgroup": "Goa",
           "marker": {
            "color": "rgb(147,120,96)",
            "pattern": {
             "shape": ""
            }
           },
           "name": "Goa",
           "offsetgroup": "Goa",
           "orientation": "v",
           "showlegend": true,
           "textposition": "auto",
           "type": "bar",
           "x": [
            "Goa",
            "Goa"
           ],
           "xaxis": "x",
           "y": [
            5.45,
            13.33
           ],
           "yaxis": "y"
          },
          {
           "alignmentgroup": "True",
           "hovertemplate": "Region=%{x}<br>Month_name=Jun<br>Estimated Unemployment Rate=%{y}<extra></extra>",
           "legendgroup": "Gujarat",
           "marker": {
            "color": "rgb(218,139,195)",
            "pattern": {
             "shape": ""
            }
           },
           "name": "Gujarat",
           "offsetgroup": "Gujarat",
           "orientation": "v",
           "showlegend": true,
           "textposition": "auto",
           "type": "bar",
           "x": [
            "Gujarat",
            "Gujarat",
            "Gujarat",
            "Gujarat"
           ],
           "xaxis": "x",
           "y": [
            4.77,
            1.41,
            6.31,
            4.54
           ],
           "yaxis": "y"
          },
          {
           "alignmentgroup": "True",
           "hovertemplate": "Region=%{x}<br>Month_name=Jun<br>Estimated Unemployment Rate=%{y}<extra></extra>",
           "legendgroup": "Haryana",
           "marker": {
            "color": "rgb(140,140,140)",
            "pattern": {
             "shape": ""
            }
           },
           "name": "Haryana",
           "offsetgroup": "Haryana",
           "orientation": "v",
           "showlegend": true,
           "textposition": "auto",
           "type": "bar",
           "x": [
            "Haryana",
            "Haryana",
            "Haryana",
            "Haryana"
           ],
           "xaxis": "x",
           "y": [
            23.08,
            35.57,
            20.42,
            29.41
           ],
           "yaxis": "y"
          },
          {
           "alignmentgroup": "True",
           "hovertemplate": "Region=%{x}<br>Month_name=Jun<br>Estimated Unemployment Rate=%{y}<extra></extra>",
           "legendgroup": "Himachal Pradesh",
           "marker": {
            "color": "rgb(204,185,116)",
            "pattern": {
             "shape": ""
            }
           },
           "name": "Himachal Pradesh",
           "offsetgroup": "Himachal Pradesh",
           "orientation": "v",
           "showlegend": true,
           "textposition": "auto",
           "type": "bar",
           "x": [
            "Himachal Pradesh",
            "Himachal Pradesh",
            "Himachal Pradesh",
            "Himachal Pradesh"
           ],
           "xaxis": "x",
           "y": [
            11.43,
            1.12,
            21.43,
            10.81
           ],
           "yaxis": "y"
          },
          {
           "alignmentgroup": "True",
           "hovertemplate": "Region=%{x}<br>Month_name=Jun<br>Estimated Unemployment Rate=%{y}<extra></extra>",
           "legendgroup": "Jammu & Kashmir",
           "marker": {
            "color": "rgb(100,181,205)",
            "pattern": {
             "shape": ""
            }
           },
           "name": "Jammu & Kashmir",
           "offsetgroup": "Jammu & Kashmir",
           "orientation": "v",
           "showlegend": true,
           "textposition": "auto",
           "type": "bar",
           "x": [
            "Jammu & Kashmir",
            "Jammu & Kashmir",
            "Jammu & Kashmir"
           ],
           "xaxis": "x",
           "y": [
            12.09,
            18.97,
            19.88
           ],
           "yaxis": "y"
          },
          {
           "alignmentgroup": "True",
           "hovertemplate": "Region=%{x}<br>Month_name=Jun<br>Estimated Unemployment Rate=%{y}<extra></extra>",
           "legendgroup": "Jharkhand",
           "marker": {
            "color": "rgb(76,114,176)",
            "pattern": {
             "shape": ""
            }
           },
           "name": "Jharkhand",
           "offsetgroup": "Jharkhand",
           "orientation": "v",
           "showlegend": true,
           "textposition": "auto",
           "type": "bar",
           "x": [
            "Jharkhand",
            "Jharkhand",
            "Jharkhand",
            "Jharkhand"
           ],
           "xaxis": "x",
           "y": [
            8.46,
            21.53,
            20.51,
            19.38
           ],
           "yaxis": "y"
          },
          {
           "alignmentgroup": "True",
           "hovertemplate": "Region=%{x}<br>Month_name=Jun<br>Estimated Unemployment Rate=%{y}<extra></extra>",
           "legendgroup": "Karnataka",
           "marker": {
            "color": "rgb(221,132,82)",
            "pattern": {
             "shape": ""
            }
           },
           "name": "Karnataka",
           "offsetgroup": "Karnataka",
           "orientation": "v",
           "showlegend": true,
           "textposition": "auto",
           "type": "bar",
           "x": [
            "Karnataka",
            "Karnataka",
            "Karnataka",
            "Karnataka"
           ],
           "xaxis": "x",
           "y": [
            5.98,
            10.92,
            5,
            6.12
           ],
           "yaxis": "y"
          },
          {
           "alignmentgroup": "True",
           "hovertemplate": "Region=%{x}<br>Month_name=Jun<br>Estimated Unemployment Rate=%{y}<extra></extra>",
           "legendgroup": "Kerala",
           "marker": {
            "color": "rgb(85,168,104)",
            "pattern": {
             "shape": ""
            }
           },
           "name": "Kerala",
           "offsetgroup": "Kerala",
           "orientation": "v",
           "showlegend": true,
           "textposition": "auto",
           "type": "bar",
           "x": [
            "Kerala",
            "Kerala",
            "Kerala",
            "Kerala"
           ],
           "xaxis": "x",
           "y": [
            9,
            27.66,
            6.67,
            12.17
           ],
           "yaxis": "y"
          },
          {
           "alignmentgroup": "True",
           "hovertemplate": "Region=%{x}<br>Month_name=Jun<br>Estimated Unemployment Rate=%{y}<extra></extra>",
           "legendgroup": "Madhya Pradesh",
           "marker": {
            "color": "rgb(196,78,82)",
            "pattern": {
             "shape": ""
            }
           },
           "name": "Madhya Pradesh",
           "offsetgroup": "Madhya Pradesh",
           "orientation": "v",
           "showlegend": true,
           "textposition": "auto",
           "type": "bar",
           "x": [
            "Madhya Pradesh",
            "Madhya Pradesh",
            "Madhya Pradesh",
            "Madhya Pradesh"
           ],
           "xaxis": "x",
           "y": [
            4.25,
            6.46,
            6.38,
            12.72
           ],
           "yaxis": "y"
          },
          {
           "alignmentgroup": "True",
           "hovertemplate": "Region=%{x}<br>Month_name=Jun<br>Estimated Unemployment Rate=%{y}<extra></extra>",
           "legendgroup": "Maharashtra",
           "marker": {
            "color": "rgb(129,114,179)",
            "pattern": {
             "shape": ""
            }
           },
           "name": "Maharashtra",
           "offsetgroup": "Maharashtra",
           "orientation": "v",
           "showlegend": true,
           "textposition": "auto",
           "type": "bar",
           "x": [
            "Maharashtra",
            "Maharashtra",
            "Maharashtra",
            "Maharashtra"
           ],
           "xaxis": "x",
           "y": [
            4.34,
            9.4,
            6.46,
            10.01
           ],
           "yaxis": "y"
          },
          {
           "alignmentgroup": "True",
           "hovertemplate": "Region=%{x}<br>Month_name=Jun<br>Estimated Unemployment Rate=%{y}<extra></extra>",
           "legendgroup": "Meghalaya",
           "marker": {
            "color": "rgb(147,120,96)",
            "pattern": {
             "shape": ""
            }
           },
           "name": "Meghalaya",
           "offsetgroup": "Meghalaya",
           "orientation": "v",
           "showlegend": true,
           "textposition": "auto",
           "type": "bar",
           "x": [
            "Meghalaya",
            "Meghalaya",
            "Meghalaya"
           ],
           "xaxis": "x",
           "y": [
            4.23,
            1.35,
            8.66
           ],
           "yaxis": "y"
          },
          {
           "alignmentgroup": "True",
           "hovertemplate": "Region=%{x}<br>Month_name=Jun<br>Estimated Unemployment Rate=%{y}<extra></extra>",
           "legendgroup": "Odisha",
           "marker": {
            "color": "rgb(218,139,195)",
            "pattern": {
             "shape": ""
            }
           },
           "name": "Odisha",
           "offsetgroup": "Odisha",
           "orientation": "v",
           "showlegend": true,
           "textposition": "auto",
           "type": "bar",
           "x": [
            "Odisha",
            "Odisha",
            "Odisha",
            "Odisha"
           ],
           "xaxis": "x",
           "y": [
            4.71,
            4.59,
            2.63,
            2.18
           ],
           "yaxis": "y"
          },
          {
           "alignmentgroup": "True",
           "hovertemplate": "Region=%{x}<br>Month_name=Jun<br>Estimated Unemployment Rate=%{y}<extra></extra>",
           "legendgroup": "Puducherry",
           "marker": {
            "color": "rgb(140,140,140)",
            "pattern": {
             "shape": ""
            }
           },
           "name": "Puducherry",
           "offsetgroup": "Puducherry",
           "orientation": "v",
           "showlegend": true,
           "textposition": "auto",
           "type": "bar",
           "x": [
            "Puducherry",
            "Puducherry",
            "Puducherry"
           ],
           "xaxis": "x",
           "y": [
            0,
            0,
            4.55
           ],
           "yaxis": "y"
          },
          {
           "alignmentgroup": "True",
           "hovertemplate": "Region=%{x}<br>Month_name=Jun<br>Estimated Unemployment Rate=%{y}<extra></extra>",
           "legendgroup": "Punjab",
           "marker": {
            "color": "rgb(204,185,116)",
            "pattern": {
             "shape": ""
            }
           },
           "name": "Punjab",
           "offsetgroup": "Punjab",
           "orientation": "v",
           "showlegend": true,
           "textposition": "auto",
           "type": "bar",
           "x": [
            "Punjab",
            "Punjab",
            "Punjab",
            "Punjab"
           ],
           "xaxis": "x",
           "y": [
            12.21,
            20,
            13.17,
            10.55
           ],
           "yaxis": "y"
          },
          {
           "alignmentgroup": "True",
           "hovertemplate": "Region=%{x}<br>Month_name=Jun<br>Estimated Unemployment Rate=%{y}<extra></extra>",
           "legendgroup": "Rajasthan",
           "marker": {
            "color": "rgb(100,181,205)",
            "pattern": {
             "shape": ""
            }
           },
           "name": "Rajasthan",
           "offsetgroup": "Rajasthan",
           "orientation": "v",
           "showlegend": true,
           "textposition": "auto",
           "type": "bar",
           "x": [
            "Rajasthan",
            "Rajasthan",
            "Rajasthan",
            "Rajasthan"
           ],
           "xaxis": "x",
           "y": [
            13.7,
            13.86,
            14.36,
            13.04
           ],
           "yaxis": "y"
          },
          {
           "alignmentgroup": "True",
           "hovertemplate": "Region=%{x}<br>Month_name=Jun<br>Estimated Unemployment Rate=%{y}<extra></extra>",
           "legendgroup": "Sikkim",
           "marker": {
            "color": "rgb(76,114,176)",
            "pattern": {
             "shape": ""
            }
           },
           "name": "Sikkim",
           "offsetgroup": "Sikkim",
           "orientation": "v",
           "showlegend": true,
           "textposition": "auto",
           "type": "bar",
           "x": [
            "Sikkim",
            "Sikkim",
            "Sikkim"
           ],
           "xaxis": "x",
           "y": [
            5.81,
            7.76,
            2.63
           ],
           "yaxis": "y"
          },
          {
           "alignmentgroup": "True",
           "hovertemplate": "Region=%{x}<br>Month_name=Jun<br>Estimated Unemployment Rate=%{y}<extra></extra>",
           "legendgroup": "Tamil Nadu",
           "marker": {
            "color": "rgb(221,132,82)",
            "pattern": {
             "shape": ""
            }
           },
           "name": "Tamil Nadu",
           "offsetgroup": "Tamil Nadu",
           "orientation": "v",
           "showlegend": true,
           "textposition": "auto",
           "type": "bar",
           "x": [
            "Tamil Nadu",
            "Tamil Nadu",
            "Tamil Nadu",
            "Tamil Nadu"
           ],
           "xaxis": "x",
           "y": [
            0.92,
            2.06,
            1.56,
            24.93
           ],
           "yaxis": "y"
          },
          {
           "alignmentgroup": "True",
           "hovertemplate": "Region=%{x}<br>Month_name=Jun<br>Estimated Unemployment Rate=%{y}<extra></extra>",
           "legendgroup": "Telangana",
           "marker": {
            "color": "rgb(85,168,104)",
            "pattern": {
             "shape": ""
            }
           },
           "name": "Telangana",
           "offsetgroup": "Telangana",
           "orientation": "v",
           "showlegend": true,
           "textposition": "auto",
           "type": "bar",
           "x": [
            "Telangana",
            "Telangana",
            "Telangana",
            "Telangana"
           ],
           "xaxis": "x",
           "y": [
            5.92,
            19.3,
            1.43,
            6.92
           ],
           "yaxis": "y"
          },
          {
           "alignmentgroup": "True",
           "hovertemplate": "Region=%{x}<br>Month_name=Jun<br>Estimated Unemployment Rate=%{y}<extra></extra>",
           "legendgroup": "Tripura",
           "marker": {
            "color": "rgb(196,78,82)",
            "pattern": {
             "shape": ""
            }
           },
           "name": "Tripura",
           "offsetgroup": "Tripura",
           "orientation": "v",
           "showlegend": true,
           "textposition": "auto",
           "type": "bar",
           "x": [
            "Tripura",
            "Tripura",
            "Tripura",
            "Tripura"
           ],
           "xaxis": "x",
           "y": [
            26.64,
            18.84,
            25.59,
            27.47
           ],
           "yaxis": "y"
          },
          {
           "alignmentgroup": "True",
           "hovertemplate": "Region=%{x}<br>Month_name=Jun<br>Estimated Unemployment Rate=%{y}<extra></extra>",
           "legendgroup": "Uttar Pradesh",
           "marker": {
            "color": "rgb(129,114,179)",
            "pattern": {
             "shape": ""
            }
           },
           "name": "Uttar Pradesh",
           "offsetgroup": "Uttar Pradesh",
           "orientation": "v",
           "showlegend": true,
           "textposition": "auto",
           "type": "bar",
           "x": [
            "Uttar Pradesh",
            "Uttar Pradesh",
            "Uttar Pradesh",
            "Uttar Pradesh"
           ],
           "xaxis": "x",
           "y": [
            11.13,
            8.51,
            11.62,
            13.05
           ],
           "yaxis": "y"
          },
          {
           "alignmentgroup": "True",
           "hovertemplate": "Region=%{x}<br>Month_name=Jun<br>Estimated Unemployment Rate=%{y}<extra></extra>",
           "legendgroup": "Uttarakhand",
           "marker": {
            "color": "rgb(147,120,96)",
            "pattern": {
             "shape": ""
            }
           },
           "name": "Uttarakhand",
           "offsetgroup": "Uttarakhand",
           "orientation": "v",
           "showlegend": true,
           "textposition": "auto",
           "type": "bar",
           "x": [
            "Uttarakhand",
            "Uttarakhand",
            "Uttarakhand",
            "Uttarakhand"
           ],
           "xaxis": "x",
           "y": [
            4.65,
            10.71,
            4.69,
            5.08
           ],
           "yaxis": "y"
          },
          {
           "alignmentgroup": "True",
           "hovertemplate": "Region=%{x}<br>Month_name=Jun<br>Estimated Unemployment Rate=%{y}<extra></extra>",
           "legendgroup": "West Bengal",
           "marker": {
            "color": "rgb(218,139,195)",
            "pattern": {
             "shape": ""
            }
           },
           "name": "West Bengal",
           "offsetgroup": "West Bengal",
           "orientation": "v",
           "showlegend": true,
           "textposition": "auto",
           "type": "bar",
           "x": [
            "West Bengal",
            "West Bengal",
            "West Bengal",
            "West Bengal"
           ],
           "xaxis": "x",
           "y": [
            5.85,
            4.94,
            7.38,
            9.86
           ],
           "yaxis": "y"
          },
          {
           "alignmentgroup": "True",
           "hovertemplate": "Region=%{x}<br>Month_name=Jun<br>Estimated Unemployment Rate=%{y}<extra></extra>",
           "legendgroup": "Chandigarh",
           "marker": {
            "color": "rgb(140,140,140)",
            "pattern": {
             "shape": ""
            }
           },
           "name": "Chandigarh",
           "offsetgroup": "Chandigarh",
           "orientation": "v",
           "showlegend": true,
           "textposition": "auto",
           "type": "bar",
           "x": [
            "Chandigarh",
            "Chandigarh"
           ],
           "xaxis": "x",
           "y": [
            12.4,
            7.22
           ],
           "yaxis": "y"
          }
         ],
         "name": "Jun"
        },
        {
         "data": [
          {
           "alignmentgroup": "True",
           "hovertemplate": "Region=%{x}<br>Month_name=Jul<br>Estimated Unemployment Rate=%{y}<extra></extra>",
           "legendgroup": "Andhra Pradesh",
           "marker": {
            "color": "rgb(76,114,176)",
            "pattern": {
             "shape": ""
            }
           },
           "name": "Andhra Pradesh",
           "offsetgroup": "Andhra Pradesh",
           "orientation": "v",
           "showlegend": true,
           "textposition": "auto",
           "type": "bar",
           "x": [
            "Andhra Pradesh",
            "Andhra Pradesh"
           ],
           "xaxis": "x",
           "y": [
            3.75,
            5.64
           ],
           "yaxis": "y"
          },
          {
           "alignmentgroup": "True",
           "hovertemplate": "Region=%{x}<br>Month_name=Jul<br>Estimated Unemployment Rate=%{y}<extra></extra>",
           "legendgroup": "Assam",
           "marker": {
            "color": "rgb(221,132,82)",
            "pattern": {
             "shape": ""
            }
           },
           "name": "Assam",
           "offsetgroup": "Assam",
           "orientation": "v",
           "showlegend": true,
           "textposition": "auto",
           "type": "bar",
           "x": [
            "Assam",
            "Assam"
           ],
           "xaxis": "x",
           "y": [
            4.26,
            3.21
           ],
           "yaxis": "y"
          },
          {
           "alignmentgroup": "True",
           "hovertemplate": "Region=%{x}<br>Month_name=Jul<br>Estimated Unemployment Rate=%{y}<extra></extra>",
           "legendgroup": "Bihar",
           "marker": {
            "color": "rgb(85,168,104)",
            "pattern": {
             "shape": ""
            }
           },
           "name": "Bihar",
           "offsetgroup": "Bihar",
           "orientation": "v",
           "showlegend": true,
           "textposition": "auto",
           "type": "bar",
           "x": [
            "Bihar",
            "Bihar"
           ],
           "xaxis": "x",
           "y": [
            13.44,
            16.41
           ],
           "yaxis": "y"
          },
          {
           "alignmentgroup": "True",
           "hovertemplate": "Region=%{x}<br>Month_name=Jul<br>Estimated Unemployment Rate=%{y}<extra></extra>",
           "legendgroup": "Chhattisgarh",
           "marker": {
            "color": "rgb(196,78,82)",
            "pattern": {
             "shape": ""
            }
           },
           "name": "Chhattisgarh",
           "offsetgroup": "Chhattisgarh",
           "orientation": "v",
           "showlegend": true,
           "textposition": "auto",
           "type": "bar",
           "x": [
            "Chhattisgarh",
            "Chhattisgarh"
           ],
           "xaxis": "x",
           "y": [
            4.54,
            8.17
           ],
           "yaxis": "y"
          },
          {
           "alignmentgroup": "True",
           "hovertemplate": "Region=%{x}<br>Month_name=Jul<br>Estimated Unemployment Rate=%{y}<extra></extra>",
           "legendgroup": "Delhi",
           "marker": {
            "color": "rgb(129,114,179)",
            "pattern": {
             "shape": ""
            }
           },
           "name": "Delhi",
           "offsetgroup": "Delhi",
           "orientation": "v",
           "showlegend": true,
           "textposition": "auto",
           "type": "bar",
           "x": [
            "Delhi",
            "Delhi"
           ],
           "xaxis": "x",
           "y": [
            11.07,
            14.68
           ],
           "yaxis": "y"
          },
          {
           "alignmentgroup": "True",
           "hovertemplate": "Region=%{x}<br>Month_name=Jul<br>Estimated Unemployment Rate=%{y}<extra></extra>",
           "legendgroup": "Goa",
           "marker": {
            "color": "rgb(147,120,96)",
            "pattern": {
             "shape": ""
            }
           },
           "name": "Goa",
           "offsetgroup": "Goa",
           "orientation": "v",
           "showlegend": true,
           "textposition": "auto",
           "type": "bar",
           "x": [
            "Goa",
            "Goa"
           ],
           "xaxis": "x",
           "y": [
            10.98,
            12.28
           ],
           "yaxis": "y"
          },
          {
           "alignmentgroup": "True",
           "hovertemplate": "Region=%{x}<br>Month_name=Jul<br>Estimated Unemployment Rate=%{y}<extra></extra>",
           "legendgroup": "Gujarat",
           "marker": {
            "color": "rgb(218,139,195)",
            "pattern": {
             "shape": ""
            }
           },
           "name": "Gujarat",
           "offsetgroup": "Gujarat",
           "orientation": "v",
           "showlegend": true,
           "textposition": "auto",
           "type": "bar",
           "x": [
            "Gujarat",
            "Gujarat"
           ],
           "xaxis": "x",
           "y": [
            4.58,
            5.15
           ],
           "yaxis": "y"
          },
          {
           "alignmentgroup": "True",
           "hovertemplate": "Region=%{x}<br>Month_name=Jul<br>Estimated Unemployment Rate=%{y}<extra></extra>",
           "legendgroup": "Haryana",
           "marker": {
            "color": "rgb(140,140,140)",
            "pattern": {
             "shape": ""
            }
           },
           "name": "Haryana",
           "offsetgroup": "Haryana",
           "orientation": "v",
           "showlegend": true,
           "textposition": "auto",
           "type": "bar",
           "x": [
            "Haryana",
            "Haryana"
           ],
           "xaxis": "x",
           "y": [
            16.22,
            25.45
           ],
           "yaxis": "y"
          },
          {
           "alignmentgroup": "True",
           "hovertemplate": "Region=%{x}<br>Month_name=Jul<br>Estimated Unemployment Rate=%{y}<extra></extra>",
           "legendgroup": "Himachal Pradesh",
           "marker": {
            "color": "rgb(204,185,116)",
            "pattern": {
             "shape": ""
            }
           },
           "name": "Himachal Pradesh",
           "offsetgroup": "Himachal Pradesh",
           "orientation": "v",
           "showlegend": true,
           "textposition": "auto",
           "type": "bar",
           "x": [
            "Himachal Pradesh",
            "Himachal Pradesh"
           ],
           "xaxis": "x",
           "y": [
            20.59,
            21.51
           ],
           "yaxis": "y"
          },
          {
           "alignmentgroup": "True",
           "hovertemplate": "Region=%{x}<br>Month_name=Jul<br>Estimated Unemployment Rate=%{y}<extra></extra>",
           "legendgroup": "Jammu & Kashmir",
           "marker": {
            "color": "rgb(100,181,205)",
            "pattern": {
             "shape": ""
            }
           },
           "name": "Jammu & Kashmir",
           "offsetgroup": "Jammu & Kashmir",
           "orientation": "v",
           "showlegend": true,
           "textposition": "auto",
           "type": "bar",
           "x": [
            "Jammu & Kashmir",
            "Jammu & Kashmir"
           ],
           "xaxis": "x",
           "y": [
            13.67,
            21.55
           ],
           "yaxis": "y"
          },
          {
           "alignmentgroup": "True",
           "hovertemplate": "Region=%{x}<br>Month_name=Jul<br>Estimated Unemployment Rate=%{y}<extra></extra>",
           "legendgroup": "Jharkhand",
           "marker": {
            "color": "rgb(76,114,176)",
            "pattern": {
             "shape": ""
            }
           },
           "name": "Jharkhand",
           "offsetgroup": "Jharkhand",
           "orientation": "v",
           "showlegend": true,
           "textposition": "auto",
           "type": "bar",
           "x": [
            "Jharkhand",
            "Jharkhand"
           ],
           "xaxis": "x",
           "y": [
            9.98,
            15.67
           ],
           "yaxis": "y"
          },
          {
           "alignmentgroup": "True",
           "hovertemplate": "Region=%{x}<br>Month_name=Jul<br>Estimated Unemployment Rate=%{y}<extra></extra>",
           "legendgroup": "Karnataka",
           "marker": {
            "color": "rgb(221,132,82)",
            "pattern": {
             "shape": ""
            }
           },
           "name": "Karnataka",
           "offsetgroup": "Karnataka",
           "orientation": "v",
           "showlegend": true,
           "textposition": "auto",
           "type": "bar",
           "x": [
            "Karnataka",
            "Karnataka"
           ],
           "xaxis": "x",
           "y": [
            0.52,
            2.29
           ],
           "yaxis": "y"
          },
          {
           "alignmentgroup": "True",
           "hovertemplate": "Region=%{x}<br>Month_name=Jul<br>Estimated Unemployment Rate=%{y}<extra></extra>",
           "legendgroup": "Kerala",
           "marker": {
            "color": "rgb(85,168,104)",
            "pattern": {
             "shape": ""
            }
           },
           "name": "Kerala",
           "offsetgroup": "Kerala",
           "orientation": "v",
           "showlegend": true,
           "textposition": "auto",
           "type": "bar",
           "x": [
            "Kerala",
            "Kerala"
           ],
           "xaxis": "x",
           "y": [
            4.95,
            7.58
           ],
           "yaxis": "y"
          },
          {
           "alignmentgroup": "True",
           "hovertemplate": "Region=%{x}<br>Month_name=Jul<br>Estimated Unemployment Rate=%{y}<extra></extra>",
           "legendgroup": "Madhya Pradesh",
           "marker": {
            "color": "rgb(196,78,82)",
            "pattern": {
             "shape": ""
            }
           },
           "name": "Madhya Pradesh",
           "offsetgroup": "Madhya Pradesh",
           "orientation": "v",
           "showlegend": true,
           "textposition": "auto",
           "type": "bar",
           "x": [
            "Madhya Pradesh",
            "Madhya Pradesh"
           ],
           "xaxis": "x",
           "y": [
            3.92,
            7.38
           ],
           "yaxis": "y"
          },
          {
           "alignmentgroup": "True",
           "hovertemplate": "Region=%{x}<br>Month_name=Jul<br>Estimated Unemployment Rate=%{y}<extra></extra>",
           "legendgroup": "Maharashtra",
           "marker": {
            "color": "rgb(129,114,179)",
            "pattern": {
             "shape": ""
            }
           },
           "name": "Maharashtra",
           "offsetgroup": "Maharashtra",
           "orientation": "v",
           "showlegend": true,
           "textposition": "auto",
           "type": "bar",
           "x": [
            "Maharashtra",
            "Maharashtra"
           ],
           "xaxis": "x",
           "y": [
            3.66,
            6.35
           ],
           "yaxis": "y"
          },
          {
           "alignmentgroup": "True",
           "hovertemplate": "Region=%{x}<br>Month_name=Jul<br>Estimated Unemployment Rate=%{y}<extra></extra>",
           "legendgroup": "Meghalaya",
           "marker": {
            "color": "rgb(147,120,96)",
            "pattern": {
             "shape": ""
            }
           },
           "name": "Meghalaya",
           "offsetgroup": "Meghalaya",
           "orientation": "v",
           "showlegend": true,
           "textposition": "auto",
           "type": "bar",
           "x": [
            "Meghalaya",
            "Meghalaya"
           ],
           "xaxis": "x",
           "y": [
            1.03,
            4.43
           ],
           "yaxis": "y"
          },
          {
           "alignmentgroup": "True",
           "hovertemplate": "Region=%{x}<br>Month_name=Jul<br>Estimated Unemployment Rate=%{y}<extra></extra>",
           "legendgroup": "Odisha",
           "marker": {
            "color": "rgb(218,139,195)",
            "pattern": {
             "shape": ""
            }
           },
           "name": "Odisha",
           "offsetgroup": "Odisha",
           "orientation": "v",
           "showlegend": true,
           "textposition": "auto",
           "type": "bar",
           "x": [
            "Odisha",
            "Odisha"
           ],
           "xaxis": "x",
           "y": [
            3.31,
            1.78
           ],
           "yaxis": "y"
          },
          {
           "alignmentgroup": "True",
           "hovertemplate": "Region=%{x}<br>Month_name=Jul<br>Estimated Unemployment Rate=%{y}<extra></extra>",
           "legendgroup": "Puducherry",
           "marker": {
            "color": "rgb(140,140,140)",
            "pattern": {
             "shape": ""
            }
           },
           "name": "Puducherry",
           "offsetgroup": "Puducherry",
           "orientation": "v",
           "showlegend": true,
           "textposition": "auto",
           "type": "bar",
           "x": [
            "Puducherry",
            "Puducherry"
           ],
           "xaxis": "x",
           "y": [
            0,
            0
           ],
           "yaxis": "y"
          },
          {
           "alignmentgroup": "True",
           "hovertemplate": "Region=%{x}<br>Month_name=Jul<br>Estimated Unemployment Rate=%{y}<extra></extra>",
           "legendgroup": "Punjab",
           "marker": {
            "color": "rgb(204,185,116)",
            "pattern": {
             "shape": ""
            }
           },
           "name": "Punjab",
           "offsetgroup": "Punjab",
           "orientation": "v",
           "showlegend": true,
           "textposition": "auto",
           "type": "bar",
           "x": [
            "Punjab",
            "Punjab"
           ],
           "xaxis": "x",
           "y": [
            9.64,
            11.61
           ],
           "yaxis": "y"
          },
          {
           "alignmentgroup": "True",
           "hovertemplate": "Region=%{x}<br>Month_name=Jul<br>Estimated Unemployment Rate=%{y}<extra></extra>",
           "legendgroup": "Rajasthan",
           "marker": {
            "color": "rgb(100,181,205)",
            "pattern": {
             "shape": ""
            }
           },
           "name": "Rajasthan",
           "offsetgroup": "Rajasthan",
           "orientation": "v",
           "showlegend": true,
           "textposition": "auto",
           "type": "bar",
           "x": [
            "Rajasthan",
            "Rajasthan"
           ],
           "xaxis": "x",
           "y": [
            9.7,
            11.67
           ],
           "yaxis": "y"
          },
          {
           "alignmentgroup": "True",
           "hovertemplate": "Region=%{x}<br>Month_name=Jul<br>Estimated Unemployment Rate=%{y}<extra></extra>",
           "legendgroup": "Sikkim",
           "marker": {
            "color": "rgb(76,114,176)",
            "pattern": {
             "shape": ""
            }
           },
           "name": "Sikkim",
           "offsetgroup": "Sikkim",
           "orientation": "v",
           "showlegend": true,
           "textposition": "auto",
           "type": "bar",
           "x": [
            "Sikkim"
           ],
           "xaxis": "x",
           "y": [
            2.56
           ],
           "yaxis": "y"
          },
          {
           "alignmentgroup": "True",
           "hovertemplate": "Region=%{x}<br>Month_name=Jul<br>Estimated Unemployment Rate=%{y}<extra></extra>",
           "legendgroup": "Tamil Nadu",
           "marker": {
            "color": "rgb(221,132,82)",
            "pattern": {
             "shape": ""
            }
           },
           "name": "Tamil Nadu",
           "offsetgroup": "Tamil Nadu",
           "orientation": "v",
           "showlegend": true,
           "textposition": "auto",
           "type": "bar",
           "x": [
            "Tamil Nadu",
            "Tamil Nadu"
           ],
           "xaxis": "x",
           "y": [
            6.01,
            3.18
           ],
           "yaxis": "y"
          },
          {
           "alignmentgroup": "True",
           "hovertemplate": "Region=%{x}<br>Month_name=Jul<br>Estimated Unemployment Rate=%{y}<extra></extra>",
           "legendgroup": "Telangana",
           "marker": {
            "color": "rgb(85,168,104)",
            "pattern": {
             "shape": ""
            }
           },
           "name": "Telangana",
           "offsetgroup": "Telangana",
           "orientation": "v",
           "showlegend": true,
           "textposition": "auto",
           "type": "bar",
           "x": [
            "Telangana",
            "Telangana"
           ],
           "xaxis": "x",
           "y": [
            2.45,
            3.73
           ],
           "yaxis": "y"
          },
          {
           "alignmentgroup": "True",
           "hovertemplate": "Region=%{x}<br>Month_name=Jul<br>Estimated Unemployment Rate=%{y}<extra></extra>",
           "legendgroup": "Tripura",
           "marker": {
            "color": "rgb(196,78,82)",
            "pattern": {
             "shape": ""
            }
           },
           "name": "Tripura",
           "offsetgroup": "Tripura",
           "orientation": "v",
           "showlegend": true,
           "textposition": "auto",
           "type": "bar",
           "x": [
            "Tripura",
            "Tripura"
           ],
           "xaxis": "x",
           "y": [
            22.47,
            25.81
           ],
           "yaxis": "y"
          },
          {
           "alignmentgroup": "True",
           "hovertemplate": "Region=%{x}<br>Month_name=Jul<br>Estimated Unemployment Rate=%{y}<extra></extra>",
           "legendgroup": "Uttar Pradesh",
           "marker": {
            "color": "rgb(129,114,179)",
            "pattern": {
             "shape": ""
            }
           },
           "name": "Uttar Pradesh",
           "offsetgroup": "Uttar Pradesh",
           "orientation": "v",
           "showlegend": true,
           "textposition": "auto",
           "type": "bar",
           "x": [
            "Uttar Pradesh",
            "Uttar Pradesh"
           ],
           "xaxis": "x",
           "y": [
            9.19,
            11.8
           ],
           "yaxis": "y"
          },
          {
           "alignmentgroup": "True",
           "hovertemplate": "Region=%{x}<br>Month_name=Jul<br>Estimated Unemployment Rate=%{y}<extra></extra>",
           "legendgroup": "Uttarakhand",
           "marker": {
            "color": "rgb(147,120,96)",
            "pattern": {
             "shape": ""
            }
           },
           "name": "Uttarakhand",
           "offsetgroup": "Uttarakhand",
           "orientation": "v",
           "showlegend": true,
           "textposition": "auto",
           "type": "bar",
           "x": [
            "Uttarakhand",
            "Uttarakhand"
           ],
           "xaxis": "x",
           "y": [
            5.74,
            6.94
           ],
           "yaxis": "y"
          },
          {
           "alignmentgroup": "True",
           "hovertemplate": "Region=%{x}<br>Month_name=Jul<br>Estimated Unemployment Rate=%{y}<extra></extra>",
           "legendgroup": "West Bengal",
           "marker": {
            "color": "rgb(218,139,195)",
            "pattern": {
             "shape": ""
            }
           },
           "name": "West Bengal",
           "offsetgroup": "West Bengal",
           "orientation": "v",
           "showlegend": true,
           "textposition": "auto",
           "type": "bar",
           "x": [
            "West Bengal",
            "West Bengal"
           ],
           "xaxis": "x",
           "y": [
            5.62,
            7.91
           ],
           "yaxis": "y"
          },
          {
           "alignmentgroup": "True",
           "hovertemplate": "Region=%{x}<br>Month_name=Jul<br>Estimated Unemployment Rate=%{y}<extra></extra>",
           "legendgroup": "Chandigarh",
           "marker": {
            "color": "rgb(140,140,140)",
            "pattern": {
             "shape": ""
            }
           },
           "name": "Chandigarh",
           "offsetgroup": "Chandigarh",
           "orientation": "v",
           "showlegend": true,
           "textposition": "auto",
           "type": "bar",
           "x": [
            "Chandigarh"
           ],
           "xaxis": "x",
           "y": [
            21.8
           ],
           "yaxis": "y"
          }
         ],
         "name": "Jul"
        },
        {
         "data": [
          {
           "alignmentgroup": "True",
           "hovertemplate": "Region=%{x}<br>Month_name=Aug<br>Estimated Unemployment Rate=%{y}<extra></extra>",
           "legendgroup": "Andhra Pradesh",
           "marker": {
            "color": "rgb(76,114,176)",
            "pattern": {
             "shape": ""
            }
           },
           "name": "Andhra Pradesh",
           "offsetgroup": "Andhra Pradesh",
           "orientation": "v",
           "showlegend": true,
           "textposition": "auto",
           "type": "bar",
           "x": [
            "Andhra Pradesh",
            "Andhra Pradesh"
           ],
           "xaxis": "x",
           "y": [
            3.32,
            4.61
           ],
           "yaxis": "y"
          },
          {
           "alignmentgroup": "True",
           "hovertemplate": "Region=%{x}<br>Month_name=Aug<br>Estimated Unemployment Rate=%{y}<extra></extra>",
           "legendgroup": "Assam",
           "marker": {
            "color": "rgb(221,132,82)",
            "pattern": {
             "shape": ""
            }
           },
           "name": "Assam",
           "offsetgroup": "Assam",
           "orientation": "v",
           "showlegend": true,
           "textposition": "auto",
           "type": "bar",
           "x": [
            "Assam",
            "Assam"
           ],
           "xaxis": "x",
           "y": [
            5.79,
            10.39
           ],
           "yaxis": "y"
          },
          {
           "alignmentgroup": "True",
           "hovertemplate": "Region=%{x}<br>Month_name=Aug<br>Estimated Unemployment Rate=%{y}<extra></extra>",
           "legendgroup": "Bihar",
           "marker": {
            "color": "rgb(85,168,104)",
            "pattern": {
             "shape": ""
            }
           },
           "name": "Bihar",
           "offsetgroup": "Bihar",
           "orientation": "v",
           "showlegend": true,
           "textposition": "auto",
           "type": "bar",
           "x": [
            "Bihar",
            "Bihar"
           ],
           "xaxis": "x",
           "y": [
            11,
            17.66
           ],
           "yaxis": "y"
          },
          {
           "alignmentgroup": "True",
           "hovertemplate": "Region=%{x}<br>Month_name=Aug<br>Estimated Unemployment Rate=%{y}<extra></extra>",
           "legendgroup": "Chhattisgarh",
           "marker": {
            "color": "rgb(196,78,82)",
            "pattern": {
             "shape": ""
            }
           },
           "name": "Chhattisgarh",
           "offsetgroup": "Chhattisgarh",
           "orientation": "v",
           "showlegend": true,
           "textposition": "auto",
           "type": "bar",
           "x": [
            "Chhattisgarh",
            "Chhattisgarh"
           ],
           "xaxis": "x",
           "y": [
            4.64,
            6.29
           ],
           "yaxis": "y"
          },
          {
           "alignmentgroup": "True",
           "hovertemplate": "Region=%{x}<br>Month_name=Aug<br>Estimated Unemployment Rate=%{y}<extra></extra>",
           "legendgroup": "Delhi",
           "marker": {
            "color": "rgb(129,114,179)",
            "pattern": {
             "shape": ""
            }
           },
           "name": "Delhi",
           "offsetgroup": "Delhi",
           "orientation": "v",
           "showlegend": true,
           "textposition": "auto",
           "type": "bar",
           "x": [
            "Delhi",
            "Delhi"
           ],
           "xaxis": "x",
           "y": [
            17.18,
            13.52
           ],
           "yaxis": "y"
          },
          {
           "alignmentgroup": "True",
           "hovertemplate": "Region=%{x}<br>Month_name=Aug<br>Estimated Unemployment Rate=%{y}<extra></extra>",
           "legendgroup": "Goa",
           "marker": {
            "color": "rgb(147,120,96)",
            "pattern": {
             "shape": ""
            }
           },
           "name": "Goa",
           "offsetgroup": "Goa",
           "orientation": "v",
           "showlegend": true,
           "textposition": "auto",
           "type": "bar",
           "x": [
            "Goa",
            "Goa"
           ],
           "xaxis": "x",
           "y": [
            1.98,
            4.9
           ],
           "yaxis": "y"
          },
          {
           "alignmentgroup": "True",
           "hovertemplate": "Region=%{x}<br>Month_name=Aug<br>Estimated Unemployment Rate=%{y}<extra></extra>",
           "legendgroup": "Gujarat",
           "marker": {
            "color": "rgb(218,139,195)",
            "pattern": {
             "shape": ""
            }
           },
           "name": "Gujarat",
           "offsetgroup": "Gujarat",
           "orientation": "v",
           "showlegend": true,
           "textposition": "auto",
           "type": "bar",
           "x": [
            "Gujarat",
            "Gujarat"
           ],
           "xaxis": "x",
           "y": [
            3.7,
            4.2
           ],
           "yaxis": "y"
          },
          {
           "alignmentgroup": "True",
           "hovertemplate": "Region=%{x}<br>Month_name=Aug<br>Estimated Unemployment Rate=%{y}<extra></extra>",
           "legendgroup": "Haryana",
           "marker": {
            "color": "rgb(140,140,140)",
            "pattern": {
             "shape": ""
            }
           },
           "name": "Haryana",
           "offsetgroup": "Haryana",
           "orientation": "v",
           "showlegend": true,
           "textposition": "auto",
           "type": "bar",
           "x": [
            "Haryana",
            "Haryana"
           ],
           "xaxis": "x",
           "y": [
            30.94,
            24.19
           ],
           "yaxis": "y"
          },
          {
           "alignmentgroup": "True",
           "hovertemplate": "Region=%{x}<br>Month_name=Aug<br>Estimated Unemployment Rate=%{y}<extra></extra>",
           "legendgroup": "Himachal Pradesh",
           "marker": {
            "color": "rgb(204,185,116)",
            "pattern": {
             "shape": ""
            }
           },
           "name": "Himachal Pradesh",
           "offsetgroup": "Himachal Pradesh",
           "orientation": "v",
           "showlegend": true,
           "textposition": "auto",
           "type": "bar",
           "x": [
            "Himachal Pradesh",
            "Himachal Pradesh"
           ],
           "xaxis": "x",
           "y": [
            18.56,
            24.48
           ],
           "yaxis": "y"
          },
          {
           "alignmentgroup": "True",
           "hovertemplate": "Region=%{x}<br>Month_name=Aug<br>Estimated Unemployment Rate=%{y}<extra></extra>",
           "legendgroup": "Jammu & Kashmir",
           "marker": {
            "color": "rgb(100,181,205)",
            "pattern": {
             "shape": ""
            }
           },
           "name": "Jammu & Kashmir",
           "offsetgroup": "Jammu & Kashmir",
           "orientation": "v",
           "showlegend": true,
           "textposition": "auto",
           "type": "bar",
           "x": [
            "Jammu & Kashmir"
           ],
           "xaxis": "x",
           "y": [
            11.32
           ],
           "yaxis": "y"
          },
          {
           "alignmentgroup": "True",
           "hovertemplate": "Region=%{x}<br>Month_name=Aug<br>Estimated Unemployment Rate=%{y}<extra></extra>",
           "legendgroup": "Jharkhand",
           "marker": {
            "color": "rgb(76,114,176)",
            "pattern": {
             "shape": ""
            }
           },
           "name": "Jharkhand",
           "offsetgroup": "Jharkhand",
           "orientation": "v",
           "showlegend": true,
           "textposition": "auto",
           "type": "bar",
           "x": [
            "Jharkhand",
            "Jharkhand"
           ],
           "xaxis": "x",
           "y": [
            12.06,
            20.25
           ],
           "yaxis": "y"
          },
          {
           "alignmentgroup": "True",
           "hovertemplate": "Region=%{x}<br>Month_name=Aug<br>Estimated Unemployment Rate=%{y}<extra></extra>",
           "legendgroup": "Karnataka",
           "marker": {
            "color": "rgb(221,132,82)",
            "pattern": {
             "shape": ""
            }
           },
           "name": "Karnataka",
           "offsetgroup": "Karnataka",
           "orientation": "v",
           "showlegend": true,
           "textposition": "auto",
           "type": "bar",
           "x": [
            "Karnataka",
            "Karnataka"
           ],
           "xaxis": "x",
           "y": [
            0.37,
            1.27
           ],
           "yaxis": "y"
          },
          {
           "alignmentgroup": "True",
           "hovertemplate": "Region=%{x}<br>Month_name=Aug<br>Estimated Unemployment Rate=%{y}<extra></extra>",
           "legendgroup": "Kerala",
           "marker": {
            "color": "rgb(85,168,104)",
            "pattern": {
             "shape": ""
            }
           },
           "name": "Kerala",
           "offsetgroup": "Kerala",
           "orientation": "v",
           "showlegend": true,
           "textposition": "auto",
           "type": "bar",
           "x": [
            "Kerala",
            "Kerala"
           ],
           "xaxis": "x",
           "y": [
            10.32,
            7.69
           ],
           "yaxis": "y"
          },
          {
           "alignmentgroup": "True",
           "hovertemplate": "Region=%{x}<br>Month_name=Aug<br>Estimated Unemployment Rate=%{y}<extra></extra>",
           "legendgroup": "Madhya Pradesh",
           "marker": {
            "color": "rgb(196,78,82)",
            "pattern": {
             "shape": ""
            }
           },
           "name": "Madhya Pradesh",
           "offsetgroup": "Madhya Pradesh",
           "orientation": "v",
           "showlegend": true,
           "textposition": "auto",
           "type": "bar",
           "x": [
            "Madhya Pradesh",
            "Madhya Pradesh"
           ],
           "xaxis": "x",
           "y": [
            4.94,
            6.82
           ],
           "yaxis": "y"
          },
          {
           "alignmentgroup": "True",
           "hovertemplate": "Region=%{x}<br>Month_name=Aug<br>Estimated Unemployment Rate=%{y}<extra></extra>",
           "legendgroup": "Maharashtra",
           "marker": {
            "color": "rgb(129,114,179)",
            "pattern": {
             "shape": ""
            }
           },
           "name": "Maharashtra",
           "offsetgroup": "Maharashtra",
           "orientation": "v",
           "showlegend": true,
           "textposition": "auto",
           "type": "bar",
           "x": [
            "Maharashtra",
            "Maharashtra"
           ],
           "xaxis": "x",
           "y": [
            3.76,
            7.57
           ],
           "yaxis": "y"
          },
          {
           "alignmentgroup": "True",
           "hovertemplate": "Region=%{x}<br>Month_name=Aug<br>Estimated Unemployment Rate=%{y}<extra></extra>",
           "legendgroup": "Meghalaya",
           "marker": {
            "color": "rgb(147,120,96)",
            "pattern": {
             "shape": ""
            }
           },
           "name": "Meghalaya",
           "offsetgroup": "Meghalaya",
           "orientation": "v",
           "showlegend": true,
           "textposition": "auto",
           "type": "bar",
           "x": [
            "Meghalaya",
            "Meghalaya"
           ],
           "xaxis": "x",
           "y": [
            0.52,
            5.8
           ],
           "yaxis": "y"
          },
          {
           "alignmentgroup": "True",
           "hovertemplate": "Region=%{x}<br>Month_name=Aug<br>Estimated Unemployment Rate=%{y}<extra></extra>",
           "legendgroup": "Odisha",
           "marker": {
            "color": "rgb(218,139,195)",
            "pattern": {
             "shape": ""
            }
           },
           "name": "Odisha",
           "offsetgroup": "Odisha",
           "orientation": "v",
           "showlegend": true,
           "textposition": "auto",
           "type": "bar",
           "x": [
            "Odisha",
            "Odisha"
           ],
           "xaxis": "x",
           "y": [
            3.68,
            3.5
           ],
           "yaxis": "y"
          },
          {
           "alignmentgroup": "True",
           "hovertemplate": "Region=%{x}<br>Month_name=Aug<br>Estimated Unemployment Rate=%{y}<extra></extra>",
           "legendgroup": "Puducherry",
           "marker": {
            "color": "rgb(140,140,140)",
            "pattern": {
             "shape": ""
            }
           },
           "name": "Puducherry",
           "offsetgroup": "Puducherry",
           "orientation": "v",
           "showlegend": true,
           "textposition": "auto",
           "type": "bar",
           "x": [
            "Puducherry",
            "Puducherry"
           ],
           "xaxis": "x",
           "y": [
            4.85,
            8.95
           ],
           "yaxis": "y"
          },
          {
           "alignmentgroup": "True",
           "hovertemplate": "Region=%{x}<br>Month_name=Aug<br>Estimated Unemployment Rate=%{y}<extra></extra>",
           "legendgroup": "Punjab",
           "marker": {
            "color": "rgb(204,185,116)",
            "pattern": {
             "shape": ""
            }
           },
           "name": "Punjab",
           "offsetgroup": "Punjab",
           "orientation": "v",
           "showlegend": true,
           "textposition": "auto",
           "type": "bar",
           "x": [
            "Punjab",
            "Punjab"
           ],
           "xaxis": "x",
           "y": [
            6.69,
            11.99
           ],
           "yaxis": "y"
          },
          {
           "alignmentgroup": "True",
           "hovertemplate": "Region=%{x}<br>Month_name=Aug<br>Estimated Unemployment Rate=%{y}<extra></extra>",
           "legendgroup": "Rajasthan",
           "marker": {
            "color": "rgb(100,181,205)",
            "pattern": {
             "shape": ""
            }
           },
           "name": "Rajasthan",
           "offsetgroup": "Rajasthan",
           "orientation": "v",
           "showlegend": true,
           "textposition": "auto",
           "type": "bar",
           "x": [
            "Rajasthan",
            "Rajasthan"
           ],
           "xaxis": "x",
           "y": [
            12.5,
            14.71
           ],
           "yaxis": "y"
          },
          {
           "alignmentgroup": "True",
           "hovertemplate": "Region=%{x}<br>Month_name=Aug<br>Estimated Unemployment Rate=%{y}<extra></extra>",
           "legendgroup": "Sikkim",
           "marker": {
            "color": "rgb(76,114,176)",
            "pattern": {
             "shape": ""
            }
           },
           "name": "Sikkim",
           "offsetgroup": "Sikkim",
           "orientation": "v",
           "showlegend": true,
           "textposition": "auto",
           "type": "bar",
           "x": [
            "Sikkim"
           ],
           "xaxis": "x",
           "y": [
            4.82
           ],
           "yaxis": "y"
          },
          {
           "alignmentgroup": "True",
           "hovertemplate": "Region=%{x}<br>Month_name=Aug<br>Estimated Unemployment Rate=%{y}<extra></extra>",
           "legendgroup": "Tamil Nadu",
           "marker": {
            "color": "rgb(221,132,82)",
            "pattern": {
             "shape": ""
            }
           },
           "name": "Tamil Nadu",
           "offsetgroup": "Tamil Nadu",
           "orientation": "v",
           "showlegend": true,
           "textposition": "auto",
           "type": "bar",
           "x": [
            "Tamil Nadu",
            "Tamil Nadu"
           ],
           "xaxis": "x",
           "y": [
            2.91,
            9.53
           ],
           "yaxis": "y"
          },
          {
           "alignmentgroup": "True",
           "hovertemplate": "Region=%{x}<br>Month_name=Aug<br>Estimated Unemployment Rate=%{y}<extra></extra>",
           "legendgroup": "Telangana",
           "marker": {
            "color": "rgb(85,168,104)",
            "pattern": {
             "shape": ""
            }
           },
           "name": "Telangana",
           "offsetgroup": "Telangana",
           "orientation": "v",
           "showlegend": true,
           "textposition": "auto",
           "type": "bar",
           "x": [
            "Telangana",
            "Telangana"
           ],
           "xaxis": "x",
           "y": [
            1.4,
            4.19
           ],
           "yaxis": "y"
          },
          {
           "alignmentgroup": "True",
           "hovertemplate": "Region=%{x}<br>Month_name=Aug<br>Estimated Unemployment Rate=%{y}<extra></extra>",
           "legendgroup": "Tripura",
           "marker": {
            "color": "rgb(196,78,82)",
            "pattern": {
             "shape": ""
            }
           },
           "name": "Tripura",
           "offsetgroup": "Tripura",
           "orientation": "v",
           "showlegend": true,
           "textposition": "auto",
           "type": "bar",
           "x": [
            "Tripura",
            "Tripura"
           ],
           "xaxis": "x",
           "y": [
            25.49,
            33.45
           ],
           "yaxis": "y"
          },
          {
           "alignmentgroup": "True",
           "hovertemplate": "Region=%{x}<br>Month_name=Aug<br>Estimated Unemployment Rate=%{y}<extra></extra>",
           "legendgroup": "Uttar Pradesh",
           "marker": {
            "color": "rgb(129,114,179)",
            "pattern": {
             "shape": ""
            }
           },
           "name": "Uttar Pradesh",
           "offsetgroup": "Uttar Pradesh",
           "orientation": "v",
           "showlegend": true,
           "textposition": "auto",
           "type": "bar",
           "x": [
            "Uttar Pradesh",
            "Uttar Pradesh"
           ],
           "xaxis": "x",
           "y": [
            11.47,
            14.73
           ],
           "yaxis": "y"
          },
          {
           "alignmentgroup": "True",
           "hovertemplate": "Region=%{x}<br>Month_name=Aug<br>Estimated Unemployment Rate=%{y}<extra></extra>",
           "legendgroup": "Uttarakhand",
           "marker": {
            "color": "rgb(147,120,96)",
            "pattern": {
             "shape": ""
            }
           },
           "name": "Uttarakhand",
           "offsetgroup": "Uttarakhand",
           "orientation": "v",
           "showlegend": true,
           "textposition": "auto",
           "type": "bar",
           "x": [
            "Uttarakhand",
            "Uttarakhand"
           ],
           "xaxis": "x",
           "y": [
            6.11,
            7.43
           ],
           "yaxis": "y"
          },
          {
           "alignmentgroup": "True",
           "hovertemplate": "Region=%{x}<br>Month_name=Aug<br>Estimated Unemployment Rate=%{y}<extra></extra>",
           "legendgroup": "West Bengal",
           "marker": {
            "color": "rgb(218,139,195)",
            "pattern": {
             "shape": ""
            }
           },
           "name": "West Bengal",
           "offsetgroup": "West Bengal",
           "orientation": "v",
           "showlegend": true,
           "textposition": "auto",
           "type": "bar",
           "x": [
            "West Bengal",
            "West Bengal"
           ],
           "xaxis": "x",
           "y": [
            5.58,
            7.27
           ],
           "yaxis": "y"
          },
          {
           "alignmentgroup": "True",
           "hovertemplate": "Region=%{x}<br>Month_name=Aug<br>Estimated Unemployment Rate=%{y}<extra></extra>",
           "legendgroup": "Chandigarh",
           "marker": {
            "color": "rgb(140,140,140)",
            "pattern": {
             "shape": ""
            }
           },
           "name": "Chandigarh",
           "offsetgroup": "Chandigarh",
           "orientation": "v",
           "showlegend": true,
           "textposition": "auto",
           "type": "bar",
           "x": [
            "Chandigarh"
           ],
           "xaxis": "x",
           "y": [
            9.52
           ],
           "yaxis": "y"
          }
         ],
         "name": "Aug"
        },
        {
         "data": [
          {
           "alignmentgroup": "True",
           "hovertemplate": "Region=%{x}<br>Month_name=Sep<br>Estimated Unemployment Rate=%{y}<extra></extra>",
           "legendgroup": "Andhra Pradesh",
           "marker": {
            "color": "rgb(76,114,176)",
            "pattern": {
             "shape": ""
            }
           },
           "name": "Andhra Pradesh",
           "offsetgroup": "Andhra Pradesh",
           "orientation": "v",
           "showlegend": true,
           "textposition": "auto",
           "type": "bar",
           "x": [
            "Andhra Pradesh",
            "Andhra Pradesh"
           ],
           "xaxis": "x",
           "y": [
            5.17,
            6.01
           ],
           "yaxis": "y"
          },
          {
           "alignmentgroup": "True",
           "hovertemplate": "Region=%{x}<br>Month_name=Sep<br>Estimated Unemployment Rate=%{y}<extra></extra>",
           "legendgroup": "Assam",
           "marker": {
            "color": "rgb(221,132,82)",
            "pattern": {
             "shape": ""
            }
           },
           "name": "Assam",
           "offsetgroup": "Assam",
           "orientation": "v",
           "showlegend": true,
           "textposition": "auto",
           "type": "bar",
           "x": [
            "Assam",
            "Assam"
           ],
           "xaxis": "x",
           "y": [
            4.46,
            9.26
           ],
           "yaxis": "y"
          },
          {
           "alignmentgroup": "True",
           "hovertemplate": "Region=%{x}<br>Month_name=Sep<br>Estimated Unemployment Rate=%{y}<extra></extra>",
           "legendgroup": "Bihar",
           "marker": {
            "color": "rgb(85,168,104)",
            "pattern": {
             "shape": ""
            }
           },
           "name": "Bihar",
           "offsetgroup": "Bihar",
           "orientation": "v",
           "showlegend": true,
           "textposition": "auto",
           "type": "bar",
           "x": [
            "Bihar",
            "Bihar"
           ],
           "xaxis": "x",
           "y": [
            8.87,
            20.46
           ],
           "yaxis": "y"
          },
          {
           "alignmentgroup": "True",
           "hovertemplate": "Region=%{x}<br>Month_name=Sep<br>Estimated Unemployment Rate=%{y}<extra></extra>",
           "legendgroup": "Chhattisgarh",
           "marker": {
            "color": "rgb(196,78,82)",
            "pattern": {
             "shape": ""
            }
           },
           "name": "Chhattisgarh",
           "offsetgroup": "Chhattisgarh",
           "orientation": "v",
           "showlegend": true,
           "textposition": "auto",
           "type": "bar",
           "x": [
            "Chhattisgarh",
            "Chhattisgarh"
           ],
           "xaxis": "x",
           "y": [
            8.33,
            9.46
           ],
           "yaxis": "y"
          },
          {
           "alignmentgroup": "True",
           "hovertemplate": "Region=%{x}<br>Month_name=Sep<br>Estimated Unemployment Rate=%{y}<extra></extra>",
           "legendgroup": "Delhi",
           "marker": {
            "color": "rgb(129,114,179)",
            "pattern": {
             "shape": ""
            }
           },
           "name": "Delhi",
           "offsetgroup": "Delhi",
           "orientation": "v",
           "showlegend": true,
           "textposition": "auto",
           "type": "bar",
           "x": [
            "Delhi",
            "Delhi"
           ],
           "xaxis": "x",
           "y": [
            12.5,
            20.59
           ],
           "yaxis": "y"
          },
          {
           "alignmentgroup": "True",
           "hovertemplate": "Region=%{x}<br>Month_name=Sep<br>Estimated Unemployment Rate=%{y}<extra></extra>",
           "legendgroup": "Goa",
           "marker": {
            "color": "rgb(147,120,96)",
            "pattern": {
             "shape": ""
            }
           },
           "name": "Goa",
           "offsetgroup": "Goa",
           "orientation": "v",
           "showlegend": true,
           "textposition": "auto",
           "type": "bar",
           "x": [
            "Goa",
            "Goa"
           ],
           "xaxis": "x",
           "y": [
            3.61,
            3.16
           ],
           "yaxis": "y"
          },
          {
           "alignmentgroup": "True",
           "hovertemplate": "Region=%{x}<br>Month_name=Sep<br>Estimated Unemployment Rate=%{y}<extra></extra>",
           "legendgroup": "Gujarat",
           "marker": {
            "color": "rgb(218,139,195)",
            "pattern": {
             "shape": ""
            }
           },
           "name": "Gujarat",
           "offsetgroup": "Gujarat",
           "orientation": "v",
           "showlegend": true,
           "textposition": "auto",
           "type": "bar",
           "x": [
            "Gujarat",
            "Gujarat"
           ],
           "xaxis": "x",
           "y": [
            6.29,
            5.96
           ],
           "yaxis": "y"
          },
          {
           "alignmentgroup": "True",
           "hovertemplate": "Region=%{x}<br>Month_name=Sep<br>Estimated Unemployment Rate=%{y}<extra></extra>",
           "legendgroup": "Haryana",
           "marker": {
            "color": "rgb(140,140,140)",
            "pattern": {
             "shape": ""
            }
           },
           "name": "Haryana",
           "offsetgroup": "Haryana",
           "orientation": "v",
           "showlegend": true,
           "textposition": "auto",
           "type": "bar",
           "x": [
            "Haryana",
            "Haryana"
           ],
           "xaxis": "x",
           "y": [
            16.36,
            26.84
           ],
           "yaxis": "y"
          },
          {
           "alignmentgroup": "True",
           "hovertemplate": "Region=%{x}<br>Month_name=Sep<br>Estimated Unemployment Rate=%{y}<extra></extra>",
           "legendgroup": "Himachal Pradesh",
           "marker": {
            "color": "rgb(204,185,116)",
            "pattern": {
             "shape": ""
            }
           },
           "name": "Himachal Pradesh",
           "offsetgroup": "Himachal Pradesh",
           "orientation": "v",
           "showlegend": true,
           "textposition": "auto",
           "type": "bar",
           "x": [
            "Himachal Pradesh",
            "Himachal Pradesh"
           ],
           "xaxis": "x",
           "y": [
            15.98,
            12
           ],
           "yaxis": "y"
          },
          {
           "alignmentgroup": "True",
           "hovertemplate": "Region=%{x}<br>Month_name=Sep<br>Estimated Unemployment Rate=%{y}<extra></extra>",
           "legendgroup": "Jharkhand",
           "marker": {
            "color": "rgb(76,114,176)",
            "pattern": {
             "shape": ""
            }
           },
           "name": "Jharkhand",
           "offsetgroup": "Jharkhand",
           "orientation": "v",
           "showlegend": true,
           "textposition": "auto",
           "type": "bar",
           "x": [
            "Jharkhand",
            "Jharkhand"
           ],
           "xaxis": "x",
           "y": [
            7.12,
            21.16
           ],
           "yaxis": "y"
          },
          {
           "alignmentgroup": "True",
           "hovertemplate": "Region=%{x}<br>Month_name=Sep<br>Estimated Unemployment Rate=%{y}<extra></extra>",
           "legendgroup": "Karnataka",
           "marker": {
            "color": "rgb(221,132,82)",
            "pattern": {
             "shape": ""
            }
           },
           "name": "Karnataka",
           "offsetgroup": "Karnataka",
           "orientation": "v",
           "showlegend": true,
           "textposition": "auto",
           "type": "bar",
           "x": [
            "Karnataka",
            "Karnataka"
           ],
           "xaxis": "x",
           "y": [
            3.2,
            3.57
           ],
           "yaxis": "y"
          },
          {
           "alignmentgroup": "True",
           "hovertemplate": "Region=%{x}<br>Month_name=Sep<br>Estimated Unemployment Rate=%{y}<extra></extra>",
           "legendgroup": "Kerala",
           "marker": {
            "color": "rgb(85,168,104)",
            "pattern": {
             "shape": ""
            }
           },
           "name": "Kerala",
           "offsetgroup": "Kerala",
           "orientation": "v",
           "showlegend": true,
           "textposition": "auto",
           "type": "bar",
           "x": [
            "Kerala",
            "Kerala"
           ],
           "xaxis": "x",
           "y": [
            5.35,
            5.52
           ],
           "yaxis": "y"
          },
          {
           "alignmentgroup": "True",
           "hovertemplate": "Region=%{x}<br>Month_name=Sep<br>Estimated Unemployment Rate=%{y}<extra></extra>",
           "legendgroup": "Madhya Pradesh",
           "marker": {
            "color": "rgb(196,78,82)",
            "pattern": {
             "shape": ""
            }
           },
           "name": "Madhya Pradesh",
           "offsetgroup": "Madhya Pradesh",
           "orientation": "v",
           "showlegend": true,
           "textposition": "auto",
           "type": "bar",
           "x": [
            "Madhya Pradesh",
            "Madhya Pradesh"
           ],
           "xaxis": "x",
           "y": [
            3.08,
            7
           ],
           "yaxis": "y"
          },
          {
           "alignmentgroup": "True",
           "hovertemplate": "Region=%{x}<br>Month_name=Sep<br>Estimated Unemployment Rate=%{y}<extra></extra>",
           "legendgroup": "Maharashtra",
           "marker": {
            "color": "rgb(129,114,179)",
            "pattern": {
             "shape": ""
            }
           },
           "name": "Maharashtra",
           "offsetgroup": "Maharashtra",
           "orientation": "v",
           "showlegend": true,
           "textposition": "auto",
           "type": "bar",
           "x": [
            "Maharashtra",
            "Maharashtra"
           ],
           "xaxis": "x",
           "y": [
            4.4,
            7.6
           ],
           "yaxis": "y"
          },
          {
           "alignmentgroup": "True",
           "hovertemplate": "Region=%{x}<br>Month_name=Sep<br>Estimated Unemployment Rate=%{y}<extra></extra>",
           "legendgroup": "Meghalaya",
           "marker": {
            "color": "rgb(147,120,96)",
            "pattern": {
             "shape": ""
            }
           },
           "name": "Meghalaya",
           "offsetgroup": "Meghalaya",
           "orientation": "v",
           "showlegend": true,
           "textposition": "auto",
           "type": "bar",
           "x": [
            "Meghalaya",
            "Meghalaya"
           ],
           "xaxis": "x",
           "y": [
            0.24,
            5.3
           ],
           "yaxis": "y"
          },
          {
           "alignmentgroup": "True",
           "hovertemplate": "Region=%{x}<br>Month_name=Sep<br>Estimated Unemployment Rate=%{y}<extra></extra>",
           "legendgroup": "Odisha",
           "marker": {
            "color": "rgb(218,139,195)",
            "pattern": {
             "shape": ""
            }
           },
           "name": "Odisha",
           "offsetgroup": "Odisha",
           "orientation": "v",
           "showlegend": true,
           "textposition": "auto",
           "type": "bar",
           "x": [
            "Odisha",
            "Odisha"
           ],
           "xaxis": "x",
           "y": [
            4.31,
            3.78
           ],
           "yaxis": "y"
          },
          {
           "alignmentgroup": "True",
           "hovertemplate": "Region=%{x}<br>Month_name=Sep<br>Estimated Unemployment Rate=%{y}<extra></extra>",
           "legendgroup": "Puducherry",
           "marker": {
            "color": "rgb(140,140,140)",
            "pattern": {
             "shape": ""
            }
           },
           "name": "Puducherry",
           "offsetgroup": "Puducherry",
           "orientation": "v",
           "showlegend": true,
           "textposition": "auto",
           "type": "bar",
           "x": [
            "Puducherry",
            "Puducherry"
           ],
           "xaxis": "x",
           "y": [
            0,
            1.22
           ],
           "yaxis": "y"
          },
          {
           "alignmentgroup": "True",
           "hovertemplate": "Region=%{x}<br>Month_name=Sep<br>Estimated Unemployment Rate=%{y}<extra></extra>",
           "legendgroup": "Punjab",
           "marker": {
            "color": "rgb(204,185,116)",
            "pattern": {
             "shape": ""
            }
           },
           "name": "Punjab",
           "offsetgroup": "Punjab",
           "orientation": "v",
           "showlegend": true,
           "textposition": "auto",
           "type": "bar",
           "x": [
            "Punjab",
            "Punjab"
           ],
           "xaxis": "x",
           "y": [
            8.59,
            15.69
           ],
           "yaxis": "y"
          },
          {
           "alignmentgroup": "True",
           "hovertemplate": "Region=%{x}<br>Month_name=Sep<br>Estimated Unemployment Rate=%{y}<extra></extra>",
           "legendgroup": "Rajasthan",
           "marker": {
            "color": "rgb(100,181,205)",
            "pattern": {
             "shape": ""
            }
           },
           "name": "Rajasthan",
           "offsetgroup": "Rajasthan",
           "orientation": "v",
           "showlegend": true,
           "textposition": "auto",
           "type": "bar",
           "x": [
            "Rajasthan",
            "Rajasthan"
           ],
           "xaxis": "x",
           "y": [
            5.45,
            12.63
           ],
           "yaxis": "y"
          },
          {
           "alignmentgroup": "True",
           "hovertemplate": "Region=%{x}<br>Month_name=Sep<br>Estimated Unemployment Rate=%{y}<extra></extra>",
           "legendgroup": "Sikkim",
           "marker": {
            "color": "rgb(76,114,176)",
            "pattern": {
             "shape": ""
            }
           },
           "name": "Sikkim",
           "offsetgroup": "Sikkim",
           "orientation": "v",
           "showlegend": true,
           "textposition": "auto",
           "type": "bar",
           "x": [
            "Sikkim"
           ],
           "xaxis": "x",
           "y": [
            4.81
           ],
           "yaxis": "y"
          },
          {
           "alignmentgroup": "True",
           "hovertemplate": "Region=%{x}<br>Month_name=Sep<br>Estimated Unemployment Rate=%{y}<extra></extra>",
           "legendgroup": "Tamil Nadu",
           "marker": {
            "color": "rgb(221,132,82)",
            "pattern": {
             "shape": ""
            }
           },
           "name": "Tamil Nadu",
           "offsetgroup": "Tamil Nadu",
           "orientation": "v",
           "showlegend": true,
           "textposition": "auto",
           "type": "bar",
           "x": [
            "Tamil Nadu",
            "Tamil Nadu"
           ],
           "xaxis": "x",
           "y": [
            1.71,
            1.86
           ],
           "yaxis": "y"
          },
          {
           "alignmentgroup": "True",
           "hovertemplate": "Region=%{x}<br>Month_name=Sep<br>Estimated Unemployment Rate=%{y}<extra></extra>",
           "legendgroup": "Telangana",
           "marker": {
            "color": "rgb(85,168,104)",
            "pattern": {
             "shape": ""
            }
           },
           "name": "Telangana",
           "offsetgroup": "Telangana",
           "orientation": "v",
           "showlegend": true,
           "textposition": "auto",
           "type": "bar",
           "x": [
            "Telangana",
            "Telangana"
           ],
           "xaxis": "x",
           "y": [
            5.49,
            6.19
           ],
           "yaxis": "y"
          },
          {
           "alignmentgroup": "True",
           "hovertemplate": "Region=%{x}<br>Month_name=Sep<br>Estimated Unemployment Rate=%{y}<extra></extra>",
           "legendgroup": "Tripura",
           "marker": {
            "color": "rgb(196,78,82)",
            "pattern": {
             "shape": ""
            }
           },
           "name": "Tripura",
           "offsetgroup": "Tripura",
           "orientation": "v",
           "showlegend": true,
           "textposition": "auto",
           "type": "bar",
           "x": [
            "Tripura",
            "Tripura"
           ],
           "xaxis": "x",
           "y": [
            30.23,
            33.57
           ],
           "yaxis": "y"
          },
          {
           "alignmentgroup": "True",
           "hovertemplate": "Region=%{x}<br>Month_name=Sep<br>Estimated Unemployment Rate=%{y}<extra></extra>",
           "legendgroup": "Uttar Pradesh",
           "marker": {
            "color": "rgb(129,114,179)",
            "pattern": {
             "shape": ""
            }
           },
           "name": "Uttar Pradesh",
           "offsetgroup": "Uttar Pradesh",
           "orientation": "v",
           "showlegend": true,
           "textposition": "auto",
           "type": "bar",
           "x": [
            "Uttar Pradesh",
            "Uttar Pradesh"
           ],
           "xaxis": "x",
           "y": [
            6.45,
            13.58
           ],
           "yaxis": "y"
          },
          {
           "alignmentgroup": "True",
           "hovertemplate": "Region=%{x}<br>Month_name=Sep<br>Estimated Unemployment Rate=%{y}<extra></extra>",
           "legendgroup": "Uttarakhand",
           "marker": {
            "color": "rgb(147,120,96)",
            "pattern": {
             "shape": ""
            }
           },
           "name": "Uttarakhand",
           "offsetgroup": "Uttarakhand",
           "orientation": "v",
           "showlegend": true,
           "textposition": "auto",
           "type": "bar",
           "x": [
            "Uttarakhand",
            "Uttarakhand"
           ],
           "xaxis": "x",
           "y": [
            3.47,
            9.62
           ],
           "yaxis": "y"
          },
          {
           "alignmentgroup": "True",
           "hovertemplate": "Region=%{x}<br>Month_name=Sep<br>Estimated Unemployment Rate=%{y}<extra></extra>",
           "legendgroup": "West Bengal",
           "marker": {
            "color": "rgb(218,139,195)",
            "pattern": {
             "shape": ""
            }
           },
           "name": "West Bengal",
           "offsetgroup": "West Bengal",
           "orientation": "v",
           "showlegend": true,
           "textposition": "auto",
           "type": "bar",
           "x": [
            "West Bengal",
            "West Bengal"
           ],
           "xaxis": "x",
           "y": [
            5.26,
            7.79
           ],
           "yaxis": "y"
          },
          {
           "alignmentgroup": "True",
           "hovertemplate": "Region=%{x}<br>Month_name=Sep<br>Estimated Unemployment Rate=%{y}<extra></extra>",
           "legendgroup": "Chandigarh",
           "marker": {
            "color": "rgb(140,140,140)",
            "pattern": {
             "shape": ""
            }
           },
           "name": "Chandigarh",
           "offsetgroup": "Chandigarh",
           "orientation": "v",
           "showlegend": true,
           "textposition": "auto",
           "type": "bar",
           "x": [
            "Chandigarh"
           ],
           "xaxis": "x",
           "y": [
            20.14
           ],
           "yaxis": "y"
          }
         ],
         "name": "Sep"
        },
        {
         "data": [
          {
           "alignmentgroup": "True",
           "hovertemplate": "Region=%{x}<br>Month_name=Oct<br>Estimated Unemployment Rate=%{y}<extra></extra>",
           "legendgroup": "Andhra Pradesh",
           "marker": {
            "color": "rgb(76,114,176)",
            "pattern": {
             "shape": ""
            }
           },
           "name": "Andhra Pradesh",
           "offsetgroup": "Andhra Pradesh",
           "orientation": "v",
           "showlegend": true,
           "textposition": "auto",
           "type": "bar",
           "x": [
            "Andhra Pradesh",
            "Andhra Pradesh"
           ],
           "xaxis": "x",
           "y": [
            3.52,
            4.7
           ],
           "yaxis": "y"
          },
          {
           "alignmentgroup": "True",
           "hovertemplate": "Region=%{x}<br>Month_name=Oct<br>Estimated Unemployment Rate=%{y}<extra></extra>",
           "legendgroup": "Assam",
           "marker": {
            "color": "rgb(221,132,82)",
            "pattern": {
             "shape": ""
            }
           },
           "name": "Assam",
           "offsetgroup": "Assam",
           "orientation": "v",
           "showlegend": true,
           "textposition": "auto",
           "type": "bar",
           "x": [
            "Assam",
            "Assam"
           ],
           "xaxis": "x",
           "y": [
            4.65,
            11.17
           ],
           "yaxis": "y"
          },
          {
           "alignmentgroup": "True",
           "hovertemplate": "Region=%{x}<br>Month_name=Oct<br>Estimated Unemployment Rate=%{y}<extra></extra>",
           "legendgroup": "Bihar",
           "marker": {
            "color": "rgb(85,168,104)",
            "pattern": {
             "shape": ""
            }
           },
           "name": "Bihar",
           "offsetgroup": "Bihar",
           "orientation": "v",
           "showlegend": true,
           "textposition": "auto",
           "type": "bar",
           "x": [
            "Bihar",
            "Bihar"
           ],
           "xaxis": "x",
           "y": [
            12.47,
            14.06
           ],
           "yaxis": "y"
          },
          {
           "alignmentgroup": "True",
           "hovertemplate": "Region=%{x}<br>Month_name=Oct<br>Estimated Unemployment Rate=%{y}<extra></extra>",
           "legendgroup": "Chhattisgarh",
           "marker": {
            "color": "rgb(196,78,82)",
            "pattern": {
             "shape": ""
            }
           },
           "name": "Chhattisgarh",
           "offsetgroup": "Chhattisgarh",
           "orientation": "v",
           "showlegend": true,
           "textposition": "auto",
           "type": "bar",
           "x": [
            "Chhattisgarh",
            "Chhattisgarh"
           ],
           "xaxis": "x",
           "y": [
            6.96,
            10.27
           ],
           "yaxis": "y"
          },
          {
           "alignmentgroup": "True",
           "hovertemplate": "Region=%{x}<br>Month_name=Oct<br>Estimated Unemployment Rate=%{y}<extra></extra>",
           "legendgroup": "Delhi",
           "marker": {
            "color": "rgb(129,114,179)",
            "pattern": {
             "shape": ""
            }
           },
           "name": "Delhi",
           "offsetgroup": "Delhi",
           "orientation": "v",
           "showlegend": true,
           "textposition": "auto",
           "type": "bar",
           "x": [
            "Delhi",
            "Delhi"
           ],
           "xaxis": "x",
           "y": [
            15.84,
            12.41
           ],
           "yaxis": "y"
          },
          {
           "alignmentgroup": "True",
           "hovertemplate": "Region=%{x}<br>Month_name=Oct<br>Estimated Unemployment Rate=%{y}<extra></extra>",
           "legendgroup": "Goa",
           "marker": {
            "color": "rgb(147,120,96)",
            "pattern": {
             "shape": ""
            }
           },
           "name": "Goa",
           "offsetgroup": "Goa",
           "orientation": "v",
           "showlegend": true,
           "textposition": "auto",
           "type": "bar",
           "x": [
            "Goa",
            "Goa"
           ],
           "xaxis": "x",
           "y": [
            7.21,
            12.31
           ],
           "yaxis": "y"
          },
          {
           "alignmentgroup": "True",
           "hovertemplate": "Region=%{x}<br>Month_name=Oct<br>Estimated Unemployment Rate=%{y}<extra></extra>",
           "legendgroup": "Gujarat",
           "marker": {
            "color": "rgb(218,139,195)",
            "pattern": {
             "shape": ""
            }
           },
           "name": "Gujarat",
           "offsetgroup": "Gujarat",
           "orientation": "v",
           "showlegend": true,
           "textposition": "auto",
           "type": "bar",
           "x": [
            "Gujarat",
            "Gujarat"
           ],
           "xaxis": "x",
           "y": [
            4.91,
            5.45
           ],
           "yaxis": "y"
          },
          {
           "alignmentgroup": "True",
           "hovertemplate": "Region=%{x}<br>Month_name=Oct<br>Estimated Unemployment Rate=%{y}<extra></extra>",
           "legendgroup": "Haryana",
           "marker": {
            "color": "rgb(140,140,140)",
            "pattern": {
             "shape": ""
            }
           },
           "name": "Haryana",
           "offsetgroup": "Haryana",
           "orientation": "v",
           "showlegend": true,
           "textposition": "auto",
           "type": "bar",
           "x": [
            "Haryana",
            "Haryana"
           ],
           "xaxis": "x",
           "y": [
            24.17,
            21.04
           ],
           "yaxis": "y"
          },
          {
           "alignmentgroup": "True",
           "hovertemplate": "Region=%{x}<br>Month_name=Oct<br>Estimated Unemployment Rate=%{y}<extra></extra>",
           "legendgroup": "Himachal Pradesh",
           "marker": {
            "color": "rgb(204,185,116)",
            "pattern": {
             "shape": ""
            }
           },
           "name": "Himachal Pradesh",
           "offsetgroup": "Himachal Pradesh",
           "orientation": "v",
           "showlegend": true,
           "textposition": "auto",
           "type": "bar",
           "x": [
            "Himachal Pradesh",
            "Himachal Pradesh"
           ],
           "xaxis": "x",
           "y": [
            15.81,
            23.77
           ],
           "yaxis": "y"
          },
          {
           "alignmentgroup": "True",
           "hovertemplate": "Region=%{x}<br>Month_name=Oct<br>Estimated Unemployment Rate=%{y}<extra></extra>",
           "legendgroup": "Jammu & Kashmir",
           "marker": {
            "color": "rgb(100,181,205)",
            "pattern": {
             "shape": ""
            }
           },
           "name": "Jammu & Kashmir",
           "offsetgroup": "Jammu & Kashmir",
           "orientation": "v",
           "showlegend": true,
           "textposition": "auto",
           "type": "bar",
           "x": [
            "Jammu & Kashmir",
            "Jammu & Kashmir"
           ],
           "xaxis": "x",
           "y": [
            19.27,
            24.06
           ],
           "yaxis": "y"
          },
          {
           "alignmentgroup": "True",
           "hovertemplate": "Region=%{x}<br>Month_name=Oct<br>Estimated Unemployment Rate=%{y}<extra></extra>",
           "legendgroup": "Jharkhand",
           "marker": {
            "color": "rgb(76,114,176)",
            "pattern": {
             "shape": ""
            }
           },
           "name": "Jharkhand",
           "offsetgroup": "Jharkhand",
           "orientation": "v",
           "showlegend": true,
           "textposition": "auto",
           "type": "bar",
           "x": [
            "Jharkhand",
            "Jharkhand"
           ],
           "xaxis": "x",
           "y": [
            6.57,
            19.05
           ],
           "yaxis": "y"
          },
          {
           "alignmentgroup": "True",
           "hovertemplate": "Region=%{x}<br>Month_name=Oct<br>Estimated Unemployment Rate=%{y}<extra></extra>",
           "legendgroup": "Karnataka",
           "marker": {
            "color": "rgb(221,132,82)",
            "pattern": {
             "shape": ""
            }
           },
           "name": "Karnataka",
           "offsetgroup": "Karnataka",
           "orientation": "v",
           "showlegend": true,
           "textposition": "auto",
           "type": "bar",
           "x": [
            "Karnataka",
            "Karnataka"
           ],
           "xaxis": "x",
           "y": [
            7.13,
            3.87
           ],
           "yaxis": "y"
          },
          {
           "alignmentgroup": "True",
           "hovertemplate": "Region=%{x}<br>Month_name=Oct<br>Estimated Unemployment Rate=%{y}<extra></extra>",
           "legendgroup": "Kerala",
           "marker": {
            "color": "rgb(85,168,104)",
            "pattern": {
             "shape": ""
            }
           },
           "name": "Kerala",
           "offsetgroup": "Kerala",
           "orientation": "v",
           "showlegend": true,
           "textposition": "auto",
           "type": "bar",
           "x": [
            "Kerala",
            "Kerala"
           ],
           "xaxis": "x",
           "y": [
            9.14,
            5.35
           ],
           "yaxis": "y"
          },
          {
           "alignmentgroup": "True",
           "hovertemplate": "Region=%{x}<br>Month_name=Oct<br>Estimated Unemployment Rate=%{y}<extra></extra>",
           "legendgroup": "Madhya Pradesh",
           "marker": {
            "color": "rgb(196,78,82)",
            "pattern": {
             "shape": ""
            }
           },
           "name": "Madhya Pradesh",
           "offsetgroup": "Madhya Pradesh",
           "orientation": "v",
           "showlegend": true,
           "textposition": "auto",
           "type": "bar",
           "x": [
            "Madhya Pradesh",
            "Madhya Pradesh"
           ],
           "xaxis": "x",
           "y": [
            2.98,
            4.4
           ],
           "yaxis": "y"
          },
          {
           "alignmentgroup": "True",
           "hovertemplate": "Region=%{x}<br>Month_name=Oct<br>Estimated Unemployment Rate=%{y}<extra></extra>",
           "legendgroup": "Maharashtra",
           "marker": {
            "color": "rgb(129,114,179)",
            "pattern": {
             "shape": ""
            }
           },
           "name": "Maharashtra",
           "offsetgroup": "Maharashtra",
           "orientation": "v",
           "showlegend": true,
           "textposition": "auto",
           "type": "bar",
           "x": [
            "Maharashtra",
            "Maharashtra"
           ],
           "xaxis": "x",
           "y": [
            3.81,
            7.51
           ],
           "yaxis": "y"
          },
          {
           "alignmentgroup": "True",
           "hovertemplate": "Region=%{x}<br>Month_name=Oct<br>Estimated Unemployment Rate=%{y}<extra></extra>",
           "legendgroup": "Meghalaya",
           "marker": {
            "color": "rgb(147,120,96)",
            "pattern": {
             "shape": ""
            }
           },
           "name": "Meghalaya",
           "offsetgroup": "Meghalaya",
           "orientation": "v",
           "showlegend": true,
           "textposition": "auto",
           "type": "bar",
           "x": [
            "Meghalaya",
            "Meghalaya"
           ],
           "xaxis": "x",
           "y": [
            3.7,
            7.2
           ],
           "yaxis": "y"
          },
          {
           "alignmentgroup": "True",
           "hovertemplate": "Region=%{x}<br>Month_name=Oct<br>Estimated Unemployment Rate=%{y}<extra></extra>",
           "legendgroup": "Odisha",
           "marker": {
            "color": "rgb(218,139,195)",
            "pattern": {
             "shape": ""
            }
           },
           "name": "Odisha",
           "offsetgroup": "Odisha",
           "orientation": "v",
           "showlegend": true,
           "textposition": "auto",
           "type": "bar",
           "x": [
            "Odisha",
            "Odisha"
           ],
           "xaxis": "x",
           "y": [
            4.28,
            4.5
           ],
           "yaxis": "y"
          },
          {
           "alignmentgroup": "True",
           "hovertemplate": "Region=%{x}<br>Month_name=Oct<br>Estimated Unemployment Rate=%{y}<extra></extra>",
           "legendgroup": "Puducherry",
           "marker": {
            "color": "rgb(140,140,140)",
            "pattern": {
             "shape": ""
            }
           },
           "name": "Puducherry",
           "offsetgroup": "Puducherry",
           "orientation": "v",
           "showlegend": true,
           "textposition": "auto",
           "type": "bar",
           "x": [
            "Puducherry",
            "Puducherry"
           ],
           "xaxis": "x",
           "y": [
            1.18,
            1.17
           ],
           "yaxis": "y"
          },
          {
           "alignmentgroup": "True",
           "hovertemplate": "Region=%{x}<br>Month_name=Oct<br>Estimated Unemployment Rate=%{y}<extra></extra>",
           "legendgroup": "Punjab",
           "marker": {
            "color": "rgb(204,185,116)",
            "pattern": {
             "shape": ""
            }
           },
           "name": "Punjab",
           "offsetgroup": "Punjab",
           "orientation": "v",
           "showlegend": true,
           "textposition": "auto",
           "type": "bar",
           "x": [
            "Punjab",
            "Punjab"
           ],
           "xaxis": "x",
           "y": [
            12.56,
            13.75
           ],
           "yaxis": "y"
          },
          {
           "alignmentgroup": "True",
           "hovertemplate": "Region=%{x}<br>Month_name=Oct<br>Estimated Unemployment Rate=%{y}<extra></extra>",
           "legendgroup": "Rajasthan",
           "marker": {
            "color": "rgb(100,181,205)",
            "pattern": {
             "shape": ""
            }
           },
           "name": "Rajasthan",
           "offsetgroup": "Rajasthan",
           "orientation": "v",
           "showlegend": true,
           "textposition": "auto",
           "type": "bar",
           "x": [
            "Rajasthan",
            "Rajasthan"
           ],
           "xaxis": "x",
           "y": [
            14.66,
            13.02
           ],
           "yaxis": "y"
          },
          {
           "alignmentgroup": "True",
           "hovertemplate": "Region=%{x}<br>Month_name=Oct<br>Estimated Unemployment Rate=%{y}<extra></extra>",
           "legendgroup": "Sikkim",
           "marker": {
            "color": "rgb(76,114,176)",
            "pattern": {
             "shape": ""
            }
           },
           "name": "Sikkim",
           "offsetgroup": "Sikkim",
           "orientation": "v",
           "showlegend": true,
           "textposition": "auto",
           "type": "bar",
           "x": [
            "Sikkim",
            "Sikkim"
           ],
           "xaxis": "x",
           "y": [
            5.48,
            9.68
           ],
           "yaxis": "y"
          },
          {
           "alignmentgroup": "True",
           "hovertemplate": "Region=%{x}<br>Month_name=Oct<br>Estimated Unemployment Rate=%{y}<extra></extra>",
           "legendgroup": "Tamil Nadu",
           "marker": {
            "color": "rgb(221,132,82)",
            "pattern": {
             "shape": ""
            }
           },
           "name": "Tamil Nadu",
           "offsetgroup": "Tamil Nadu",
           "orientation": "v",
           "showlegend": true,
           "textposition": "auto",
           "type": "bar",
           "x": [
            "Tamil Nadu",
            "Tamil Nadu"
           ],
           "xaxis": "x",
           "y": [
            1.46,
            1.13
           ],
           "yaxis": "y"
          },
          {
           "alignmentgroup": "True",
           "hovertemplate": "Region=%{x}<br>Month_name=Oct<br>Estimated Unemployment Rate=%{y}<extra></extra>",
           "legendgroup": "Telangana",
           "marker": {
            "color": "rgb(85,168,104)",
            "pattern": {
             "shape": ""
            }
           },
           "name": "Telangana",
           "offsetgroup": "Telangana",
           "orientation": "v",
           "showlegend": true,
           "textposition": "auto",
           "type": "bar",
           "x": [
            "Telangana",
            "Telangana"
           ],
           "xaxis": "x",
           "y": [
            7.29,
            6.74
           ],
           "yaxis": "y"
          },
          {
           "alignmentgroup": "True",
           "hovertemplate": "Region=%{x}<br>Month_name=Oct<br>Estimated Unemployment Rate=%{y}<extra></extra>",
           "legendgroup": "Tripura",
           "marker": {
            "color": "rgb(196,78,82)",
            "pattern": {
             "shape": ""
            }
           },
           "name": "Tripura",
           "offsetgroup": "Tripura",
           "orientation": "v",
           "showlegend": true,
           "textposition": "auto",
           "type": "bar",
           "x": [
            "Tripura",
            "Tripura"
           ],
           "xaxis": "x",
           "y": [
            27.54,
            26.67
           ],
           "yaxis": "y"
          },
          {
           "alignmentgroup": "True",
           "hovertemplate": "Region=%{x}<br>Month_name=Oct<br>Estimated Unemployment Rate=%{y}<extra></extra>",
           "legendgroup": "Uttar Pradesh",
           "marker": {
            "color": "rgb(129,114,179)",
            "pattern": {
             "shape": ""
            }
           },
           "name": "Uttar Pradesh",
           "offsetgroup": "Uttar Pradesh",
           "orientation": "v",
           "showlegend": true,
           "textposition": "auto",
           "type": "bar",
           "x": [
            "Uttar Pradesh",
            "Uttar Pradesh"
           ],
           "xaxis": "x",
           "y": [
            10.18,
            10.35
           ],
           "yaxis": "y"
          },
          {
           "alignmentgroup": "True",
           "hovertemplate": "Region=%{x}<br>Month_name=Oct<br>Estimated Unemployment Rate=%{y}<extra></extra>",
           "legendgroup": "Uttarakhand",
           "marker": {
            "color": "rgb(147,120,96)",
            "pattern": {
             "shape": ""
            }
           },
           "name": "Uttarakhand",
           "offsetgroup": "Uttarakhand",
           "orientation": "v",
           "showlegend": true,
           "textposition": "auto",
           "type": "bar",
           "x": [
            "Uttarakhand",
            "Uttarakhand"
           ],
           "xaxis": "x",
           "y": [
            4.83,
            4.72
           ],
           "yaxis": "y"
          },
          {
           "alignmentgroup": "True",
           "hovertemplate": "Region=%{x}<br>Month_name=Oct<br>Estimated Unemployment Rate=%{y}<extra></extra>",
           "legendgroup": "West Bengal",
           "marker": {
            "color": "rgb(218,139,195)",
            "pattern": {
             "shape": ""
            }
           },
           "name": "West Bengal",
           "offsetgroup": "West Bengal",
           "orientation": "v",
           "showlegend": true,
           "textposition": "auto",
           "type": "bar",
           "x": [
            "West Bengal",
            "West Bengal"
           ],
           "xaxis": "x",
           "y": [
            6.78,
            7.83
           ],
           "yaxis": "y"
          },
          {
           "alignmentgroup": "True",
           "hovertemplate": "Region=%{x}<br>Month_name=Oct<br>Estimated Unemployment Rate=%{y}<extra></extra>",
           "legendgroup": "Chandigarh",
           "marker": {
            "color": "rgb(140,140,140)",
            "pattern": {
             "shape": ""
            }
           },
           "name": "Chandigarh",
           "offsetgroup": "Chandigarh",
           "orientation": "v",
           "showlegend": true,
           "textposition": "auto",
           "type": "bar",
           "x": [
            "Chandigarh"
           ],
           "xaxis": "x",
           "y": [
            13.99
           ],
           "yaxis": "y"
          }
         ],
         "name": "Oct"
        },
        {
         "data": [
          {
           "alignmentgroup": "True",
           "hovertemplate": "Region=%{x}<br>Month_name=Nov<br>Estimated Unemployment Rate=%{y}<extra></extra>",
           "legendgroup": "Andhra Pradesh",
           "marker": {
            "color": "rgb(76,114,176)",
            "pattern": {
             "shape": ""
            }
           },
           "name": "Andhra Pradesh",
           "offsetgroup": "Andhra Pradesh",
           "orientation": "v",
           "showlegend": true,
           "textposition": "auto",
           "type": "bar",
           "x": [
            "Andhra Pradesh",
            "Andhra Pradesh"
           ],
           "xaxis": "x",
           "y": [
            4.12,
            7.54
           ],
           "yaxis": "y"
          },
          {
           "alignmentgroup": "True",
           "hovertemplate": "Region=%{x}<br>Month_name=Nov<br>Estimated Unemployment Rate=%{y}<extra></extra>",
           "legendgroup": "Assam",
           "marker": {
            "color": "rgb(221,132,82)",
            "pattern": {
             "shape": ""
            }
           },
           "name": "Assam",
           "offsetgroup": "Assam",
           "orientation": "v",
           "showlegend": true,
           "textposition": "auto",
           "type": "bar",
           "x": [
            "Assam",
            "Assam"
           ],
           "xaxis": "x",
           "y": [
            4.66,
            6.31
           ],
           "yaxis": "y"
          },
          {
           "alignmentgroup": "True",
           "hovertemplate": "Region=%{x}<br>Month_name=Nov<br>Estimated Unemployment Rate=%{y}<extra></extra>",
           "legendgroup": "Bihar",
           "marker": {
            "color": "rgb(85,168,104)",
            "pattern": {
             "shape": ""
            }
           },
           "name": "Bihar",
           "offsetgroup": "Bihar",
           "orientation": "v",
           "showlegend": true,
           "textposition": "auto",
           "type": "bar",
           "x": [
            "Bihar",
            "Bihar"
           ],
           "xaxis": "x",
           "y": [
            12.4,
            17.62
           ],
           "yaxis": "y"
          },
          {
           "alignmentgroup": "True",
           "hovertemplate": "Region=%{x}<br>Month_name=Nov<br>Estimated Unemployment Rate=%{y}<extra></extra>",
           "legendgroup": "Chhattisgarh",
           "marker": {
            "color": "rgb(196,78,82)",
            "pattern": {
             "shape": ""
            }
           },
           "name": "Chhattisgarh",
           "offsetgroup": "Chhattisgarh",
           "orientation": "v",
           "showlegend": true,
           "textposition": "auto",
           "type": "bar",
           "x": [
            "Chhattisgarh",
            "Chhattisgarh"
           ],
           "xaxis": "x",
           "y": [
            2.77,
            8.32
           ],
           "yaxis": "y"
          },
          {
           "alignmentgroup": "True",
           "hovertemplate": "Region=%{x}<br>Month_name=Nov<br>Estimated Unemployment Rate=%{y}<extra></extra>",
           "legendgroup": "Delhi",
           "marker": {
            "color": "rgb(129,114,179)",
            "pattern": {
             "shape": ""
            }
           },
           "name": "Delhi",
           "offsetgroup": "Delhi",
           "orientation": "v",
           "showlegend": true,
           "textposition": "auto",
           "type": "bar",
           "x": [
            "Delhi",
            "Delhi"
           ],
           "xaxis": "x",
           "y": [
            11.11,
            16.11
           ],
           "yaxis": "y"
          },
          {
           "alignmentgroup": "True",
           "hovertemplate": "Region=%{x}<br>Month_name=Nov<br>Estimated Unemployment Rate=%{y}<extra></extra>",
           "legendgroup": "Goa",
           "marker": {
            "color": "rgb(147,120,96)",
            "pattern": {
             "shape": ""
            }
           },
           "name": "Goa",
           "offsetgroup": "Goa",
           "orientation": "v",
           "showlegend": true,
           "textposition": "auto",
           "type": "bar",
           "x": [
            "Goa",
            "Goa"
           ],
           "xaxis": "x",
           "y": [
            23.71,
            25.2
           ],
           "yaxis": "y"
          },
          {
           "alignmentgroup": "True",
           "hovertemplate": "Region=%{x}<br>Month_name=Nov<br>Estimated Unemployment Rate=%{y}<extra></extra>",
           "legendgroup": "Gujarat",
           "marker": {
            "color": "rgb(218,139,195)",
            "pattern": {
             "shape": ""
            }
           },
           "name": "Gujarat",
           "offsetgroup": "Gujarat",
           "orientation": "v",
           "showlegend": true,
           "textposition": "auto",
           "type": "bar",
           "x": [
            "Gujarat",
            "Gujarat"
           ],
           "xaxis": "x",
           "y": [
            4.68,
            7.53
           ],
           "yaxis": "y"
          },
          {
           "alignmentgroup": "True",
           "hovertemplate": "Region=%{x}<br>Month_name=Nov<br>Estimated Unemployment Rate=%{y}<extra></extra>",
           "legendgroup": "Haryana",
           "marker": {
            "color": "rgb(140,140,140)",
            "pattern": {
             "shape": ""
            }
           },
           "name": "Haryana",
           "offsetgroup": "Haryana",
           "orientation": "v",
           "showlegend": true,
           "textposition": "auto",
           "type": "bar",
           "x": [
            "Haryana",
            "Haryana"
           ],
           "xaxis": "x",
           "y": [
            16.59,
            27.06
           ],
           "yaxis": "y"
          },
          {
           "alignmentgroup": "True",
           "hovertemplate": "Region=%{x}<br>Month_name=Nov<br>Estimated Unemployment Rate=%{y}<extra></extra>",
           "legendgroup": "Himachal Pradesh",
           "marker": {
            "color": "rgb(204,185,116)",
            "pattern": {
             "shape": ""
            }
           },
           "name": "Himachal Pradesh",
           "offsetgroup": "Himachal Pradesh",
           "orientation": "v",
           "showlegend": true,
           "textposition": "auto",
           "type": "bar",
           "x": [
            "Himachal Pradesh",
            "Himachal Pradesh"
           ],
           "xaxis": "x",
           "y": [
            22.86,
            27.27
           ],
           "yaxis": "y"
          },
          {
           "alignmentgroup": "True",
           "hovertemplate": "Region=%{x}<br>Month_name=Nov<br>Estimated Unemployment Rate=%{y}<extra></extra>",
           "legendgroup": "Jammu & Kashmir",
           "marker": {
            "color": "rgb(100,181,205)",
            "pattern": {
             "shape": ""
            }
           },
           "name": "Jammu & Kashmir",
           "offsetgroup": "Jammu & Kashmir",
           "orientation": "v",
           "showlegend": true,
           "textposition": "auto",
           "type": "bar",
           "x": [
            "Jammu & Kashmir",
            "Jammu & Kashmir"
           ],
           "xaxis": "x",
           "y": [
            14.73,
            14.29
           ],
           "yaxis": "y"
          },
          {
           "alignmentgroup": "True",
           "hovertemplate": "Region=%{x}<br>Month_name=Nov<br>Estimated Unemployment Rate=%{y}<extra></extra>",
           "legendgroup": "Jharkhand",
           "marker": {
            "color": "rgb(76,114,176)",
            "pattern": {
             "shape": ""
            }
           },
           "name": "Jharkhand",
           "offsetgroup": "Jharkhand",
           "orientation": "v",
           "showlegend": true,
           "textposition": "auto",
           "type": "bar",
           "x": [
            "Jharkhand",
            "Jharkhand"
           ],
           "xaxis": "x",
           "y": [
            8.07,
            17.34
           ],
           "yaxis": "y"
          },
          {
           "alignmentgroup": "True",
           "hovertemplate": "Region=%{x}<br>Month_name=Nov<br>Estimated Unemployment Rate=%{y}<extra></extra>",
           "legendgroup": "Karnataka",
           "marker": {
            "color": "rgb(221,132,82)",
            "pattern": {
             "shape": ""
            }
           },
           "name": "Karnataka",
           "offsetgroup": "Karnataka",
           "orientation": "v",
           "showlegend": true,
           "textposition": "auto",
           "type": "bar",
           "x": [
            "Karnataka",
            "Karnataka"
           ],
           "xaxis": "x",
           "y": [
            1.19,
            3.44
           ],
           "yaxis": "y"
          },
          {
           "alignmentgroup": "True",
           "hovertemplate": "Region=%{x}<br>Month_name=Nov<br>Estimated Unemployment Rate=%{y}<extra></extra>",
           "legendgroup": "Kerala",
           "marker": {
            "color": "rgb(85,168,104)",
            "pattern": {
             "shape": ""
            }
           },
           "name": "Kerala",
           "offsetgroup": "Kerala",
           "orientation": "v",
           "showlegend": true,
           "textposition": "auto",
           "type": "bar",
           "x": [
            "Kerala",
            "Kerala"
           ],
           "xaxis": "x",
           "y": [
            5,
            6.71
           ],
           "yaxis": "y"
          },
          {
           "alignmentgroup": "True",
           "hovertemplate": "Region=%{x}<br>Month_name=Nov<br>Estimated Unemployment Rate=%{y}<extra></extra>",
           "legendgroup": "Madhya Pradesh",
           "marker": {
            "color": "rgb(196,78,82)",
            "pattern": {
             "shape": ""
            }
           },
           "name": "Madhya Pradesh",
           "offsetgroup": "Madhya Pradesh",
           "orientation": "v",
           "showlegend": true,
           "textposition": "auto",
           "type": "bar",
           "x": [
            "Madhya Pradesh",
            "Madhya Pradesh"
           ],
           "xaxis": "x",
           "y": [
            2.72,
            6.06
           ],
           "yaxis": "y"
          },
          {
           "alignmentgroup": "True",
           "hovertemplate": "Region=%{x}<br>Month_name=Nov<br>Estimated Unemployment Rate=%{y}<extra></extra>",
           "legendgroup": "Maharashtra",
           "marker": {
            "color": "rgb(129,114,179)",
            "pattern": {
             "shape": ""
            }
           },
           "name": "Maharashtra",
           "offsetgroup": "Maharashtra",
           "orientation": "v",
           "showlegend": true,
           "textposition": "auto",
           "type": "bar",
           "x": [
            "Maharashtra",
            "Maharashtra"
           ],
           "xaxis": "x",
           "y": [
            3.68,
            7.6
           ],
           "yaxis": "y"
          },
          {
           "alignmentgroup": "True",
           "hovertemplate": "Region=%{x}<br>Month_name=Nov<br>Estimated Unemployment Rate=%{y}<extra></extra>",
           "legendgroup": "Meghalaya",
           "marker": {
            "color": "rgb(147,120,96)",
            "pattern": {
             "shape": ""
            }
           },
           "name": "Meghalaya",
           "offsetgroup": "Meghalaya",
           "orientation": "v",
           "showlegend": true,
           "textposition": "auto",
           "type": "bar",
           "x": [
            "Meghalaya",
            "Meghalaya"
           ],
           "xaxis": "x",
           "y": [
            1.5,
            3.02
           ],
           "yaxis": "y"
          },
          {
           "alignmentgroup": "True",
           "hovertemplate": "Region=%{x}<br>Month_name=Nov<br>Estimated Unemployment Rate=%{y}<extra></extra>",
           "legendgroup": "Odisha",
           "marker": {
            "color": "rgb(218,139,195)",
            "pattern": {
             "shape": ""
            }
           },
           "name": "Odisha",
           "offsetgroup": "Odisha",
           "orientation": "v",
           "showlegend": true,
           "textposition": "auto",
           "type": "bar",
           "x": [
            "Odisha",
            "Odisha"
           ],
           "xaxis": "x",
           "y": [
            4.72,
            2.23
           ],
           "yaxis": "y"
          },
          {
           "alignmentgroup": "True",
           "hovertemplate": "Region=%{x}<br>Month_name=Nov<br>Estimated Unemployment Rate=%{y}<extra></extra>",
           "legendgroup": "Puducherry",
           "marker": {
            "color": "rgb(140,140,140)",
            "pattern": {
             "shape": ""
            }
           },
           "name": "Puducherry",
           "offsetgroup": "Puducherry",
           "orientation": "v",
           "showlegend": true,
           "textposition": "auto",
           "type": "bar",
           "x": [
            "Puducherry",
            "Puducherry"
           ],
           "xaxis": "x",
           "y": [
            0,
            1.37
           ],
           "yaxis": "y"
          },
          {
           "alignmentgroup": "True",
           "hovertemplate": "Region=%{x}<br>Month_name=Nov<br>Estimated Unemployment Rate=%{y}<extra></extra>",
           "legendgroup": "Punjab",
           "marker": {
            "color": "rgb(204,185,116)",
            "pattern": {
             "shape": ""
            }
           },
           "name": "Punjab",
           "offsetgroup": "Punjab",
           "orientation": "v",
           "showlegend": true,
           "textposition": "auto",
           "type": "bar",
           "x": [
            "Punjab",
            "Punjab"
           ],
           "xaxis": "x",
           "y": [
            7.07,
            10.39
           ],
           "yaxis": "y"
          },
          {
           "alignmentgroup": "True",
           "hovertemplate": "Region=%{x}<br>Month_name=Nov<br>Estimated Unemployment Rate=%{y}<extra></extra>",
           "legendgroup": "Rajasthan",
           "marker": {
            "color": "rgb(100,181,205)",
            "pattern": {
             "shape": ""
            }
           },
           "name": "Rajasthan",
           "offsetgroup": "Rajasthan",
           "orientation": "v",
           "showlegend": true,
           "textposition": "auto",
           "type": "bar",
           "x": [
            "Rajasthan",
            "Rajasthan"
           ],
           "xaxis": "x",
           "y": [
            10.47,
            14.3
           ],
           "yaxis": "y"
          },
          {
           "alignmentgroup": "True",
           "hovertemplate": "Region=%{x}<br>Month_name=Nov<br>Estimated Unemployment Rate=%{y}<extra></extra>",
           "legendgroup": "Sikkim",
           "marker": {
            "color": "rgb(76,114,176)",
            "pattern": {
             "shape": ""
            }
           },
           "name": "Sikkim",
           "offsetgroup": "Sikkim",
           "orientation": "v",
           "showlegend": true,
           "textposition": "auto",
           "type": "bar",
           "x": [
            "Sikkim",
            "Sikkim"
           ],
           "xaxis": "x",
           "y": [
            13.11,
            4.04
           ],
           "yaxis": "y"
          },
          {
           "alignmentgroup": "True",
           "hovertemplate": "Region=%{x}<br>Month_name=Nov<br>Estimated Unemployment Rate=%{y}<extra></extra>",
           "legendgroup": "Tamil Nadu",
           "marker": {
            "color": "rgb(221,132,82)",
            "pattern": {
             "shape": ""
            }
           },
           "name": "Tamil Nadu",
           "offsetgroup": "Tamil Nadu",
           "orientation": "v",
           "showlegend": true,
           "textposition": "auto",
           "type": "bar",
           "x": [
            "Tamil Nadu",
            "Tamil Nadu"
           ],
           "xaxis": "x",
           "y": [
            2.46,
            2.65
           ],
           "yaxis": "y"
          },
          {
           "alignmentgroup": "True",
           "hovertemplate": "Region=%{x}<br>Month_name=Nov<br>Estimated Unemployment Rate=%{y}<extra></extra>",
           "legendgroup": "Telangana",
           "marker": {
            "color": "rgb(85,168,104)",
            "pattern": {
             "shape": ""
            }
           },
           "name": "Telangana",
           "offsetgroup": "Telangana",
           "orientation": "v",
           "showlegend": true,
           "textposition": "auto",
           "type": "bar",
           "x": [
            "Telangana",
            "Telangana"
           ],
           "xaxis": "x",
           "y": [
            6.47,
            5.23
           ],
           "yaxis": "y"
          },
          {
           "alignmentgroup": "True",
           "hovertemplate": "Region=%{x}<br>Month_name=Nov<br>Estimated Unemployment Rate=%{y}<extra></extra>",
           "legendgroup": "Tripura",
           "marker": {
            "color": "rgb(196,78,82)",
            "pattern": {
             "shape": ""
            }
           },
           "name": "Tripura",
           "offsetgroup": "Tripura",
           "orientation": "v",
           "showlegend": true,
           "textposition": "auto",
           "type": "bar",
           "x": [
            "Tripura",
            "Tripura"
           ],
           "xaxis": "x",
           "y": [
            25.25,
            27.15
           ],
           "yaxis": "y"
          },
          {
           "alignmentgroup": "True",
           "hovertemplate": "Region=%{x}<br>Month_name=Nov<br>Estimated Unemployment Rate=%{y}<extra></extra>",
           "legendgroup": "Uttar Pradesh",
           "marker": {
            "color": "rgb(129,114,179)",
            "pattern": {
             "shape": ""
            }
           },
           "name": "Uttar Pradesh",
           "offsetgroup": "Uttar Pradesh",
           "orientation": "v",
           "showlegend": true,
           "textposition": "auto",
           "type": "bar",
           "x": [
            "Uttar Pradesh",
            "Uttar Pradesh"
           ],
           "xaxis": "x",
           "y": [
            6.94,
            11.31
           ],
           "yaxis": "y"
          },
          {
           "alignmentgroup": "True",
           "hovertemplate": "Region=%{x}<br>Month_name=Nov<br>Estimated Unemployment Rate=%{y}<extra></extra>",
           "legendgroup": "Uttarakhand",
           "marker": {
            "color": "rgb(147,120,96)",
            "pattern": {
             "shape": ""
            }
           },
           "name": "Uttarakhand",
           "offsetgroup": "Uttarakhand",
           "orientation": "v",
           "showlegend": true,
           "textposition": "auto",
           "type": "bar",
           "x": [
            "Uttarakhand",
            "Uttarakhand"
           ],
           "xaxis": "x",
           "y": [
            5.56,
            6.34
           ],
           "yaxis": "y"
          },
          {
           "alignmentgroup": "True",
           "hovertemplate": "Region=%{x}<br>Month_name=Nov<br>Estimated Unemployment Rate=%{y}<extra></extra>",
           "legendgroup": "West Bengal",
           "marker": {
            "color": "rgb(218,139,195)",
            "pattern": {
             "shape": ""
            }
           },
           "name": "West Bengal",
           "offsetgroup": "West Bengal",
           "orientation": "v",
           "showlegend": true,
           "textposition": "auto",
           "type": "bar",
           "x": [
            "West Bengal",
            "West Bengal"
           ],
           "xaxis": "x",
           "y": [
            5.83,
            6.61
           ],
           "yaxis": "y"
          },
          {
           "alignmentgroup": "True",
           "hovertemplate": "Region=%{x}<br>Month_name=Nov<br>Estimated Unemployment Rate=%{y}<extra></extra>",
           "legendgroup": "Chandigarh",
           "marker": {
            "color": "rgb(140,140,140)",
            "pattern": {
             "shape": ""
            }
           },
           "name": "Chandigarh",
           "offsetgroup": "Chandigarh",
           "orientation": "v",
           "showlegend": true,
           "textposition": "auto",
           "type": "bar",
           "x": [
            "Chandigarh"
           ],
           "xaxis": "x",
           "y": [
            22.05
           ],
           "yaxis": "y"
          }
         ],
         "name": "Nov"
        },
        {
         "data": [
          {
           "alignmentgroup": "True",
           "hovertemplate": "Region=%{x}<br>Month_name=Dec<br>Estimated Unemployment Rate=%{y}<extra></extra>",
           "legendgroup": "Andhra Pradesh",
           "marker": {
            "color": "rgb(76,114,176)",
            "pattern": {
             "shape": ""
            }
           },
           "name": "Andhra Pradesh",
           "offsetgroup": "Andhra Pradesh",
           "orientation": "v",
           "showlegend": true,
           "textposition": "auto",
           "type": "bar",
           "x": [
            "Andhra Pradesh",
            "Andhra Pradesh"
           ],
           "xaxis": "x",
           "y": [
            4.38,
            7.88
           ],
           "yaxis": "y"
          },
          {
           "alignmentgroup": "True",
           "hovertemplate": "Region=%{x}<br>Month_name=Dec<br>Estimated Unemployment Rate=%{y}<extra></extra>",
           "legendgroup": "Assam",
           "marker": {
            "color": "rgb(221,132,82)",
            "pattern": {
             "shape": ""
            }
           },
           "name": "Assam",
           "offsetgroup": "Assam",
           "orientation": "v",
           "showlegend": true,
           "textposition": "auto",
           "type": "bar",
           "x": [
            "Assam"
           ],
           "xaxis": "x",
           "y": [
            5.02
           ],
           "yaxis": "y"
          },
          {
           "alignmentgroup": "True",
           "hovertemplate": "Region=%{x}<br>Month_name=Dec<br>Estimated Unemployment Rate=%{y}<extra></extra>",
           "legendgroup": "Bihar",
           "marker": {
            "color": "rgb(85,168,104)",
            "pattern": {
             "shape": ""
            }
           },
           "name": "Bihar",
           "offsetgroup": "Bihar",
           "orientation": "v",
           "showlegend": true,
           "textposition": "auto",
           "type": "bar",
           "x": [
            "Bihar",
            "Bihar"
           ],
           "xaxis": "x",
           "y": [
            10.16,
            14.91
           ],
           "yaxis": "y"
          },
          {
           "alignmentgroup": "True",
           "hovertemplate": "Region=%{x}<br>Month_name=Dec<br>Estimated Unemployment Rate=%{y}<extra></extra>",
           "legendgroup": "Chhattisgarh",
           "marker": {
            "color": "rgb(196,78,82)",
            "pattern": {
             "shape": ""
            }
           },
           "name": "Chhattisgarh",
           "offsetgroup": "Chhattisgarh",
           "orientation": "v",
           "showlegend": true,
           "textposition": "auto",
           "type": "bar",
           "x": [
            "Chhattisgarh",
            "Chhattisgarh"
           ],
           "xaxis": "x",
           "y": [
            6.11,
            3.57
           ],
           "yaxis": "y"
          },
          {
           "alignmentgroup": "True",
           "hovertemplate": "Region=%{x}<br>Month_name=Dec<br>Estimated Unemployment Rate=%{y}<extra></extra>",
           "legendgroup": "Delhi",
           "marker": {
            "color": "rgb(129,114,179)",
            "pattern": {
             "shape": ""
            }
           },
           "name": "Delhi",
           "offsetgroup": "Delhi",
           "orientation": "v",
           "showlegend": true,
           "textposition": "auto",
           "type": "bar",
           "x": [
            "Delhi",
            "Delhi"
           ],
           "xaxis": "x",
           "y": [
            16.97,
            11.07
           ],
           "yaxis": "y"
          },
          {
           "alignmentgroup": "True",
           "hovertemplate": "Region=%{x}<br>Month_name=Dec<br>Estimated Unemployment Rate=%{y}<extra></extra>",
           "legendgroup": "Goa",
           "marker": {
            "color": "rgb(147,120,96)",
            "pattern": {
             "shape": ""
            }
           },
           "name": "Goa",
           "offsetgroup": "Goa",
           "orientation": "v",
           "showlegend": true,
           "textposition": "auto",
           "type": "bar",
           "x": [
            "Goa",
            "Goa"
           ],
           "xaxis": "x",
           "y": [
            3.54,
            16.22
           ],
           "yaxis": "y"
          },
          {
           "alignmentgroup": "True",
           "hovertemplate": "Region=%{x}<br>Month_name=Dec<br>Estimated Unemployment Rate=%{y}<extra></extra>",
           "legendgroup": "Gujarat",
           "marker": {
            "color": "rgb(218,139,195)",
            "pattern": {
             "shape": ""
            }
           },
           "name": "Gujarat",
           "offsetgroup": "Gujarat",
           "orientation": "v",
           "showlegend": true,
           "textposition": "auto",
           "type": "bar",
           "x": [
            "Gujarat",
            "Gujarat"
           ],
           "xaxis": "x",
           "y": [
            3.46,
            5.71
           ],
           "yaxis": "y"
          },
          {
           "alignmentgroup": "True",
           "hovertemplate": "Region=%{x}<br>Month_name=Dec<br>Estimated Unemployment Rate=%{y}<extra></extra>",
           "legendgroup": "Haryana",
           "marker": {
            "color": "rgb(140,140,140)",
            "pattern": {
             "shape": ""
            }
           },
           "name": "Haryana",
           "offsetgroup": "Haryana",
           "orientation": "v",
           "showlegend": true,
           "textposition": "auto",
           "type": "bar",
           "x": [
            "Haryana",
            "Haryana"
           ],
           "xaxis": "x",
           "y": [
            29.56,
            23.65
           ],
           "yaxis": "y"
          },
          {
           "alignmentgroup": "True",
           "hovertemplate": "Region=%{x}<br>Month_name=Dec<br>Estimated Unemployment Rate=%{y}<extra></extra>",
           "legendgroup": "Himachal Pradesh",
           "marker": {
            "color": "rgb(204,185,116)",
            "pattern": {
             "shape": ""
            }
           },
           "name": "Himachal Pradesh",
           "offsetgroup": "Himachal Pradesh",
           "orientation": "v",
           "showlegend": true,
           "textposition": "auto",
           "type": "bar",
           "x": [
            "Himachal Pradesh",
            "Himachal Pradesh"
           ],
           "xaxis": "x",
           "y": [
            19.46,
            25.32
           ],
           "yaxis": "y"
          },
          {
           "alignmentgroup": "True",
           "hovertemplate": "Region=%{x}<br>Month_name=Dec<br>Estimated Unemployment Rate=%{y}<extra></extra>",
           "legendgroup": "Jammu & Kashmir",
           "marker": {
            "color": "rgb(100,181,205)",
            "pattern": {
             "shape": ""
            }
           },
           "name": "Jammu & Kashmir",
           "offsetgroup": "Jammu & Kashmir",
           "orientation": "v",
           "showlegend": true,
           "textposition": "auto",
           "type": "bar",
           "x": [
            "Jammu & Kashmir"
           ],
           "xaxis": "x",
           "y": [
            7.02
           ],
           "yaxis": "y"
          },
          {
           "alignmentgroup": "True",
           "hovertemplate": "Region=%{x}<br>Month_name=Dec<br>Estimated Unemployment Rate=%{y}<extra></extra>",
           "legendgroup": "Jharkhand",
           "marker": {
            "color": "rgb(76,114,176)",
            "pattern": {
             "shape": ""
            }
           },
           "name": "Jharkhand",
           "offsetgroup": "Jharkhand",
           "orientation": "v",
           "showlegend": true,
           "textposition": "auto",
           "type": "bar",
           "x": [
            "Jharkhand",
            "Jharkhand"
           ],
           "xaxis": "x",
           "y": [
            15.15,
            22.01
           ],
           "yaxis": "y"
          },
          {
           "alignmentgroup": "True",
           "hovertemplate": "Region=%{x}<br>Month_name=Dec<br>Estimated Unemployment Rate=%{y}<extra></extra>",
           "legendgroup": "Karnataka",
           "marker": {
            "color": "rgb(221,132,82)",
            "pattern": {
             "shape": ""
            }
           },
           "name": "Karnataka",
           "offsetgroup": "Karnataka",
           "orientation": "v",
           "showlegend": true,
           "textposition": "auto",
           "type": "bar",
           "x": [
            "Karnataka",
            "Karnataka"
           ],
           "xaxis": "x",
           "y": [
            0.41,
            1.56
           ],
           "yaxis": "y"
          },
          {
           "alignmentgroup": "True",
           "hovertemplate": "Region=%{x}<br>Month_name=Dec<br>Estimated Unemployment Rate=%{y}<extra></extra>",
           "legendgroup": "Kerala",
           "marker": {
            "color": "rgb(85,168,104)",
            "pattern": {
             "shape": ""
            }
           },
           "name": "Kerala",
           "offsetgroup": "Kerala",
           "orientation": "v",
           "showlegend": true,
           "textposition": "auto",
           "type": "bar",
           "x": [
            "Kerala",
            "Kerala"
           ],
           "xaxis": "x",
           "y": [
            10.77,
            7.31
           ],
           "yaxis": "y"
          },
          {
           "alignmentgroup": "True",
           "hovertemplate": "Region=%{x}<br>Month_name=Dec<br>Estimated Unemployment Rate=%{y}<extra></extra>",
           "legendgroup": "Madhya Pradesh",
           "marker": {
            "color": "rgb(196,78,82)",
            "pattern": {
             "shape": ""
            }
           },
           "name": "Madhya Pradesh",
           "offsetgroup": "Madhya Pradesh",
           "orientation": "v",
           "showlegend": true,
           "textposition": "auto",
           "type": "bar",
           "x": [
            "Madhya Pradesh",
            "Madhya Pradesh"
           ],
           "xaxis": "x",
           "y": [
            2.94,
            6.2
           ],
           "yaxis": "y"
          },
          {
           "alignmentgroup": "True",
           "hovertemplate": "Region=%{x}<br>Month_name=Dec<br>Estimated Unemployment Rate=%{y}<extra></extra>",
           "legendgroup": "Maharashtra",
           "marker": {
            "color": "rgb(129,114,179)",
            "pattern": {
             "shape": ""
            }
           },
           "name": "Maharashtra",
           "offsetgroup": "Maharashtra",
           "orientation": "v",
           "showlegend": true,
           "textposition": "auto",
           "type": "bar",
           "x": [
            "Maharashtra",
            "Maharashtra"
           ],
           "xaxis": "x",
           "y": [
            3.03,
            7.83
           ],
           "yaxis": "y"
          },
          {
           "alignmentgroup": "True",
           "hovertemplate": "Region=%{x}<br>Month_name=Dec<br>Estimated Unemployment Rate=%{y}<extra></extra>",
           "legendgroup": "Meghalaya",
           "marker": {
            "color": "rgb(147,120,96)",
            "pattern": {
             "shape": ""
            }
           },
           "name": "Meghalaya",
           "offsetgroup": "Meghalaya",
           "orientation": "v",
           "showlegend": true,
           "textposition": "auto",
           "type": "bar",
           "x": [
            "Meghalaya",
            "Meghalaya"
           ],
           "xaxis": "x",
           "y": [
            1.8,
            5.21
           ],
           "yaxis": "y"
          },
          {
           "alignmentgroup": "True",
           "hovertemplate": "Region=%{x}<br>Month_name=Dec<br>Estimated Unemployment Rate=%{y}<extra></extra>",
           "legendgroup": "Odisha",
           "marker": {
            "color": "rgb(218,139,195)",
            "pattern": {
             "shape": ""
            }
           },
           "name": "Odisha",
           "offsetgroup": "Odisha",
           "orientation": "v",
           "showlegend": true,
           "textposition": "auto",
           "type": "bar",
           "x": [
            "Odisha",
            "Odisha"
           ],
           "xaxis": "x",
           "y": [
            4.67,
            3.36
           ],
           "yaxis": "y"
          },
          {
           "alignmentgroup": "True",
           "hovertemplate": "Region=%{x}<br>Month_name=Dec<br>Estimated Unemployment Rate=%{y}<extra></extra>",
           "legendgroup": "Puducherry",
           "marker": {
            "color": "rgb(140,140,140)",
            "pattern": {
             "shape": ""
            }
           },
           "name": "Puducherry",
           "offsetgroup": "Puducherry",
           "orientation": "v",
           "showlegend": true,
           "textposition": "auto",
           "type": "bar",
           "x": [
            "Puducherry",
            "Puducherry"
           ],
           "xaxis": "x",
           "y": [
            1.99,
            5.21
           ],
           "yaxis": "y"
          },
          {
           "alignmentgroup": "True",
           "hovertemplate": "Region=%{x}<br>Month_name=Dec<br>Estimated Unemployment Rate=%{y}<extra></extra>",
           "legendgroup": "Punjab",
           "marker": {
            "color": "rgb(204,185,116)",
            "pattern": {
             "shape": ""
            }
           },
           "name": "Punjab",
           "offsetgroup": "Punjab",
           "orientation": "v",
           "showlegend": true,
           "textposition": "auto",
           "type": "bar",
           "x": [
            "Punjab",
            "Punjab"
           ],
           "xaxis": "x",
           "y": [
            6.13,
            11.97
           ],
           "yaxis": "y"
          },
          {
           "alignmentgroup": "True",
           "hovertemplate": "Region=%{x}<br>Month_name=Dec<br>Estimated Unemployment Rate=%{y}<extra></extra>",
           "legendgroup": "Rajasthan",
           "marker": {
            "color": "rgb(100,181,205)",
            "pattern": {
             "shape": ""
            }
           },
           "name": "Rajasthan",
           "offsetgroup": "Rajasthan",
           "orientation": "v",
           "showlegend": true,
           "textposition": "auto",
           "type": "bar",
           "x": [
            "Rajasthan",
            "Rajasthan"
           ],
           "xaxis": "x",
           "y": [
            13.96,
            18.04
           ],
           "yaxis": "y"
          },
          {
           "alignmentgroup": "True",
           "hovertemplate": "Region=%{x}<br>Month_name=Dec<br>Estimated Unemployment Rate=%{y}<extra></extra>",
           "legendgroup": "Sikkim",
           "marker": {
            "color": "rgb(76,114,176)",
            "pattern": {
             "shape": ""
            }
           },
           "name": "Sikkim",
           "offsetgroup": "Sikkim",
           "orientation": "v",
           "showlegend": true,
           "textposition": "auto",
           "type": "bar",
           "x": [
            "Sikkim",
            "Sikkim"
           ],
           "xaxis": "x",
           "y": [
            1,
            7.37
           ],
           "yaxis": "y"
          },
          {
           "alignmentgroup": "True",
           "hovertemplate": "Region=%{x}<br>Month_name=Dec<br>Estimated Unemployment Rate=%{y}<extra></extra>",
           "legendgroup": "Tamil Nadu",
           "marker": {
            "color": "rgb(221,132,82)",
            "pattern": {
             "shape": ""
            }
           },
           "name": "Tamil Nadu",
           "offsetgroup": "Tamil Nadu",
           "orientation": "v",
           "showlegend": true,
           "textposition": "auto",
           "type": "bar",
           "x": [
            "Tamil Nadu",
            "Tamil Nadu"
           ],
           "xaxis": "x",
           "y": [
            3.73,
            8.05
           ],
           "yaxis": "y"
          },
          {
           "alignmentgroup": "True",
           "hovertemplate": "Region=%{x}<br>Month_name=Dec<br>Estimated Unemployment Rate=%{y}<extra></extra>",
           "legendgroup": "Telangana",
           "marker": {
            "color": "rgb(85,168,104)",
            "pattern": {
             "shape": ""
            }
           },
           "name": "Telangana",
           "offsetgroup": "Telangana",
           "orientation": "v",
           "showlegend": true,
           "textposition": "auto",
           "type": "bar",
           "x": [
            "Telangana",
            "Telangana"
           ],
           "xaxis": "x",
           "y": [
            1.35,
            4.22
           ],
           "yaxis": "y"
          },
          {
           "alignmentgroup": "True",
           "hovertemplate": "Region=%{x}<br>Month_name=Dec<br>Estimated Unemployment Rate=%{y}<extra></extra>",
           "legendgroup": "Tripura",
           "marker": {
            "color": "rgb(196,78,82)",
            "pattern": {
             "shape": ""
            }
           },
           "name": "Tripura",
           "offsetgroup": "Tripura",
           "orientation": "v",
           "showlegend": true,
           "textposition": "auto",
           "type": "bar",
           "x": [
            "Tripura",
            "Tripura"
           ],
           "xaxis": "x",
           "y": [
            26.53,
            33.48
           ],
           "yaxis": "y"
          },
          {
           "alignmentgroup": "True",
           "hovertemplate": "Region=%{x}<br>Month_name=Dec<br>Estimated Unemployment Rate=%{y}<extra></extra>",
           "legendgroup": "Uttar Pradesh",
           "marker": {
            "color": "rgb(129,114,179)",
            "pattern": {
             "shape": ""
            }
           },
           "name": "Uttar Pradesh",
           "offsetgroup": "Uttar Pradesh",
           "orientation": "v",
           "showlegend": true,
           "textposition": "auto",
           "type": "bar",
           "x": [
            "Uttar Pradesh",
            "Uttar Pradesh"
           ],
           "xaxis": "x",
           "y": [
            8.43,
            12.37
           ],
           "yaxis": "y"
          },
          {
           "alignmentgroup": "True",
           "hovertemplate": "Region=%{x}<br>Month_name=Dec<br>Estimated Unemployment Rate=%{y}<extra></extra>",
           "legendgroup": "Uttarakhand",
           "marker": {
            "color": "rgb(147,120,96)",
            "pattern": {
             "shape": ""
            }
           },
           "name": "Uttarakhand",
           "offsetgroup": "Uttarakhand",
           "orientation": "v",
           "showlegend": true,
           "textposition": "auto",
           "type": "bar",
           "x": [
            "Uttarakhand",
            "Uttarakhand"
           ],
           "xaxis": "x",
           "y": [
            4.52,
            7.39
           ],
           "yaxis": "y"
          },
          {
           "alignmentgroup": "True",
           "hovertemplate": "Region=%{x}<br>Month_name=Dec<br>Estimated Unemployment Rate=%{y}<extra></extra>",
           "legendgroup": "West Bengal",
           "marker": {
            "color": "rgb(218,139,195)",
            "pattern": {
             "shape": ""
            }
           },
           "name": "West Bengal",
           "offsetgroup": "West Bengal",
           "orientation": "v",
           "showlegend": true,
           "textposition": "auto",
           "type": "bar",
           "x": [
            "West Bengal",
            "West Bengal"
           ],
           "xaxis": "x",
           "y": [
            5.79,
            7.24
           ],
           "yaxis": "y"
          },
          {
           "alignmentgroup": "True",
           "hovertemplate": "Region=%{x}<br>Month_name=Dec<br>Estimated Unemployment Rate=%{y}<extra></extra>",
           "legendgroup": "Chandigarh",
           "marker": {
            "color": "rgb(140,140,140)",
            "pattern": {
             "shape": ""
            }
           },
           "name": "Chandigarh",
           "offsetgroup": "Chandigarh",
           "orientation": "v",
           "showlegend": true,
           "textposition": "auto",
           "type": "bar",
           "x": [
            "Chandigarh"
           ],
           "xaxis": "x",
           "y": [
            8.33
           ],
           "yaxis": "y"
          }
         ],
         "name": "Dec"
        },
        {
         "data": [
          {
           "alignmentgroup": "True",
           "hovertemplate": "Region=%{x}<br>Month_name=Jan<br>Estimated Unemployment Rate=%{y}<extra></extra>",
           "legendgroup": "Andhra Pradesh",
           "marker": {
            "color": "rgb(76,114,176)",
            "pattern": {
             "shape": ""
            }
           },
           "name": "Andhra Pradesh",
           "offsetgroup": "Andhra Pradesh",
           "orientation": "v",
           "showlegend": true,
           "textposition": "auto",
           "type": "bar",
           "x": [
            "Andhra Pradesh",
            "Andhra Pradesh"
           ],
           "xaxis": "x",
           "y": [
            4.84,
            7.11
           ],
           "yaxis": "y"
          },
          {
           "alignmentgroup": "True",
           "hovertemplate": "Region=%{x}<br>Month_name=Jan<br>Estimated Unemployment Rate=%{y}<extra></extra>",
           "legendgroup": "Assam",
           "marker": {
            "color": "rgb(221,132,82)",
            "pattern": {
             "shape": ""
            }
           },
           "name": "Assam",
           "offsetgroup": "Assam",
           "orientation": "v",
           "showlegend": true,
           "textposition": "auto",
           "type": "bar",
           "x": [
            "Assam",
            "Assam"
           ],
           "xaxis": "x",
           "y": [
            4.29,
            7.24
           ],
           "yaxis": "y"
          },
          {
           "alignmentgroup": "True",
           "hovertemplate": "Region=%{x}<br>Month_name=Jan<br>Estimated Unemployment Rate=%{y}<extra></extra>",
           "legendgroup": "Bihar",
           "marker": {
            "color": "rgb(85,168,104)",
            "pattern": {
             "shape": ""
            }
           },
           "name": "Bihar",
           "offsetgroup": "Bihar",
           "orientation": "v",
           "showlegend": true,
           "textposition": "auto",
           "type": "bar",
           "x": [
            "Bihar",
            "Bihar"
           ],
           "xaxis": "x",
           "y": [
            9.13,
            20.69
           ],
           "yaxis": "y"
          },
          {
           "alignmentgroup": "True",
           "hovertemplate": "Region=%{x}<br>Month_name=Jan<br>Estimated Unemployment Rate=%{y}<extra></extra>",
           "legendgroup": "Chhattisgarh",
           "marker": {
            "color": "rgb(196,78,82)",
            "pattern": {
             "shape": ""
            }
           },
           "name": "Chhattisgarh",
           "offsetgroup": "Chhattisgarh",
           "orientation": "v",
           "showlegend": true,
           "textposition": "auto",
           "type": "bar",
           "x": [
            "Chhattisgarh",
            "Chhattisgarh"
           ],
           "xaxis": "x",
           "y": [
            9.89,
            9.01
           ],
           "yaxis": "y"
          },
          {
           "alignmentgroup": "True",
           "hovertemplate": "Region=%{x}<br>Month_name=Jan<br>Estimated Unemployment Rate=%{y}<extra></extra>",
           "legendgroup": "Delhi",
           "marker": {
            "color": "rgb(129,114,179)",
            "pattern": {
             "shape": ""
            }
           },
           "name": "Delhi",
           "offsetgroup": "Delhi",
           "orientation": "v",
           "showlegend": true,
           "textposition": "auto",
           "type": "bar",
           "x": [
            "Delhi",
            "Delhi"
           ],
           "xaxis": "x",
           "y": [
            13.48,
            22.45
           ],
           "yaxis": "y"
          },
          {
           "alignmentgroup": "True",
           "hovertemplate": "Region=%{x}<br>Month_name=Jan<br>Estimated Unemployment Rate=%{y}<extra></extra>",
           "legendgroup": "Goa",
           "marker": {
            "color": "rgb(147,120,96)",
            "pattern": {
             "shape": ""
            }
           },
           "name": "Goa",
           "offsetgroup": "Goa",
           "orientation": "v",
           "showlegend": true,
           "textposition": "auto",
           "type": "bar",
           "x": [
            "Goa",
            "Goa"
           ],
           "xaxis": "x",
           "y": [
            5.38,
            10.92
           ],
           "yaxis": "y"
          },
          {
           "alignmentgroup": "True",
           "hovertemplate": "Region=%{x}<br>Month_name=Jan<br>Estimated Unemployment Rate=%{y}<extra></extra>",
           "legendgroup": "Gujarat",
           "marker": {
            "color": "rgb(218,139,195)",
            "pattern": {
             "shape": ""
            }
           },
           "name": "Gujarat",
           "offsetgroup": "Gujarat",
           "orientation": "v",
           "showlegend": true,
           "textposition": "auto",
           "type": "bar",
           "x": [
            "Gujarat",
            "Gujarat"
           ],
           "xaxis": "x",
           "y": [
            5.35,
            5.82
           ],
           "yaxis": "y"
          },
          {
           "alignmentgroup": "True",
           "hovertemplate": "Region=%{x}<br>Month_name=Jan<br>Estimated Unemployment Rate=%{y}<extra></extra>",
           "legendgroup": "Haryana",
           "marker": {
            "color": "rgb(140,140,140)",
            "pattern": {
             "shape": ""
            }
           },
           "name": "Haryana",
           "offsetgroup": "Haryana",
           "orientation": "v",
           "showlegend": true,
           "textposition": "auto",
           "type": "bar",
           "x": [
            "Haryana",
            "Haryana"
           ],
           "xaxis": "x",
           "y": [
            16.21,
            27.24
           ],
           "yaxis": "y"
          },
          {
           "alignmentgroup": "True",
           "hovertemplate": "Region=%{x}<br>Month_name=Jan<br>Estimated Unemployment Rate=%{y}<extra></extra>",
           "legendgroup": "Himachal Pradesh",
           "marker": {
            "color": "rgb(204,185,116)",
            "pattern": {
             "shape": ""
            }
           },
           "name": "Himachal Pradesh",
           "offsetgroup": "Himachal Pradesh",
           "orientation": "v",
           "showlegend": true,
           "textposition": "auto",
           "type": "bar",
           "x": [
            "Himachal Pradesh",
            "Himachal Pradesh"
           ],
           "xaxis": "x",
           "y": [
            16.67,
            18.15
           ],
           "yaxis": "y"
          },
          {
           "alignmentgroup": "True",
           "hovertemplate": "Region=%{x}<br>Month_name=Jan<br>Estimated Unemployment Rate=%{y}<extra></extra>",
           "legendgroup": "Jammu & Kashmir",
           "marker": {
            "color": "rgb(100,181,205)",
            "pattern": {
             "shape": ""
            }
           },
           "name": "Jammu & Kashmir",
           "offsetgroup": "Jammu & Kashmir",
           "orientation": "v",
           "showlegend": true,
           "textposition": "auto",
           "type": "bar",
           "x": [
            "Jammu & Kashmir",
            "Jammu & Kashmir"
           ],
           "xaxis": "x",
           "y": [
            22.19,
            18.54
           ],
           "yaxis": "y"
          },
          {
           "alignmentgroup": "True",
           "hovertemplate": "Region=%{x}<br>Month_name=Jan<br>Estimated Unemployment Rate=%{y}<extra></extra>",
           "legendgroup": "Jharkhand",
           "marker": {
            "color": "rgb(76,114,176)",
            "pattern": {
             "shape": ""
            }
           },
           "name": "Jharkhand",
           "offsetgroup": "Jharkhand",
           "orientation": "v",
           "showlegend": true,
           "textposition": "auto",
           "type": "bar",
           "x": [
            "Jharkhand",
            "Jharkhand"
           ],
           "xaxis": "x",
           "y": [
            6.16,
            22.96
           ],
           "yaxis": "y"
          },
          {
           "alignmentgroup": "True",
           "hovertemplate": "Region=%{x}<br>Month_name=Jan<br>Estimated Unemployment Rate=%{y}<extra></extra>",
           "legendgroup": "Karnataka",
           "marker": {
            "color": "rgb(221,132,82)",
            "pattern": {
             "shape": ""
            }
           },
           "name": "Karnataka",
           "offsetgroup": "Karnataka",
           "orientation": "v",
           "showlegend": true,
           "textposition": "auto",
           "type": "bar",
           "x": [
            "Karnataka",
            "Karnataka"
           ],
           "xaxis": "x",
           "y": [
            2.57,
            3.31
           ],
           "yaxis": "y"
          },
          {
           "alignmentgroup": "True",
           "hovertemplate": "Region=%{x}<br>Month_name=Jan<br>Estimated Unemployment Rate=%{y}<extra></extra>",
           "legendgroup": "Kerala",
           "marker": {
            "color": "rgb(85,168,104)",
            "pattern": {
             "shape": ""
            }
           },
           "name": "Kerala",
           "offsetgroup": "Kerala",
           "orientation": "v",
           "showlegend": true,
           "textposition": "auto",
           "type": "bar",
           "x": [
            "Kerala",
            "Kerala"
           ],
           "xaxis": "x",
           "y": [
            4.11,
            6.65
           ],
           "yaxis": "y"
          },
          {
           "alignmentgroup": "True",
           "hovertemplate": "Region=%{x}<br>Month_name=Jan<br>Estimated Unemployment Rate=%{y}<extra></extra>",
           "legendgroup": "Madhya Pradesh",
           "marker": {
            "color": "rgb(196,78,82)",
            "pattern": {
             "shape": ""
            }
           },
           "name": "Madhya Pradesh",
           "offsetgroup": "Madhya Pradesh",
           "orientation": "v",
           "showlegend": true,
           "textposition": "auto",
           "type": "bar",
           "x": [
            "Madhya Pradesh",
            "Madhya Pradesh"
           ],
           "xaxis": "x",
           "y": [
            3.66,
            5.17
           ],
           "yaxis": "y"
          },
          {
           "alignmentgroup": "True",
           "hovertemplate": "Region=%{x}<br>Month_name=Jan<br>Estimated Unemployment Rate=%{y}<extra></extra>",
           "legendgroup": "Maharashtra",
           "marker": {
            "color": "rgb(129,114,179)",
            "pattern": {
             "shape": ""
            }
           },
           "name": "Maharashtra",
           "offsetgroup": "Maharashtra",
           "orientation": "v",
           "showlegend": true,
           "textposition": "auto",
           "type": "bar",
           "x": [
            "Maharashtra",
            "Maharashtra"
           ],
           "xaxis": "x",
           "y": [
            3.8,
            6.67
           ],
           "yaxis": "y"
          },
          {
           "alignmentgroup": "True",
           "hovertemplate": "Region=%{x}<br>Month_name=Jan<br>Estimated Unemployment Rate=%{y}<extra></extra>",
           "legendgroup": "Meghalaya",
           "marker": {
            "color": "rgb(147,120,96)",
            "pattern": {
             "shape": ""
            }
           },
           "name": "Meghalaya",
           "offsetgroup": "Meghalaya",
           "orientation": "v",
           "showlegend": true,
           "textposition": "auto",
           "type": "bar",
           "x": [
            "Meghalaya",
            "Meghalaya"
           ],
           "xaxis": "x",
           "y": [
            0.97,
            4.76
           ],
           "yaxis": "y"
          },
          {
           "alignmentgroup": "True",
           "hovertemplate": "Region=%{x}<br>Month_name=Jan<br>Estimated Unemployment Rate=%{y}<extra></extra>",
           "legendgroup": "Odisha",
           "marker": {
            "color": "rgb(218,139,195)",
            "pattern": {
             "shape": ""
            }
           },
           "name": "Odisha",
           "offsetgroup": "Odisha",
           "orientation": "v",
           "showlegend": true,
           "textposition": "auto",
           "type": "bar",
           "x": [
            "Odisha",
            "Odisha"
           ],
           "xaxis": "x",
           "y": [
            1.81,
            2.28
           ],
           "yaxis": "y"
          },
          {
           "alignmentgroup": "True",
           "hovertemplate": "Region=%{x}<br>Month_name=Jan<br>Estimated Unemployment Rate=%{y}<extra></extra>",
           "legendgroup": "Puducherry",
           "marker": {
            "color": "rgb(140,140,140)",
            "pattern": {
             "shape": ""
            }
           },
           "name": "Puducherry",
           "offsetgroup": "Puducherry",
           "orientation": "v",
           "showlegend": true,
           "textposition": "auto",
           "type": "bar",
           "x": [
            "Puducherry",
            "Puducherry"
           ],
           "xaxis": "x",
           "y": [
            0.58,
            0.57
           ],
           "yaxis": "y"
          },
          {
           "alignmentgroup": "True",
           "hovertemplate": "Region=%{x}<br>Month_name=Jan<br>Estimated Unemployment Rate=%{y}<extra></extra>",
           "legendgroup": "Punjab",
           "marker": {
            "color": "rgb(204,185,116)",
            "pattern": {
             "shape": ""
            }
           },
           "name": "Punjab",
           "offsetgroup": "Punjab",
           "orientation": "v",
           "showlegend": true,
           "textposition": "auto",
           "type": "bar",
           "x": [
            "Punjab",
            "Punjab"
           ],
           "xaxis": "x",
           "y": [
            9.69,
            13.68
           ],
           "yaxis": "y"
          },
          {
           "alignmentgroup": "True",
           "hovertemplate": "Region=%{x}<br>Month_name=Jan<br>Estimated Unemployment Rate=%{y}<extra></extra>",
           "legendgroup": "Rajasthan",
           "marker": {
            "color": "rgb(100,181,205)",
            "pattern": {
             "shape": ""
            }
           },
           "name": "Rajasthan",
           "offsetgroup": "Rajasthan",
           "orientation": "v",
           "showlegend": true,
           "textposition": "auto",
           "type": "bar",
           "x": [
            "Rajasthan",
            "Rajasthan"
           ],
           "xaxis": "x",
           "y": [
            8,
            18.82
           ],
           "yaxis": "y"
          },
          {
           "alignmentgroup": "True",
           "hovertemplate": "Region=%{x}<br>Month_name=Jan<br>Estimated Unemployment Rate=%{y}<extra></extra>",
           "legendgroup": "Tamil Nadu",
           "marker": {
            "color": "rgb(221,132,82)",
            "pattern": {
             "shape": ""
            }
           },
           "name": "Tamil Nadu",
           "offsetgroup": "Tamil Nadu",
           "orientation": "v",
           "showlegend": true,
           "textposition": "auto",
           "type": "bar",
           "x": [
            "Tamil Nadu",
            "Tamil Nadu"
           ],
           "xaxis": "x",
           "y": [
            1.18,
            2.05
           ],
           "yaxis": "y"
          },
          {
           "alignmentgroup": "True",
           "hovertemplate": "Region=%{x}<br>Month_name=Jan<br>Estimated Unemployment Rate=%{y}<extra></extra>",
           "legendgroup": "Telangana",
           "marker": {
            "color": "rgb(85,168,104)",
            "pattern": {
             "shape": ""
            }
           },
           "name": "Telangana",
           "offsetgroup": "Telangana",
           "orientation": "v",
           "showlegend": true,
           "textposition": "auto",
           "type": "bar",
           "x": [
            "Telangana",
            "Telangana"
           ],
           "xaxis": "x",
           "y": [
            5.02,
            6.49
           ],
           "yaxis": "y"
          },
          {
           "alignmentgroup": "True",
           "hovertemplate": "Region=%{x}<br>Month_name=Jan<br>Estimated Unemployment Rate=%{y}<extra></extra>",
           "legendgroup": "Tripura",
           "marker": {
            "color": "rgb(196,78,82)",
            "pattern": {
             "shape": ""
            }
           },
           "name": "Tripura",
           "offsetgroup": "Tripura",
           "orientation": "v",
           "showlegend": true,
           "textposition": "auto",
           "type": "bar",
           "x": [
            "Tripura",
            "Tripura"
           ],
           "xaxis": "x",
           "y": [
            31.91,
            34.37
           ],
           "yaxis": "y"
          },
          {
           "alignmentgroup": "True",
           "hovertemplate": "Region=%{x}<br>Month_name=Jan<br>Estimated Unemployment Rate=%{y}<extra></extra>",
           "legendgroup": "Uttar Pradesh",
           "marker": {
            "color": "rgb(129,114,179)",
            "pattern": {
             "shape": ""
            }
           },
           "name": "Uttar Pradesh",
           "offsetgroup": "Uttar Pradesh",
           "orientation": "v",
           "showlegend": true,
           "textposition": "auto",
           "type": "bar",
           "x": [
            "Uttar Pradesh",
            "Uttar Pradesh"
           ],
           "xaxis": "x",
           "y": [
            6.06,
            12.34
           ],
           "yaxis": "y"
          },
          {
           "alignmentgroup": "True",
           "hovertemplate": "Region=%{x}<br>Month_name=Jan<br>Estimated Unemployment Rate=%{y}<extra></extra>",
           "legendgroup": "Uttarakhand",
           "marker": {
            "color": "rgb(147,120,96)",
            "pattern": {
             "shape": ""
            }
           },
           "name": "Uttarakhand",
           "offsetgroup": "Uttarakhand",
           "orientation": "v",
           "showlegend": true,
           "textposition": "auto",
           "type": "bar",
           "x": [
            "Uttarakhand",
            "Uttarakhand"
           ],
           "xaxis": "x",
           "y": [
            4.17,
            8.92
           ],
           "yaxis": "y"
          },
          {
           "alignmentgroup": "True",
           "hovertemplate": "Region=%{x}<br>Month_name=Jan<br>Estimated Unemployment Rate=%{y}<extra></extra>",
           "legendgroup": "West Bengal",
           "marker": {
            "color": "rgb(218,139,195)",
            "pattern": {
             "shape": ""
            }
           },
           "name": "West Bengal",
           "offsetgroup": "West Bengal",
           "orientation": "v",
           "showlegend": true,
           "textposition": "auto",
           "type": "bar",
           "x": [
            "West Bengal",
            "West Bengal"
           ],
           "xaxis": "x",
           "y": [
            6.79,
            7.27
           ],
           "yaxis": "y"
          },
          {
           "alignmentgroup": "True",
           "hovertemplate": "Region=%{x}<br>Month_name=Jan<br>Estimated Unemployment Rate=%{y}<extra></extra>",
           "legendgroup": "Chandigarh",
           "marker": {
            "color": "rgb(140,140,140)",
            "pattern": {
             "shape": ""
            }
           },
           "name": "Chandigarh",
           "offsetgroup": "Chandigarh",
           "orientation": "v",
           "showlegend": true,
           "textposition": "auto",
           "type": "bar",
           "x": [
            "Chandigarh"
           ],
           "xaxis": "x",
           "y": [
            20
           ],
           "yaxis": "y"
          }
         ],
         "name": "Jan"
        },
        {
         "data": [
          {
           "alignmentgroup": "True",
           "hovertemplate": "Region=%{x}<br>Month_name=Feb<br>Estimated Unemployment Rate=%{y}<extra></extra>",
           "legendgroup": "Andhra Pradesh",
           "marker": {
            "color": "rgb(76,114,176)",
            "pattern": {
             "shape": ""
            }
           },
           "name": "Andhra Pradesh",
           "offsetgroup": "Andhra Pradesh",
           "orientation": "v",
           "showlegend": true,
           "textposition": "auto",
           "type": "bar",
           "x": [
            "Andhra Pradesh",
            "Andhra Pradesh"
           ],
           "xaxis": "x",
           "y": [
            5.91,
            5.66
           ],
           "yaxis": "y"
          },
          {
           "alignmentgroup": "True",
           "hovertemplate": "Region=%{x}<br>Month_name=Feb<br>Estimated Unemployment Rate=%{y}<extra></extra>",
           "legendgroup": "Assam",
           "marker": {
            "color": "rgb(221,132,82)",
            "pattern": {
             "shape": ""
            }
           },
           "name": "Assam",
           "offsetgroup": "Assam",
           "orientation": "v",
           "showlegend": true,
           "textposition": "auto",
           "type": "bar",
           "x": [
            "Assam",
            "Assam"
           ],
           "xaxis": "x",
           "y": [
            3.26,
            9.98
           ],
           "yaxis": "y"
          },
          {
           "alignmentgroup": "True",
           "hovertemplate": "Region=%{x}<br>Month_name=Feb<br>Estimated Unemployment Rate=%{y}<extra></extra>",
           "legendgroup": "Bihar",
           "marker": {
            "color": "rgb(85,168,104)",
            "pattern": {
             "shape": ""
            }
           },
           "name": "Bihar",
           "offsetgroup": "Bihar",
           "orientation": "v",
           "showlegend": true,
           "textposition": "auto",
           "type": "bar",
           "x": [
            "Bihar",
            "Bihar"
           ],
           "xaxis": "x",
           "y": [
            9.61,
            15.11
           ],
           "yaxis": "y"
          },
          {
           "alignmentgroup": "True",
           "hovertemplate": "Region=%{x}<br>Month_name=Feb<br>Estimated Unemployment Rate=%{y}<extra></extra>",
           "legendgroup": "Chhattisgarh",
           "marker": {
            "color": "rgb(196,78,82)",
            "pattern": {
             "shape": ""
            }
           },
           "name": "Chhattisgarh",
           "offsetgroup": "Chhattisgarh",
           "orientation": "v",
           "showlegend": true,
           "textposition": "auto",
           "type": "bar",
           "x": [
            "Chhattisgarh",
            "Chhattisgarh"
           ],
           "xaxis": "x",
           "y": [
            7.89,
            9.79
           ],
           "yaxis": "y"
          },
          {
           "alignmentgroup": "True",
           "hovertemplate": "Region=%{x}<br>Month_name=Feb<br>Estimated Unemployment Rate=%{y}<extra></extra>",
           "legendgroup": "Delhi",
           "marker": {
            "color": "rgb(129,114,179)",
            "pattern": {
             "shape": ""
            }
           },
           "name": "Delhi",
           "offsetgroup": "Delhi",
           "orientation": "v",
           "showlegend": true,
           "textposition": "auto",
           "type": "bar",
           "x": [
            "Delhi",
            "Delhi"
           ],
           "xaxis": "x",
           "y": [
            13.81,
            14.86
           ],
           "yaxis": "y"
          },
          {
           "alignmentgroup": "True",
           "hovertemplate": "Region=%{x}<br>Month_name=Feb<br>Estimated Unemployment Rate=%{y}<extra></extra>",
           "legendgroup": "Goa",
           "marker": {
            "color": "rgb(147,120,96)",
            "pattern": {
             "shape": ""
            }
           },
           "name": "Goa",
           "offsetgroup": "Goa",
           "orientation": "v",
           "showlegend": true,
           "textposition": "auto",
           "type": "bar",
           "x": [
            "Goa",
            "Goa"
           ],
           "xaxis": "x",
           "y": [
            0,
            4.31
           ],
           "yaxis": "y"
          },
          {
           "alignmentgroup": "True",
           "hovertemplate": "Region=%{x}<br>Month_name=Feb<br>Estimated Unemployment Rate=%{y}<extra></extra>",
           "legendgroup": "Gujarat",
           "marker": {
            "color": "rgb(218,139,195)",
            "pattern": {
             "shape": ""
            }
           },
           "name": "Gujarat",
           "offsetgroup": "Gujarat",
           "orientation": "v",
           "showlegend": true,
           "textposition": "auto",
           "type": "bar",
           "x": [
            "Gujarat",
            "Gujarat"
           ],
           "xaxis": "x",
           "y": [
            6.64,
            6.04
           ],
           "yaxis": "y"
          },
          {
           "alignmentgroup": "True",
           "hovertemplate": "Region=%{x}<br>Month_name=Feb<br>Estimated Unemployment Rate=%{y}<extra></extra>",
           "legendgroup": "Haryana",
           "marker": {
            "color": "rgb(140,140,140)",
            "pattern": {
             "shape": ""
            }
           },
           "name": "Haryana",
           "offsetgroup": "Haryana",
           "orientation": "v",
           "showlegend": true,
           "textposition": "auto",
           "type": "bar",
           "x": [
            "Haryana",
            "Haryana"
           ],
           "xaxis": "x",
           "y": [
            27.19,
            23.29
           ],
           "yaxis": "y"
          },
          {
           "alignmentgroup": "True",
           "hovertemplate": "Region=%{x}<br>Month_name=Feb<br>Estimated Unemployment Rate=%{y}<extra></extra>",
           "legendgroup": "Himachal Pradesh",
           "marker": {
            "color": "rgb(204,185,116)",
            "pattern": {
             "shape": ""
            }
           },
           "name": "Himachal Pradesh",
           "offsetgroup": "Himachal Pradesh",
           "orientation": "v",
           "showlegend": true,
           "textposition": "auto",
           "type": "bar",
           "x": [
            "Himachal Pradesh",
            "Himachal Pradesh"
           ],
           "xaxis": "x",
           "y": [
            15.42,
            27.31
           ],
           "yaxis": "y"
          },
          {
           "alignmentgroup": "True",
           "hovertemplate": "Region=%{x}<br>Month_name=Feb<br>Estimated Unemployment Rate=%{y}<extra></extra>",
           "legendgroup": "Jammu & Kashmir",
           "marker": {
            "color": "rgb(100,181,205)",
            "pattern": {
             "shape": ""
            }
           },
           "name": "Jammu & Kashmir",
           "offsetgroup": "Jammu & Kashmir",
           "orientation": "v",
           "showlegend": true,
           "textposition": "auto",
           "type": "bar",
           "x": [
            "Jammu & Kashmir",
            "Jammu & Kashmir"
           ],
           "xaxis": "x",
           "y": [
            21.23,
            19.86
           ],
           "yaxis": "y"
          },
          {
           "alignmentgroup": "True",
           "hovertemplate": "Region=%{x}<br>Month_name=Feb<br>Estimated Unemployment Rate=%{y}<extra></extra>",
           "legendgroup": "Jharkhand",
           "marker": {
            "color": "rgb(76,114,176)",
            "pattern": {
             "shape": ""
            }
           },
           "name": "Jharkhand",
           "offsetgroup": "Jharkhand",
           "orientation": "v",
           "showlegend": true,
           "textposition": "auto",
           "type": "bar",
           "x": [
            "Jharkhand",
            "Jharkhand"
           ],
           "xaxis": "x",
           "y": [
            9.06,
            19.67
           ],
           "yaxis": "y"
          },
          {
           "alignmentgroup": "True",
           "hovertemplate": "Region=%{x}<br>Month_name=Feb<br>Estimated Unemployment Rate=%{y}<extra></extra>",
           "legendgroup": "Karnataka",
           "marker": {
            "color": "rgb(221,132,82)",
            "pattern": {
             "shape": ""
            }
           },
           "name": "Karnataka",
           "offsetgroup": "Karnataka",
           "orientation": "v",
           "showlegend": true,
           "textposition": "auto",
           "type": "bar",
           "x": [
            "Karnataka",
            "Karnataka"
           ],
           "xaxis": "x",
           "y": [
            4.11,
            2.88
           ],
           "yaxis": "y"
          },
          {
           "alignmentgroup": "True",
           "hovertemplate": "Region=%{x}<br>Month_name=Feb<br>Estimated Unemployment Rate=%{y}<extra></extra>",
           "legendgroup": "Kerala",
           "marker": {
            "color": "rgb(85,168,104)",
            "pattern": {
             "shape": ""
            }
           },
           "name": "Kerala",
           "offsetgroup": "Kerala",
           "orientation": "v",
           "showlegend": true,
           "textposition": "auto",
           "type": "bar",
           "x": [
            "Kerala",
            "Kerala"
           ],
           "xaxis": "x",
           "y": [
            8.91,
            6.08
           ],
           "yaxis": "y"
          },
          {
           "alignmentgroup": "True",
           "hovertemplate": "Region=%{x}<br>Month_name=Feb<br>Estimated Unemployment Rate=%{y}<extra></extra>",
           "legendgroup": "Madhya Pradesh",
           "marker": {
            "color": "rgb(196,78,82)",
            "pattern": {
             "shape": ""
            }
           },
           "name": "Madhya Pradesh",
           "offsetgroup": "Madhya Pradesh",
           "orientation": "v",
           "showlegend": true,
           "textposition": "auto",
           "type": "bar",
           "x": [
            "Madhya Pradesh",
            "Madhya Pradesh"
           ],
           "xaxis": "x",
           "y": [
            4.42,
            4.96
           ],
           "yaxis": "y"
          },
          {
           "alignmentgroup": "True",
           "hovertemplate": "Region=%{x}<br>Month_name=Feb<br>Estimated Unemployment Rate=%{y}<extra></extra>",
           "legendgroup": "Maharashtra",
           "marker": {
            "color": "rgb(129,114,179)",
            "pattern": {
             "shape": ""
            }
           },
           "name": "Maharashtra",
           "offsetgroup": "Maharashtra",
           "orientation": "v",
           "showlegend": true,
           "textposition": "auto",
           "type": "bar",
           "x": [
            "Maharashtra",
            "Maharashtra"
           ],
           "xaxis": "x",
           "y": [
            4.24,
            5.34
           ],
           "yaxis": "y"
          },
          {
           "alignmentgroup": "True",
           "hovertemplate": "Region=%{x}<br>Month_name=Feb<br>Estimated Unemployment Rate=%{y}<extra></extra>",
           "legendgroup": "Meghalaya",
           "marker": {
            "color": "rgb(147,120,96)",
            "pattern": {
             "shape": ""
            }
           },
           "name": "Meghalaya",
           "offsetgroup": "Meghalaya",
           "orientation": "v",
           "showlegend": true,
           "textposition": "auto",
           "type": "bar",
           "x": [
            "Meghalaya",
            "Meghalaya"
           ],
           "xaxis": "x",
           "y": [
            2.76,
            7.37
           ],
           "yaxis": "y"
          },
          {
           "alignmentgroup": "True",
           "hovertemplate": "Region=%{x}<br>Month_name=Feb<br>Estimated Unemployment Rate=%{y}<extra></extra>",
           "legendgroup": "Odisha",
           "marker": {
            "color": "rgb(218,139,195)",
            "pattern": {
             "shape": ""
            }
           },
           "name": "Odisha",
           "offsetgroup": "Odisha",
           "orientation": "v",
           "showlegend": true,
           "textposition": "auto",
           "type": "bar",
           "x": [
            "Odisha",
            "Odisha"
           ],
           "xaxis": "x",
           "y": [
            3.31,
            2.19
           ],
           "yaxis": "y"
          },
          {
           "alignmentgroup": "True",
           "hovertemplate": "Region=%{x}<br>Month_name=Feb<br>Estimated Unemployment Rate=%{y}<extra></extra>",
           "legendgroup": "Puducherry",
           "marker": {
            "color": "rgb(140,140,140)",
            "pattern": {
             "shape": ""
            }
           },
           "name": "Puducherry",
           "offsetgroup": "Puducherry",
           "orientation": "v",
           "showlegend": true,
           "textposition": "auto",
           "type": "bar",
           "x": [
            "Puducherry",
            "Puducherry"
           ],
           "xaxis": "x",
           "y": [
            1.74,
            1.78
           ],
           "yaxis": "y"
          },
          {
           "alignmentgroup": "True",
           "hovertemplate": "Region=%{x}<br>Month_name=Feb<br>Estimated Unemployment Rate=%{y}<extra></extra>",
           "legendgroup": "Punjab",
           "marker": {
            "color": "rgb(204,185,116)",
            "pattern": {
             "shape": ""
            }
           },
           "name": "Punjab",
           "offsetgroup": "Punjab",
           "orientation": "v",
           "showlegend": true,
           "textposition": "auto",
           "type": "bar",
           "x": [
            "Punjab",
            "Punjab"
           ],
           "xaxis": "x",
           "y": [
            10.41,
            11.99
           ],
           "yaxis": "y"
          },
          {
           "alignmentgroup": "True",
           "hovertemplate": "Region=%{x}<br>Month_name=Feb<br>Estimated Unemployment Rate=%{y}<extra></extra>",
           "legendgroup": "Rajasthan",
           "marker": {
            "color": "rgb(100,181,205)",
            "pattern": {
             "shape": ""
            }
           },
           "name": "Rajasthan",
           "offsetgroup": "Rajasthan",
           "orientation": "v",
           "showlegend": true,
           "textposition": "auto",
           "type": "bar",
           "x": [
            "Rajasthan",
            "Rajasthan"
           ],
           "xaxis": "x",
           "y": [
            14.48,
            17.02
           ],
           "yaxis": "y"
          },
          {
           "alignmentgroup": "True",
           "hovertemplate": "Region=%{x}<br>Month_name=Feb<br>Estimated Unemployment Rate=%{y}<extra></extra>",
           "legendgroup": "Tamil Nadu",
           "marker": {
            "color": "rgb(221,132,82)",
            "pattern": {
             "shape": ""
            }
           },
           "name": "Tamil Nadu",
           "offsetgroup": "Tamil Nadu",
           "orientation": "v",
           "showlegend": true,
           "textposition": "auto",
           "type": "bar",
           "x": [
            "Tamil Nadu",
            "Tamil Nadu"
           ],
           "xaxis": "x",
           "y": [
            1.17,
            3.31
           ],
           "yaxis": "y"
          },
          {
           "alignmentgroup": "True",
           "hovertemplate": "Region=%{x}<br>Month_name=Feb<br>Estimated Unemployment Rate=%{y}<extra></extra>",
           "legendgroup": "Telangana",
           "marker": {
            "color": "rgb(85,168,104)",
            "pattern": {
             "shape": ""
            }
           },
           "name": "Telangana",
           "offsetgroup": "Telangana",
           "orientation": "v",
           "showlegend": true,
           "textposition": "auto",
           "type": "bar",
           "x": [
            "Telangana",
            "Telangana"
           ],
           "xaxis": "x",
           "y": [
            9.02,
            6.74
           ],
           "yaxis": "y"
          },
          {
           "alignmentgroup": "True",
           "hovertemplate": "Region=%{x}<br>Month_name=Feb<br>Estimated Unemployment Rate=%{y}<extra></extra>",
           "legendgroup": "Tripura",
           "marker": {
            "color": "rgb(196,78,82)",
            "pattern": {
             "shape": ""
            }
           },
           "name": "Tripura",
           "offsetgroup": "Tripura",
           "orientation": "v",
           "showlegend": true,
           "textposition": "auto",
           "type": "bar",
           "x": [
            "Tripura",
            "Tripura"
           ],
           "xaxis": "x",
           "y": [
            26.22,
            33.88
           ],
           "yaxis": "y"
          },
          {
           "alignmentgroup": "True",
           "hovertemplate": "Region=%{x}<br>Month_name=Feb<br>Estimated Unemployment Rate=%{y}<extra></extra>",
           "legendgroup": "Uttar Pradesh",
           "marker": {
            "color": "rgb(129,114,179)",
            "pattern": {
             "shape": ""
            }
           },
           "name": "Uttar Pradesh",
           "offsetgroup": "Uttar Pradesh",
           "orientation": "v",
           "showlegend": true,
           "textposition": "auto",
           "type": "bar",
           "x": [
            "Uttar Pradesh",
            "Uttar Pradesh"
           ],
           "xaxis": "x",
           "y": [
            8.12,
            11.65
           ],
           "yaxis": "y"
          },
          {
           "alignmentgroup": "True",
           "hovertemplate": "Region=%{x}<br>Month_name=Feb<br>Estimated Unemployment Rate=%{y}<extra></extra>",
           "legendgroup": "Uttarakhand",
           "marker": {
            "color": "rgb(147,120,96)",
            "pattern": {
             "shape": ""
            }
           },
           "name": "Uttarakhand",
           "offsetgroup": "Uttarakhand",
           "orientation": "v",
           "showlegend": true,
           "textposition": "auto",
           "type": "bar",
           "x": [
            "Uttarakhand",
            "Uttarakhand"
           ],
           "xaxis": "x",
           "y": [
            4.85,
            5.28
           ],
           "yaxis": "y"
          },
          {
           "alignmentgroup": "True",
           "hovertemplate": "Region=%{x}<br>Month_name=Feb<br>Estimated Unemployment Rate=%{y}<extra></extra>",
           "legendgroup": "West Bengal",
           "marker": {
            "color": "rgb(218,139,195)",
            "pattern": {
             "shape": ""
            }
           },
           "name": "West Bengal",
           "offsetgroup": "West Bengal",
           "orientation": "v",
           "showlegend": true,
           "textposition": "auto",
           "type": "bar",
           "x": [
            "West Bengal",
            "West Bengal"
           ],
           "xaxis": "x",
           "y": [
            3.78,
            7.55
           ],
           "yaxis": "y"
          },
          {
           "alignmentgroup": "True",
           "hovertemplate": "Region=%{x}<br>Month_name=Feb<br>Estimated Unemployment Rate=%{y}<extra></extra>",
           "legendgroup": "Chandigarh",
           "marker": {
            "color": "rgb(140,140,140)",
            "pattern": {
             "shape": ""
            }
           },
           "name": "Chandigarh",
           "offsetgroup": "Chandigarh",
           "orientation": "v",
           "showlegend": true,
           "textposition": "auto",
           "type": "bar",
           "x": [
            "Chandigarh"
           ],
           "xaxis": "x",
           "y": [
            16.67
           ],
           "yaxis": "y"
          }
         ],
         "name": "Feb"
        },
        {
         "data": [
          {
           "alignmentgroup": "True",
           "hovertemplate": "Region=%{x}<br>Month_name=Mar<br>Estimated Unemployment Rate=%{y}<extra></extra>",
           "legendgroup": "Andhra Pradesh",
           "marker": {
            "color": "rgb(76,114,176)",
            "pattern": {
             "shape": ""
            }
           },
           "name": "Andhra Pradesh",
           "offsetgroup": "Andhra Pradesh",
           "orientation": "v",
           "showlegend": true,
           "textposition": "auto",
           "type": "bar",
           "x": [
            "Andhra Pradesh",
            "Andhra Pradesh"
           ],
           "xaxis": "x",
           "y": [
            4.06,
            9.88
           ],
           "yaxis": "y"
          },
          {
           "alignmentgroup": "True",
           "hovertemplate": "Region=%{x}<br>Month_name=Mar<br>Estimated Unemployment Rate=%{y}<extra></extra>",
           "legendgroup": "Assam",
           "marker": {
            "color": "rgb(221,132,82)",
            "pattern": {
             "shape": ""
            }
           },
           "name": "Assam",
           "offsetgroup": "Assam",
           "orientation": "v",
           "showlegend": true,
           "textposition": "auto",
           "type": "bar",
           "x": [
            "Assam",
            "Assam"
           ],
           "xaxis": "x",
           "y": [
            3.77,
            10.34
           ],
           "yaxis": "y"
          },
          {
           "alignmentgroup": "True",
           "hovertemplate": "Region=%{x}<br>Month_name=Mar<br>Estimated Unemployment Rate=%{y}<extra></extra>",
           "legendgroup": "Bihar",
           "marker": {
            "color": "rgb(85,168,104)",
            "pattern": {
             "shape": ""
            }
           },
           "name": "Bihar",
           "offsetgroup": "Bihar",
           "orientation": "v",
           "showlegend": true,
           "textposition": "auto",
           "type": "bar",
           "x": [
            "Bihar",
            "Bihar"
           ],
           "xaxis": "x",
           "y": [
            15.39,
            15.73
           ],
           "yaxis": "y"
          },
          {
           "alignmentgroup": "True",
           "hovertemplate": "Region=%{x}<br>Month_name=Mar<br>Estimated Unemployment Rate=%{y}<extra></extra>",
           "legendgroup": "Chhattisgarh",
           "marker": {
            "color": "rgb(196,78,82)",
            "pattern": {
             "shape": ""
            }
           },
           "name": "Chhattisgarh",
           "offsetgroup": "Chhattisgarh",
           "orientation": "v",
           "showlegend": true,
           "textposition": "auto",
           "type": "bar",
           "x": [
            "Chhattisgarh",
            "Chhattisgarh"
           ],
           "xaxis": "x",
           "y": [
            7.31,
            8.21
           ],
           "yaxis": "y"
          },
          {
           "alignmentgroup": "True",
           "hovertemplate": "Region=%{x}<br>Month_name=Mar<br>Estimated Unemployment Rate=%{y}<extra></extra>",
           "legendgroup": "Delhi",
           "marker": {
            "color": "rgb(129,114,179)",
            "pattern": {
             "shape": ""
            }
           },
           "name": "Delhi",
           "offsetgroup": "Delhi",
           "orientation": "v",
           "showlegend": true,
           "textposition": "auto",
           "type": "bar",
           "x": [
            "Delhi",
            "Delhi"
           ],
           "xaxis": "x",
           "y": [
            15.18,
            17.09
           ],
           "yaxis": "y"
          },
          {
           "alignmentgroup": "True",
           "hovertemplate": "Region=%{x}<br>Month_name=Mar<br>Estimated Unemployment Rate=%{y}<extra></extra>",
           "legendgroup": "Goa",
           "marker": {
            "color": "rgb(147,120,96)",
            "pattern": {
             "shape": ""
            }
           },
           "name": "Goa",
           "offsetgroup": "Goa",
           "orientation": "v",
           "showlegend": true,
           "textposition": "auto",
           "type": "bar",
           "x": [
            "Goa"
           ],
           "xaxis": "x",
           "y": [
            4.76
           ],
           "yaxis": "y"
          },
          {
           "alignmentgroup": "True",
           "hovertemplate": "Region=%{x}<br>Month_name=Mar<br>Estimated Unemployment Rate=%{y}<extra></extra>",
           "legendgroup": "Gujarat",
           "marker": {
            "color": "rgb(218,139,195)",
            "pattern": {
             "shape": ""
            }
           },
           "name": "Gujarat",
           "offsetgroup": "Gujarat",
           "orientation": "v",
           "showlegend": true,
           "textposition": "auto",
           "type": "bar",
           "x": [
            "Gujarat",
            "Gujarat"
           ],
           "xaxis": "x",
           "y": [
            7.59,
            5.39
           ],
           "yaxis": "y"
          },
          {
           "alignmentgroup": "True",
           "hovertemplate": "Region=%{x}<br>Month_name=Mar<br>Estimated Unemployment Rate=%{y}<extra></extra>",
           "legendgroup": "Haryana",
           "marker": {
            "color": "rgb(140,140,140)",
            "pattern": {
             "shape": ""
            }
           },
           "name": "Haryana",
           "offsetgroup": "Haryana",
           "orientation": "v",
           "showlegend": true,
           "textposition": "auto",
           "type": "bar",
           "x": [
            "Haryana",
            "Haryana"
           ],
           "xaxis": "x",
           "y": [
            23.92,
            27.14
           ],
           "yaxis": "y"
          },
          {
           "alignmentgroup": "True",
           "hovertemplate": "Region=%{x}<br>Month_name=Mar<br>Estimated Unemployment Rate=%{y}<extra></extra>",
           "legendgroup": "Himachal Pradesh",
           "marker": {
            "color": "rgb(204,185,116)",
            "pattern": {
             "shape": ""
            }
           },
           "name": "Himachal Pradesh",
           "offsetgroup": "Himachal Pradesh",
           "orientation": "v",
           "showlegend": true,
           "textposition": "auto",
           "type": "bar",
           "x": [
            "Himachal Pradesh",
            "Himachal Pradesh"
           ],
           "xaxis": "x",
           "y": [
            17.71,
            26.44
           ],
           "yaxis": "y"
          },
          {
           "alignmentgroup": "True",
           "hovertemplate": "Region=%{x}<br>Month_name=Mar<br>Estimated Unemployment Rate=%{y}<extra></extra>",
           "legendgroup": "Jammu & Kashmir",
           "marker": {
            "color": "rgb(100,181,205)",
            "pattern": {
             "shape": ""
            }
           },
           "name": "Jammu & Kashmir",
           "offsetgroup": "Jammu & Kashmir",
           "orientation": "v",
           "showlegend": true,
           "textposition": "auto",
           "type": "bar",
           "x": [
            "Jammu & Kashmir",
            "Jammu & Kashmir"
           ],
           "xaxis": "x",
           "y": [
            16,
            14.29
           ],
           "yaxis": "y"
          },
          {
           "alignmentgroup": "True",
           "hovertemplate": "Region=%{x}<br>Month_name=Mar<br>Estimated Unemployment Rate=%{y}<extra></extra>",
           "legendgroup": "Jharkhand",
           "marker": {
            "color": "rgb(76,114,176)",
            "pattern": {
             "shape": ""
            }
           },
           "name": "Jharkhand",
           "offsetgroup": "Jharkhand",
           "orientation": "v",
           "showlegend": true,
           "textposition": "auto",
           "type": "bar",
           "x": [
            "Jharkhand",
            "Jharkhand"
           ],
           "xaxis": "x",
           "y": [
            5.01,
            16.4
           ],
           "yaxis": "y"
          },
          {
           "alignmentgroup": "True",
           "hovertemplate": "Region=%{x}<br>Month_name=Mar<br>Estimated Unemployment Rate=%{y}<extra></extra>",
           "legendgroup": "Karnataka",
           "marker": {
            "color": "rgb(221,132,82)",
            "pattern": {
             "shape": ""
            }
           },
           "name": "Karnataka",
           "offsetgroup": "Karnataka",
           "orientation": "v",
           "showlegend": true,
           "textposition": "auto",
           "type": "bar",
           "x": [
            "Karnataka",
            "Karnataka"
           ],
           "xaxis": "x",
           "y": [
            2.39,
            4.92
           ],
           "yaxis": "y"
          },
          {
           "alignmentgroup": "True",
           "hovertemplate": "Region=%{x}<br>Month_name=Mar<br>Estimated Unemployment Rate=%{y}<extra></extra>",
           "legendgroup": "Kerala",
           "marker": {
            "color": "rgb(85,168,104)",
            "pattern": {
             "shape": ""
            }
           },
           "name": "Kerala",
           "offsetgroup": "Kerala",
           "orientation": "v",
           "showlegend": true,
           "textposition": "auto",
           "type": "bar",
           "x": [
            "Kerala",
            "Kerala"
           ],
           "xaxis": "x",
           "y": [
            8.85,
            9.14
           ],
           "yaxis": "y"
          },
          {
           "alignmentgroup": "True",
           "hovertemplate": "Region=%{x}<br>Month_name=Mar<br>Estimated Unemployment Rate=%{y}<extra></extra>",
           "legendgroup": "Madhya Pradesh",
           "marker": {
            "color": "rgb(196,78,82)",
            "pattern": {
             "shape": ""
            }
           },
           "name": "Madhya Pradesh",
           "offsetgroup": "Madhya Pradesh",
           "orientation": "v",
           "showlegend": true,
           "textposition": "auto",
           "type": "bar",
           "x": [
            "Madhya Pradesh",
            "Madhya Pradesh"
           ],
           "xaxis": "x",
           "y": [
            1.19,
            4.8
           ],
           "yaxis": "y"
          },
          {
           "alignmentgroup": "True",
           "hovertemplate": "Region=%{x}<br>Month_name=Mar<br>Estimated Unemployment Rate=%{y}<extra></extra>",
           "legendgroup": "Maharashtra",
           "marker": {
            "color": "rgb(129,114,179)",
            "pattern": {
             "shape": ""
            }
           },
           "name": "Maharashtra",
           "offsetgroup": "Maharashtra",
           "orientation": "v",
           "showlegend": true,
           "textposition": "auto",
           "type": "bar",
           "x": [
            "Maharashtra",
            "Maharashtra"
           ],
           "xaxis": "x",
           "y": [
            5.38,
            6.34
           ],
           "yaxis": "y"
          },
          {
           "alignmentgroup": "True",
           "hovertemplate": "Region=%{x}<br>Month_name=Mar<br>Estimated Unemployment Rate=%{y}<extra></extra>",
           "legendgroup": "Meghalaya",
           "marker": {
            "color": "rgb(147,120,96)",
            "pattern": {
             "shape": ""
            }
           },
           "name": "Meghalaya",
           "offsetgroup": "Meghalaya",
           "orientation": "v",
           "showlegend": true,
           "textposition": "auto",
           "type": "bar",
           "x": [
            "Meghalaya",
            "Meghalaya"
           ],
           "xaxis": "x",
           "y": [
            1.28,
            2.8
           ],
           "yaxis": "y"
          },
          {
           "alignmentgroup": "True",
           "hovertemplate": "Region=%{x}<br>Month_name=Mar<br>Estimated Unemployment Rate=%{y}<extra></extra>",
           "legendgroup": "Odisha",
           "marker": {
            "color": "rgb(218,139,195)",
            "pattern": {
             "shape": ""
            }
           },
           "name": "Odisha",
           "offsetgroup": "Odisha",
           "orientation": "v",
           "showlegend": true,
           "textposition": "auto",
           "type": "bar",
           "x": [
            "Odisha",
            "Odisha"
           ],
           "xaxis": "x",
           "y": [
            15.09,
            3.96
           ],
           "yaxis": "y"
          },
          {
           "alignmentgroup": "True",
           "hovertemplate": "Region=%{x}<br>Month_name=Mar<br>Estimated Unemployment Rate=%{y}<extra></extra>",
           "legendgroup": "Puducherry",
           "marker": {
            "color": "rgb(140,140,140)",
            "pattern": {
             "shape": ""
            }
           },
           "name": "Puducherry",
           "offsetgroup": "Puducherry",
           "orientation": "v",
           "showlegend": true,
           "textposition": "auto",
           "type": "bar",
           "x": [
            "Puducherry",
            "Puducherry"
           ],
           "xaxis": "x",
           "y": [
            2.31,
            0.62
           ],
           "yaxis": "y"
          },
          {
           "alignmentgroup": "True",
           "hovertemplate": "Region=%{x}<br>Month_name=Mar<br>Estimated Unemployment Rate=%{y}<extra></extra>",
           "legendgroup": "Punjab",
           "marker": {
            "color": "rgb(204,185,116)",
            "pattern": {
             "shape": ""
            }
           },
           "name": "Punjab",
           "offsetgroup": "Punjab",
           "orientation": "v",
           "showlegend": true,
           "textposition": "auto",
           "type": "bar",
           "x": [
            "Punjab",
            "Punjab"
           ],
           "xaxis": "x",
           "y": [
            10.51,
            9.97
           ],
           "yaxis": "y"
          },
          {
           "alignmentgroup": "True",
           "hovertemplate": "Region=%{x}<br>Month_name=Mar<br>Estimated Unemployment Rate=%{y}<extra></extra>",
           "legendgroup": "Rajasthan",
           "marker": {
            "color": "rgb(100,181,205)",
            "pattern": {
             "shape": ""
            }
           },
           "name": "Rajasthan",
           "offsetgroup": "Rajasthan",
           "orientation": "v",
           "showlegend": true,
           "textposition": "auto",
           "type": "bar",
           "x": [
            "Rajasthan",
            "Rajasthan"
           ],
           "xaxis": "x",
           "y": [
            9.47,
            18.54
           ],
           "yaxis": "y"
          },
          {
           "alignmentgroup": "True",
           "hovertemplate": "Region=%{x}<br>Month_name=Mar<br>Estimated Unemployment Rate=%{y}<extra></extra>",
           "legendgroup": "Sikkim",
           "marker": {
            "color": "rgb(76,114,176)",
            "pattern": {
             "shape": ""
            }
           },
           "name": "Sikkim",
           "offsetgroup": "Sikkim",
           "orientation": "v",
           "showlegend": true,
           "textposition": "auto",
           "type": "bar",
           "x": [
            "Sikkim"
           ],
           "xaxis": "x",
           "y": [
            20.45
           ],
           "yaxis": "y"
          },
          {
           "alignmentgroup": "True",
           "hovertemplate": "Region=%{x}<br>Month_name=Mar<br>Estimated Unemployment Rate=%{y}<extra></extra>",
           "legendgroup": "Tamil Nadu",
           "marker": {
            "color": "rgb(221,132,82)",
            "pattern": {
             "shape": ""
            }
           },
           "name": "Tamil Nadu",
           "offsetgroup": "Tamil Nadu",
           "orientation": "v",
           "showlegend": true,
           "textposition": "auto",
           "type": "bar",
           "x": [
            "Tamil Nadu",
            "Tamil Nadu"
           ],
           "xaxis": "x",
           "y": [
            6.36,
            6.46
           ],
           "yaxis": "y"
          },
          {
           "alignmentgroup": "True",
           "hovertemplate": "Region=%{x}<br>Month_name=Mar<br>Estimated Unemployment Rate=%{y}<extra></extra>",
           "legendgroup": "Telangana",
           "marker": {
            "color": "rgb(85,168,104)",
            "pattern": {
             "shape": ""
            }
           },
           "name": "Telangana",
           "offsetgroup": "Telangana",
           "orientation": "v",
           "showlegend": true,
           "textposition": "auto",
           "type": "bar",
           "x": [
            "Telangana",
            "Telangana"
           ],
           "xaxis": "x",
           "y": [
            5.63,
            6.1
           ],
           "yaxis": "y"
          },
          {
           "alignmentgroup": "True",
           "hovertemplate": "Region=%{x}<br>Month_name=Mar<br>Estimated Unemployment Rate=%{y}<extra></extra>",
           "legendgroup": "Tripura",
           "marker": {
            "color": "rgb(196,78,82)",
            "pattern": {
             "shape": ""
            }
           },
           "name": "Tripura",
           "offsetgroup": "Tripura",
           "orientation": "v",
           "showlegend": true,
           "textposition": "auto",
           "type": "bar",
           "x": [
            "Tripura",
            "Tripura"
           ],
           "xaxis": "x",
           "y": [
            31.61,
            25.69
           ],
           "yaxis": "y"
          },
          {
           "alignmentgroup": "True",
           "hovertemplate": "Region=%{x}<br>Month_name=Mar<br>Estimated Unemployment Rate=%{y}<extra></extra>",
           "legendgroup": "Uttar Pradesh",
           "marker": {
            "color": "rgb(129,114,179)",
            "pattern": {
             "shape": ""
            }
           },
           "name": "Uttar Pradesh",
           "offsetgroup": "Uttar Pradesh",
           "orientation": "v",
           "showlegend": true,
           "textposition": "auto",
           "type": "bar",
           "x": [
            "Uttar Pradesh",
            "Uttar Pradesh"
           ],
           "xaxis": "x",
           "y": [
            9.37,
            12.32
           ],
           "yaxis": "y"
          },
          {
           "alignmentgroup": "True",
           "hovertemplate": "Region=%{x}<br>Month_name=Mar<br>Estimated Unemployment Rate=%{y}<extra></extra>",
           "legendgroup": "Uttarakhand",
           "marker": {
            "color": "rgb(147,120,96)",
            "pattern": {
             "shape": ""
            }
           },
           "name": "Uttarakhand",
           "offsetgroup": "Uttarakhand",
           "orientation": "v",
           "showlegend": true,
           "textposition": "auto",
           "type": "bar",
           "x": [
            "Uttarakhand"
           ],
           "xaxis": "x",
           "y": [
            8.15
           ],
           "yaxis": "y"
          },
          {
           "alignmentgroup": "True",
           "hovertemplate": "Region=%{x}<br>Month_name=Mar<br>Estimated Unemployment Rate=%{y}<extra></extra>",
           "legendgroup": "West Bengal",
           "marker": {
            "color": "rgb(218,139,195)",
            "pattern": {
             "shape": ""
            }
           },
           "name": "West Bengal",
           "offsetgroup": "West Bengal",
           "orientation": "v",
           "showlegend": true,
           "textposition": "auto",
           "type": "bar",
           "x": [
            "West Bengal",
            "West Bengal"
           ],
           "xaxis": "x",
           "y": [
            7.02,
            6.67
           ],
           "yaxis": "y"
          },
          {
           "alignmentgroup": "True",
           "hovertemplate": "Region=%{x}<br>Month_name=Mar<br>Estimated Unemployment Rate=%{y}<extra></extra>",
           "legendgroup": "Chandigarh",
           "marker": {
            "color": "rgb(140,140,140)",
            "pattern": {
             "shape": ""
            }
           },
           "name": "Chandigarh",
           "offsetgroup": "Chandigarh",
           "orientation": "v",
           "showlegend": true,
           "textposition": "auto",
           "type": "bar",
           "x": [
            "Chandigarh"
           ],
           "xaxis": "x",
           "y": [
            21.43
           ],
           "yaxis": "y"
          }
         ],
         "name": "Mar"
        },
        {
         "data": [
          {
           "alignmentgroup": "True",
           "hovertemplate": "Region=%{x}<br>Month_name=Apr<br>Estimated Unemployment Rate=%{y}<extra></extra>",
           "legendgroup": "Andhra Pradesh",
           "marker": {
            "color": "rgb(76,114,176)",
            "pattern": {
             "shape": ""
            }
           },
           "name": "Andhra Pradesh",
           "offsetgroup": "Andhra Pradesh",
           "orientation": "v",
           "showlegend": true,
           "textposition": "auto",
           "type": "bar",
           "x": [
            "Andhra Pradesh",
            "Andhra Pradesh"
           ],
           "xaxis": "x",
           "y": [
            16.29,
            32.3
           ],
           "yaxis": "y"
          },
          {
           "alignmentgroup": "True",
           "hovertemplate": "Region=%{x}<br>Month_name=Apr<br>Estimated Unemployment Rate=%{y}<extra></extra>",
           "legendgroup": "Assam",
           "marker": {
            "color": "rgb(221,132,82)",
            "pattern": {
             "shape": ""
            }
           },
           "name": "Assam",
           "offsetgroup": "Assam",
           "orientation": "v",
           "showlegend": true,
           "textposition": "auto",
           "type": "bar",
           "x": [
            "Assam"
           ],
           "xaxis": "x",
           "y": [
            8.37
           ],
           "yaxis": "y"
          },
          {
           "alignmentgroup": "True",
           "hovertemplate": "Region=%{x}<br>Month_name=Apr<br>Estimated Unemployment Rate=%{y}<extra></extra>",
           "legendgroup": "Bihar",
           "marker": {
            "color": "rgb(85,168,104)",
            "pattern": {
             "shape": ""
            }
           },
           "name": "Bihar",
           "offsetgroup": "Bihar",
           "orientation": "v",
           "showlegend": true,
           "textposition": "auto",
           "type": "bar",
           "x": [
            "Bihar",
            "Bihar"
           ],
           "xaxis": "x",
           "y": [
            45.09,
            58.77
           ],
           "yaxis": "y"
          },
          {
           "alignmentgroup": "True",
           "hovertemplate": "Region=%{x}<br>Month_name=Apr<br>Estimated Unemployment Rate=%{y}<extra></extra>",
           "legendgroup": "Chhattisgarh",
           "marker": {
            "color": "rgb(196,78,82)",
            "pattern": {
             "shape": ""
            }
           },
           "name": "Chhattisgarh",
           "offsetgroup": "Chhattisgarh",
           "orientation": "v",
           "showlegend": true,
           "textposition": "auto",
           "type": "bar",
           "x": [
            "Chhattisgarh",
            "Chhattisgarh"
           ],
           "xaxis": "x",
           "y": [
            0,
            20.13
           ],
           "yaxis": "y"
          },
          {
           "alignmentgroup": "True",
           "hovertemplate": "Region=%{x}<br>Month_name=Apr<br>Estimated Unemployment Rate=%{y}<extra></extra>",
           "legendgroup": "Delhi",
           "marker": {
            "color": "rgb(129,114,179)",
            "pattern": {
             "shape": ""
            }
           },
           "name": "Delhi",
           "offsetgroup": "Delhi",
           "orientation": "v",
           "showlegend": true,
           "textposition": "auto",
           "type": "bar",
           "x": [
            "Delhi",
            "Delhi"
           ],
           "xaxis": "x",
           "y": [
            20.69,
            16.51
           ],
           "yaxis": "y"
          },
          {
           "alignmentgroup": "True",
           "hovertemplate": "Region=%{x}<br>Month_name=Apr<br>Estimated Unemployment Rate=%{y}<extra></extra>",
           "legendgroup": "Goa",
           "marker": {
            "color": "rgb(147,120,96)",
            "pattern": {
             "shape": ""
            }
           },
           "name": "Goa",
           "offsetgroup": "Goa",
           "orientation": "v",
           "showlegend": true,
           "textposition": "auto",
           "type": "bar",
           "x": [
            "Goa",
            "Goa"
           ],
           "xaxis": "x",
           "y": [
            15.91,
            11.76
           ],
           "yaxis": "y"
          },
          {
           "alignmentgroup": "True",
           "hovertemplate": "Region=%{x}<br>Month_name=Apr<br>Estimated Unemployment Rate=%{y}<extra></extra>",
           "legendgroup": "Gujarat",
           "marker": {
            "color": "rgb(218,139,195)",
            "pattern": {
             "shape": ""
            }
           },
           "name": "Gujarat",
           "offsetgroup": "Gujarat",
           "orientation": "v",
           "showlegend": true,
           "textposition": "auto",
           "type": "bar",
           "x": [
            "Gujarat",
            "Gujarat"
           ],
           "xaxis": "x",
           "y": [
            12,
            25.94
           ],
           "yaxis": "y"
          },
          {
           "alignmentgroup": "True",
           "hovertemplate": "Region=%{x}<br>Month_name=Apr<br>Estimated Unemployment Rate=%{y}<extra></extra>",
           "legendgroup": "Haryana",
           "marker": {
            "color": "rgb(140,140,140)",
            "pattern": {
             "shape": ""
            }
           },
           "name": "Haryana",
           "offsetgroup": "Haryana",
           "orientation": "v",
           "showlegend": true,
           "textposition": "auto",
           "type": "bar",
           "x": [
            "Haryana",
            "Haryana"
           ],
           "xaxis": "x",
           "y": [
            41.61,
            46.89
           ],
           "yaxis": "y"
          },
          {
           "alignmentgroup": "True",
           "hovertemplate": "Region=%{x}<br>Month_name=Apr<br>Estimated Unemployment Rate=%{y}<extra></extra>",
           "legendgroup": "Himachal Pradesh",
           "marker": {
            "color": "rgb(204,185,116)",
            "pattern": {
             "shape": ""
            }
           },
           "name": "Himachal Pradesh",
           "offsetgroup": "Himachal Pradesh",
           "orientation": "v",
           "showlegend": true,
           "textposition": "auto",
           "type": "bar",
           "x": [
            "Himachal Pradesh",
            "Himachal Pradesh"
           ],
           "xaxis": "x",
           "y": [
            2.13,
            2.7
           ],
           "yaxis": "y"
          },
          {
           "alignmentgroup": "True",
           "hovertemplate": "Region=%{x}<br>Month_name=Apr<br>Estimated Unemployment Rate=%{y}<extra></extra>",
           "legendgroup": "Jharkhand",
           "marker": {
            "color": "rgb(76,114,176)",
            "pattern": {
             "shape": ""
            }
           },
           "name": "Jharkhand",
           "offsetgroup": "Jharkhand",
           "orientation": "v",
           "showlegend": true,
           "textposition": "auto",
           "type": "bar",
           "x": [
            "Jharkhand",
            "Jharkhand"
           ],
           "xaxis": "x",
           "y": [
            41.72,
            61.48
           ],
           "yaxis": "y"
          },
          {
           "alignmentgroup": "True",
           "hovertemplate": "Region=%{x}<br>Month_name=Apr<br>Estimated Unemployment Rate=%{y}<extra></extra>",
           "legendgroup": "Karnataka",
           "marker": {
            "color": "rgb(221,132,82)",
            "pattern": {
             "shape": ""
            }
           },
           "name": "Karnataka",
           "offsetgroup": "Karnataka",
           "orientation": "v",
           "showlegend": true,
           "textposition": "auto",
           "type": "bar",
           "x": [
            "Karnataka",
            "Karnataka"
           ],
           "xaxis": "x",
           "y": [
            33.17,
            25.12
           ],
           "yaxis": "y"
          },
          {
           "alignmentgroup": "True",
           "hovertemplate": "Region=%{x}<br>Month_name=Apr<br>Estimated Unemployment Rate=%{y}<extra></extra>",
           "legendgroup": "Kerala",
           "marker": {
            "color": "rgb(85,168,104)",
            "pattern": {
             "shape": ""
            }
           },
           "name": "Kerala",
           "offsetgroup": "Kerala",
           "orientation": "v",
           "showlegend": true,
           "textposition": "auto",
           "type": "bar",
           "x": [
            "Kerala",
            "Kerala"
           ],
           "xaxis": "x",
           "y": [
            10.71,
            21.43
           ],
           "yaxis": "y"
          },
          {
           "alignmentgroup": "True",
           "hovertemplate": "Region=%{x}<br>Month_name=Apr<br>Estimated Unemployment Rate=%{y}<extra></extra>",
           "legendgroup": "Madhya Pradesh",
           "marker": {
            "color": "rgb(196,78,82)",
            "pattern": {
             "shape": ""
            }
           },
           "name": "Madhya Pradesh",
           "offsetgroup": "Madhya Pradesh",
           "orientation": "v",
           "showlegend": true,
           "textposition": "auto",
           "type": "bar",
           "x": [
            "Madhya Pradesh",
            "Madhya Pradesh"
           ],
           "xaxis": "x",
           "y": [
            12.5,
            11.94
           ],
           "yaxis": "y"
          },
          {
           "alignmentgroup": "True",
           "hovertemplate": "Region=%{x}<br>Month_name=Apr<br>Estimated Unemployment Rate=%{y}<extra></extra>",
           "legendgroup": "Maharashtra",
           "marker": {
            "color": "rgb(129,114,179)",
            "pattern": {
             "shape": ""
            }
           },
           "name": "Maharashtra",
           "offsetgroup": "Maharashtra",
           "orientation": "v",
           "showlegend": true,
           "textposition": "auto",
           "type": "bar",
           "x": [
            "Maharashtra",
            "Maharashtra"
           ],
           "xaxis": "x",
           "y": [
            25.28,
            14.99
           ],
           "yaxis": "y"
          },
          {
           "alignmentgroup": "True",
           "hovertemplate": "Region=%{x}<br>Month_name=Apr<br>Estimated Unemployment Rate=%{y}<extra></extra>",
           "legendgroup": "Meghalaya",
           "marker": {
            "color": "rgb(147,120,96)",
            "pattern": {
             "shape": ""
            }
           },
           "name": "Meghalaya",
           "offsetgroup": "Meghalaya",
           "orientation": "v",
           "showlegend": true,
           "textposition": "auto",
           "type": "bar",
           "x": [
            "Meghalaya",
            "Meghalaya"
           ],
           "xaxis": "x",
           "y": [
            8.38,
            17.39
           ],
           "yaxis": "y"
          },
          {
           "alignmentgroup": "True",
           "hovertemplate": "Region=%{x}<br>Month_name=Apr<br>Estimated Unemployment Rate=%{y}<extra></extra>",
           "legendgroup": "Odisha",
           "marker": {
            "color": "rgb(218,139,195)",
            "pattern": {
             "shape": ""
            }
           },
           "name": "Odisha",
           "offsetgroup": "Odisha",
           "orientation": "v",
           "showlegend": true,
           "textposition": "auto",
           "type": "bar",
           "x": [
            "Odisha",
            "Odisha"
           ],
           "xaxis": "x",
           "y": [
            24.48,
            20.5
           ],
           "yaxis": "y"
          },
          {
           "alignmentgroup": "True",
           "hovertemplate": "Region=%{x}<br>Month_name=Apr<br>Estimated Unemployment Rate=%{y}<extra></extra>",
           "legendgroup": "Puducherry",
           "marker": {
            "color": "rgb(140,140,140)",
            "pattern": {
             "shape": ""
            }
           },
           "name": "Puducherry",
           "offsetgroup": "Puducherry",
           "orientation": "v",
           "showlegend": true,
           "textposition": "auto",
           "type": "bar",
           "x": [
            "Puducherry",
            "Puducherry"
           ],
           "xaxis": "x",
           "y": [
            74.51,
            76.74
           ],
           "yaxis": "y"
          },
          {
           "alignmentgroup": "True",
           "hovertemplate": "Region=%{x}<br>Month_name=Apr<br>Estimated Unemployment Rate=%{y}<extra></extra>",
           "legendgroup": "Punjab",
           "marker": {
            "color": "rgb(204,185,116)",
            "pattern": {
             "shape": ""
            }
           },
           "name": "Punjab",
           "offsetgroup": "Punjab",
           "orientation": "v",
           "showlegend": true,
           "textposition": "auto",
           "type": "bar",
           "x": [
            "Punjab",
            "Punjab"
           ],
           "xaxis": "x",
           "y": [
            3.69,
            1.13
           ],
           "yaxis": "y"
          },
          {
           "alignmentgroup": "True",
           "hovertemplate": "Region=%{x}<br>Month_name=Apr<br>Estimated Unemployment Rate=%{y}<extra></extra>",
           "legendgroup": "Rajasthan",
           "marker": {
            "color": "rgb(100,181,205)",
            "pattern": {
             "shape": ""
            }
           },
           "name": "Rajasthan",
           "offsetgroup": "Rajasthan",
           "orientation": "v",
           "showlegend": true,
           "textposition": "auto",
           "type": "bar",
           "x": [
            "Rajasthan",
            "Rajasthan"
           ],
           "xaxis": "x",
           "y": [
            12.25,
            35.53
           ],
           "yaxis": "y"
          },
          {
           "alignmentgroup": "True",
           "hovertemplate": "Region=%{x}<br>Month_name=Apr<br>Estimated Unemployment Rate=%{y}<extra></extra>",
           "legendgroup": "Sikkim",
           "marker": {
            "color": "rgb(76,114,176)",
            "pattern": {
             "shape": ""
            }
           },
           "name": "Sikkim",
           "offsetgroup": "Sikkim",
           "orientation": "v",
           "showlegend": true,
           "textposition": "auto",
           "type": "bar",
           "x": [
            "Sikkim",
            "Sikkim"
           ],
           "xaxis": "x",
           "y": [
            0,
            5.77
           ],
           "yaxis": "y"
          },
          {
           "alignmentgroup": "True",
           "hovertemplate": "Region=%{x}<br>Month_name=Apr<br>Estimated Unemployment Rate=%{y}<extra></extra>",
           "legendgroup": "Tamil Nadu",
           "marker": {
            "color": "rgb(221,132,82)",
            "pattern": {
             "shape": ""
            }
           },
           "name": "Tamil Nadu",
           "offsetgroup": "Tamil Nadu",
           "orientation": "v",
           "showlegend": true,
           "textposition": "auto",
           "type": "bar",
           "x": [
            "Tamil Nadu",
            "Tamil Nadu"
           ],
           "xaxis": "x",
           "y": [
            53.19,
            45.55
           ],
           "yaxis": "y"
          },
          {
           "alignmentgroup": "True",
           "hovertemplate": "Region=%{x}<br>Month_name=Apr<br>Estimated Unemployment Rate=%{y}<extra></extra>",
           "legendgroup": "Telangana",
           "marker": {
            "color": "rgb(85,168,104)",
            "pattern": {
             "shape": ""
            }
           },
           "name": "Telangana",
           "offsetgroup": "Telangana",
           "orientation": "v",
           "showlegend": true,
           "textposition": "auto",
           "type": "bar",
           "x": [
            "Telangana",
            "Telangana"
           ],
           "xaxis": "x",
           "y": [
            4.51,
            10.5
           ],
           "yaxis": "y"
          },
          {
           "alignmentgroup": "True",
           "hovertemplate": "Region=%{x}<br>Month_name=Apr<br>Estimated Unemployment Rate=%{y}<extra></extra>",
           "legendgroup": "Tripura",
           "marker": {
            "color": "rgb(196,78,82)",
            "pattern": {
             "shape": ""
            }
           },
           "name": "Tripura",
           "offsetgroup": "Tripura",
           "orientation": "v",
           "showlegend": true,
           "textposition": "auto",
           "type": "bar",
           "x": [
            "Tripura",
            "Tripura"
           ],
           "xaxis": "x",
           "y": [
            43.64,
            34.88
           ],
           "yaxis": "y"
          },
          {
           "alignmentgroup": "True",
           "hovertemplate": "Region=%{x}<br>Month_name=Apr<br>Estimated Unemployment Rate=%{y}<extra></extra>",
           "legendgroup": "Uttar Pradesh",
           "marker": {
            "color": "rgb(129,114,179)",
            "pattern": {
             "shape": ""
            }
           },
           "name": "Uttar Pradesh",
           "offsetgroup": "Uttar Pradesh",
           "orientation": "v",
           "showlegend": true,
           "textposition": "auto",
           "type": "bar",
           "x": [
            "Uttar Pradesh",
            "Uttar Pradesh"
           ],
           "xaxis": "x",
           "y": [
            19.92,
            26.94
           ],
           "yaxis": "y"
          },
          {
           "alignmentgroup": "True",
           "hovertemplate": "Region=%{x}<br>Month_name=Apr<br>Estimated Unemployment Rate=%{y}<extra></extra>",
           "legendgroup": "Uttarakhand",
           "marker": {
            "color": "rgb(147,120,96)",
            "pattern": {
             "shape": ""
            }
           },
           "name": "Uttarakhand",
           "offsetgroup": "Uttarakhand",
           "orientation": "v",
           "showlegend": true,
           "textposition": "auto",
           "type": "bar",
           "x": [
            "Uttarakhand",
            "Uttarakhand"
           ],
           "xaxis": "x",
           "y": [
            3.66,
            13.18
           ],
           "yaxis": "y"
          },
          {
           "alignmentgroup": "True",
           "hovertemplate": "Region=%{x}<br>Month_name=Apr<br>Estimated Unemployment Rate=%{y}<extra></extra>",
           "legendgroup": "West Bengal",
           "marker": {
            "color": "rgb(218,139,195)",
            "pattern": {
             "shape": ""
            }
           },
           "name": "West Bengal",
           "offsetgroup": "West Bengal",
           "orientation": "v",
           "showlegend": true,
           "textposition": "auto",
           "type": "bar",
           "x": [
            "West Bengal",
            "West Bengal"
           ],
           "xaxis": "x",
           "y": [
            18.32,
            15.63
           ],
           "yaxis": "y"
          }
         ],
         "name": "Apr"
        }
       ],
       "layout": {
        "barmode": "relative",
        "height": 700,
        "legend": {
         "title": {
          "text": "Region"
         },
         "tracegroupgap": 0
        },
        "sliders": [
         {
          "active": 0,
          "currentvalue": {
           "prefix": "Month_name="
          },
          "len": 0.9,
          "pad": {
           "b": 10,
           "t": 60
          },
          "steps": [
           {
            "args": [
             [
              "May"
             ],
             {
              "frame": {
               "duration": 0,
               "redraw": true
              },
              "fromcurrent": true,
              "mode": "immediate",
              "transition": {
               "duration": 0,
               "easing": "linear"
              }
             }
            ],
            "label": "May",
            "method": "animate"
           },
           {
            "args": [
             [
              "Jun"
             ],
             {
              "frame": {
               "duration": 0,
               "redraw": true
              },
              "fromcurrent": true,
              "mode": "immediate",
              "transition": {
               "duration": 0,
               "easing": "linear"
              }
             }
            ],
            "label": "Jun",
            "method": "animate"
           },
           {
            "args": [
             [
              "Jul"
             ],
             {
              "frame": {
               "duration": 0,
               "redraw": true
              },
              "fromcurrent": true,
              "mode": "immediate",
              "transition": {
               "duration": 0,
               "easing": "linear"
              }
             }
            ],
            "label": "Jul",
            "method": "animate"
           },
           {
            "args": [
             [
              "Aug"
             ],
             {
              "frame": {
               "duration": 0,
               "redraw": true
              },
              "fromcurrent": true,
              "mode": "immediate",
              "transition": {
               "duration": 0,
               "easing": "linear"
              }
             }
            ],
            "label": "Aug",
            "method": "animate"
           },
           {
            "args": [
             [
              "Sep"
             ],
             {
              "frame": {
               "duration": 0,
               "redraw": true
              },
              "fromcurrent": true,
              "mode": "immediate",
              "transition": {
               "duration": 0,
               "easing": "linear"
              }
             }
            ],
            "label": "Sep",
            "method": "animate"
           },
           {
            "args": [
             [
              "Oct"
             ],
             {
              "frame": {
               "duration": 0,
               "redraw": true
              },
              "fromcurrent": true,
              "mode": "immediate",
              "transition": {
               "duration": 0,
               "easing": "linear"
              }
             }
            ],
            "label": "Oct",
            "method": "animate"
           },
           {
            "args": [
             [
              "Nov"
             ],
             {
              "frame": {
               "duration": 0,
               "redraw": true
              },
              "fromcurrent": true,
              "mode": "immediate",
              "transition": {
               "duration": 0,
               "easing": "linear"
              }
             }
            ],
            "label": "Nov",
            "method": "animate"
           },
           {
            "args": [
             [
              "Dec"
             ],
             {
              "frame": {
               "duration": 0,
               "redraw": true
              },
              "fromcurrent": true,
              "mode": "immediate",
              "transition": {
               "duration": 0,
               "easing": "linear"
              }
             }
            ],
            "label": "Dec",
            "method": "animate"
           },
           {
            "args": [
             [
              "Jan"
             ],
             {
              "frame": {
               "duration": 0,
               "redraw": true
              },
              "fromcurrent": true,
              "mode": "immediate",
              "transition": {
               "duration": 0,
               "easing": "linear"
              }
             }
            ],
            "label": "Jan",
            "method": "animate"
           },
           {
            "args": [
             [
              "Feb"
             ],
             {
              "frame": {
               "duration": 0,
               "redraw": true
              },
              "fromcurrent": true,
              "mode": "immediate",
              "transition": {
               "duration": 0,
               "easing": "linear"
              }
             }
            ],
            "label": "Feb",
            "method": "animate"
           },
           {
            "args": [
             [
              "Mar"
             ],
             {
              "frame": {
               "duration": 0,
               "redraw": true
              },
              "fromcurrent": true,
              "mode": "immediate",
              "transition": {
               "duration": 0,
               "easing": "linear"
              }
             }
            ],
            "label": "Mar",
            "method": "animate"
           },
           {
            "args": [
             [
              "Apr"
             ],
             {
              "frame": {
               "duration": 0,
               "redraw": true
              },
              "fromcurrent": true,
              "mode": "immediate",
              "transition": {
               "duration": 0,
               "easing": "linear"
              }
             }
            ],
            "label": "Apr",
            "method": "animate"
           }
          ],
          "x": 0.1,
          "xanchor": "left",
          "y": 0,
          "yanchor": "top"
         }
        ],
        "template": {
         "data": {
          "bar": [
           {
            "error_x": {
             "color": "rgb(36,36,36)"
            },
            "error_y": {
             "color": "rgb(36,36,36)"
            },
            "marker": {
             "line": {
              "color": "rgb(234,234,242)",
              "width": 0.5
             },
             "pattern": {
              "fillmode": "overlay",
              "size": 10,
              "solidity": 0.2
             }
            },
            "type": "bar"
           }
          ],
          "barpolar": [
           {
            "marker": {
             "line": {
              "color": "rgb(234,234,242)",
              "width": 0.5
             },
             "pattern": {
              "fillmode": "overlay",
              "size": 10,
              "solidity": 0.2
             }
            },
            "type": "barpolar"
           }
          ],
          "carpet": [
           {
            "aaxis": {
             "endlinecolor": "rgb(36,36,36)",
             "gridcolor": "white",
             "linecolor": "white",
             "minorgridcolor": "white",
             "startlinecolor": "rgb(36,36,36)"
            },
            "baxis": {
             "endlinecolor": "rgb(36,36,36)",
             "gridcolor": "white",
             "linecolor": "white",
             "minorgridcolor": "white",
             "startlinecolor": "rgb(36,36,36)"
            },
            "type": "carpet"
           }
          ],
          "choropleth": [
           {
            "colorbar": {
             "outlinewidth": 0,
             "tickcolor": "rgb(36,36,36)",
             "ticklen": 8,
             "ticks": "outside",
             "tickwidth": 2
            },
            "type": "choropleth"
           }
          ],
          "contour": [
           {
            "colorbar": {
             "outlinewidth": 0,
             "tickcolor": "rgb(36,36,36)",
             "ticklen": 8,
             "ticks": "outside",
             "tickwidth": 2
            },
            "colorscale": [
             [
              0,
              "rgb(2,4,25)"
             ],
             [
              0.06274509803921569,
              "rgb(24,15,41)"
             ],
             [
              0.12549019607843137,
              "rgb(47,23,57)"
             ],
             [
              0.18823529411764706,
              "rgb(71,28,72)"
             ],
             [
              0.25098039215686274,
              "rgb(97,30,82)"
             ],
             [
              0.3137254901960784,
              "rgb(123,30,89)"
             ],
             [
              0.3764705882352941,
              "rgb(150,27,91)"
             ],
             [
              0.4392156862745098,
              "rgb(177,22,88)"
             ],
             [
              0.5019607843137255,
              "rgb(203,26,79)"
             ],
             [
              0.5647058823529412,
              "rgb(223,47,67)"
             ],
             [
              0.6274509803921569,
              "rgb(236,76,61)"
             ],
             [
              0.6901960784313725,
              "rgb(242,107,73)"
             ],
             [
              0.7529411764705882,
              "rgb(244,135,95)"
             ],
             [
              0.8156862745098039,
              "rgb(245,162,122)"
             ],
             [
              0.8784313725490196,
              "rgb(246,188,153)"
             ],
             [
              0.9411764705882353,
              "rgb(247,212,187)"
             ],
             [
              1,
              "rgb(250,234,220)"
             ]
            ],
            "type": "contour"
           }
          ],
          "contourcarpet": [
           {
            "colorbar": {
             "outlinewidth": 0,
             "tickcolor": "rgb(36,36,36)",
             "ticklen": 8,
             "ticks": "outside",
             "tickwidth": 2
            },
            "type": "contourcarpet"
           }
          ],
          "heatmap": [
           {
            "colorbar": {
             "outlinewidth": 0,
             "tickcolor": "rgb(36,36,36)",
             "ticklen": 8,
             "ticks": "outside",
             "tickwidth": 2
            },
            "colorscale": [
             [
              0,
              "rgb(2,4,25)"
             ],
             [
              0.06274509803921569,
              "rgb(24,15,41)"
             ],
             [
              0.12549019607843137,
              "rgb(47,23,57)"
             ],
             [
              0.18823529411764706,
              "rgb(71,28,72)"
             ],
             [
              0.25098039215686274,
              "rgb(97,30,82)"
             ],
             [
              0.3137254901960784,
              "rgb(123,30,89)"
             ],
             [
              0.3764705882352941,
              "rgb(150,27,91)"
             ],
             [
              0.4392156862745098,
              "rgb(177,22,88)"
             ],
             [
              0.5019607843137255,
              "rgb(203,26,79)"
             ],
             [
              0.5647058823529412,
              "rgb(223,47,67)"
             ],
             [
              0.6274509803921569,
              "rgb(236,76,61)"
             ],
             [
              0.6901960784313725,
              "rgb(242,107,73)"
             ],
             [
              0.7529411764705882,
              "rgb(244,135,95)"
             ],
             [
              0.8156862745098039,
              "rgb(245,162,122)"
             ],
             [
              0.8784313725490196,
              "rgb(246,188,153)"
             ],
             [
              0.9411764705882353,
              "rgb(247,212,187)"
             ],
             [
              1,
              "rgb(250,234,220)"
             ]
            ],
            "type": "heatmap"
           }
          ],
          "heatmapgl": [
           {
            "colorbar": {
             "outlinewidth": 0,
             "tickcolor": "rgb(36,36,36)",
             "ticklen": 8,
             "ticks": "outside",
             "tickwidth": 2
            },
            "colorscale": [
             [
              0,
              "rgb(2,4,25)"
             ],
             [
              0.06274509803921569,
              "rgb(24,15,41)"
             ],
             [
              0.12549019607843137,
              "rgb(47,23,57)"
             ],
             [
              0.18823529411764706,
              "rgb(71,28,72)"
             ],
             [
              0.25098039215686274,
              "rgb(97,30,82)"
             ],
             [
              0.3137254901960784,
              "rgb(123,30,89)"
             ],
             [
              0.3764705882352941,
              "rgb(150,27,91)"
             ],
             [
              0.4392156862745098,
              "rgb(177,22,88)"
             ],
             [
              0.5019607843137255,
              "rgb(203,26,79)"
             ],
             [
              0.5647058823529412,
              "rgb(223,47,67)"
             ],
             [
              0.6274509803921569,
              "rgb(236,76,61)"
             ],
             [
              0.6901960784313725,
              "rgb(242,107,73)"
             ],
             [
              0.7529411764705882,
              "rgb(244,135,95)"
             ],
             [
              0.8156862745098039,
              "rgb(245,162,122)"
             ],
             [
              0.8784313725490196,
              "rgb(246,188,153)"
             ],
             [
              0.9411764705882353,
              "rgb(247,212,187)"
             ],
             [
              1,
              "rgb(250,234,220)"
             ]
            ],
            "type": "heatmapgl"
           }
          ],
          "histogram": [
           {
            "marker": {
             "pattern": {
              "fillmode": "overlay",
              "size": 10,
              "solidity": 0.2
             }
            },
            "type": "histogram"
           }
          ],
          "histogram2d": [
           {
            "colorbar": {
             "outlinewidth": 0,
             "tickcolor": "rgb(36,36,36)",
             "ticklen": 8,
             "ticks": "outside",
             "tickwidth": 2
            },
            "colorscale": [
             [
              0,
              "rgb(2,4,25)"
             ],
             [
              0.06274509803921569,
              "rgb(24,15,41)"
             ],
             [
              0.12549019607843137,
              "rgb(47,23,57)"
             ],
             [
              0.18823529411764706,
              "rgb(71,28,72)"
             ],
             [
              0.25098039215686274,
              "rgb(97,30,82)"
             ],
             [
              0.3137254901960784,
              "rgb(123,30,89)"
             ],
             [
              0.3764705882352941,
              "rgb(150,27,91)"
             ],
             [
              0.4392156862745098,
              "rgb(177,22,88)"
             ],
             [
              0.5019607843137255,
              "rgb(203,26,79)"
             ],
             [
              0.5647058823529412,
              "rgb(223,47,67)"
             ],
             [
              0.6274509803921569,
              "rgb(236,76,61)"
             ],
             [
              0.6901960784313725,
              "rgb(242,107,73)"
             ],
             [
              0.7529411764705882,
              "rgb(244,135,95)"
             ],
             [
              0.8156862745098039,
              "rgb(245,162,122)"
             ],
             [
              0.8784313725490196,
              "rgb(246,188,153)"
             ],
             [
              0.9411764705882353,
              "rgb(247,212,187)"
             ],
             [
              1,
              "rgb(250,234,220)"
             ]
            ],
            "type": "histogram2d"
           }
          ],
          "histogram2dcontour": [
           {
            "colorbar": {
             "outlinewidth": 0,
             "tickcolor": "rgb(36,36,36)",
             "ticklen": 8,
             "ticks": "outside",
             "tickwidth": 2
            },
            "colorscale": [
             [
              0,
              "rgb(2,4,25)"
             ],
             [
              0.06274509803921569,
              "rgb(24,15,41)"
             ],
             [
              0.12549019607843137,
              "rgb(47,23,57)"
             ],
             [
              0.18823529411764706,
              "rgb(71,28,72)"
             ],
             [
              0.25098039215686274,
              "rgb(97,30,82)"
             ],
             [
              0.3137254901960784,
              "rgb(123,30,89)"
             ],
             [
              0.3764705882352941,
              "rgb(150,27,91)"
             ],
             [
              0.4392156862745098,
              "rgb(177,22,88)"
             ],
             [
              0.5019607843137255,
              "rgb(203,26,79)"
             ],
             [
              0.5647058823529412,
              "rgb(223,47,67)"
             ],
             [
              0.6274509803921569,
              "rgb(236,76,61)"
             ],
             [
              0.6901960784313725,
              "rgb(242,107,73)"
             ],
             [
              0.7529411764705882,
              "rgb(244,135,95)"
             ],
             [
              0.8156862745098039,
              "rgb(245,162,122)"
             ],
             [
              0.8784313725490196,
              "rgb(246,188,153)"
             ],
             [
              0.9411764705882353,
              "rgb(247,212,187)"
             ],
             [
              1,
              "rgb(250,234,220)"
             ]
            ],
            "type": "histogram2dcontour"
           }
          ],
          "mesh3d": [
           {
            "colorbar": {
             "outlinewidth": 0,
             "tickcolor": "rgb(36,36,36)",
             "ticklen": 8,
             "ticks": "outside",
             "tickwidth": 2
            },
            "type": "mesh3d"
           }
          ],
          "parcoords": [
           {
            "line": {
             "colorbar": {
              "outlinewidth": 0,
              "tickcolor": "rgb(36,36,36)",
              "ticklen": 8,
              "ticks": "outside",
              "tickwidth": 2
             }
            },
            "type": "parcoords"
           }
          ],
          "pie": [
           {
            "automargin": true,
            "type": "pie"
           }
          ],
          "scatter": [
           {
            "fillpattern": {
             "fillmode": "overlay",
             "size": 10,
             "solidity": 0.2
            },
            "type": "scatter"
           }
          ],
          "scatter3d": [
           {
            "line": {
             "colorbar": {
              "outlinewidth": 0,
              "tickcolor": "rgb(36,36,36)",
              "ticklen": 8,
              "ticks": "outside",
              "tickwidth": 2
             }
            },
            "marker": {
             "colorbar": {
              "outlinewidth": 0,
              "tickcolor": "rgb(36,36,36)",
              "ticklen": 8,
              "ticks": "outside",
              "tickwidth": 2
             }
            },
            "type": "scatter3d"
           }
          ],
          "scattercarpet": [
           {
            "marker": {
             "colorbar": {
              "outlinewidth": 0,
              "tickcolor": "rgb(36,36,36)",
              "ticklen": 8,
              "ticks": "outside",
              "tickwidth": 2
             }
            },
            "type": "scattercarpet"
           }
          ],
          "scattergeo": [
           {
            "marker": {
             "colorbar": {
              "outlinewidth": 0,
              "tickcolor": "rgb(36,36,36)",
              "ticklen": 8,
              "ticks": "outside",
              "tickwidth": 2
             }
            },
            "type": "scattergeo"
           }
          ],
          "scattergl": [
           {
            "marker": {
             "colorbar": {
              "outlinewidth": 0,
              "tickcolor": "rgb(36,36,36)",
              "ticklen": 8,
              "ticks": "outside",
              "tickwidth": 2
             }
            },
            "type": "scattergl"
           }
          ],
          "scattermapbox": [
           {
            "marker": {
             "colorbar": {
              "outlinewidth": 0,
              "tickcolor": "rgb(36,36,36)",
              "ticklen": 8,
              "ticks": "outside",
              "tickwidth": 2
             }
            },
            "type": "scattermapbox"
           }
          ],
          "scatterpolar": [
           {
            "marker": {
             "colorbar": {
              "outlinewidth": 0,
              "tickcolor": "rgb(36,36,36)",
              "ticklen": 8,
              "ticks": "outside",
              "tickwidth": 2
             }
            },
            "type": "scatterpolar"
           }
          ],
          "scatterpolargl": [
           {
            "marker": {
             "colorbar": {
              "outlinewidth": 0,
              "tickcolor": "rgb(36,36,36)",
              "ticklen": 8,
              "ticks": "outside",
              "tickwidth": 2
             }
            },
            "type": "scatterpolargl"
           }
          ],
          "scatterternary": [
           {
            "marker": {
             "colorbar": {
              "outlinewidth": 0,
              "tickcolor": "rgb(36,36,36)",
              "ticklen": 8,
              "ticks": "outside",
              "tickwidth": 2
             }
            },
            "type": "scatterternary"
           }
          ],
          "surface": [
           {
            "colorbar": {
             "outlinewidth": 0,
             "tickcolor": "rgb(36,36,36)",
             "ticklen": 8,
             "ticks": "outside",
             "tickwidth": 2
            },
            "colorscale": [
             [
              0,
              "rgb(2,4,25)"
             ],
             [
              0.06274509803921569,
              "rgb(24,15,41)"
             ],
             [
              0.12549019607843137,
              "rgb(47,23,57)"
             ],
             [
              0.18823529411764706,
              "rgb(71,28,72)"
             ],
             [
              0.25098039215686274,
              "rgb(97,30,82)"
             ],
             [
              0.3137254901960784,
              "rgb(123,30,89)"
             ],
             [
              0.3764705882352941,
              "rgb(150,27,91)"
             ],
             [
              0.4392156862745098,
              "rgb(177,22,88)"
             ],
             [
              0.5019607843137255,
              "rgb(203,26,79)"
             ],
             [
              0.5647058823529412,
              "rgb(223,47,67)"
             ],
             [
              0.6274509803921569,
              "rgb(236,76,61)"
             ],
             [
              0.6901960784313725,
              "rgb(242,107,73)"
             ],
             [
              0.7529411764705882,
              "rgb(244,135,95)"
             ],
             [
              0.8156862745098039,
              "rgb(245,162,122)"
             ],
             [
              0.8784313725490196,
              "rgb(246,188,153)"
             ],
             [
              0.9411764705882353,
              "rgb(247,212,187)"
             ],
             [
              1,
              "rgb(250,234,220)"
             ]
            ],
            "type": "surface"
           }
          ],
          "table": [
           {
            "cells": {
             "fill": {
              "color": "rgb(231,231,240)"
             },
             "line": {
              "color": "white"
             }
            },
            "header": {
             "fill": {
              "color": "rgb(183,183,191)"
             },
             "line": {
              "color": "white"
             }
            },
            "type": "table"
           }
          ]
         },
         "layout": {
          "annotationdefaults": {
           "arrowcolor": "rgb(67,103,167)"
          },
          "autotypenumbers": "strict",
          "coloraxis": {
           "colorbar": {
            "outlinewidth": 0,
            "tickcolor": "rgb(36,36,36)",
            "ticklen": 8,
            "ticks": "outside",
            "tickwidth": 2
           }
          },
          "colorscale": {
           "sequential": [
            [
             0,
             "rgb(2,4,25)"
            ],
            [
             0.06274509803921569,
             "rgb(24,15,41)"
            ],
            [
             0.12549019607843137,
             "rgb(47,23,57)"
            ],
            [
             0.18823529411764706,
             "rgb(71,28,72)"
            ],
            [
             0.25098039215686274,
             "rgb(97,30,82)"
            ],
            [
             0.3137254901960784,
             "rgb(123,30,89)"
            ],
            [
             0.3764705882352941,
             "rgb(150,27,91)"
            ],
            [
             0.4392156862745098,
             "rgb(177,22,88)"
            ],
            [
             0.5019607843137255,
             "rgb(203,26,79)"
            ],
            [
             0.5647058823529412,
             "rgb(223,47,67)"
            ],
            [
             0.6274509803921569,
             "rgb(236,76,61)"
            ],
            [
             0.6901960784313725,
             "rgb(242,107,73)"
            ],
            [
             0.7529411764705882,
             "rgb(244,135,95)"
            ],
            [
             0.8156862745098039,
             "rgb(245,162,122)"
            ],
            [
             0.8784313725490196,
             "rgb(246,188,153)"
            ],
            [
             0.9411764705882353,
             "rgb(247,212,187)"
            ],
            [
             1,
             "rgb(250,234,220)"
            ]
           ],
           "sequentialminus": [
            [
             0,
             "rgb(2,4,25)"
            ],
            [
             0.06274509803921569,
             "rgb(24,15,41)"
            ],
            [
             0.12549019607843137,
             "rgb(47,23,57)"
            ],
            [
             0.18823529411764706,
             "rgb(71,28,72)"
            ],
            [
             0.25098039215686274,
             "rgb(97,30,82)"
            ],
            [
             0.3137254901960784,
             "rgb(123,30,89)"
            ],
            [
             0.3764705882352941,
             "rgb(150,27,91)"
            ],
            [
             0.4392156862745098,
             "rgb(177,22,88)"
            ],
            [
             0.5019607843137255,
             "rgb(203,26,79)"
            ],
            [
             0.5647058823529412,
             "rgb(223,47,67)"
            ],
            [
             0.6274509803921569,
             "rgb(236,76,61)"
            ],
            [
             0.6901960784313725,
             "rgb(242,107,73)"
            ],
            [
             0.7529411764705882,
             "rgb(244,135,95)"
            ],
            [
             0.8156862745098039,
             "rgb(245,162,122)"
            ],
            [
             0.8784313725490196,
             "rgb(246,188,153)"
            ],
            [
             0.9411764705882353,
             "rgb(247,212,187)"
            ],
            [
             1,
             "rgb(250,234,220)"
            ]
           ]
          },
          "colorway": [
           "rgb(76,114,176)",
           "rgb(221,132,82)",
           "rgb(85,168,104)",
           "rgb(196,78,82)",
           "rgb(129,114,179)",
           "rgb(147,120,96)",
           "rgb(218,139,195)",
           "rgb(140,140,140)",
           "rgb(204,185,116)",
           "rgb(100,181,205)"
          ],
          "font": {
           "color": "rgb(36,36,36)"
          },
          "geo": {
           "bgcolor": "white",
           "lakecolor": "white",
           "landcolor": "rgb(234,234,242)",
           "showlakes": true,
           "showland": true,
           "subunitcolor": "white"
          },
          "hoverlabel": {
           "align": "left"
          },
          "hovermode": "closest",
          "paper_bgcolor": "white",
          "plot_bgcolor": "rgb(234,234,242)",
          "polar": {
           "angularaxis": {
            "gridcolor": "white",
            "linecolor": "white",
            "showgrid": true,
            "ticks": ""
           },
           "bgcolor": "rgb(234,234,242)",
           "radialaxis": {
            "gridcolor": "white",
            "linecolor": "white",
            "showgrid": true,
            "ticks": ""
           }
          },
          "scene": {
           "xaxis": {
            "backgroundcolor": "rgb(234,234,242)",
            "gridcolor": "white",
            "gridwidth": 2,
            "linecolor": "white",
            "showbackground": true,
            "showgrid": true,
            "ticks": "",
            "zerolinecolor": "white"
           },
           "yaxis": {
            "backgroundcolor": "rgb(234,234,242)",
            "gridcolor": "white",
            "gridwidth": 2,
            "linecolor": "white",
            "showbackground": true,
            "showgrid": true,
            "ticks": "",
            "zerolinecolor": "white"
           },
           "zaxis": {
            "backgroundcolor": "rgb(234,234,242)",
            "gridcolor": "white",
            "gridwidth": 2,
            "linecolor": "white",
            "showbackground": true,
            "showgrid": true,
            "ticks": "",
            "zerolinecolor": "white"
           }
          },
          "shapedefaults": {
           "fillcolor": "rgb(67,103,167)",
           "line": {
            "width": 0
           },
           "opacity": 0.5
          },
          "ternary": {
           "aaxis": {
            "gridcolor": "white",
            "linecolor": "white",
            "showgrid": true,
            "ticks": ""
           },
           "baxis": {
            "gridcolor": "white",
            "linecolor": "white",
            "showgrid": true,
            "ticks": ""
           },
           "bgcolor": "rgb(234,234,242)",
           "caxis": {
            "gridcolor": "white",
            "linecolor": "white",
            "showgrid": true,
            "ticks": ""
           }
          },
          "xaxis": {
           "automargin": true,
           "gridcolor": "white",
           "linecolor": "white",
           "showgrid": true,
           "ticks": "",
           "title": {
            "standoff": 15
           },
           "zerolinecolor": "white"
          },
          "yaxis": {
           "automargin": true,
           "gridcolor": "white",
           "linecolor": "white",
           "showgrid": true,
           "ticks": "",
           "title": {
            "standoff": 15
           },
           "zerolinecolor": "white"
          }
         }
        },
        "title": {
         "text": "Unemployment rate across regions from Jan. 2020 to Oct. 2020"
        },
        "updatemenus": [
         {
          "buttons": [
           {
            "args": [
             null,
             {
              "frame": {
               "duration": 1000,
               "redraw": true
              },
              "fromcurrent": true,
              "mode": "immediate",
              "transition": {
               "duration": 500,
               "easing": "linear"
              }
             }
            ],
            "label": "&#9654;",
            "method": "animate"
           },
           {
            "args": [
             [
              null
             ],
             {
              "frame": {
               "duration": 0,
               "redraw": true
              },
              "fromcurrent": true,
              "mode": "immediate",
              "transition": {
               "duration": 0,
               "easing": "linear"
              }
             }
            ],
            "label": "&#9724;",
            "method": "animate"
           }
          ],
          "direction": "left",
          "pad": {
           "r": 10,
           "t": 70
          },
          "showactive": false,
          "type": "buttons",
          "x": 0.1,
          "xanchor": "right",
          "y": 0,
          "yanchor": "top"
         }
        ],
        "xaxis": {
         "anchor": "y",
         "categoryarray": [
          "Andhra Pradesh",
          "Assam",
          "Bihar",
          "Chhattisgarh",
          "Delhi",
          "Goa",
          "Gujarat",
          "Haryana",
          "Himachal Pradesh",
          "Jammu & Kashmir",
          "Jharkhand",
          "Karnataka",
          "Kerala",
          "Madhya Pradesh",
          "Maharashtra",
          "Meghalaya",
          "Odisha",
          "Puducherry",
          "Punjab",
          "Rajasthan",
          "Sikkim",
          "Tamil Nadu",
          "Telangana",
          "Tripura",
          "Uttar Pradesh",
          "Uttarakhand",
          "West Bengal",
          "Chandigarh"
         ],
         "categoryorder": "total descending",
         "domain": [
          0,
          1
         ],
         "title": {
          "text": "Region"
         }
        },
        "yaxis": {
         "anchor": "x",
         "domain": [
          0,
          1
         ],
         "title": {
          "text": "Estimated Unemployment Rate"
         }
        }
       }
      }
     },
     "metadata": {},
     "output_type": "display_data"
    }
   ],
   "source": [
    "fig = px.bar(df, x='Region', y='Estimated Unemployment Rate', animation_frame='Month_name', color='Region',\n",
    "             title='Unemployment rate across regions from Jan. 2020 to Oct. 2020', height=700, template='seaborn')\n",
    "\n",
    "# Updating the x-axis category order to be in descending total\n",
    "fig.update_layout(xaxis={'categoryorder': 'total descending'})\n",
    "\n",
    "# Adjusting the animation frame duration\n",
    "fig.layout.updatemenus[0].buttons[0].args[1][\"frame\"][\"duration\"] = 1000\n",
    "fig.show()"
   ]
  },
  {
   "cell_type": "markdown",
   "id": "2e7d0b1e",
   "metadata": {
    "papermill": {
     "duration": 0.01261,
     "end_time": "2023-08-28T07:05:59.846281",
     "exception": false,
     "start_time": "2023-08-28T07:05:59.833671",
     "status": "completed"
    },
    "tags": []
   },
   "source": [
    "We see that during the month of April, the states Puducherry, Tamil Nadu, Jharkhand, Bihar, Tripura, Haryana of India saw the major unemplyment hike.\n"
   ]
  },
  {
   "cell_type": "markdown",
   "id": "4669b12d",
   "metadata": {
    "papermill": {
     "duration": 0.012322,
     "end_time": "2023-08-28T07:05:59.871389",
     "exception": false,
     "start_time": "2023-08-28T07:05:59.859067",
     "status": "completed"
    },
    "tags": []
   },
   "source": [
    "Sunburst chart showing the unemployment rate in each Region and State"
   ]
  },
  {
   "cell_type": "markdown",
   "id": "e894e6e4",
   "metadata": {
    "papermill": {
     "duration": 0.013443,
     "end_time": "2023-08-28T07:06:00.497941",
     "exception": false,
     "start_time": "2023-08-28T07:06:00.484498",
     "status": "completed"
    },
    "tags": []
   },
   "source": [
    "The northern regions of India seems to have more unemployed people."
   ]
  },
  {
   "cell_type": "code",
   "execution_count": 48,
   "id": "fb500e43",
   "metadata": {
    "execution": {
     "iopub.execute_input": "2023-08-28T07:06:00.527595Z",
     "iopub.status.busy": "2023-08-28T07:06:00.526885Z",
     "iopub.status.idle": "2023-08-28T07:06:00.545080Z",
     "shell.execute_reply": "2023-08-28T07:06:00.544199Z"
    },
    "papermill": {
     "duration": 0.035379,
     "end_time": "2023-08-28T07:06:00.547103",
     "exception": false,
     "start_time": "2023-08-28T07:06:00.511724",
     "status": "completed"
    },
    "tags": []
   },
   "outputs": [
    {
     "name": "stderr",
     "output_type": "stream",
     "text": [
      "/tmp/ipykernel_15883/14790586.py:8: FutureWarning:\n",
      "\n",
      "The default of observed=False is deprecated and will be changed to True in a future version of pandas. Pass observed=False to retain current behavior or observed=True to adopt the future default and silence this warning.\n",
      "\n",
      "/tmp/ipykernel_15883/14790586.py:11: FutureWarning:\n",
      "\n",
      "The default of observed=False is deprecated and will be changed to True in a future version of pandas. Pass observed=False to retain current behavior or observed=True to adopt the future default and silence this warning.\n",
      "\n"
     ]
    },
    {
     "data": {
      "text/html": [
       "<div>\n",
       "<style scoped>\n",
       "    .dataframe tbody tr th:only-of-type {\n",
       "        vertical-align: middle;\n",
       "    }\n",
       "\n",
       "    .dataframe tbody tr th {\n",
       "        vertical-align: top;\n",
       "    }\n",
       "\n",
       "    .dataframe thead th {\n",
       "        text-align: right;\n",
       "    }\n",
       "</style>\n",
       "<table border=\"1\" class=\"dataframe\">\n",
       "  <thead>\n",
       "    <tr style=\"text-align: right;\">\n",
       "      <th></th>\n",
       "      <th>Region</th>\n",
       "      <th>Unemployment Rate before lockdown</th>\n",
       "      <th>Unemployment Rate after lockdown</th>\n",
       "    </tr>\n",
       "  </thead>\n",
       "  <tbody>\n",
       "    <tr>\n",
       "      <th>0</th>\n",
       "      <td>Andhra Pradesh</td>\n",
       "      <td>10.054167</td>\n",
       "      <td>10.756250</td>\n",
       "    </tr>\n",
       "    <tr>\n",
       "      <th>1</th>\n",
       "      <td>Assam</td>\n",
       "      <td>6.049091</td>\n",
       "      <td>6.750000</td>\n",
       "    </tr>\n",
       "    <tr>\n",
       "      <th>2</th>\n",
       "      <td>Bihar</td>\n",
       "      <td>25.370000</td>\n",
       "      <td>23.690000</td>\n",
       "    </tr>\n",
       "    <tr>\n",
       "      <th>3</th>\n",
       "      <td>Chandigarh</td>\n",
       "      <td>14.942500</td>\n",
       "      <td>19.366667</td>\n",
       "    </tr>\n",
       "    <tr>\n",
       "      <th>4</th>\n",
       "      <td>Chhattisgarh</td>\n",
       "      <td>11.659167</td>\n",
       "      <td>9.028750</td>\n",
       "    </tr>\n",
       "  </tbody>\n",
       "</table>\n",
       "</div>"
      ],
      "text/plain": [
       "           Region  Unemployment Rate before lockdown  \\\n",
       "0  Andhra Pradesh                          10.054167   \n",
       "1           Assam                           6.049091   \n",
       "2           Bihar                          25.370000   \n",
       "3      Chandigarh                          14.942500   \n",
       "4    Chhattisgarh                          11.659167   \n",
       "\n",
       "   Unemployment Rate after lockdown  \n",
       "0                         10.756250  \n",
       "1                          6.750000  \n",
       "2                         23.690000  \n",
       "3                         19.366667  \n",
       "4                          9.028750  "
      ]
     },
     "execution_count": 48,
     "metadata": {},
     "output_type": "execute_result"
    }
   ],
   "source": [
    "# Filtering data for the period before the lockdown (January to April)\n",
    "bf_lockdown = df[(df['Month_int'] >= 1) & (df['Month_int'] <=4)]\n",
    "\n",
    "# Filtering data for the lockdown period (April to July)\n",
    "lockdown = df[(df['Month_int'] >= 4) & (df['Month_int'] <=7)]\n",
    "\n",
    "# Calculating the mean unemployment rate before lockdown by state\n",
    "m_bf_lock = bf_lockdown.groupby('Region')['Estimated Unemployment Rate'].mean().reset_index()\n",
    "\n",
    "# Calculating the mean unemployment rate after lockdown by state\n",
    "m_lock = lockdown.groupby('Region')['Estimated Unemployment Rate'].mean().reset_index()\n",
    "\n",
    "# Combining the mean unemployment rates before and after lockdown by state\n",
    "m_lock['Unemployment Rate before lockdown'] = m_bf_lock['Estimated Unemployment Rate']\n",
    "\n",
    "m_lock.columns = ['Region','Unemployment Rate before lockdown','Unemployment Rate after lockdown']\n",
    "m_lock.head()"
   ]
  },
  {
   "cell_type": "code",
   "execution_count": 50,
   "id": "e0222f26",
   "metadata": {
    "execution": {
     "iopub.execute_input": "2023-08-28T07:06:00.577256Z",
     "iopub.status.busy": "2023-08-28T07:06:00.576332Z",
     "iopub.status.idle": "2023-08-28T07:06:00.671081Z",
     "shell.execute_reply": "2023-08-28T07:06:00.670030Z"
    },
    "papermill": {
     "duration": 0.112241,
     "end_time": "2023-08-28T07:06:00.673301",
     "exception": false,
     "start_time": "2023-08-28T07:06:00.561060",
     "status": "completed"
    },
    "tags": []
   },
   "outputs": [
    {
     "data": {
      "application/vnd.plotly.v1+json": {
       "config": {
        "plotlyServerURL": "https://plot.ly"
       },
       "data": [
        {
         "alignmentgroup": "True",
         "hovertemplate": "Region=%{x}<br>Percentage change in Unemployment=%{marker.color}<extra></extra>",
         "legendgroup": "",
         "marker": {
          "color": [
           4.71,
           5.08,
           5.75,
           5.75,
           5.89,
           6.58,
           7.74,
           7.88,
           8.01,
           8.03,
           8.13,
           8.2,
           8.35,
           8.48,
           8.81,
           9.76,
           12.34,
           13.91,
           14.82,
           15.76,
           15.76,
           17.68,
           18.37,
           18.86,
           21.81,
           22.69,
           28.19,
           31.78
          ],
          "coloraxis": "coloraxis",
          "pattern": {
           "shape": ""
          }
         },
         "name": "",
         "offsetgroup": "",
         "orientation": "v",
         "showlegend": false,
         "textposition": "auto",
         "type": "bar",
         "x": [
          "Meghalaya",
          "Madhya Pradesh",
          "Assam",
          "Telangana",
          "Uttarakhand",
          "Goa",
          "Sikkim",
          "Punjab",
          "Maharashtra",
          "Chhattisgarh",
          "West Bengal",
          "Odisha",
          "Gujarat",
          "Kerala",
          "Karnataka",
          "Andhra Pradesh",
          "Uttar Pradesh",
          "Tamil Nadu",
          "Himachal Pradesh",
          "Delhi",
          "Rajasthan",
          "Jammu & Kashmir",
          "Chandigarh",
          "Puducherry",
          "Jharkhand",
          "Bihar",
          "Haryana",
          "Tripura"
         ],
         "xaxis": "x",
         "y": [
          4.71,
          5.08,
          5.75,
          5.75,
          5.89,
          6.58,
          7.74,
          7.88,
          8.01,
          8.03,
          8.13,
          8.2,
          8.35,
          8.48,
          8.81,
          9.76,
          12.34,
          13.91,
          14.82,
          15.76,
          15.76,
          17.68,
          18.37,
          18.86,
          21.81,
          22.69,
          28.19,
          31.78
         ],
         "yaxis": "y"
        }
       ],
       "layout": {
        "barmode": "relative",
        "coloraxis": {
         "colorbar": {
          "title": {
           "text": "Percentage change in Unemployment"
          }
         },
         "colorscale": [
          [
           0,
           "rgb(20,44,66)"
          ],
          [
           1,
           "rgb(90,179,244)"
          ]
         ]
        },
        "legend": {
         "tracegroupgap": 0
        },
        "template": {
         "data": {
          "bar": [
           {
            "error_x": {
             "color": "rgb(51,51,51)"
            },
            "error_y": {
             "color": "rgb(51,51,51)"
            },
            "marker": {
             "line": {
              "color": "rgb(237,237,237)",
              "width": 0.5
             },
             "pattern": {
              "fillmode": "overlay",
              "size": 10,
              "solidity": 0.2
             }
            },
            "type": "bar"
           }
          ],
          "barpolar": [
           {
            "marker": {
             "line": {
              "color": "rgb(237,237,237)",
              "width": 0.5
             },
             "pattern": {
              "fillmode": "overlay",
              "size": 10,
              "solidity": 0.2
             }
            },
            "type": "barpolar"
           }
          ],
          "carpet": [
           {
            "aaxis": {
             "endlinecolor": "rgb(51,51,51)",
             "gridcolor": "white",
             "linecolor": "white",
             "minorgridcolor": "white",
             "startlinecolor": "rgb(51,51,51)"
            },
            "baxis": {
             "endlinecolor": "rgb(51,51,51)",
             "gridcolor": "white",
             "linecolor": "white",
             "minorgridcolor": "white",
             "startlinecolor": "rgb(51,51,51)"
            },
            "type": "carpet"
           }
          ],
          "choropleth": [
           {
            "colorbar": {
             "outlinewidth": 0,
             "tickcolor": "rgb(237,237,237)",
             "ticklen": 6,
             "ticks": "inside"
            },
            "type": "choropleth"
           }
          ],
          "contour": [
           {
            "colorbar": {
             "outlinewidth": 0,
             "tickcolor": "rgb(237,237,237)",
             "ticklen": 6,
             "ticks": "inside"
            },
            "colorscale": [
             [
              0,
              "rgb(20,44,66)"
             ],
             [
              1,
              "rgb(90,179,244)"
             ]
            ],
            "type": "contour"
           }
          ],
          "contourcarpet": [
           {
            "colorbar": {
             "outlinewidth": 0,
             "tickcolor": "rgb(237,237,237)",
             "ticklen": 6,
             "ticks": "inside"
            },
            "type": "contourcarpet"
           }
          ],
          "heatmap": [
           {
            "colorbar": {
             "outlinewidth": 0,
             "tickcolor": "rgb(237,237,237)",
             "ticklen": 6,
             "ticks": "inside"
            },
            "colorscale": [
             [
              0,
              "rgb(20,44,66)"
             ],
             [
              1,
              "rgb(90,179,244)"
             ]
            ],
            "type": "heatmap"
           }
          ],
          "heatmapgl": [
           {
            "colorbar": {
             "outlinewidth": 0,
             "tickcolor": "rgb(237,237,237)",
             "ticklen": 6,
             "ticks": "inside"
            },
            "colorscale": [
             [
              0,
              "rgb(20,44,66)"
             ],
             [
              1,
              "rgb(90,179,244)"
             ]
            ],
            "type": "heatmapgl"
           }
          ],
          "histogram": [
           {
            "marker": {
             "pattern": {
              "fillmode": "overlay",
              "size": 10,
              "solidity": 0.2
             }
            },
            "type": "histogram"
           }
          ],
          "histogram2d": [
           {
            "colorbar": {
             "outlinewidth": 0,
             "tickcolor": "rgb(237,237,237)",
             "ticklen": 6,
             "ticks": "inside"
            },
            "colorscale": [
             [
              0,
              "rgb(20,44,66)"
             ],
             [
              1,
              "rgb(90,179,244)"
             ]
            ],
            "type": "histogram2d"
           }
          ],
          "histogram2dcontour": [
           {
            "colorbar": {
             "outlinewidth": 0,
             "tickcolor": "rgb(237,237,237)",
             "ticklen": 6,
             "ticks": "inside"
            },
            "colorscale": [
             [
              0,
              "rgb(20,44,66)"
             ],
             [
              1,
              "rgb(90,179,244)"
             ]
            ],
            "type": "histogram2dcontour"
           }
          ],
          "mesh3d": [
           {
            "colorbar": {
             "outlinewidth": 0,
             "tickcolor": "rgb(237,237,237)",
             "ticklen": 6,
             "ticks": "inside"
            },
            "type": "mesh3d"
           }
          ],
          "parcoords": [
           {
            "line": {
             "colorbar": {
              "outlinewidth": 0,
              "tickcolor": "rgb(237,237,237)",
              "ticklen": 6,
              "ticks": "inside"
             }
            },
            "type": "parcoords"
           }
          ],
          "pie": [
           {
            "automargin": true,
            "type": "pie"
           }
          ],
          "scatter": [
           {
            "fillpattern": {
             "fillmode": "overlay",
             "size": 10,
             "solidity": 0.2
            },
            "type": "scatter"
           }
          ],
          "scatter3d": [
           {
            "line": {
             "colorbar": {
              "outlinewidth": 0,
              "tickcolor": "rgb(237,237,237)",
              "ticklen": 6,
              "ticks": "inside"
             }
            },
            "marker": {
             "colorbar": {
              "outlinewidth": 0,
              "tickcolor": "rgb(237,237,237)",
              "ticklen": 6,
              "ticks": "inside"
             }
            },
            "type": "scatter3d"
           }
          ],
          "scattercarpet": [
           {
            "marker": {
             "colorbar": {
              "outlinewidth": 0,
              "tickcolor": "rgb(237,237,237)",
              "ticklen": 6,
              "ticks": "inside"
             }
            },
            "type": "scattercarpet"
           }
          ],
          "scattergeo": [
           {
            "marker": {
             "colorbar": {
              "outlinewidth": 0,
              "tickcolor": "rgb(237,237,237)",
              "ticklen": 6,
              "ticks": "inside"
             }
            },
            "type": "scattergeo"
           }
          ],
          "scattergl": [
           {
            "marker": {
             "colorbar": {
              "outlinewidth": 0,
              "tickcolor": "rgb(237,237,237)",
              "ticklen": 6,
              "ticks": "inside"
             }
            },
            "type": "scattergl"
           }
          ],
          "scattermapbox": [
           {
            "marker": {
             "colorbar": {
              "outlinewidth": 0,
              "tickcolor": "rgb(237,237,237)",
              "ticklen": 6,
              "ticks": "inside"
             }
            },
            "type": "scattermapbox"
           }
          ],
          "scatterpolar": [
           {
            "marker": {
             "colorbar": {
              "outlinewidth": 0,
              "tickcolor": "rgb(237,237,237)",
              "ticklen": 6,
              "ticks": "inside"
             }
            },
            "type": "scatterpolar"
           }
          ],
          "scatterpolargl": [
           {
            "marker": {
             "colorbar": {
              "outlinewidth": 0,
              "tickcolor": "rgb(237,237,237)",
              "ticklen": 6,
              "ticks": "inside"
             }
            },
            "type": "scatterpolargl"
           }
          ],
          "scatterternary": [
           {
            "marker": {
             "colorbar": {
              "outlinewidth": 0,
              "tickcolor": "rgb(237,237,237)",
              "ticklen": 6,
              "ticks": "inside"
             }
            },
            "type": "scatterternary"
           }
          ],
          "surface": [
           {
            "colorbar": {
             "outlinewidth": 0,
             "tickcolor": "rgb(237,237,237)",
             "ticklen": 6,
             "ticks": "inside"
            },
            "colorscale": [
             [
              0,
              "rgb(20,44,66)"
             ],
             [
              1,
              "rgb(90,179,244)"
             ]
            ],
            "type": "surface"
           }
          ],
          "table": [
           {
            "cells": {
             "fill": {
              "color": "rgb(237,237,237)"
             },
             "line": {
              "color": "white"
             }
            },
            "header": {
             "fill": {
              "color": "rgb(217,217,217)"
             },
             "line": {
              "color": "white"
             }
            },
            "type": "table"
           }
          ]
         },
         "layout": {
          "annotationdefaults": {
           "arrowhead": 0,
           "arrowwidth": 1
          },
          "autotypenumbers": "strict",
          "coloraxis": {
           "colorbar": {
            "outlinewidth": 0,
            "tickcolor": "rgb(237,237,237)",
            "ticklen": 6,
            "ticks": "inside"
           }
          },
          "colorscale": {
           "sequential": [
            [
             0,
             "rgb(20,44,66)"
            ],
            [
             1,
             "rgb(90,179,244)"
            ]
           ],
           "sequentialminus": [
            [
             0,
             "rgb(20,44,66)"
            ],
            [
             1,
             "rgb(90,179,244)"
            ]
           ]
          },
          "colorway": [
           "#F8766D",
           "#A3A500",
           "#00BF7D",
           "#00B0F6",
           "#E76BF3"
          ],
          "font": {
           "color": "rgb(51,51,51)"
          },
          "geo": {
           "bgcolor": "white",
           "lakecolor": "white",
           "landcolor": "rgb(237,237,237)",
           "showlakes": true,
           "showland": true,
           "subunitcolor": "white"
          },
          "hoverlabel": {
           "align": "left"
          },
          "hovermode": "closest",
          "paper_bgcolor": "white",
          "plot_bgcolor": "rgb(237,237,237)",
          "polar": {
           "angularaxis": {
            "gridcolor": "white",
            "linecolor": "white",
            "showgrid": true,
            "tickcolor": "rgb(51,51,51)",
            "ticks": "outside"
           },
           "bgcolor": "rgb(237,237,237)",
           "radialaxis": {
            "gridcolor": "white",
            "linecolor": "white",
            "showgrid": true,
            "tickcolor": "rgb(51,51,51)",
            "ticks": "outside"
           }
          },
          "scene": {
           "xaxis": {
            "backgroundcolor": "rgb(237,237,237)",
            "gridcolor": "white",
            "gridwidth": 2,
            "linecolor": "white",
            "showbackground": true,
            "showgrid": true,
            "tickcolor": "rgb(51,51,51)",
            "ticks": "outside",
            "zerolinecolor": "white"
           },
           "yaxis": {
            "backgroundcolor": "rgb(237,237,237)",
            "gridcolor": "white",
            "gridwidth": 2,
            "linecolor": "white",
            "showbackground": true,
            "showgrid": true,
            "tickcolor": "rgb(51,51,51)",
            "ticks": "outside",
            "zerolinecolor": "white"
           },
           "zaxis": {
            "backgroundcolor": "rgb(237,237,237)",
            "gridcolor": "white",
            "gridwidth": 2,
            "linecolor": "white",
            "showbackground": true,
            "showgrid": true,
            "tickcolor": "rgb(51,51,51)",
            "ticks": "outside",
            "zerolinecolor": "white"
           }
          },
          "shapedefaults": {
           "fillcolor": "black",
           "line": {
            "width": 0
           },
           "opacity": 0.3
          },
          "ternary": {
           "aaxis": {
            "gridcolor": "white",
            "linecolor": "white",
            "showgrid": true,
            "tickcolor": "rgb(51,51,51)",
            "ticks": "outside"
           },
           "baxis": {
            "gridcolor": "white",
            "linecolor": "white",
            "showgrid": true,
            "tickcolor": "rgb(51,51,51)",
            "ticks": "outside"
           },
           "bgcolor": "rgb(237,237,237)",
           "caxis": {
            "gridcolor": "white",
            "linecolor": "white",
            "showgrid": true,
            "tickcolor": "rgb(51,51,51)",
            "ticks": "outside"
           }
          },
          "xaxis": {
           "automargin": true,
           "gridcolor": "white",
           "linecolor": "white",
           "showgrid": true,
           "tickcolor": "rgb(51,51,51)",
           "ticks": "outside",
           "title": {
            "standoff": 15
           },
           "zerolinecolor": "white"
          },
          "yaxis": {
           "automargin": true,
           "gridcolor": "white",
           "linecolor": "white",
           "showgrid": true,
           "tickcolor": "rgb(51,51,51)",
           "ticks": "outside",
           "title": {
            "standoff": 15
           },
           "zerolinecolor": "white"
          }
         }
        },
        "title": {
         "text": "Percentage change in Unemployment in each state after lockdown"
        },
        "xaxis": {
         "anchor": "y",
         "domain": [
          0,
          1
         ],
         "title": {
          "text": "Region"
         }
        },
        "yaxis": {
         "anchor": "x",
         "domain": [
          0,
          1
         ],
         "title": {
          "text": "Percentage change in Unemployment"
         }
        }
       }
      }
     },
     "metadata": {},
     "output_type": "display_data"
    }
   ],
   "source": [
    "# percentage change in unemployment rate\n",
    "\n",
    "m_lock['Percentage change in Unemployment'] = round(m_lock['Unemployment Rate after lockdown'] - m_lock['Unemployment Rate before lockdown']/m_lock['Unemployment Rate before lockdown'],2)\n",
    "plot_per = m_lock.sort_values('Percentage change in Unemployment')\n",
    "\n",
    "\n",
    "# percentage change in unemployment after lockdown\n",
    "\n",
    "fig = px.bar(plot_per, x='Region',y='Percentage change in Unemployment',color='Percentage change in Unemployment',\n",
    "            title='Percentage change in Unemployment in each state after lockdown',template='ggplot2')\n",
    "fig.show()"
   ]
  },
  {
   "cell_type": "markdown",
   "id": "a18bd55d",
   "metadata": {
    "papermill": {
     "duration": 0.013742,
     "end_time": "2023-08-28T07:06:00.701180",
     "exception": false,
     "start_time": "2023-08-28T07:06:00.687438",
     "status": "completed"
    },
    "tags": []
   },
   "source": [
    "The most affected states/territories in India during the lockdown in case of unemployment were:\n",
    "* Tripura\n",
    "* Haryana\n",
    "* Bihar\n",
    "* Puducherry\n",
    "* Jharkhand\n",
    "* Jammu & Kashmir\n",
    "* Delhi"
   ]
  }
 ],
 "metadata": {
  "kernelspec": {
   "display_name": "Python 3",
   "language": "python",
   "name": "python3"
  },
  "language_info": {
   "codemirror_mode": {
    "name": "ipython",
    "version": 3
   },
   "file_extension": ".py",
   "mimetype": "text/x-python",
   "name": "python",
   "nbconvert_exporter": "python",
   "pygments_lexer": "ipython3",
   "version": "3.12.4"
  },
  "papermill": {
   "default_parameters": {},
   "duration": 17.954048,
   "end_time": "2023-08-28T07:06:01.737604",
   "environment_variables": {},
   "exception": null,
   "input_path": "__notebook__.ipynb",
   "output_path": "__notebook__.ipynb",
   "parameters": {},
   "start_time": "2023-08-28T07:05:43.783556",
   "version": "2.4.0"
  }
 },
 "nbformat": 4,
 "nbformat_minor": 5
}
